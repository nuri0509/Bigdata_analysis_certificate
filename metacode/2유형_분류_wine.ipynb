{
 "cells": [
  {
   "cell_type": "code",
   "execution_count": null,
   "metadata": {},
   "outputs": [],
   "source": [
    "#와인의 종류를 분류해보자\n",
    "#데이터의 결측치, 이상치에 대해 처리하고\n",
    "#분류모델을 사용하여 정확도, F1 score, AUC 값을 산출하시오.\n",
    "#제출은 아래 예시와 같이 result변수를 가진 dataframe 형태로 제출하시오"
   ]
  },
  {
   "cell_type": "code",
   "execution_count": null,
   "metadata": {},
   "outputs": [],
   "source": [
    "# 답안 제출 참고\n",
    "# 아래 코드는 예시이며 변수명 등 개인별로 변경하여 활용\n",
    "# write.csv(data.frame변수,\"result.csv\",row.names = FALSE)"
   ]
  },
  {
   "cell_type": "code",
   "execution_count": 1,
   "metadata": {},
   "outputs": [],
   "source": [
    "import pandas as pd\n",
    "import numpy as np\n",
    "from sklearn.model_selection import train_test_split "
   ]
  },
  {
   "cell_type": "code",
   "execution_count": 3,
   "metadata": {},
   "outputs": [
    {
     "data": {
      "text/html": [
       "<div>\n",
       "<style scoped>\n",
       "    .dataframe tbody tr th:only-of-type {\n",
       "        vertical-align: middle;\n",
       "    }\n",
       "\n",
       "    .dataframe tbody tr th {\n",
       "        vertical-align: top;\n",
       "    }\n",
       "\n",
       "    .dataframe thead th {\n",
       "        text-align: right;\n",
       "    }\n",
       "</style>\n",
       "<table border=\"1\" class=\"dataframe\">\n",
       "  <thead>\n",
       "    <tr style=\"text-align: right;\">\n",
       "      <th></th>\n",
       "      <th>car</th>\n",
       "      <th>mpg</th>\n",
       "      <th>cyl</th>\n",
       "      <th>disp</th>\n",
       "      <th>hp</th>\n",
       "      <th>drat</th>\n",
       "      <th>wt</th>\n",
       "      <th>qsec</th>\n",
       "      <th>vs</th>\n",
       "      <th>am</th>\n",
       "      <th>gear</th>\n",
       "      <th>carb</th>\n",
       "    </tr>\n",
       "  </thead>\n",
       "  <tbody>\n",
       "    <tr>\n",
       "      <th>0</th>\n",
       "      <td>Mazda RX4</td>\n",
       "      <td>21.0</td>\n",
       "      <td>6</td>\n",
       "      <td>160.0</td>\n",
       "      <td>110</td>\n",
       "      <td>3.90</td>\n",
       "      <td>2.620</td>\n",
       "      <td>16.46</td>\n",
       "      <td>0</td>\n",
       "      <td>1</td>\n",
       "      <td>4</td>\n",
       "      <td>4</td>\n",
       "    </tr>\n",
       "    <tr>\n",
       "      <th>1</th>\n",
       "      <td>Mazda RX4 Wag</td>\n",
       "      <td>21.0</td>\n",
       "      <td>6</td>\n",
       "      <td>160.0</td>\n",
       "      <td>110</td>\n",
       "      <td>3.90</td>\n",
       "      <td>2.875</td>\n",
       "      <td>17.02</td>\n",
       "      <td>0</td>\n",
       "      <td>1</td>\n",
       "      <td>4</td>\n",
       "      <td>4</td>\n",
       "    </tr>\n",
       "    <tr>\n",
       "      <th>2</th>\n",
       "      <td>Datsun 710</td>\n",
       "      <td>22.8</td>\n",
       "      <td>4</td>\n",
       "      <td>108.0</td>\n",
       "      <td>93</td>\n",
       "      <td>3.85</td>\n",
       "      <td>2.320</td>\n",
       "      <td>18.61</td>\n",
       "      <td>1</td>\n",
       "      <td>1</td>\n",
       "      <td>4</td>\n",
       "      <td>1</td>\n",
       "    </tr>\n",
       "    <tr>\n",
       "      <th>3</th>\n",
       "      <td>Hornet 4 Drive</td>\n",
       "      <td>21.4</td>\n",
       "      <td>6</td>\n",
       "      <td>258.0</td>\n",
       "      <td>110</td>\n",
       "      <td>3.08</td>\n",
       "      <td>3.215</td>\n",
       "      <td>19.44</td>\n",
       "      <td>1</td>\n",
       "      <td>0</td>\n",
       "      <td>3</td>\n",
       "      <td>1</td>\n",
       "    </tr>\n",
       "    <tr>\n",
       "      <th>4</th>\n",
       "      <td>Hornet Sportabout</td>\n",
       "      <td>18.7</td>\n",
       "      <td>8</td>\n",
       "      <td>360.0</td>\n",
       "      <td>175</td>\n",
       "      <td>3.15</td>\n",
       "      <td>3.440</td>\n",
       "      <td>17.02</td>\n",
       "      <td>0</td>\n",
       "      <td>0</td>\n",
       "      <td>3</td>\n",
       "      <td>2</td>\n",
       "    </tr>\n",
       "  </tbody>\n",
       "</table>\n",
       "</div>"
      ],
      "text/plain": [
       "                 car   mpg  cyl   disp   hp  drat     wt   qsec  vs  am  gear  \\\n",
       "0          Mazda RX4  21.0    6  160.0  110  3.90  2.620  16.46   0   1     4   \n",
       "1      Mazda RX4 Wag  21.0    6  160.0  110  3.90  2.875  17.02   0   1     4   \n",
       "2         Datsun 710  22.8    4  108.0   93  3.85  2.320  18.61   1   1     4   \n",
       "3     Hornet 4 Drive  21.4    6  258.0  110  3.08  3.215  19.44   1   0     3   \n",
       "4  Hornet Sportabout  18.7    8  360.0  175  3.15  3.440  17.02   0   0     3   \n",
       "\n",
       "   carb  \n",
       "0     4  \n",
       "1     4  \n",
       "2     1  \n",
       "3     1  \n",
       "4     2  "
      ]
     },
     "execution_count": 3,
     "metadata": {},
     "output_type": "execute_result"
    }
   ],
   "source": [
    "###############  실기환경 복사 영역  ###############\n",
    " import pandas as pd\n",
    " import numpy as np\n",
    " # 실기 시험 데이터셋으로 셋팅하기 (수정금지)\n",
    " from sklearn.datasets import load_wine\n",
    " # 와인 데이터셋을 로드합니다.\n",
    " wine = load_wine()\n",
    " x = pd.DataFrame(wine.data, columns=wine.feature_names)\n",
    " y = pd.DataFrame(wine.target)\n",
    " # 실기 시험 데이터셋으로 셋팅하기 (수정금지)\n",
    " from sklearn.model_selection import train_test_split\n",
    " x_train, x_test, y_train, y_test = train_test_split(x, y, test_size=0.2, \n",
    "                                                    stratify=y,\n",
    "                                                    random_state=2023)\n",
    " x_test = pd.DataFrame(x_test)\n",
    " x_train = pd.DataFrame(x_train)\n",
    " y_train = pd.DataFrame(y_train)\n",
    " x_test.reset_index()\n",
    " y_train.columns = ['target'] \n",
    "###############  실기환경 복사 영역  ###############\n",
    "\n",
    " ###\t참고사항\t###\t\n",
    "#\ty_test\t는\t실기\t문제상에\t주어지지\t않음\n",
    "#\t★Tip\t:\tX를\t대문자로\t쓰지말고\t소문자\tx로\t쓰세요.\t시험에서\t실수하기\t쉽습니다.(문제풀기\t전에\t소문자로\t변경!)\n",
    " #\t(참고\t:\t보통\tX는\t2차원\t배열(행렬)이기\t때문에\t대문자로\t쓰고,\ty는\t1차원\t배열(벡터)이기\t때문에\t소문자로\t씀)\n",
    " #\t(~23년\t10월말)\t실기시험\t데이터\t형식\t(실제\t시험장에서는\t다를\t수\t있으니\t반드시\t체크)\t\n",
    "#\tX_test\t=\tpd.read_csv(\"data/X_test.csv\")\n",
    " #\tX_train\t=\tpd.read_csv(\"data/X_train.csv\")\n",
    " #\ty_train\t=\tpd.read_csv(\"data/y_train.csv\")\n",
    " #\t★(23년\t10월말~)\t기준으로\t체험환경에서\t제공되는\t데이터셋이\t조금\t변경되었습니다.\t\n",
    "#\ttrain\t=\tpd.read_csv(\"data/customer_train.csv\")\n",
    " #\ttest\t=\tpd.read_csv(\"data/customer_test.csv\")\n",
    " #\tx_train과\ty_train,\tx_test를\t별도로\t할당해주셔야\t합니다."
   ]
  },
  {
   "cell_type": "code",
   "execution_count": null,
   "metadata": {},
   "outputs": [],
   "source": [
    "print(wine.DESCR)"
   ]
  },
  {
   "cell_type": "code",
   "execution_count": null,
   "metadata": {},
   "outputs": [],
   "source": [
    "print(x_train.shape)\n",
    "print(x_test.shape)\n",
    "print(y_train.shape)"
   ]
  },
  {
   "cell_type": "code",
   "execution_count": null,
   "metadata": {},
   "outputs": [],
   "source": [
    "print(x_train.head(3))\n",
    "print(x_test.head(3))\n",
    "print(y_train.head(3))"
   ]
  },
  {
   "cell_type": "code",
   "execution_count": null,
   "metadata": {},
   "outputs": [],
   "source": [
    "print(x_train.info())\n",
    "print(x_test.info())\n",
    "print(y_train.info())"
   ]
  },
  {
   "cell_type": "code",
   "execution_count": null,
   "metadata": {},
   "outputs": [],
   "source": [
    "#\tx_train\t과\tx_test\t데이터의\t기초통계량을\t잘\t비교해보세요.\t\n",
    "print(x_train.describe())\t\t#\tx_train.describe().T\t둘중에\t편한거\t사용하세요\n",
    "print(x_test.describe())\n",
    "print(y_train.describe())"
   ]
  },
  {
   "cell_type": "code",
   "execution_count": null,
   "metadata": {},
   "outputs": [],
   "source": [
    "#\ty데이터도\t구체적으로\t살펴보세요.\t\n",
    "print(y_train.head())"
   ]
  },
  {
   "cell_type": "code",
   "execution_count": null,
   "metadata": {},
   "outputs": [],
   "source": [
    " #\ty데이터도\t구체적으로\t살펴보세요.\t\n",
    "print(y_train.value_counts())"
   ]
  },
  {
   "cell_type": "code",
   "execution_count": null,
   "metadata": {},
   "outputs": [],
   "source": [
    "#\t결측치\t확인\n",
    "print(x_train.isnull().sum())\n",
    " print(x_test.isnull().sum())\n",
    " print(y_train.isnull().sum())"
   ]
  },
  {
   "cell_type": "code",
   "execution_count": null,
   "metadata": {},
   "outputs": [],
   "source": [
    " #\t결측치\t제거\n",
    "#\tdf\t=\tdf.dropna()\n",
    " #\tprint(df)\n",
    " #\t참고사항\n",
    "#\tprint(df.dropna().shape)\t\t#\t행\t기준으로\t삭제\n",
    "#\t★주의사항\n",
    "#\tx_train의\t행을\t제거해야\t하는\t경우,\t그에\t해당하는\ty_train\t행도\t제거해야\t합니다.\t\n",
    "#\t해결방법\t:\ttrain\t=\tpd.concat([x_train,\ty_train],\taxis=1)\t\t\n",
    "#\t위와\t같이\t데이터를\t결합한\t후에\t행을\t제거하고\t다시\t데이터\t분리를\t수행하면\t됩니다.\t\n",
    "#\t(만약\t원데이터가\tx_train/y_train이\t결합된\t형태로\t주어진다면\t전처리를\t모두\t수행한\t후에\t분리하셔도\t됩니다"
   ]
  },
  {
   "cell_type": "code",
   "execution_count": null,
   "metadata": {},
   "outputs": [],
   "source": [
    " #\t결측치\t대체(평균값,\t중앙값,\t최빈값)\n",
    " #\t**\t주의사항\t:\ttrain\t데이터의\t중앙값/평균값/최빈값\t등으로\ttest\t데이터의\t결측치도\t변경해줘야\t함\t**\t\n",
    "#\t연속형\t변수\t:\t중앙값,\t평균값\n",
    "#\t\t-\tdf['변수명'].median()\n",
    " #\t\t-\tdf['변수명'].mean()\n",
    " #\t범주형\t변수\t:\t최빈값\n",
    "#\tdf['변수명']\t=\tdf['변수명'].fillna(대체할\t값"
   ]
  },
  {
   "cell_type": "code",
   "execution_count": null,
   "metadata": {},
   "outputs": [],
   "source": [
    "#\t이상치\t대체(예시)\n",
    " #\tdf['변수명']\t=\tnp.where(\tdf['변수명']\t>=\t5,\t대체할\t값,\tdf['변수명']\t)\t"
   ]
  },
  {
   "cell_type": "code",
   "execution_count": null,
   "metadata": {},
   "outputs": [],
   "source": [
    "#\t변수처리\n",
    "#\t불필요한\t변수\t제거\n",
    "#\tdf\t=\tdf.drop(columns\t=\t['변수1','변수2'])\t\t\n",
    "#\tdf\t=\tdf.drop(['변수1','변수2'],\taxis=1)\t\t\n",
    "#\t필요시\t변수\t추가(파생변수\t생성)\n",
    " #\tdf['파생변수명']\t=\tdf['A']\t*\tdf['B']\t(파생변수\t생성\t수식)\n",
    " #\t원핫인코딩(가변수\t처리)\n",
    " #\tx_train\t=\tpd.get_dummies(x_train)\n",
    " #\tx_test\t=\tpd.get_dummies(x_test)\n",
    " #\tprint(x_train.info())\n",
    " #\tprint(x_test.info())"
   ]
  },
  {
   "cell_type": "code",
   "execution_count": null,
   "metadata": {},
   "outputs": [],
   "source": [
    " #\t데이터를\t훈련\t세트와\t검증용\t세트로\t분할\t(80%\t훈련,\t20%\t검증용)\n",
    " from\tsklearn.model_selection\timport\ttrain_test_split\n",
    " x_train,\tx_val,\ty_train,\ty_val\t=\ttrain_test_split(x_train,\ty_train['target'],\n",
    "                                                   test_size = 0.2,\n",
    "                                                   stratify = y_train['target'],\n",
    "                                                   random_state=2023)\n",
    "\n",
    "print(x_train.shape)\n",
    "print(x_val.shape)\n",
    "print(y_train.shape)\n",
    "print(y_val.shape)"
   ]
  },
  {
   "cell_type": "code",
   "execution_count": null,
   "metadata": {},
   "outputs": [],
   "source": [
    "from\tsklearn.ensemble\timport\tRandomForestClassifier\n",
    " model\t=\tRandomForestClassifier()\n",
    " model.fit(x_train,\ty_train)"
   ]
  },
  {
   "cell_type": "code",
   "execution_count": null,
   "metadata": {},
   "outputs": [],
   "source": [
    " #\t모델을\t사용하여\t테스트\t데이터\t예측\n",
    "y_pred\t=\tmodel.predict(x_val)"
   ]
  },
  {
   "cell_type": "code",
   "execution_count": null,
   "metadata": {},
   "outputs": [],
   "source": [
    " #\t모델\t성능\t평가\t(정확도,\tF1\tscore,\t민감도,\t특이도\t등)\n",
    " from\tsklearn.metrics\timport\taccuracy_score,\tf1_score,\trecall_score,\tprecision_score\n",
    " acc\t=\taccuracy_score(y_val,\ty_pred)\t\t\t\t\t\t\t\t\t\t\t\t\t#\t(실제값,\t예측값)\n",
    " f1\t=\tf1_score(y_val,\ty_pred,\taverage\t=\t'macro')\t#\t(실제값,\t예측값)\n",
    " #\tauc\t=\troc_auc_score(y_val,\ty_pred)\t\t\t\t\t\t\t\t\t\t\t\t#\t(실제값,\t예측값)\t*\tAUC는\t이진분류"
   ]
  },
  {
   "cell_type": "code",
   "execution_count": null,
   "metadata": {},
   "outputs": [],
   "source": [
    "#\t정확도(Accuracy)\n",
    " print(acc)"
   ]
  },
  {
   "cell_type": "code",
   "execution_count": null,
   "metadata": {},
   "outputs": [],
   "source": [
    " #\tmacro\tf1\tscore\n",
    " print(f1)"
   ]
  },
  {
   "cell_type": "code",
   "execution_count": null,
   "metadata": {},
   "outputs": [],
   "source": [
    " #\t(실기시험\t안내사항)\n",
    " #\t아래\t코드\t예측변수와\t수험번호를\t개인별로\t변경하여\t활용\n",
    "#\tpd.DataFrame({\t'result':\ty_result\t}).to_csv('수험번호.csv',\tindex=False)\n",
    " #\t모델을\t사용하여\t테스트\t데이터\t예측\n",
    "#\t1.\t특정\t클래스로\t분류할\t경우\t(predict)\n",
    " y_result\t=\tmodel.predict(x_test)\n",
    " print(y_result[:5])\n",
    " #\t2.\t특정\t클래스로\t분류될\t확률을\t구할\t경우\t(predict_proba)\n",
    " y_result_prob\t=\tmodel.predict_proba(x_test)\n",
    " print(y_result_prob[:5])\n",
    " #\t이해해보기\t\t\n",
    "result_prob\t=\tpd.DataFrame({\t\n",
    "\t\t\t\t'result':\ty_result,\n",
    "\t\t\t\t'prob_0':\ty_result_prob[:,0],\n",
    "\t\t\t\t'prob_1':\ty_result_prob[:,1],\n",
    "\t\t\t\t'prob_2':\ty_result_prob[:,2]\n",
    " })\n",
    " #\tClass\t0일\t확률\t:\ty_result_prob[:,0]\n",
    " #\tClass\t1일\t확률\t:\ty_result_prob[:,1]\n",
    " #\tClass\t2일\t확률\t:\ty_result_prob[:,2]\n",
    " print(result_prob[:5])"
   ]
  },
  {
   "cell_type": "code",
   "execution_count": null,
   "metadata": {},
   "outputs": [],
   "source": [
    " #\t★tip\t:\t데이터를\t저장한다음\t불러와서\t제대로\t제출했는지\t확인해보자\n",
    "#\tpd.DataFrame({'result':\ty_result}).to_csv('수험번호.csv',\tindex=False)\n",
    " #\tdf2\t=\tpd.read_csv(\"수험번호.csv\")\n",
    " #\tprint(df2.head())"
   ]
  }
 ],
 "metadata": {
  "kernelspec": {
   "display_name": "Python 3",
   "language": "python",
   "name": "python3"
  },
  "language_info": {
   "codemirror_mode": {
    "name": "ipython",
    "version": 3
   },
   "file_extension": ".py",
   "mimetype": "text/x-python",
   "name": "python",
   "nbconvert_exporter": "python",
   "pygments_lexer": "ipython3",
   "version": "3.12.7"
  }
 },
 "nbformat": 4,
 "nbformat_minor": 2
}
