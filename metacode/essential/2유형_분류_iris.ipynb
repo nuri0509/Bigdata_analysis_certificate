{
 "cells": [
  {
   "cell_type": "code",
   "execution_count": 1,
   "metadata": {},
   "outputs": [],
   "source": [
    "#붓꽃의 종(Species)을 분류해보자\n",
    "#데이터의 결측치, 이상치에 대해 처리하고\n",
    "#분류모델을 사용하여 정확도, F1 score, AUC 값을 산출하시오.\n",
    "#제출은 아래 예시와 같이 result변수를 가진 dataframe 형태로 제출하시오"
   ]
  },
  {
   "cell_type": "code",
   "execution_count": 2,
   "metadata": {},
   "outputs": [],
   "source": [
    "# 답안 제출 참고\n",
    "# 아래 코드는 예시이며 변수명 등 개인별로 변경하여 활용\n",
    "# write.csv(data.frame변수,\"result.csv\",row.names = FALSE)"
   ]
  },
  {
   "cell_type": "code",
   "execution_count": 3,
   "metadata": {},
   "outputs": [
    {
     "name": "stderr",
     "output_type": "stream",
     "text": [
      "C:\\Users\\user\\AppData\\Local\\Temp\\ipykernel_12396\\1209920749.py:20: FutureWarning: ChainedAssignmentError: behaviour will change in pandas 3.0!\n",
      "You are setting values through chained assignment. Currently this works in certain cases, but when using Copy-on-Write (which will become the default behaviour in pandas 3.0) this will never work to update the original DataFrame or Series, because the intermediate object on which we are setting values will behave as a copy.\n",
      "A typical example is when you are setting values in a column of a DataFrame, like:\n",
      "\n",
      "df[\"col\"][row_indexer] = value\n",
      "\n",
      "Use `df.loc[row_indexer, \"col\"] = values` instead, to perform the assignment in a single step and ensure this keeps updating the original `df`.\n",
      "\n",
      "See the caveats in the documentation: https://pandas.pydata.org/pandas-docs/stable/user_guide/indexing.html#returning-a-view-versus-a-copy\n",
      "\n",
      "  x_test['sepal_length'].iloc[0] = None\n",
      "C:\\Users\\user\\AppData\\Local\\Temp\\ipykernel_12396\\1209920749.py:21: FutureWarning: ChainedAssignmentError: behaviour will change in pandas 3.0!\n",
      "You are setting values through chained assignment. Currently this works in certain cases, but when using Copy-on-Write (which will become the default behaviour in pandas 3.0) this will never work to update the original DataFrame or Series, because the intermediate object on which we are setting values will behave as a copy.\n",
      "A typical example is when you are setting values in a column of a DataFrame, like:\n",
      "\n",
      "df[\"col\"][row_indexer] = value\n",
      "\n",
      "Use `df.loc[row_indexer, \"col\"] = values` instead, to perform the assignment in a single step and ensure this keeps updating the original `df`.\n",
      "\n",
      "See the caveats in the documentation: https://pandas.pydata.org/pandas-docs/stable/user_guide/indexing.html#returning-a-view-versus-a-copy\n",
      "\n",
      "  x_train['sepal_length'].iloc[0] = None\n",
      "C:\\Users\\user\\AppData\\Local\\Temp\\ipykernel_12396\\1209920749.py:24: FutureWarning: ChainedAssignmentError: behaviour will change in pandas 3.0!\n",
      "You are setting values through chained assignment. Currently this works in certain cases, but when using Copy-on-Write (which will become the default behaviour in pandas 3.0) this will never work to update the original DataFrame or Series, because the intermediate object on which we are setting values will behave as a copy.\n",
      "A typical example is when you are setting values in a column of a DataFrame, like:\n",
      "\n",
      "df[\"col\"][row_indexer] = value\n",
      "\n",
      "Use `df.loc[row_indexer, \"col\"] = values` instead, to perform the assignment in a single step and ensure this keeps updating the original `df`.\n",
      "\n",
      "See the caveats in the documentation: https://pandas.pydata.org/pandas-docs/stable/user_guide/indexing.html#returning-a-view-versus-a-copy\n",
      "\n",
      "  x_train['sepal_width'].iloc[0] = 150\n"
     ]
    }
   ],
   "source": [
    " ###############  실기환경 복사 영역  ###############\n",
    " import pandas as pd\n",
    " import numpy as np\n",
    " # 실기 시험 데이터셋으로 셋팅하기 (수정금지)\n",
    " from sklearn.datasets import load_iris\n",
    " # Iris 데이터셋을 로드\n",
    " iris = load_iris()\n",
    " x = pd.DataFrame(iris.data, columns=['sepal_length', 'sepal_width', 'petal_length','petal_width'])\n",
    " y = iris.target   # 'setosa'=0, 'versicolor'=1, 'virginica'=2\n",
    " y = np.where(y>0, 1, 0) # setosa 종은 0, 나머지 종은 1로 변경\n",
    "# 실기 시험 데이터셋으로 셋팅하기 (수정금지)\n",
    " from sklearn.model_selection import train_test_split\n",
    " x_train, x_test, y_train, y_test = train_test_split(x, y, test_size=0.2, \n",
    "                                                    stratify=y,\n",
    "                                                    random_state=2023)\n",
    " x_test = pd.DataFrame(x_test)\n",
    " x_train = pd.DataFrame(x_train)\n",
    " y_train = pd.DataFrame(y_train)\n",
    " y_train.columns = ['species']\n",
    " x_test['sepal_length'].iloc[0] = None\n",
    " x_train['sepal_length'].iloc[0] = None\n",
    " \n",
    " # 이상치 삽입\n",
    " x_train['sepal_width'].iloc[0] = 150\n",
    " ###############  실기환경 복사 영역  ###############"
   ]
  },
  {
   "cell_type": "code",
   "execution_count": 4,
   "metadata": {},
   "outputs": [
    {
     "data": {
      "text/html": [
       "<div>\n",
       "<style scoped>\n",
       "    .dataframe tbody tr th:only-of-type {\n",
       "        vertical-align: middle;\n",
       "    }\n",
       "\n",
       "    .dataframe tbody tr th {\n",
       "        vertical-align: top;\n",
       "    }\n",
       "\n",
       "    .dataframe thead th {\n",
       "        text-align: right;\n",
       "    }\n",
       "</style>\n",
       "<table border=\"1\" class=\"dataframe\">\n",
       "  <thead>\n",
       "    <tr style=\"text-align: right;\">\n",
       "      <th></th>\n",
       "      <th>sepal_length</th>\n",
       "      <th>sepal_width</th>\n",
       "      <th>petal_length</th>\n",
       "      <th>petal_width</th>\n",
       "    </tr>\n",
       "  </thead>\n",
       "  <tbody>\n",
       "    <tr>\n",
       "      <th>2</th>\n",
       "      <td>NaN</td>\n",
       "      <td>150.0</td>\n",
       "      <td>1.3</td>\n",
       "      <td>0.2</td>\n",
       "    </tr>\n",
       "    <tr>\n",
       "      <th>49</th>\n",
       "      <td>5.0</td>\n",
       "      <td>3.3</td>\n",
       "      <td>1.4</td>\n",
       "      <td>0.2</td>\n",
       "    </tr>\n",
       "    <tr>\n",
       "      <th>66</th>\n",
       "      <td>5.6</td>\n",
       "      <td>3.0</td>\n",
       "      <td>4.5</td>\n",
       "      <td>1.5</td>\n",
       "    </tr>\n",
       "    <tr>\n",
       "      <th>118</th>\n",
       "      <td>7.7</td>\n",
       "      <td>2.6</td>\n",
       "      <td>6.9</td>\n",
       "      <td>2.3</td>\n",
       "    </tr>\n",
       "    <tr>\n",
       "      <th>138</th>\n",
       "      <td>6.0</td>\n",
       "      <td>3.0</td>\n",
       "      <td>4.8</td>\n",
       "      <td>1.8</td>\n",
       "    </tr>\n",
       "  </tbody>\n",
       "</table>\n",
       "</div>"
      ],
      "text/plain": [
       "     sepal_length  sepal_width  petal_length  petal_width\n",
       "2             NaN        150.0           1.3          0.2\n",
       "49            5.0          3.3           1.4          0.2\n",
       "66            5.6          3.0           4.5          1.5\n",
       "118           7.7          2.6           6.9          2.3\n",
       "138           6.0          3.0           4.8          1.8"
      ]
     },
     "execution_count": 4,
     "metadata": {},
     "output_type": "execute_result"
    }
   ],
   "source": [
    "x_train.head()\n"
   ]
  },
  {
   "cell_type": "code",
   "execution_count": 17,
   "metadata": {},
   "outputs": [
    {
     "data": {
      "text/html": [
       "<div>\n",
       "<style scoped>\n",
       "    .dataframe tbody tr th:only-of-type {\n",
       "        vertical-align: middle;\n",
       "    }\n",
       "\n",
       "    .dataframe tbody tr th {\n",
       "        vertical-align: top;\n",
       "    }\n",
       "\n",
       "    .dataframe thead th {\n",
       "        text-align: right;\n",
       "    }\n",
       "</style>\n",
       "<table border=\"1\" class=\"dataframe\">\n",
       "  <thead>\n",
       "    <tr style=\"text-align: right;\">\n",
       "      <th></th>\n",
       "      <th>species</th>\n",
       "    </tr>\n",
       "  </thead>\n",
       "  <tbody>\n",
       "    <tr>\n",
       "      <th>98</th>\n",
       "      <td>1</td>\n",
       "    </tr>\n",
       "    <tr>\n",
       "      <th>51</th>\n",
       "      <td>1</td>\n",
       "    </tr>\n",
       "    <tr>\n",
       "      <th>25</th>\n",
       "      <td>1</td>\n",
       "    </tr>\n",
       "    <tr>\n",
       "      <th>15</th>\n",
       "      <td>1</td>\n",
       "    </tr>\n",
       "    <tr>\n",
       "      <th>102</th>\n",
       "      <td>1</td>\n",
       "    </tr>\n",
       "  </tbody>\n",
       "</table>\n",
       "</div>"
      ],
      "text/plain": [
       "     species\n",
       "98         1\n",
       "51         1\n",
       "25         1\n",
       "15         1\n",
       "102        1"
      ]
     },
     "execution_count": 17,
     "metadata": {},
     "output_type": "execute_result"
    }
   ],
   "source": [
    "y_train.head()"
   ]
  },
  {
   "cell_type": "code",
   "execution_count": 5,
   "metadata": {},
   "outputs": [
    {
     "name": "stdout",
     "output_type": "stream",
     "text": [
      "(120, 4)\n",
      "(120, 1)\n",
      "(30, 4)\n"
     ]
    }
   ],
   "source": [
    "print(x_train.shape)\n",
    "print(y_train.shape)\n",
    "print(x_test.shape)"
   ]
  },
  {
   "cell_type": "code",
   "execution_count": 6,
   "metadata": {},
   "outputs": [
    {
     "name": "stdout",
     "output_type": "stream",
     "text": [
      "sepal_length    1\n",
      "sepal_width     0\n",
      "petal_length    0\n",
      "petal_width     0\n",
      "dtype: int64\n",
      "species    0\n",
      "dtype: int64\n",
      "sepal_length    1\n",
      "sepal_width     0\n",
      "petal_length    0\n",
      "petal_width     0\n",
      "dtype: int64\n"
     ]
    }
   ],
   "source": [
    "print(x_train.isnull().sum())\n",
    "print(y_train.isnull().sum())\n",
    "print(x_test.isnull().sum())"
   ]
  },
  {
   "cell_type": "code",
   "execution_count": 7,
   "metadata": {},
   "outputs": [
    {
     "name": "stdout",
     "output_type": "stream",
     "text": [
      "       sepal_length  sepal_width  petal_length  petal_width\n",
      "count    119.000000     120.0000    120.000000   120.000000\n",
      "mean       5.920168       4.2950      3.816667     1.226667\n",
      "std        0.841667      13.4191      1.798848     0.780512\n",
      "min        4.300000       2.2000      1.100000     0.100000\n",
      "25%        5.150000       2.8000      1.575000     0.300000\n",
      "50%        6.000000       3.0000      4.400000     1.350000\n",
      "75%        6.500000       3.4000      5.225000     1.800000\n",
      "max        7.900000     150.0000      6.900000     2.500000\n",
      "          species\n",
      "count  120.000000\n",
      "mean     0.666667\n",
      "std      0.473381\n",
      "min      0.000000\n",
      "25%      0.000000\n",
      "50%      1.000000\n",
      "75%      1.000000\n",
      "max      1.000000\n",
      "       sepal_length  sepal_width  petal_length  petal_width\n",
      "count     29.000000    30.000000     30.000000     30.00000\n",
      "mean       5.596552     3.000000      3.523333      1.09000\n",
      "std        0.709367     0.522593      1.631518      0.68549\n",
      "min        4.600000     2.000000      1.000000      0.10000\n",
      "25%        5.000000     2.625000      1.600000      0.35000\n",
      "50%        5.500000     3.000000      4.050000      1.15000\n",
      "75%        5.900000     3.300000      4.925000      1.57500\n",
      "max        7.600000     4.200000      6.600000      2.30000\n"
     ]
    }
   ],
   "source": [
    "print(x_train.describe())\n",
    "print(y_train.describe())\n",
    "print(x_test.describe())"
   ]
  },
  {
   "cell_type": "code",
   "execution_count": 8,
   "metadata": {},
   "outputs": [],
   "source": [
    "# 결측치 처리\n",
    "\n",
    "median1 = x_train['sepal_length'].median()\n",
    "median2 = x_test['sepal_length'].median()\n",
    "\n",
    "x_train = x_train.fillna(median1)\n",
    "x_test = x_test.fillna(median2)"
   ]
  },
  {
   "cell_type": "code",
   "execution_count": 9,
   "metadata": {},
   "outputs": [
    {
     "name": "stdout",
     "output_type": "stream",
     "text": [
      "sepal_length    0\n",
      "sepal_width     0\n",
      "petal_length    0\n",
      "petal_width     0\n",
      "dtype: int64\n",
      "species    0\n",
      "dtype: int64\n",
      "sepal_length    0\n",
      "sepal_width     0\n",
      "petal_length    0\n",
      "petal_width     0\n",
      "dtype: int64\n"
     ]
    }
   ],
   "source": [
    "print(x_train.isnull().sum())\n",
    "print(y_train.isnull().sum())\n",
    "print(x_test.isnull().sum())"
   ]
  },
  {
   "cell_type": "code",
   "execution_count": 10,
   "metadata": {},
   "outputs": [
    {
     "name": "stdout",
     "output_type": "stream",
     "text": [
      "    sepal_length  sepal_width  petal_length  petal_width\n",
      "2            6.0        150.0           1.3          0.2\n",
      "15           5.7          4.4           1.5          0.4\n"
     ]
    }
   ],
   "source": [
    "q1 = x_train['sepal_width'].quantile(.25)\n",
    "q3 = x_train['sepal_width'].quantile(.75)\n",
    "\n",
    "iqr = q3 - q1\n",
    "\n",
    "upper = q3 + (iqr*1.5)\n",
    "lower = q1 - (iqr*1.5)\n",
    "\n",
    "cond1 = x_train['sepal_width'] > upper\n",
    "cond2 = x_train['sepal_width'] < lower\n",
    "\n",
    "outlier = x_train[(cond1 | cond2)]\n",
    "print(outlier)\n"
   ]
  },
  {
   "cell_type": "code",
   "execution_count": 11,
   "metadata": {},
   "outputs": [
    {
     "data": {
      "text/plain": [
       "2     150.0\n",
       "15      4.4\n",
       "14      4.0\n",
       "5       3.9\n",
       "16      3.9\n",
       "      ...  \n",
       "53      2.3\n",
       "87      2.3\n",
       "41      2.3\n",
       "62      2.2\n",
       "68      2.2\n",
       "Name: sepal_width, Length: 120, dtype: float64"
      ]
     },
     "execution_count": 11,
     "metadata": {},
     "output_type": "execute_result"
    }
   ],
   "source": [
    "x_train['sepal_width'].sort_values(ascending=False)\n"
   ]
  },
  {
   "cell_type": "code",
   "execution_count": 12,
   "metadata": {},
   "outputs": [],
   "source": [
    "x_train['sepal_width'] = x_train['sepal_width'].replace([150.0, 4.4],4.0)"
   ]
  },
  {
   "cell_type": "code",
   "execution_count": null,
   "metadata": {},
   "outputs": [],
   "source": [
    "from sklearn.model_selection import train_test_split\n",
    "\n",
    "x_train, x_val, y_train, y_val = train_test_split(x_train, y_train, test_size=0.2, stratify=y['species'], random_state = 2024)\n"
   ]
  },
  {
   "cell_type": "code",
   "execution_count": 16,
   "metadata": {},
   "outputs": [
    {
     "name": "stdout",
     "output_type": "stream",
     "text": [
      "(96, 4)\n",
      "(24, 4)\n",
      "(96, 1)\n",
      "(24, 1)\n"
     ]
    }
   ],
   "source": [
    "print(x_train.shape)\n",
    "print(x_val.shape)\n",
    "print(y_train.shape)\n",
    "print(y_val.shape)"
   ]
  },
  {
   "cell_type": "code",
   "execution_count": 19,
   "metadata": {},
   "outputs": [
    {
     "name": "stdout",
     "output_type": "stream",
     "text": [
      "[[ 9  0]\n",
      " [ 0 15]] 1.0 1.0 1.0\n"
     ]
    },
    {
     "name": "stderr",
     "output_type": "stream",
     "text": [
      "c:\\Users\\user\\AppData\\Local\\Programs\\Python\\Python313\\Lib\\site-packages\\sklearn\\base.py:1473: DataConversionWarning: A column-vector y was passed when a 1d array was expected. Please change the shape of y to (n_samples,), for example using ravel().\n",
      "  return fit_method(estimator, *args, **kwargs)\n"
     ]
    }
   ],
   "source": [
    "# 랜덤포레스트(분류)\n",
    "from sklearn.ensemble import RandomForestClassifier\n",
    "rfc = RandomForestClassifier(n_estimators=100,max_depth=10 ,random_state=2024)\n",
    "rfc.fit(x_train, y_train)\n",
    "pred = rfc.predict(x_val)\n",
    "\n",
    "from sklearn.metrics import confusion_matrix, accuracy_score, f1_score, roc_auc_score\n",
    "matrix = confusion_matrix(y_val, pred)\n",
    "acc = accuracy_score(y_val, pred)\n",
    "f1 = f1_score(y_val, pred)\n",
    "roc_auc = roc_auc_score(y_val, pred)\n",
    "\n",
    "print(matrix, acc, f1, roc_auc)\n",
    "\n"
   ]
  },
  {
   "cell_type": "code",
   "execution_count": 22,
   "metadata": {},
   "outputs": [
    {
     "name": "stdout",
     "output_type": "stream",
     "text": [
      "[[ 9  0]\n",
      " [ 0 15]] 1.0 1.0 1.0\n"
     ]
    },
    {
     "name": "stderr",
     "output_type": "stream",
     "text": [
      "c:\\Users\\user\\AppData\\Local\\Programs\\Python\\Python313\\Lib\\site-packages\\sklearn\\utils\\validation.py:1339: DataConversionWarning: A column-vector y was passed when a 1d array was expected. Please change the shape of y to (n_samples, ), for example using ravel().\n",
      "  y = column_or_1d(y, warn=True)\n"
     ]
    }
   ],
   "source": [
    "from sklearn.svm import SVC\n",
    "\n",
    "svc = SVC(kernel = 'linear')\n",
    "svc.fit(x_train,y_train)\n",
    "pred2 = svc.predict(x_val)\n",
    "\n",
    "from sklearn.metrics import confusion_matrix, accuracy_score, f1_score, roc_auc_score\n",
    "matrix_2 = confusion_matrix(y_val, pred)\n",
    "acc_2 = accuracy_score(y_val, pred)\n",
    "f1_2 = f1_score(y_val, pred)\n",
    "roc_auc_2 = roc_auc_score(y_val, pred)\n",
    "\n",
    "print(matrix_2, acc_2, f1_2, roc_auc_2)\n"
   ]
  },
  {
   "cell_type": "code",
   "execution_count": 26,
   "metadata": {},
   "outputs": [
    {
     "name": "stdout",
     "output_type": "stream",
     "text": [
      "[[10  0]\n",
      " [ 0 20]] 1.0 1.0 1.0\n"
     ]
    }
   ],
   "source": [
    "pred3 = rfc.predict(x_test)\n",
    "\n",
    "from sklearn.metrics import confusion_matrix, accuracy_score, f1_score, roc_auc_score\n",
    "matrix_3 = confusion_matrix(y_test, y_test)\n",
    "acc_3 = accuracy_score(y_test, y_test)\n",
    "f1_3 = f1_score(y_test, y_test)\n",
    "roc_auc_3 = roc_auc_score(y_test, y_test)\n",
    "\n",
    "print(matrix_3, acc_3, f1_3, roc_auc_3)"
   ]
  },
  {
   "cell_type": "code",
   "execution_count": null,
   "metadata": {},
   "outputs": [
    {
     "name": "stdout",
     "output_type": "stream",
     "text": [
      "    pred\n",
      "0      1\n",
      "1      1\n",
      "2      1\n",
      "3      0\n",
      "4      1\n",
      "5      1\n",
      "6      1\n",
      "7      0\n",
      "8      1\n",
      "9      0\n",
      "10     1\n",
      "11     0\n",
      "12     1\n",
      "13     1\n",
      "14     0\n",
      "15     1\n",
      "16     1\n",
      "17     0\n",
      "18     1\n",
      "19     1\n",
      "20     1\n",
      "21     0\n",
      "22     0\n",
      "23     1\n",
      "24     1\n",
      "25     0\n",
      "26     1\n",
      "27     0\n",
      "28     1\n",
      "29     1\n"
     ]
    }
   ],
   "source": [
    "answer = pd.DataFrame({'pred': pred3})\n",
    "print(answer)\n"
   ]
  },
  {
   "cell_type": "code",
   "execution_count": 33,
   "metadata": {},
   "outputs": [
    {
     "name": "stdout",
     "output_type": "stream",
     "text": [
      "    pred\n",
      "0      1\n",
      "1      1\n",
      "2      1\n",
      "3      0\n",
      "4      1\n",
      "5      1\n",
      "6      1\n",
      "7      0\n",
      "8      1\n",
      "9      0\n",
      "10     1\n",
      "11     0\n",
      "12     1\n",
      "13     1\n",
      "14     0\n",
      "15     1\n",
      "16     1\n",
      "17     0\n",
      "18     1\n",
      "19     1\n",
      "20     1\n",
      "21     0\n",
      "22     0\n",
      "23     1\n",
      "24     1\n",
      "25     0\n",
      "26     1\n",
      "27     0\n",
      "28     1\n",
      "29     1\n"
     ]
    }
   ],
   "source": [
    "answer.to_csv('result.csv', index = False)\n",
    "print(answer)"
   ]
  },
  {
   "cell_type": "code",
   "execution_count": null,
   "metadata": {},
   "outputs": [],
   "source": [
    "# 답안 제출 참고\n",
    "# 아래 코드는 예시이며 변수명 등 개인별로 변경하여 활용\n",
    "# write.csv(data.frame변수,\"result.csv\",row.names = FALSE)"
   ]
  }
 ],
 "metadata": {
  "kernelspec": {
   "display_name": "Python 3",
   "language": "python",
   "name": "python3"
  },
  "language_info": {
   "codemirror_mode": {
    "name": "ipython",
    "version": 3
   },
   "file_extension": ".py",
   "mimetype": "text/x-python",
   "name": "python",
   "nbconvert_exporter": "python",
   "pygments_lexer": "ipython3",
   "version": "3.13.0"
  }
 },
 "nbformat": 4,
 "nbformat_minor": 2
}
