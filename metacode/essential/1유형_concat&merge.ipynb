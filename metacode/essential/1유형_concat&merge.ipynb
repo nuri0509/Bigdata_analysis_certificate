{
 "cells": [
  {
   "cell_type": "code",
   "execution_count": 1,
   "id": "529aa777",
   "metadata": {},
   "outputs": [],
   "source": [
    "# concat & merge 다루기"
   ]
  },
  {
   "cell_type": "code",
   "execution_count": 2,
   "id": "fb5edefa",
   "metadata": {},
   "outputs": [],
   "source": [
    "# 1.concat 다루기\n",
    "# 데이터를 단순하게 위아래, 좌우 결합하기 위해 사용"
   ]
  },
  {
   "cell_type": "code",
   "execution_count": 3,
   "id": "728ffca1",
   "metadata": {},
   "outputs": [],
   "source": [
    "import pandas as pd\n",
    "\n",
    "df1 = pd.DataFrame({\n",
    "    'user_id' : ['c01', 'c02', 'c03'],\n",
    "    'product_id' : ['P001', 'P234', 'p125']\n",
    "})\n",
    "\n",
    "df2 = pd.DataFrame({\n",
    "    'user_id': ['c02', 'c03', 'c04'],\n",
    "    'quantity' :['3', '5', '7']\n",
    "})\n"
   ]
  },
  {
   "cell_type": "code",
   "execution_count": 4,
   "id": "65dab885",
   "metadata": {},
   "outputs": [
    {
     "data": {
      "text/html": [
       "<div>\n",
       "<style scoped>\n",
       "    .dataframe tbody tr th:only-of-type {\n",
       "        vertical-align: middle;\n",
       "    }\n",
       "\n",
       "    .dataframe tbody tr th {\n",
       "        vertical-align: top;\n",
       "    }\n",
       "\n",
       "    .dataframe thead th {\n",
       "        text-align: right;\n",
       "    }\n",
       "</style>\n",
       "<table border=\"1\" class=\"dataframe\">\n",
       "  <thead>\n",
       "    <tr style=\"text-align: right;\">\n",
       "      <th></th>\n",
       "      <th>user_id</th>\n",
       "      <th>product_id</th>\n",
       "      <th>quantity</th>\n",
       "    </tr>\n",
       "  </thead>\n",
       "  <tbody>\n",
       "    <tr>\n",
       "      <th>0</th>\n",
       "      <td>c01</td>\n",
       "      <td>P001</td>\n",
       "      <td>NaN</td>\n",
       "    </tr>\n",
       "    <tr>\n",
       "      <th>1</th>\n",
       "      <td>c02</td>\n",
       "      <td>P234</td>\n",
       "      <td>NaN</td>\n",
       "    </tr>\n",
       "    <tr>\n",
       "      <th>2</th>\n",
       "      <td>c03</td>\n",
       "      <td>p125</td>\n",
       "      <td>NaN</td>\n",
       "    </tr>\n",
       "    <tr>\n",
       "      <th>0</th>\n",
       "      <td>c02</td>\n",
       "      <td>NaN</td>\n",
       "      <td>3</td>\n",
       "    </tr>\n",
       "    <tr>\n",
       "      <th>1</th>\n",
       "      <td>c03</td>\n",
       "      <td>NaN</td>\n",
       "      <td>5</td>\n",
       "    </tr>\n",
       "    <tr>\n",
       "      <th>2</th>\n",
       "      <td>c04</td>\n",
       "      <td>NaN</td>\n",
       "      <td>7</td>\n",
       "    </tr>\n",
       "  </tbody>\n",
       "</table>\n",
       "</div>"
      ],
      "text/plain": [
       "  user_id product_id quantity\n",
       "0     c01       P001      NaN\n",
       "1     c02       P234      NaN\n",
       "2     c03       p125      NaN\n",
       "0     c02        NaN        3\n",
       "1     c03        NaN        5\n",
       "2     c04        NaN        7"
      ]
     },
     "execution_count": 4,
     "metadata": {},
     "output_type": "execute_result"
    }
   ],
   "source": [
    "result0 = pd.concat([df1, df2], axis=0) # axis=0 (행 기준, 위아래 병합)\n",
    "# result0 = pd.concat([df1, df2], axis=0, ignore_index=True)  # index 초기화 옵션\n",
    "result0"
   ]
  },
  {
   "cell_type": "code",
   "execution_count": 5,
   "id": "15bf79f1",
   "metadata": {},
   "outputs": [
    {
     "data": {
      "text/html": [
       "<div>\n",
       "<style scoped>\n",
       "    .dataframe tbody tr th:only-of-type {\n",
       "        vertical-align: middle;\n",
       "    }\n",
       "\n",
       "    .dataframe tbody tr th {\n",
       "        vertical-align: top;\n",
       "    }\n",
       "\n",
       "    .dataframe thead th {\n",
       "        text-align: right;\n",
       "    }\n",
       "</style>\n",
       "<table border=\"1\" class=\"dataframe\">\n",
       "  <thead>\n",
       "    <tr style=\"text-align: right;\">\n",
       "      <th></th>\n",
       "      <th>user_id</th>\n",
       "      <th>product_id</th>\n",
       "      <th>user_id</th>\n",
       "      <th>quantity</th>\n",
       "    </tr>\n",
       "  </thead>\n",
       "  <tbody>\n",
       "    <tr>\n",
       "      <th>0</th>\n",
       "      <td>c01</td>\n",
       "      <td>P001</td>\n",
       "      <td>c02</td>\n",
       "      <td>3</td>\n",
       "    </tr>\n",
       "    <tr>\n",
       "      <th>1</th>\n",
       "      <td>c02</td>\n",
       "      <td>P234</td>\n",
       "      <td>c03</td>\n",
       "      <td>5</td>\n",
       "    </tr>\n",
       "    <tr>\n",
       "      <th>2</th>\n",
       "      <td>c03</td>\n",
       "      <td>p125</td>\n",
       "      <td>c04</td>\n",
       "      <td>7</td>\n",
       "    </tr>\n",
       "  </tbody>\n",
       "</table>\n",
       "</div>"
      ],
      "text/plain": [
       "  user_id product_id user_id quantity\n",
       "0     c01       P001     c02        3\n",
       "1     c02       P234     c03        5\n",
       "2     c03       p125     c04        7"
      ]
     },
     "execution_count": 5,
     "metadata": {},
     "output_type": "execute_result"
    }
   ],
   "source": [
    "result1 = pd.concat([df1, df2], axis=1) # axis=1 (열 기준, 좌우 병합)\n",
    "# result1 = pd.concat([df1, df2], axis=1, ignore_index=True) # index 초기화 옵션\n",
    "result1"
   ]
  },
  {
   "cell_type": "code",
   "execution_count": 6,
   "id": "487d2acb",
   "metadata": {},
   "outputs": [
    {
     "name": "stdout",
     "output_type": "stream",
     "text": [
      "  user_id product_id\n",
      "0     c01       P001\n",
      "1     c02       P234\n",
      "2     c03       P125\n",
      "  user_id quantity\n",
      "0     c02        3\n",
      "1     c03        5\n",
      "2     c04        7\n"
     ]
    }
   ],
   "source": [
    "# 2.merge 다루기\n",
    "\n",
    "import pandas as pd\n",
    "import numpy as np\n",
    "\n",
    "df1 = pd.DataFrame({\n",
    "    'user_id' : ['c01', 'c02', 'c03'],\n",
    "    'product_id' :['P001', 'P234', 'P125']\n",
    "})\n",
    "\n",
    "df2 = pd.DataFrame({\n",
    "    'user_id' : ['c02', 'c03', 'c04'],\n",
    "    'quantity' : ['3', '5', '7']\n",
    "})\n",
    "\n",
    "print(df1)\n",
    "print(df2)"
   ]
  },
  {
   "cell_type": "code",
   "execution_count": 7,
   "id": "8099e8d3",
   "metadata": {},
   "outputs": [],
   "source": [
    "# 1) merge 설명\n",
    "# pandas의 merge 함수를 활용하여 데이터프레임을 다양한 방법으로 병합할 수 있음\n",
    "\n",
    "# pd.merge(df1, df2, how='inner', on='key', suffixes=('_x', '_y'))\n",
    "\n",
    "# on : 두 데이터프레임에서 공통으로 존재하는 컬럼명(키)\n",
    "# how : 병합 방식('inner', 'left', 'right', 'outer') # 기본옵션 : inner\n",
    "# suffixes : 공통 컬럼명이 있을 때 붙일 접미사"
   ]
  },
  {
   "cell_type": "code",
   "execution_count": 8,
   "id": "96253c68",
   "metadata": {},
   "outputs": [
    {
     "data": {
      "text/html": [
       "<div>\n",
       "<style scoped>\n",
       "    .dataframe tbody tr th:only-of-type {\n",
       "        vertical-align: middle;\n",
       "    }\n",
       "\n",
       "    .dataframe tbody tr th {\n",
       "        vertical-align: top;\n",
       "    }\n",
       "\n",
       "    .dataframe thead th {\n",
       "        text-align: right;\n",
       "    }\n",
       "</style>\n",
       "<table border=\"1\" class=\"dataframe\">\n",
       "  <thead>\n",
       "    <tr style=\"text-align: right;\">\n",
       "      <th></th>\n",
       "      <th>user_id</th>\n",
       "      <th>product_id</th>\n",
       "    </tr>\n",
       "  </thead>\n",
       "  <tbody>\n",
       "    <tr>\n",
       "      <th>0</th>\n",
       "      <td>c01</td>\n",
       "      <td>P001</td>\n",
       "    </tr>\n",
       "    <tr>\n",
       "      <th>1</th>\n",
       "      <td>c02</td>\n",
       "      <td>P234</td>\n",
       "    </tr>\n",
       "    <tr>\n",
       "      <th>2</th>\n",
       "      <td>c03</td>\n",
       "      <td>P125</td>\n",
       "    </tr>\n",
       "  </tbody>\n",
       "</table>\n",
       "</div>"
      ],
      "text/plain": [
       "  user_id product_id\n",
       "0     c01       P001\n",
       "1     c02       P234\n",
       "2     c03       P125"
      ]
     },
     "execution_count": 8,
     "metadata": {},
     "output_type": "execute_result"
    }
   ],
   "source": [
    "# 2) 예제로 이해하기\n",
    "# 예제1 - 교집합(inner join)으로 데이터 병합\n",
    "\n",
    "# df1에는 고객(user_id)의 구매물품(product_id)정보가 있음\n",
    "df1  "
   ]
  },
  {
   "cell_type": "code",
   "execution_count": 9,
   "id": "6621f91a",
   "metadata": {},
   "outputs": [
    {
     "data": {
      "text/html": [
       "<div>\n",
       "<style scoped>\n",
       "    .dataframe tbody tr th:only-of-type {\n",
       "        vertical-align: middle;\n",
       "    }\n",
       "\n",
       "    .dataframe tbody tr th {\n",
       "        vertical-align: top;\n",
       "    }\n",
       "\n",
       "    .dataframe thead th {\n",
       "        text-align: right;\n",
       "    }\n",
       "</style>\n",
       "<table border=\"1\" class=\"dataframe\">\n",
       "  <thead>\n",
       "    <tr style=\"text-align: right;\">\n",
       "      <th></th>\n",
       "      <th>user_id</th>\n",
       "      <th>quantity</th>\n",
       "    </tr>\n",
       "  </thead>\n",
       "  <tbody>\n",
       "    <tr>\n",
       "      <th>0</th>\n",
       "      <td>c02</td>\n",
       "      <td>3</td>\n",
       "    </tr>\n",
       "    <tr>\n",
       "      <th>1</th>\n",
       "      <td>c03</td>\n",
       "      <td>5</td>\n",
       "    </tr>\n",
       "    <tr>\n",
       "      <th>2</th>\n",
       "      <td>c04</td>\n",
       "      <td>7</td>\n",
       "    </tr>\n",
       "  </tbody>\n",
       "</table>\n",
       "</div>"
      ],
      "text/plain": [
       "  user_id quantity\n",
       "0     c02        3\n",
       "1     c03        5\n",
       "2     c04        7"
      ]
     },
     "execution_count": 9,
     "metadata": {},
     "output_type": "execute_result"
    }
   ],
   "source": [
    "# df2에는 고객(user_id)의 구매한 물품 수(quantity)정보가 있음\n",
    "df2"
   ]
  },
  {
   "cell_type": "code",
   "execution_count": 10,
   "id": "587a7d44",
   "metadata": {},
   "outputs": [
    {
     "data": {
      "text/html": [
       "<div>\n",
       "<style scoped>\n",
       "    .dataframe tbody tr th:only-of-type {\n",
       "        vertical-align: middle;\n",
       "    }\n",
       "\n",
       "    .dataframe tbody tr th {\n",
       "        vertical-align: top;\n",
       "    }\n",
       "\n",
       "    .dataframe thead th {\n",
       "        text-align: right;\n",
       "    }\n",
       "</style>\n",
       "<table border=\"1\" class=\"dataframe\">\n",
       "  <thead>\n",
       "    <tr style=\"text-align: right;\">\n",
       "      <th></th>\n",
       "      <th>user_id</th>\n",
       "      <th>product_id</th>\n",
       "      <th>quantity</th>\n",
       "    </tr>\n",
       "  </thead>\n",
       "  <tbody>\n",
       "    <tr>\n",
       "      <th>0</th>\n",
       "      <td>c02</td>\n",
       "      <td>P234</td>\n",
       "      <td>3</td>\n",
       "    </tr>\n",
       "    <tr>\n",
       "      <th>1</th>\n",
       "      <td>c03</td>\n",
       "      <td>P125</td>\n",
       "      <td>5</td>\n",
       "    </tr>\n",
       "  </tbody>\n",
       "</table>\n",
       "</div>"
      ],
      "text/plain": [
       "  user_id product_id quantity\n",
       "0     c02       P234        3\n",
       "1     c03       P125        5"
      ]
     },
     "execution_count": 10,
     "metadata": {},
     "output_type": "execute_result"
    }
   ],
   "source": [
    "# user_id 를 기준으로 병합\n",
    "result_inner = pd.merge(df1, df2, how='inner', on='user_id')\n",
    "# result_inner = pd.merge(df1, df2, on='user_id) # 'inner'가 기본 옵션이기 때문에 생략가능\n",
    "result_inner"
   ]
  },
  {
   "cell_type": "code",
   "execution_count": 11,
   "id": "601075b8",
   "metadata": {},
   "outputs": [
    {
     "data": {
      "text/html": [
       "<div>\n",
       "<style scoped>\n",
       "    .dataframe tbody tr th:only-of-type {\n",
       "        vertical-align: middle;\n",
       "    }\n",
       "\n",
       "    .dataframe tbody tr th {\n",
       "        vertical-align: top;\n",
       "    }\n",
       "\n",
       "    .dataframe thead th {\n",
       "        text-align: right;\n",
       "    }\n",
       "</style>\n",
       "<table border=\"1\" class=\"dataframe\">\n",
       "  <thead>\n",
       "    <tr style=\"text-align: right;\">\n",
       "      <th></th>\n",
       "      <th>user_id</th>\n",
       "      <th>product_id</th>\n",
       "      <th>quantity</th>\n",
       "    </tr>\n",
       "  </thead>\n",
       "  <tbody>\n",
       "    <tr>\n",
       "      <th>0</th>\n",
       "      <td>c01</td>\n",
       "      <td>P001</td>\n",
       "      <td>NaN</td>\n",
       "    </tr>\n",
       "    <tr>\n",
       "      <th>1</th>\n",
       "      <td>c02</td>\n",
       "      <td>P234</td>\n",
       "      <td>3</td>\n",
       "    </tr>\n",
       "    <tr>\n",
       "      <th>2</th>\n",
       "      <td>c03</td>\n",
       "      <td>P125</td>\n",
       "      <td>5</td>\n",
       "    </tr>\n",
       "    <tr>\n",
       "      <th>3</th>\n",
       "      <td>c04</td>\n",
       "      <td>NaN</td>\n",
       "      <td>7</td>\n",
       "    </tr>\n",
       "  </tbody>\n",
       "</table>\n",
       "</div>"
      ],
      "text/plain": [
       "  user_id product_id quantity\n",
       "0     c01       P001      NaN\n",
       "1     c02       P234        3\n",
       "2     c03       P125        5\n",
       "3     c04        NaN        7"
      ]
     },
     "execution_count": 11,
     "metadata": {},
     "output_type": "execute_result"
    }
   ],
   "source": [
    "# 예제2 - 합집합(outer join)으로 데이터 병합\n",
    "result_outer = pd.merge(df1, df2, on='user_id', how='outer')\n",
    "result_outer # 값이 없는 부분은 결측치로 처리"
   ]
  },
  {
   "cell_type": "code",
   "execution_count": 12,
   "id": "5a46d90f",
   "metadata": {},
   "outputs": [
    {
     "data": {
      "text/html": [
       "<div>\n",
       "<style scoped>\n",
       "    .dataframe tbody tr th:only-of-type {\n",
       "        vertical-align: middle;\n",
       "    }\n",
       "\n",
       "    .dataframe tbody tr th {\n",
       "        vertical-align: top;\n",
       "    }\n",
       "\n",
       "    .dataframe thead th {\n",
       "        text-align: right;\n",
       "    }\n",
       "</style>\n",
       "<table border=\"1\" class=\"dataframe\">\n",
       "  <thead>\n",
       "    <tr style=\"text-align: right;\">\n",
       "      <th></th>\n",
       "      <th>user_id</th>\n",
       "      <th>product_id</th>\n",
       "      <th>quantity</th>\n",
       "    </tr>\n",
       "  </thead>\n",
       "  <tbody>\n",
       "    <tr>\n",
       "      <th>0</th>\n",
       "      <td>c01</td>\n",
       "      <td>P001</td>\n",
       "      <td>NaN</td>\n",
       "    </tr>\n",
       "    <tr>\n",
       "      <th>1</th>\n",
       "      <td>c02</td>\n",
       "      <td>P234</td>\n",
       "      <td>3</td>\n",
       "    </tr>\n",
       "    <tr>\n",
       "      <th>2</th>\n",
       "      <td>c03</td>\n",
       "      <td>P125</td>\n",
       "      <td>5</td>\n",
       "    </tr>\n",
       "  </tbody>\n",
       "</table>\n",
       "</div>"
      ],
      "text/plain": [
       "  user_id product_id quantity\n",
       "0     c01       P001      NaN\n",
       "1     c02       P234        3\n",
       "2     c03       P125        5"
      ]
     },
     "execution_count": 12,
     "metadata": {},
     "output_type": "execute_result"
    }
   ],
   "source": [
    "# 예제3 - left join 으로 데이터 병합\n",
    "result_left = pd.merge(df1, df2, on='user_id', how='left')\n",
    "result_left # 왼쪽 데이터프레임 기준으로 병합"
   ]
  },
  {
   "cell_type": "code",
   "execution_count": 13,
   "id": "8a59dc02",
   "metadata": {},
   "outputs": [
    {
     "data": {
      "text/html": [
       "<div>\n",
       "<style scoped>\n",
       "    .dataframe tbody tr th:only-of-type {\n",
       "        vertical-align: middle;\n",
       "    }\n",
       "\n",
       "    .dataframe tbody tr th {\n",
       "        vertical-align: top;\n",
       "    }\n",
       "\n",
       "    .dataframe thead th {\n",
       "        text-align: right;\n",
       "    }\n",
       "</style>\n",
       "<table border=\"1\" class=\"dataframe\">\n",
       "  <thead>\n",
       "    <tr style=\"text-align: right;\">\n",
       "      <th></th>\n",
       "      <th>user_id</th>\n",
       "      <th>product_id</th>\n",
       "      <th>quantity</th>\n",
       "    </tr>\n",
       "  </thead>\n",
       "  <tbody>\n",
       "    <tr>\n",
       "      <th>0</th>\n",
       "      <td>c01</td>\n",
       "      <td>P001</td>\n",
       "      <td>NaN</td>\n",
       "    </tr>\n",
       "    <tr>\n",
       "      <th>1</th>\n",
       "      <td>c02</td>\n",
       "      <td>P234</td>\n",
       "      <td>3</td>\n",
       "    </tr>\n",
       "    <tr>\n",
       "      <th>2</th>\n",
       "      <td>c03</td>\n",
       "      <td>P125</td>\n",
       "      <td>5</td>\n",
       "    </tr>\n",
       "  </tbody>\n",
       "</table>\n",
       "</div>"
      ],
      "text/plain": [
       "  user_id product_id quantity\n",
       "0     c01       P001      NaN\n",
       "1     c02       P234        3\n",
       "2     c03       P125        5"
      ]
     },
     "execution_count": 13,
     "metadata": {},
     "output_type": "execute_result"
    }
   ],
   "source": [
    "# 예제4 - right join 으로 데이터 병합\n",
    "result_right = pd.merge(df1, df2, on='user_id', how='left')\n",
    "result_right # 오른쪽 데이터프레임 기준으로 병합"
   ]
  },
  {
   "cell_type": "code",
   "execution_count": 14,
   "id": "91867d69",
   "metadata": {},
   "outputs": [
    {
     "name": "stdout",
     "output_type": "stream",
     "text": [
      "  user_id  order_date product\n",
      "0     c01  2025-03-01    P001\n",
      "1     c02  2025-03-02    P002\n",
      "2     c03  2025-03-03    P003\n",
      "3     c04  2025-03-04    P004\n",
      "  user_id  order_date  quantity\n",
      "0     c01  2025-03-01         5\n",
      "1     c02  2025-03-02        15\n",
      "2     c03  2025-03-05        25\n",
      "3     c05  2025-03-06        35\n"
     ]
    }
   ],
   "source": [
    "# 예제5 - 여러컬럼을 동시에 'key'로 사용하는 예제\n",
    "\n",
    "# 첫번쨰 데이터프레임 : 주문 정보\n",
    "df1 = pd.DataFrame({\n",
    "    'user_id' : ['c01', 'c02', 'c03', 'c04'],\n",
    "    'order_date' : ['2025-03-01', '2025-03-02', '2025-03-03', '2025-03-04'],\n",
    "    'product' : ['P001', 'P002', 'P003', 'P004']\n",
    "})\n",
    "\n",
    "# 두번째 데이터프레임 : 주문 수량 정보\n",
    "df2 = pd.DataFrame({\n",
    "    'user_id' : ['c01', 'c02', 'c03', 'c05'],\n",
    "    'order_date' : ['2025-03-01', '2025-03-02', '2025-03-05', '2025-03-06'],\n",
    "    'quantity' : [5, 15, 25, 35]\n",
    "})\n",
    "\n",
    "print(df1)\n",
    "print(df2)"
   ]
  },
  {
   "cell_type": "code",
   "execution_count": 15,
   "id": "5dc06872",
   "metadata": {},
   "outputs": [],
   "source": [
    "result = pd.merge(df1, df2, on=['user_id', 'order_date'], how='inner')"
   ]
  },
  {
   "cell_type": "code",
   "execution_count": 16,
   "id": "a024a7d1",
   "metadata": {},
   "outputs": [
    {
     "name": "stdout",
     "output_type": "stream",
     "text": [
      "  user_id gender  value\n",
      "0     c01      M     10\n",
      "1     c02      M     20\n",
      "2     c03      M     30\n",
      "  user_id gender  value\n",
      "0     c01      F    100\n",
      "1     c02      F    200\n",
      "2     c04      F    400\n"
     ]
    }
   ],
   "source": [
    "# 예제6 - suffixes=('_x', '_y') 옵션이 필요한 경우\n",
    "\n",
    "# 예제 DataFrame 생성 (공통 컬럼: 'gender'와 'value'가 존재)\n",
    "df1 = pd.DataFrame({\n",
    "    'user_id' : ['c01', 'c02', 'c03'],\n",
    "    'gender' : ['M', 'M', 'M'],\n",
    "    'value' : [10, 20, 30]\n",
    "})\n",
    "\n",
    "df2 = pd.DataFrame({\n",
    "    'user_id' : ['c01', 'c02', 'c04'],\n",
    "    'gender' : ['F', 'F', 'F'],\n",
    "    'value' : [100, 200, 400]\n",
    "})\n",
    "\n",
    "print(df1)\n",
    "print(df2)"
   ]
  },
  {
   "cell_type": "code",
   "execution_count": 17,
   "id": "4685a104",
   "metadata": {},
   "outputs": [
    {
     "data": {
      "text/html": [
       "<div>\n",
       "<style scoped>\n",
       "    .dataframe tbody tr th:only-of-type {\n",
       "        vertical-align: middle;\n",
       "    }\n",
       "\n",
       "    .dataframe tbody tr th {\n",
       "        vertical-align: top;\n",
       "    }\n",
       "\n",
       "    .dataframe thead th {\n",
       "        text-align: right;\n",
       "    }\n",
       "</style>\n",
       "<table border=\"1\" class=\"dataframe\">\n",
       "  <thead>\n",
       "    <tr style=\"text-align: right;\">\n",
       "      <th></th>\n",
       "      <th>user_id</th>\n",
       "      <th>gender_M</th>\n",
       "      <th>value_M</th>\n",
       "      <th>gender_F</th>\n",
       "      <th>value_F</th>\n",
       "    </tr>\n",
       "  </thead>\n",
       "  <tbody>\n",
       "    <tr>\n",
       "      <th>0</th>\n",
       "      <td>c01</td>\n",
       "      <td>M</td>\n",
       "      <td>10</td>\n",
       "      <td>F</td>\n",
       "      <td>100</td>\n",
       "    </tr>\n",
       "    <tr>\n",
       "      <th>1</th>\n",
       "      <td>c02</td>\n",
       "      <td>M</td>\n",
       "      <td>20</td>\n",
       "      <td>F</td>\n",
       "      <td>200</td>\n",
       "    </tr>\n",
       "  </tbody>\n",
       "</table>\n",
       "</div>"
      ],
      "text/plain": [
       "  user_id gender_M  value_M gender_F  value_F\n",
       "0     c01        M       10        F      100\n",
       "1     c02        M       20        F      200"
      ]
     },
     "execution_count": 17,
     "metadata": {},
     "output_type": "execute_result"
    }
   ],
   "source": [
    "# df1과 df2에 공통 변수명인 gender와 value가 존재\n",
    "# suffixes = ('_M', '_F') 옵션으로 구분해 줄 수 있다.\n",
    "result = pd.merge(df1, df2, on='user_id', how='inner', suffixes=('_M', '_F'))\n",
    "#result = pd.merge(df1, df2, on='user_id', how='inner')\n",
    "result"
   ]
  },
  {
   "cell_type": "code",
   "execution_count": 19,
   "id": "44824d11",
   "metadata": {},
   "outputs": [
    {
     "data": {
      "text/html": [
       "<div>\n",
       "<style scoped>\n",
       "    .dataframe tbody tr th:only-of-type {\n",
       "        vertical-align: middle;\n",
       "    }\n",
       "\n",
       "    .dataframe tbody tr th {\n",
       "        vertical-align: top;\n",
       "    }\n",
       "\n",
       "    .dataframe thead th {\n",
       "        text-align: right;\n",
       "    }\n",
       "</style>\n",
       "<table border=\"1\" class=\"dataframe\">\n",
       "  <thead>\n",
       "    <tr style=\"text-align: right;\">\n",
       "      <th></th>\n",
       "      <th>user_id</th>\n",
       "      <th>gender_x</th>\n",
       "      <th>value_x</th>\n",
       "      <th>gender_y</th>\n",
       "      <th>value_y</th>\n",
       "    </tr>\n",
       "  </thead>\n",
       "  <tbody>\n",
       "    <tr>\n",
       "      <th>0</th>\n",
       "      <td>c01</td>\n",
       "      <td>M</td>\n",
       "      <td>10</td>\n",
       "      <td>F</td>\n",
       "      <td>100</td>\n",
       "    </tr>\n",
       "    <tr>\n",
       "      <th>1</th>\n",
       "      <td>c02</td>\n",
       "      <td>M</td>\n",
       "      <td>20</td>\n",
       "      <td>F</td>\n",
       "      <td>200</td>\n",
       "    </tr>\n",
       "  </tbody>\n",
       "</table>\n",
       "</div>"
      ],
      "text/plain": [
       "  user_id gender_x  value_x gender_y  value_y\n",
       "0     c01        M       10        F      100\n",
       "1     c02        M       20        F      200"
      ]
     },
     "execution_count": 19,
     "metadata": {},
     "output_type": "execute_result"
    }
   ],
   "source": [
    "# 별도로 옵션을 주지 않으면 기본 옵션인 _x, _y로 표기\n",
    "result = pd.merge(df1, df2, on='user_id', how='inner')\n",
    "result"
   ]
  },
  {
   "cell_type": "code",
   "execution_count": null,
   "id": "a8345140",
   "metadata": {},
   "outputs": [],
   "source": []
  },
  {
   "cell_type": "code",
   "execution_count": null,
   "id": "8842c352",
   "metadata": {},
   "outputs": [],
   "source": []
  }
 ],
 "metadata": {
  "kernelspec": {
   "display_name": "bigdata_analysis_certificate",
   "language": "python",
   "name": "python3"
  },
  "language_info": {
   "codemirror_mode": {
    "name": "ipython",
    "version": 3
   },
   "file_extension": ".py",
   "mimetype": "text/x-python",
   "name": "python",
   "nbconvert_exporter": "python",
   "pygments_lexer": "ipython3",
   "version": "3.13.2"
  }
 },
 "nbformat": 4,
 "nbformat_minor": 5
}
