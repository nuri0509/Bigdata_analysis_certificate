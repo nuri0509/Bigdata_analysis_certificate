{
 "cells": [
  {
   "cell_type": "code",
   "execution_count": 1,
   "metadata": {},
   "outputs": [],
   "source": [
    "\n",
    "#당뇨병 환자의 질병 진행정도를 예측해보자\n",
    "#데이터의 결측치, 이상치, 변수들에 대해 전처리하고\n",
    "#회귀모델을 사용하여 Rsq, MSE 값을 산출하시오.\n",
    "#제출은 아래 예시와 같이 cust_id, target 변수를 가진 dataframe 형태로 제출하시오."
   ]
  },
  {
   "cell_type": "code",
   "execution_count": 2,
   "metadata": {},
   "outputs": [],
   "source": [
    "# 답안 제출 참고\n",
    "# 아래 코드는 예시이며 변수명 등 개인별로 변경하여 활용\n",
    "# write.csv(data.frame변수,\"result.csv\",row.names = FALSE)"
   ]
  },
  {
   "cell_type": "code",
   "execution_count": 3,
   "metadata": {},
   "outputs": [],
   "source": [
    "###############  실기환경 복사 영역  ###############\n",
    "import pandas as pd\n",
    "import numpy as np\n",
    " # 실기 시험 데이터셋으로 셋팅하기 (수정금지)\n",
    "from sklearn.datasets import load_diabetes\n",
    " # diabetes 데이터셋 로드\n",
    "diabetes = load_diabetes()\n",
    "x = pd.DataFrame(diabetes.data, columns=diabetes.feature_names)\n",
    "y = pd.DataFrame(diabetes.target)\n",
    " # 실기 시험 데이터셋으로 셋팅하기 (수정금지)\n",
    "from sklearn.model_selection import train_test_split\n",
    "x_train, x_test, y_train, y_test = train_test_split(x, y, test_size=0.2, \n",
    "                                                    random_state=2023)\n",
    "x_test = pd.DataFrame(x_test.reset_index())\n",
    "x_train = pd.DataFrame(x_train.reset_index())\n",
    "y_train = pd.DataFrame(y_train.reset_index())\n",
    "x_test.rename(columns={'index':'cust_id'}, inplace=True)\n",
    "x_train.rename(columns={'index':'cust_id'}, inplace=True)\n",
    "y_train.columns = ['cust_id', 'target'] \n",
    "###############  실기환경 복사 영역  ############### ###\t참고사항\t###\t\n",
    "#\ty_test\t는\t실기\t문제상에\t주어지지\t않음\n",
    "#\t★Tip\t:\tX를\t대문자로\t쓰지말고\t소문자\tx로\t쓰세요.\t시험에서\t실수하기\t쉽습니다.(문제풀기\t전에\t소문자로\t변경!)\n",
    " #\t(참고\t:\t보통\tX는\t2차원\t배열(행렬)이기\t때문에\t대문자로\t쓰고,\ty는\t1차원\t배열(벡터)이기\t때문에\t소문자로\t씀)\n",
    " #\t(~23년\t10월말)\t실기시험\t데이터\t형식\t(실제\t시험장에서는\t다를\t수\t있으니\t반드시\t체크)\t\n",
    "#\tX_test\t=\tpd.read_csv(\"data/X_test.csv\")\n",
    " #\tX_train\t=\tpd.read_csv(\"data/X_train.csv\")\n",
    " #\ty_train\t=\tpd.read_csv(\"data/y_train.csv\")\n",
    " #\t★(23년\t10월말~)\t기준으로\t체험환경에서\t제공되는\t데이터셋이\t조금\t변경되었습니다.\t\n",
    "#\ttrain\t=\tpd.read_csv(\"data/customer_train.csv\")\n",
    " #\ttest\t=\tpd.read_csv(\"data/customer_test.csv\")\n",
    " #\tx_train과\ty_train,\tx_test를\t별도로\t할당해주셔야\t합니다.\t"
   ]
  },
  {
   "cell_type": "code",
   "execution_count": 4,
   "metadata": {},
   "outputs": [
    {
     "name": "stdout",
     "output_type": "stream",
     "text": [
      ".. _diabetes_dataset:\n",
      "\n",
      "Diabetes dataset\n",
      "----------------\n",
      "\n",
      "Ten baseline variables, age, sex, body mass index, average blood\n",
      "pressure, and six blood serum measurements were obtained for each of n =\n",
      "442 diabetes patients, as well as the response of interest, a\n",
      "quantitative measure of disease progression one year after baseline.\n",
      "\n",
      "**Data Set Characteristics:**\n",
      "\n",
      ":Number of Instances: 442\n",
      "\n",
      ":Number of Attributes: First 10 columns are numeric predictive values\n",
      "\n",
      ":Target: Column 11 is a quantitative measure of disease progression one year after baseline\n",
      "\n",
      ":Attribute Information:\n",
      "    - age     age in years\n",
      "    - sex\n",
      "    - bmi     body mass index\n",
      "    - bp      average blood pressure\n",
      "    - s1      tc, total serum cholesterol\n",
      "    - s2      ldl, low-density lipoproteins\n",
      "    - s3      hdl, high-density lipoproteins\n",
      "    - s4      tch, total cholesterol / HDL\n",
      "    - s5      ltg, possibly log of serum triglycerides level\n",
      "    - s6      glu, blood sugar level\n",
      "\n",
      "Note: Each of these 10 feature variables have been mean centered and scaled by the standard deviation times the square root of `n_samples` (i.e. the sum of squares of each column totals 1).\n",
      "\n",
      "Source URL:\n",
      "https://www4.stat.ncsu.edu/~boos/var.select/diabetes.html\n",
      "\n",
      "For more information see:\n",
      "Bradley Efron, Trevor Hastie, Iain Johnstone and Robert Tibshirani (2004) \"Least Angle Regression,\" Annals of Statistics (with discussion), 407-499.\n",
      "(https://web.stanford.edu/~hastie/Papers/LARS/LeastAngle_2002.pdf)\n",
      "\n"
     ]
    }
   ],
   "source": [
    "print(diabetes.DESCR)"
   ]
  },
  {
   "cell_type": "code",
   "execution_count": 5,
   "metadata": {},
   "outputs": [
    {
     "name": "stdout",
     "output_type": "stream",
     "text": [
      "   cust_id       age       sex       bmi        bp        s1        s2  \\\n",
      "0        4  0.005383 -0.044642 -0.036385  0.021872  0.003935  0.015596   \n",
      "1      318  0.088931 -0.044642  0.006728  0.025315  0.030078  0.008707   \n",
      "2      301 -0.001882  0.050680 -0.024529  0.052858  0.027326  0.030001   \n",
      "3      189 -0.001882 -0.044642 -0.066563  0.001215 -0.002945  0.003070   \n",
      "4      288  0.070769  0.050680 -0.016984  0.021872  0.043837  0.056305   \n",
      "\n",
      "         s3        s4        s5        s6  \n",
      "0  0.008142 -0.002592 -0.031988 -0.046641  \n",
      "1  0.063367 -0.039493  0.009434  0.032059  \n",
      "2  0.030232 -0.002592 -0.021395  0.036201  \n",
      "3  0.011824 -0.002592 -0.020292 -0.025930  \n",
      "4  0.037595 -0.002592 -0.070209 -0.017646  \n",
      "   cust_id  target\n",
      "0        4   135.0\n",
      "1      318   109.0\n",
      "2      301    65.0\n",
      "3      189    79.0\n",
      "4      288    80.0\n",
      "   cust_id       age       sex       bmi        bp        s1        s2  \\\n",
      "0      280  0.009016  0.050680  0.018584  0.039087  0.017694  0.010586   \n",
      "1      412  0.074401 -0.044642  0.085408  0.063187  0.014942  0.013091   \n",
      "2       68  0.038076  0.050680 -0.029918 -0.040099 -0.033216 -0.024174   \n",
      "3      324  0.030811 -0.044642  0.005650  0.011544  0.078236  0.077913   \n",
      "4      101  0.016281  0.050680 -0.045007  0.063187  0.010815 -0.000374   \n",
      "\n",
      "         s3        s4        s5        s6  \n",
      "0  0.019187 -0.002592  0.016307 -0.017646  \n",
      "1  0.015505 -0.002592  0.006207  0.085907  \n",
      "2 -0.010266 -0.002592 -0.012909  0.003064  \n",
      "3 -0.043401  0.108111  0.066051  0.019633  \n",
      "4  0.063367 -0.039493 -0.030748  0.036201  \n"
     ]
    }
   ],
   "source": [
    "print(x_train.head())\n",
    "print(y_train.head())\n",
    "print(x_test.head())"
   ]
  },
  {
   "cell_type": "code",
   "execution_count": 6,
   "metadata": {},
   "outputs": [
    {
     "name": "stdout",
     "output_type": "stream",
     "text": [
      "cust_id    0\n",
      "age        0\n",
      "sex        0\n",
      "bmi        0\n",
      "bp         0\n",
      "s1         0\n",
      "s2         0\n",
      "s3         0\n",
      "s4         0\n",
      "s5         0\n",
      "s6         0\n",
      "dtype: int64\n",
      "cust_id    0\n",
      "target     0\n",
      "dtype: int64\n",
      "cust_id    0\n",
      "age        0\n",
      "sex        0\n",
      "bmi        0\n",
      "bp         0\n",
      "s1         0\n",
      "s2         0\n",
      "s3         0\n",
      "s4         0\n",
      "s5         0\n",
      "s6         0\n",
      "dtype: int64\n"
     ]
    }
   ],
   "source": [
    "print(x_train.isnull().sum())\n",
    "print(y_train.isnull().sum())\n",
    "print(x_test.isnull().sum())\n"
   ]
  },
  {
   "cell_type": "code",
   "execution_count": 7,
   "metadata": {},
   "outputs": [],
   "source": [
    "x_train = x_train.drop(columns='cust_id')\n",
    "cust_id = x_test['cust_id'].copy()\n",
    "x_test = x_test.drop(columns='cust_id')\n",
    "y_train = y_train.drop(columns='cust_id')\n"
   ]
  },
  {
   "cell_type": "code",
   "execution_count": 9,
   "metadata": {},
   "outputs": [
    {
     "name": "stdout",
     "output_type": "stream",
     "text": [
      "(282, 10)\n",
      "(282,)\n",
      "(71, 10)\n",
      "(71,)\n"
     ]
    }
   ],
   "source": [
    "from sklearn.model_selection import train_test_split\n",
    "\n",
    "x_train, x_val, y_train, y_val = train_test_split(x_train, y_train['target'], test_size=0.2, random_state=2024)\n",
    "\n",
    "print(x_train.shape)\n",
    "print(y_train.shape)\n",
    "print(x_val.shape)\n",
    "print(y_val.shape)"
   ]
  },
  {
   "cell_type": "code",
   "execution_count": 10,
   "metadata": {},
   "outputs": [],
   "source": [
    "from sklearn.ensemble import RandomForestRegressor\n",
    "\n",
    "rfr = RandomForestRegressor(random_state=2024)\n",
    "rfr.fit(x_train,y_train)\n",
    "pred = rfr.predict(x_val)\n"
   ]
  },
  {
   "cell_type": "code",
   "execution_count": 11,
   "metadata": {},
   "outputs": [
    {
     "name": "stdout",
     "output_type": "stream",
     "text": [
      "3027.9354 55.026678983925606 0.4640004421977585\n"
     ]
    }
   ],
   "source": [
    "from sklearn.metrics import mean_squared_error,r2_score\n",
    "\n",
    "mse = mean_squared_error(y_val,pred)\n",
    "rmse = mse**0.5\n",
    "r2_score = r2_score(y_val,pred)\n",
    "\n",
    "print(mse, rmse, r2_score)"
   ]
  },
  {
   "cell_type": "code",
   "execution_count": 20,
   "metadata": {},
   "outputs": [
    {
     "name": "stdout",
     "output_type": "stream",
     "text": [
      "best_hyperparameter: {'max_depth': 5, 'n_estimators': 150}\n",
      "best_score: 0.43351314787785206\n"
     ]
    }
   ],
   "source": [
    "from sklearn.model_selection import GridSearchCV\n",
    "\n",
    "params = {'n_estimators':[100,150], 'max_depth':[5,10,15]}\n",
    "\n",
    "gridsearch = GridSearchCV(estimator=rfr, param_grid=params,scoring='r2', cv=5, n_jobs=-1)\n",
    "gridsearch.fit(x_train,y_train)\n",
    "print('best_hyperparameter:', gridsearch.best_params_)\n",
    "print('best_score:',gridsearch.best_score_)\n"
   ]
  },
  {
   "cell_type": "code",
   "execution_count": 25,
   "metadata": {},
   "outputs": [],
   "source": [
    "best_model = gridsearch.best_estimator_\n",
    "best_model.fit(x_train,y_train)\n",
    "pred2 = best_model.predict(x_val)\n"
   ]
  },
  {
   "cell_type": "code",
   "execution_count": 26,
   "metadata": {},
   "outputs": [
    {
     "name": "stdout",
     "output_type": "stream",
     "text": [
      "0.48160468902716\n"
     ]
    }
   ],
   "source": [
    "from sklearn.metrics import r2_score\n",
    "\n",
    "r2_score = r2_score(y_val,pred2)\n",
    "print(r2_score)"
   ]
  }
 ],
 "metadata": {
  "kernelspec": {
   "display_name": "Python 3",
   "language": "python",
   "name": "python3"
  },
  "language_info": {
   "codemirror_mode": {
    "name": "ipython",
    "version": 3
   },
   "file_extension": ".py",
   "mimetype": "text/x-python",
   "name": "python",
   "nbconvert_exporter": "python",
   "pygments_lexer": "ipython3",
   "version": "3.12.0"
  }
 },
 "nbformat": 4,
 "nbformat_minor": 2
}
