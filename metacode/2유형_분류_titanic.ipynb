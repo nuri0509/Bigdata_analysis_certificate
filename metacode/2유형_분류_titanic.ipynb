{
 "cells": [
  {
   "cell_type": "code",
   "execution_count": 1,
   "metadata": {},
   "outputs": [],
   "source": [
    "# 제2유형_연습하기_타이타닉\t생존자\t분류"
   ]
  },
  {
   "cell_type": "code",
   "execution_count": 2,
   "metadata": {},
   "outputs": [],
   "source": [
    "# ✅데이터\t분석\t순서\n",
    "# 1. 라이브러리\t및\t데이터\t확인\n",
    "# 2. 데이터\t탐색(EDA)\n",
    "#  3. 데이터\t전처리\t및\t분리\n",
    "# 4. 모델링\t및\t성능평가\n",
    "# 5. 예측값\t제출"
   ]
  },
  {
   "cell_type": "code",
   "execution_count": 3,
   "metadata": {},
   "outputs": [],
   "source": [
    "import pandas as pd\n",
    "import numpy as np\n",
    "from sklearn.model_selection import train_test_split "
   ]
  },
  {
   "cell_type": "code",
   "execution_count": 4,
   "metadata": {},
   "outputs": [],
   "source": [
    " ###############\t\t복사\t영역\t\t###############\n",
    " #\t실기\t시험\t데이터셋으로\t셋팅하기\t(수정금지)\n",
    " #\tSeaborn의\t내장\t타이타닉\t데이터셋을\t불러옵니다.\n",
    " import\tseaborn\tas\tsns\n",
    " df\t=\tsns.load_dataset('titanic')\n",
    " x\t=\tdf.drop('survived',\taxis=1)\n",
    " y\t=\tdf['survived']\n",
    " #\t실기\t시험\t데이터셋으로\t셋팅하기\t(수정금지)\n",
    " from\tsklearn.model_selection\timport\ttrain_test_split\n",
    " x_train,\tx_test,\ty_train,\ty_test\t=\ttrain_test_split(x,\ty,\ttest_size=0.2,\tstratify=y,random_state=2024)\n",
    " x_test\t=\tpd.DataFrame(x_test)\n",
    " x_train\t=\tpd.DataFrame(x_train)\n",
    " y_train\t=\tpd.DataFrame(y_train)\n",
    " y_test\t=\tpd.DataFrame(y_test)\t#\t평가용\n",
    " x_test.reset_index()\n",
    " y_train.columns\t=\t['target']\t\n",
    " y_test.columns\t=\t['target']\t\n",
    "###############\t\t복사\t영역\t\t###############\n",
    " ###\t참고사항\t###\t\n",
    "#\ty_test\t는\t실기\t문제상에\t주어지지\t않음\n",
    "#\t★Tip\t:\tX를\t대문자로\t쓰지말고\t소문자\tx로\t쓰세요.\t시험에서\t실수하기\t쉽습니다.(문제풀기\t전에\t소문자로\t변경!)\n",
    " #\t(참고\t:\t보통\tX는\t2차원\t배열(행렬)이기\t때문에\t대문자로\t쓰고,\ty는\t1차원\t배열(벡터)이기\t때문에\t소문자로\t씀)\n",
    " #\t(~23년\t10월말)\t실기시험\t데이터\t형식\t(실제\t시험장에서는\t다를\t수\t있으니\t반드시\t체크)\t\n",
    "#\tX_test\t=\tpd.read_csv(\"data/X_test.csv\")\n",
    " #\tX_train\t=\tpd.read_csv(\"data/X_train.csv\")\n",
    " #\ty_train\t=\tpd.read_csv(\"data/y_train.csv\")\n",
    " #\t★(23년\t10월말~)\t기준으로\t체험환경에서\t제공되는\t데이터셋이\t조금\t변경되었습니다.\t\n",
    "#\ttrain\t=\tpd.read_csv(\"data/customer_train.csv\")\n",
    " #\ttest\t=\tpd.read_csv(\"data/customer_test.csv\")\n",
    " #\tx_train과\ty_train,\tx_test를\t별도로\t할당해주셔야\t합니다"
   ]
  },
  {
   "cell_type": "code",
   "execution_count": 5,
   "metadata": {},
   "outputs": [],
   "source": [
    "# 타이타닉\t생존자\t예측\t문제- 데이터의\t결측치,\t중복\t변수값에\t대해\t처리하고- 분류모델을\t사용하여\tAccuracy,\tF1\tscore,\tAUC\t값을\t산출하시오.\n",
    "# 데이터\t설명\n",
    "# survival\t:\t0\t=\tNo,\t1\t=\tYes\n",
    "#  pclass\t:\t객실\t등급(1,2,3)\n",
    "#  *모든 자료에 대한 권한은 메타코드에 있으며, 무단으로 자료를 복제 및 배포 등 유료목적으로 활용하시면 별도의 조치가 들어갈 수 있습니다.\n",
    "# sex\t:\t성별\n",
    "# age\t:\t나이\n",
    "# sibsp\t:\t타이타닉호에\t탑승한\t형제/배우자의\t수\n",
    "# parch\t:\t타이타닉호에\t탑승한\t부모/자녀의\t수\n",
    "# fare\t:\t요금\n",
    "# embarked\t:\t탑승지\t이름(C,\tQ,\tS)\tCherbourg\t/\tQueenstown\t/\tSouthampton\n",
    "#  (중복)class\t:\t객실\t등급(First,\tSecond,\tThird)\n",
    "#  who\t:\tman,\twomen,\tchild\n",
    "#  adult_male\t:\t성인남자인지\t여부(True=성인남자,\tFalse\t그외)\n",
    "#  deck\t:\t선실번호\t첫\t알파벳(A,B,C,D,E,F,G)\n",
    "#  (중복)\tembark_town\t:\t탑승지\t이름(Cherbourg,\tQueenstown,\tSouthampton)\n",
    "#  (중복)\talive\t:\t생존여부(no:사망,\tyes:생존)\n",
    "#  alone\t:\t혼자\t탑승했는지\t여부(True=혼자,\tFalse=가족과\t함께"
   ]
  },
  {
   "cell_type": "code",
   "execution_count": 6,
   "metadata": {},
   "outputs": [
    {
     "data": {
      "text/html": [
       "<div>\n",
       "<style scoped>\n",
       "    .dataframe tbody tr th:only-of-type {\n",
       "        vertical-align: middle;\n",
       "    }\n",
       "\n",
       "    .dataframe tbody tr th {\n",
       "        vertical-align: top;\n",
       "    }\n",
       "\n",
       "    .dataframe thead th {\n",
       "        text-align: right;\n",
       "    }\n",
       "</style>\n",
       "<table border=\"1\" class=\"dataframe\">\n",
       "  <thead>\n",
       "    <tr style=\"text-align: right;\">\n",
       "      <th></th>\n",
       "      <th>pclass</th>\n",
       "      <th>sex</th>\n",
       "      <th>age</th>\n",
       "      <th>sibsp</th>\n",
       "      <th>parch</th>\n",
       "      <th>fare</th>\n",
       "      <th>embarked</th>\n",
       "      <th>class</th>\n",
       "      <th>who</th>\n",
       "      <th>adult_male</th>\n",
       "      <th>deck</th>\n",
       "      <th>embark_town</th>\n",
       "      <th>alive</th>\n",
       "      <th>alone</th>\n",
       "    </tr>\n",
       "  </thead>\n",
       "  <tbody>\n",
       "    <tr>\n",
       "      <th>313</th>\n",
       "      <td>3</td>\n",
       "      <td>male</td>\n",
       "      <td>28.0</td>\n",
       "      <td>0</td>\n",
       "      <td>0</td>\n",
       "      <td>7.8958</td>\n",
       "      <td>S</td>\n",
       "      <td>Third</td>\n",
       "      <td>man</td>\n",
       "      <td>True</td>\n",
       "      <td>NaN</td>\n",
       "      <td>Southampton</td>\n",
       "      <td>no</td>\n",
       "      <td>True</td>\n",
       "    </tr>\n",
       "    <tr>\n",
       "      <th>736</th>\n",
       "      <td>3</td>\n",
       "      <td>female</td>\n",
       "      <td>48.0</td>\n",
       "      <td>1</td>\n",
       "      <td>3</td>\n",
       "      <td>34.3750</td>\n",
       "      <td>S</td>\n",
       "      <td>Third</td>\n",
       "      <td>woman</td>\n",
       "      <td>False</td>\n",
       "      <td>NaN</td>\n",
       "      <td>Southampton</td>\n",
       "      <td>no</td>\n",
       "      <td>False</td>\n",
       "    </tr>\n",
       "    <tr>\n",
       "      <th>165</th>\n",
       "      <td>3</td>\n",
       "      <td>male</td>\n",
       "      <td>9.0</td>\n",
       "      <td>0</td>\n",
       "      <td>2</td>\n",
       "      <td>20.5250</td>\n",
       "      <td>S</td>\n",
       "      <td>Third</td>\n",
       "      <td>child</td>\n",
       "      <td>False</td>\n",
       "      <td>NaN</td>\n",
       "      <td>Southampton</td>\n",
       "      <td>yes</td>\n",
       "      <td>False</td>\n",
       "    </tr>\n",
       "    <tr>\n",
       "      <th>7</th>\n",
       "      <td>3</td>\n",
       "      <td>male</td>\n",
       "      <td>2.0</td>\n",
       "      <td>3</td>\n",
       "      <td>1</td>\n",
       "      <td>21.0750</td>\n",
       "      <td>S</td>\n",
       "      <td>Third</td>\n",
       "      <td>child</td>\n",
       "      <td>False</td>\n",
       "      <td>NaN</td>\n",
       "      <td>Southampton</td>\n",
       "      <td>no</td>\n",
       "      <td>False</td>\n",
       "    </tr>\n",
       "    <tr>\n",
       "      <th>114</th>\n",
       "      <td>3</td>\n",
       "      <td>female</td>\n",
       "      <td>17.0</td>\n",
       "      <td>0</td>\n",
       "      <td>0</td>\n",
       "      <td>14.4583</td>\n",
       "      <td>C</td>\n",
       "      <td>Third</td>\n",
       "      <td>woman</td>\n",
       "      <td>False</td>\n",
       "      <td>NaN</td>\n",
       "      <td>Cherbourg</td>\n",
       "      <td>no</td>\n",
       "      <td>True</td>\n",
       "    </tr>\n",
       "  </tbody>\n",
       "</table>\n",
       "</div>"
      ],
      "text/plain": [
       "     pclass     sex   age  sibsp  parch     fare embarked  class    who  \\\n",
       "313       3    male  28.0      0      0   7.8958        S  Third    man   \n",
       "736       3  female  48.0      1      3  34.3750        S  Third  woman   \n",
       "165       3    male   9.0      0      2  20.5250        S  Third  child   \n",
       "7         3    male   2.0      3      1  21.0750        S  Third  child   \n",
       "114       3  female  17.0      0      0  14.4583        C  Third  woman   \n",
       "\n",
       "     adult_male deck  embark_town alive  alone  \n",
       "313        True  NaN  Southampton    no   True  \n",
       "736       False  NaN  Southampton    no  False  \n",
       "165       False  NaN  Southampton   yes  False  \n",
       "7         False  NaN  Southampton    no  False  \n",
       "114       False  NaN    Cherbourg    no   True  "
      ]
     },
     "execution_count": 6,
     "metadata": {},
     "output_type": "execute_result"
    }
   ],
   "source": [
    "x_train.head()\n",
    "\n"
   ]
  },
  {
   "cell_type": "code",
   "execution_count": 7,
   "metadata": {},
   "outputs": [
    {
     "data": {
      "text/html": [
       "<div>\n",
       "<style scoped>\n",
       "    .dataframe tbody tr th:only-of-type {\n",
       "        vertical-align: middle;\n",
       "    }\n",
       "\n",
       "    .dataframe tbody tr th {\n",
       "        vertical-align: top;\n",
       "    }\n",
       "\n",
       "    .dataframe thead th {\n",
       "        text-align: right;\n",
       "    }\n",
       "</style>\n",
       "<table border=\"1\" class=\"dataframe\">\n",
       "  <thead>\n",
       "    <tr style=\"text-align: right;\">\n",
       "      <th></th>\n",
       "      <th>target</th>\n",
       "    </tr>\n",
       "  </thead>\n",
       "  <tbody>\n",
       "    <tr>\n",
       "      <th>313</th>\n",
       "      <td>0</td>\n",
       "    </tr>\n",
       "    <tr>\n",
       "      <th>736</th>\n",
       "      <td>0</td>\n",
       "    </tr>\n",
       "    <tr>\n",
       "      <th>165</th>\n",
       "      <td>1</td>\n",
       "    </tr>\n",
       "    <tr>\n",
       "      <th>7</th>\n",
       "      <td>0</td>\n",
       "    </tr>\n",
       "    <tr>\n",
       "      <th>114</th>\n",
       "      <td>0</td>\n",
       "    </tr>\n",
       "  </tbody>\n",
       "</table>\n",
       "</div>"
      ],
      "text/plain": [
       "     target\n",
       "313       0\n",
       "736       0\n",
       "165       1\n",
       "7         0\n",
       "114       0"
      ]
     },
     "execution_count": 7,
     "metadata": {},
     "output_type": "execute_result"
    }
   ],
   "source": [
    "y_train.head()\n"
   ]
  },
  {
   "cell_type": "code",
   "execution_count": 8,
   "metadata": {},
   "outputs": [
    {
     "data": {
      "text/html": [
       "<div>\n",
       "<style scoped>\n",
       "    .dataframe tbody tr th:only-of-type {\n",
       "        vertical-align: middle;\n",
       "    }\n",
       "\n",
       "    .dataframe tbody tr th {\n",
       "        vertical-align: top;\n",
       "    }\n",
       "\n",
       "    .dataframe thead th {\n",
       "        text-align: right;\n",
       "    }\n",
       "</style>\n",
       "<table border=\"1\" class=\"dataframe\">\n",
       "  <thead>\n",
       "    <tr style=\"text-align: right;\">\n",
       "      <th></th>\n",
       "      <th>pclass</th>\n",
       "      <th>sex</th>\n",
       "      <th>age</th>\n",
       "      <th>sibsp</th>\n",
       "      <th>parch</th>\n",
       "      <th>fare</th>\n",
       "      <th>embarked</th>\n",
       "      <th>class</th>\n",
       "      <th>who</th>\n",
       "      <th>adult_male</th>\n",
       "      <th>deck</th>\n",
       "      <th>embark_town</th>\n",
       "      <th>alive</th>\n",
       "      <th>alone</th>\n",
       "    </tr>\n",
       "  </thead>\n",
       "  <tbody>\n",
       "    <tr>\n",
       "      <th>517</th>\n",
       "      <td>3</td>\n",
       "      <td>male</td>\n",
       "      <td>NaN</td>\n",
       "      <td>0</td>\n",
       "      <td>0</td>\n",
       "      <td>24.1500</td>\n",
       "      <td>Q</td>\n",
       "      <td>Third</td>\n",
       "      <td>man</td>\n",
       "      <td>True</td>\n",
       "      <td>NaN</td>\n",
       "      <td>Queenstown</td>\n",
       "      <td>no</td>\n",
       "      <td>True</td>\n",
       "    </tr>\n",
       "    <tr>\n",
       "      <th>858</th>\n",
       "      <td>3</td>\n",
       "      <td>female</td>\n",
       "      <td>24.0</td>\n",
       "      <td>0</td>\n",
       "      <td>3</td>\n",
       "      <td>19.2583</td>\n",
       "      <td>C</td>\n",
       "      <td>Third</td>\n",
       "      <td>woman</td>\n",
       "      <td>False</td>\n",
       "      <td>NaN</td>\n",
       "      <td>Cherbourg</td>\n",
       "      <td>yes</td>\n",
       "      <td>False</td>\n",
       "    </tr>\n",
       "    <tr>\n",
       "      <th>10</th>\n",
       "      <td>3</td>\n",
       "      <td>female</td>\n",
       "      <td>4.0</td>\n",
       "      <td>1</td>\n",
       "      <td>1</td>\n",
       "      <td>16.7000</td>\n",
       "      <td>S</td>\n",
       "      <td>Third</td>\n",
       "      <td>child</td>\n",
       "      <td>False</td>\n",
       "      <td>G</td>\n",
       "      <td>Southampton</td>\n",
       "      <td>yes</td>\n",
       "      <td>False</td>\n",
       "    </tr>\n",
       "    <tr>\n",
       "      <th>306</th>\n",
       "      <td>1</td>\n",
       "      <td>female</td>\n",
       "      <td>NaN</td>\n",
       "      <td>0</td>\n",
       "      <td>0</td>\n",
       "      <td>110.8833</td>\n",
       "      <td>C</td>\n",
       "      <td>First</td>\n",
       "      <td>woman</td>\n",
       "      <td>False</td>\n",
       "      <td>NaN</td>\n",
       "      <td>Cherbourg</td>\n",
       "      <td>yes</td>\n",
       "      <td>True</td>\n",
       "    </tr>\n",
       "    <tr>\n",
       "      <th>340</th>\n",
       "      <td>2</td>\n",
       "      <td>male</td>\n",
       "      <td>2.0</td>\n",
       "      <td>1</td>\n",
       "      <td>1</td>\n",
       "      <td>26.0000</td>\n",
       "      <td>S</td>\n",
       "      <td>Second</td>\n",
       "      <td>child</td>\n",
       "      <td>False</td>\n",
       "      <td>F</td>\n",
       "      <td>Southampton</td>\n",
       "      <td>yes</td>\n",
       "      <td>False</td>\n",
       "    </tr>\n",
       "  </tbody>\n",
       "</table>\n",
       "</div>"
      ],
      "text/plain": [
       "     pclass     sex   age  sibsp  parch      fare embarked   class    who  \\\n",
       "517       3    male   NaN      0      0   24.1500        Q   Third    man   \n",
       "858       3  female  24.0      0      3   19.2583        C   Third  woman   \n",
       "10        3  female   4.0      1      1   16.7000        S   Third  child   \n",
       "306       1  female   NaN      0      0  110.8833        C   First  woman   \n",
       "340       2    male   2.0      1      1   26.0000        S  Second  child   \n",
       "\n",
       "     adult_male deck  embark_town alive  alone  \n",
       "517        True  NaN   Queenstown    no   True  \n",
       "858       False  NaN    Cherbourg   yes  False  \n",
       "10        False    G  Southampton   yes  False  \n",
       "306       False  NaN    Cherbourg   yes   True  \n",
       "340       False    F  Southampton   yes  False  "
      ]
     },
     "execution_count": 8,
     "metadata": {},
     "output_type": "execute_result"
    }
   ],
   "source": [
    "x_test.head()"
   ]
  },
  {
   "cell_type": "code",
   "execution_count": 9,
   "metadata": {},
   "outputs": [
    {
     "name": "stdout",
     "output_type": "stream",
     "text": [
      "(712, 14)\n",
      "(712, 1)\n",
      "(179, 14)\n"
     ]
    }
   ],
   "source": [
    "print(x_train.shape)\n",
    "print(y_train.shape)\n",
    "print(x_test.shape)"
   ]
  },
  {
   "cell_type": "code",
   "execution_count": 10,
   "metadata": {},
   "outputs": [
    {
     "name": "stdout",
     "output_type": "stream",
     "text": [
      "<class 'pandas.core.frame.DataFrame'>\n",
      "Int64Index: 712 entries, 313 to 205\n",
      "Data columns (total 14 columns):\n",
      " #   Column       Non-Null Count  Dtype   \n",
      "---  ------       --------------  -----   \n",
      " 0   pclass       712 non-null    int64   \n",
      " 1   sex          712 non-null    object  \n",
      " 2   age          566 non-null    float64 \n",
      " 3   sibsp        712 non-null    int64   \n",
      " 4   parch        712 non-null    int64   \n",
      " 5   fare         712 non-null    float64 \n",
      " 6   embarked     710 non-null    object  \n",
      " 7   class        712 non-null    category\n",
      " 8   who          712 non-null    object  \n",
      " 9   adult_male   712 non-null    bool    \n",
      " 10  deck         165 non-null    category\n",
      " 11  embark_town  710 non-null    object  \n",
      " 12  alive        712 non-null    object  \n",
      " 13  alone        712 non-null    bool    \n",
      "dtypes: bool(2), category(2), float64(2), int64(3), object(5)\n",
      "memory usage: 64.4+ KB\n"
     ]
    }
   ],
   "source": [
    "x_train.info()"
   ]
  },
  {
   "cell_type": "code",
   "execution_count": null,
   "metadata": {},
   "outputs": [
    {
     "name": "stdout",
     "output_type": "stream",
     "text": [
      "<class 'pandas.core.frame.DataFrame'>\n",
      "Int64Index: 712 entries, 313 to 205\n",
      "Data columns (total 1 columns):\n",
      " #   Column  Non-Null Count  Dtype\n",
      "---  ------  --------------  -----\n",
      " 0   target  712 non-null    int64\n",
      "dtypes: int64(1)\n",
      "memory usage: 11.1 KB\n"
     ]
    }
   ],
   "source": [
    "y_train.info()"
   ]
  },
  {
   "cell_type": "code",
   "execution_count": null,
   "metadata": {},
   "outputs": [
    {
     "name": "stdout",
     "output_type": "stream",
     "text": [
      "<class 'pandas.core.frame.DataFrame'>\n",
      "Int64Index: 179 entries, 517 to 41\n",
      "Data columns (total 14 columns):\n",
      " #   Column       Non-Null Count  Dtype   \n",
      "---  ------       --------------  -----   \n",
      " 0   pclass       179 non-null    int64   \n",
      " 1   sex          179 non-null    object  \n",
      " 2   age          148 non-null    float64 \n",
      " 3   sibsp        179 non-null    int64   \n",
      " 4   parch        179 non-null    int64   \n",
      " 5   fare         179 non-null    float64 \n",
      " 6   embarked     179 non-null    object  \n",
      " 7   class        179 non-null    category\n",
      " 8   who          179 non-null    object  \n",
      " 9   adult_male   179 non-null    bool    \n",
      " 10  deck         38 non-null     category\n",
      " 11  embark_town  179 non-null    object  \n",
      " 12  alive        179 non-null    object  \n",
      " 13  alone        179 non-null    bool    \n",
      "dtypes: bool(2), category(2), float64(2), int64(3), object(5)\n",
      "memory usage: 16.6+ KB\n"
     ]
    }
   ],
   "source": [
    "x_test.info()"
   ]
  },
  {
   "cell_type": "code",
   "execution_count": 13,
   "metadata": {},
   "outputs": [
    {
     "name": "stdout",
     "output_type": "stream",
     "text": [
      "pclass           0\n",
      "sex              0\n",
      "age            146\n",
      "sibsp            0\n",
      "parch            0\n",
      "fare             0\n",
      "embarked         2\n",
      "class            0\n",
      "who              0\n",
      "adult_male       0\n",
      "deck           547\n",
      "embark_town      2\n",
      "alive            0\n",
      "alone            0\n",
      "dtype: int64\n"
     ]
    }
   ],
   "source": [
    "# 결측치 처리\n",
    "\n",
    "print(x_train.isnull().sum())"
   ]
  },
  {
   "cell_type": "code",
   "execution_count": 14,
   "metadata": {},
   "outputs": [
    {
     "name": "stdout",
     "output_type": "stream",
     "text": [
      "pclass           0\n",
      "sex              0\n",
      "age             31\n",
      "sibsp            0\n",
      "parch            0\n",
      "fare             0\n",
      "embarked         0\n",
      "class            0\n",
      "who              0\n",
      "adult_male       0\n",
      "deck           141\n",
      "embark_town      0\n",
      "alive            0\n",
      "alone            0\n",
      "dtype: int64\n"
     ]
    }
   ],
   "source": [
    "print(x_test.isnull().sum())"
   ]
  },
  {
   "cell_type": "code",
   "execution_count": 15,
   "metadata": {},
   "outputs": [],
   "source": [
    "\n",
    "\n",
    "\n",
    "x_train['age'] =  x_train['age'].fillna(35)\n",
    "x_test['age'] = x_test['age'].fillna(35)\n",
    "\n"
   ]
  },
  {
   "cell_type": "code",
   "execution_count": 16,
   "metadata": {},
   "outputs": [
    {
     "name": "stdout",
     "output_type": "stream",
     "text": [
      "pclass           0\n",
      "sex              0\n",
      "age              0\n",
      "sibsp            0\n",
      "parch            0\n",
      "fare             0\n",
      "embarked         2\n",
      "class            0\n",
      "who              0\n",
      "adult_male       0\n",
      "deck           547\n",
      "embark_town      2\n",
      "alive            0\n",
      "alone            0\n",
      "dtype: int64\n"
     ]
    }
   ],
   "source": [
    "print(x_train.isnull().sum())\n"
   ]
  },
  {
   "cell_type": "code",
   "execution_count": 17,
   "metadata": {},
   "outputs": [
    {
     "name": "stdout",
     "output_type": "stream",
     "text": [
      "pclass           0\n",
      "sex              0\n",
      "age              0\n",
      "sibsp            0\n",
      "parch            0\n",
      "fare             0\n",
      "embarked         0\n",
      "class            0\n",
      "who              0\n",
      "adult_male       0\n",
      "deck           141\n",
      "embark_town      0\n",
      "alive            0\n",
      "alone            0\n",
      "dtype: int64\n"
     ]
    }
   ],
   "source": [
    "print(x_test.isnull().sum())"
   ]
  },
  {
   "cell_type": "code",
   "execution_count": 18,
   "metadata": {},
   "outputs": [
    {
     "name": "stdout",
     "output_type": "stream",
     "text": [
      "S    513\n",
      "C    135\n",
      "Q     62\n",
      "Name: embarked, dtype: int64 S    131\n",
      "C     33\n",
      "Q     15\n",
      "Name: embarked, dtype: int64\n"
     ]
    }
   ],
   "source": [
    "embarked_mode1 = x_train['embarked'].value_counts()\n",
    "embarked_mode2 = x_test['embarked'].value_counts()\n",
    "\n",
    "print(embarked_mode1,embarked_mode2)"
   ]
  },
  {
   "cell_type": "code",
   "execution_count": 19,
   "metadata": {},
   "outputs": [],
   "source": [
    "x_train['embarked'] = x_train['embarked'].fillna('S')\n",
    "x_test['embarked'] = x_test['embarked'].fillna('S')"
   ]
  },
  {
   "cell_type": "code",
   "execution_count": 20,
   "metadata": {},
   "outputs": [
    {
     "data": {
      "text/plain": [
       "(C    47\n",
       " B    40\n",
       " D    27\n",
       " E    25\n",
       " A    12\n",
       " F    11\n",
       " G     3\n",
       " Name: deck, dtype: int64,\n",
       " C    12\n",
       " B     7\n",
       " E     7\n",
       " D     6\n",
       " A     3\n",
       " F     2\n",
       " G     1\n",
       " Name: deck, dtype: int64)"
      ]
     },
     "execution_count": 20,
     "metadata": {},
     "output_type": "execute_result"
    }
   ],
   "source": [
    "deck_mode1 = x_train['deck'].value_counts()\n",
    "deck_mode2 = x_test['deck'].value_counts()\n",
    "\n",
    "deck_mode1,deck_mode2\n"
   ]
  },
  {
   "cell_type": "code",
   "execution_count": 21,
   "metadata": {},
   "outputs": [],
   "source": [
    "x_train['deck'] = x_train['deck'].fillna('C')\n",
    "x_test['deck'] = x_test['deck'].fillna('C')\n"
   ]
  },
  {
   "cell_type": "code",
   "execution_count": 22,
   "metadata": {},
   "outputs": [
    {
     "name": "stdout",
     "output_type": "stream",
     "text": [
      "pclass         0\n",
      "sex            0\n",
      "age            0\n",
      "sibsp          0\n",
      "parch          0\n",
      "fare           0\n",
      "embarked       0\n",
      "class          0\n",
      "who            0\n",
      "adult_male     0\n",
      "deck           0\n",
      "embark_town    2\n",
      "alive          0\n",
      "alone          0\n",
      "dtype: int64\n",
      "pclass         0\n",
      "sex            0\n",
      "age            0\n",
      "sibsp          0\n",
      "parch          0\n",
      "fare           0\n",
      "embarked       0\n",
      "class          0\n",
      "who            0\n",
      "adult_male     0\n",
      "deck           0\n",
      "embark_town    0\n",
      "alive          0\n",
      "alone          0\n",
      "dtype: int64\n"
     ]
    }
   ],
   "source": [
    "print(x_train.isnull().sum())\n",
    "print(x_test.isnull().sum())"
   ]
  },
  {
   "cell_type": "code",
   "execution_count": 23,
   "metadata": {},
   "outputs": [],
   "source": [
    "# 변수처리 (의미가 중복되는 칼럼제거)\n",
    "\n",
    "x_train = x_train.drop(['alive','embark_town','class'], axis=1)\n",
    "x_test = x_test.drop(['alive', 'embark_town','class'], axis=1)"
   ]
  },
  {
   "cell_type": "code",
   "execution_count": 24,
   "metadata": {},
   "outputs": [],
   "source": [
    "x_train['familysize'] = x_train['sibsp'] + x_train['parch'] + x_train['alone']\n",
    "x_test['familysize'] = x_test['sibsp'] + x_test['parch'] + x_test['alone']\n",
    "\n",
    "x_train['alone'] = x_train['alone'].replace({True:1,False:0})\n",
    "x_test['alone'] = x_test['alone'].replace({True:1,False:0})\n",
    "\n",
    "x_train['adult_male'] = x_train['adult_male'].replace({True:1,False:0})\n",
    "x_test['adult_male'] = x_test['adult_male'].replace({True:1,False:0})"
   ]
  },
  {
   "cell_type": "code",
   "execution_count": 25,
   "metadata": {},
   "outputs": [],
   "source": [
    "x_train = x_train.drop(columns=['sibsp','parch','alone'])\n",
    "x_test = x_test.drop(columns=['sibsp','parch','alone'])"
   ]
  },
  {
   "cell_type": "code",
   "execution_count": 26,
   "metadata": {},
   "outputs": [
    {
     "data": {
      "text/html": [
       "<div>\n",
       "<style scoped>\n",
       "    .dataframe tbody tr th:only-of-type {\n",
       "        vertical-align: middle;\n",
       "    }\n",
       "\n",
       "    .dataframe tbody tr th {\n",
       "        vertical-align: top;\n",
       "    }\n",
       "\n",
       "    .dataframe thead th {\n",
       "        text-align: right;\n",
       "    }\n",
       "</style>\n",
       "<table border=\"1\" class=\"dataframe\">\n",
       "  <thead>\n",
       "    <tr style=\"text-align: right;\">\n",
       "      <th></th>\n",
       "      <th>pclass</th>\n",
       "      <th>sex</th>\n",
       "      <th>age</th>\n",
       "      <th>fare</th>\n",
       "      <th>embarked</th>\n",
       "      <th>who</th>\n",
       "      <th>adult_male</th>\n",
       "      <th>deck</th>\n",
       "      <th>familysize</th>\n",
       "    </tr>\n",
       "  </thead>\n",
       "  <tbody>\n",
       "    <tr>\n",
       "      <th>313</th>\n",
       "      <td>3</td>\n",
       "      <td>male</td>\n",
       "      <td>28.0</td>\n",
       "      <td>7.8958</td>\n",
       "      <td>S</td>\n",
       "      <td>man</td>\n",
       "      <td>1</td>\n",
       "      <td>C</td>\n",
       "      <td>1</td>\n",
       "    </tr>\n",
       "    <tr>\n",
       "      <th>736</th>\n",
       "      <td>3</td>\n",
       "      <td>female</td>\n",
       "      <td>48.0</td>\n",
       "      <td>34.3750</td>\n",
       "      <td>S</td>\n",
       "      <td>woman</td>\n",
       "      <td>0</td>\n",
       "      <td>C</td>\n",
       "      <td>4</td>\n",
       "    </tr>\n",
       "    <tr>\n",
       "      <th>165</th>\n",
       "      <td>3</td>\n",
       "      <td>male</td>\n",
       "      <td>9.0</td>\n",
       "      <td>20.5250</td>\n",
       "      <td>S</td>\n",
       "      <td>child</td>\n",
       "      <td>0</td>\n",
       "      <td>C</td>\n",
       "      <td>2</td>\n",
       "    </tr>\n",
       "    <tr>\n",
       "      <th>7</th>\n",
       "      <td>3</td>\n",
       "      <td>male</td>\n",
       "      <td>2.0</td>\n",
       "      <td>21.0750</td>\n",
       "      <td>S</td>\n",
       "      <td>child</td>\n",
       "      <td>0</td>\n",
       "      <td>C</td>\n",
       "      <td>4</td>\n",
       "    </tr>\n",
       "    <tr>\n",
       "      <th>114</th>\n",
       "      <td>3</td>\n",
       "      <td>female</td>\n",
       "      <td>17.0</td>\n",
       "      <td>14.4583</td>\n",
       "      <td>C</td>\n",
       "      <td>woman</td>\n",
       "      <td>0</td>\n",
       "      <td>C</td>\n",
       "      <td>1</td>\n",
       "    </tr>\n",
       "  </tbody>\n",
       "</table>\n",
       "</div>"
      ],
      "text/plain": [
       "     pclass     sex   age     fare embarked    who  adult_male deck  \\\n",
       "313       3    male  28.0   7.8958        S    man           1    C   \n",
       "736       3  female  48.0  34.3750        S  woman           0    C   \n",
       "165       3    male   9.0  20.5250        S  child           0    C   \n",
       "7         3    male   2.0  21.0750        S  child           0    C   \n",
       "114       3  female  17.0  14.4583        C  woman           0    C   \n",
       "\n",
       "     familysize  \n",
       "313           1  \n",
       "736           4  \n",
       "165           2  \n",
       "7             4  \n",
       "114           1  "
      ]
     },
     "execution_count": 26,
     "metadata": {},
     "output_type": "execute_result"
    }
   ],
   "source": [
    "x_train.head()\n"
   ]
  },
  {
   "cell_type": "code",
   "execution_count": null,
   "metadata": {},
   "outputs": [],
   "source": []
  },
  {
   "cell_type": "code",
   "execution_count": 27,
   "metadata": {},
   "outputs": [],
   "source": [
    "x_train['sex'] =  x_train['sex'].replace({'male':0, 'female':1})\n",
    "x_test['sex'] =  x_test['sex'].replace({'male':0, 'female':1})\n",
    "\n",
    "\n",
    "x_train['fare'] = round(x_train['fare'])\n",
    "x_test['fare'] = round(x_test['fare'])\n",
    "\n"
   ]
  },
  {
   "cell_type": "code",
   "execution_count": 28,
   "metadata": {},
   "outputs": [
    {
     "data": {
      "text/html": [
       "<div>\n",
       "<style scoped>\n",
       "    .dataframe tbody tr th:only-of-type {\n",
       "        vertical-align: middle;\n",
       "    }\n",
       "\n",
       "    .dataframe tbody tr th {\n",
       "        vertical-align: top;\n",
       "    }\n",
       "\n",
       "    .dataframe thead th {\n",
       "        text-align: right;\n",
       "    }\n",
       "</style>\n",
       "<table border=\"1\" class=\"dataframe\">\n",
       "  <thead>\n",
       "    <tr style=\"text-align: right;\">\n",
       "      <th></th>\n",
       "      <th>pclass</th>\n",
       "      <th>sex</th>\n",
       "      <th>age</th>\n",
       "      <th>fare</th>\n",
       "      <th>embarked</th>\n",
       "      <th>who</th>\n",
       "      <th>adult_male</th>\n",
       "      <th>deck</th>\n",
       "      <th>familysize</th>\n",
       "    </tr>\n",
       "  </thead>\n",
       "  <tbody>\n",
       "    <tr>\n",
       "      <th>313</th>\n",
       "      <td>3</td>\n",
       "      <td>0</td>\n",
       "      <td>28.0</td>\n",
       "      <td>8.0</td>\n",
       "      <td>S</td>\n",
       "      <td>man</td>\n",
       "      <td>1</td>\n",
       "      <td>C</td>\n",
       "      <td>1</td>\n",
       "    </tr>\n",
       "    <tr>\n",
       "      <th>736</th>\n",
       "      <td>3</td>\n",
       "      <td>1</td>\n",
       "      <td>48.0</td>\n",
       "      <td>34.0</td>\n",
       "      <td>S</td>\n",
       "      <td>woman</td>\n",
       "      <td>0</td>\n",
       "      <td>C</td>\n",
       "      <td>4</td>\n",
       "    </tr>\n",
       "    <tr>\n",
       "      <th>165</th>\n",
       "      <td>3</td>\n",
       "      <td>0</td>\n",
       "      <td>9.0</td>\n",
       "      <td>21.0</td>\n",
       "      <td>S</td>\n",
       "      <td>child</td>\n",
       "      <td>0</td>\n",
       "      <td>C</td>\n",
       "      <td>2</td>\n",
       "    </tr>\n",
       "    <tr>\n",
       "      <th>7</th>\n",
       "      <td>3</td>\n",
       "      <td>0</td>\n",
       "      <td>2.0</td>\n",
       "      <td>21.0</td>\n",
       "      <td>S</td>\n",
       "      <td>child</td>\n",
       "      <td>0</td>\n",
       "      <td>C</td>\n",
       "      <td>4</td>\n",
       "    </tr>\n",
       "    <tr>\n",
       "      <th>114</th>\n",
       "      <td>3</td>\n",
       "      <td>1</td>\n",
       "      <td>17.0</td>\n",
       "      <td>14.0</td>\n",
       "      <td>C</td>\n",
       "      <td>woman</td>\n",
       "      <td>0</td>\n",
       "      <td>C</td>\n",
       "      <td>1</td>\n",
       "    </tr>\n",
       "  </tbody>\n",
       "</table>\n",
       "</div>"
      ],
      "text/plain": [
       "     pclass  sex   age  fare embarked    who  adult_male deck  familysize\n",
       "313       3    0  28.0   8.0        S    man           1    C           1\n",
       "736       3    1  48.0  34.0        S  woman           0    C           4\n",
       "165       3    0   9.0  21.0        S  child           0    C           2\n",
       "7         3    0   2.0  21.0        S  child           0    C           4\n",
       "114       3    1  17.0  14.0        C  woman           0    C           1"
      ]
     },
     "execution_count": 28,
     "metadata": {},
     "output_type": "execute_result"
    }
   ],
   "source": [
    "x_train.head()"
   ]
  },
  {
   "cell_type": "code",
   "execution_count": 29,
   "metadata": {},
   "outputs": [
    {
     "data": {
      "text/plain": [
       "array(['man', 'woman', 'child'], dtype=object)"
      ]
     },
     "execution_count": 29,
     "metadata": {},
     "output_type": "execute_result"
    }
   ],
   "source": [
    "x_train['who'].unique()"
   ]
  },
  {
   "cell_type": "code",
   "execution_count": 30,
   "metadata": {},
   "outputs": [],
   "source": [
    "child = x_train[x_train['who']=='child']\n",
    "child = x_test[x_test['who']=='child']\n",
    "adult = x_train[x_train['who']!='child']\n",
    "adult = x_test[x_test['who']!='child']\n",
    "x_train['child'] = x_train['who'].copy()\n",
    "x_test['child'] = x_test['who'].copy()"
   ]
  },
  {
   "cell_type": "code",
   "execution_count": 31,
   "metadata": {},
   "outputs": [],
   "source": [
    "x_train['child'] = np.where(x_train['child']=='child',1,0)\n",
    "x_test['child'] = np.where(x_test['child']=='child',1,0)"
   ]
  },
  {
   "cell_type": "code",
   "execution_count": 32,
   "metadata": {},
   "outputs": [],
   "source": [
    "x_train = x_train.drop('who',axis=1)\n",
    "x_test = x_test.drop('who',axis=1)"
   ]
  },
  {
   "cell_type": "code",
   "execution_count": 33,
   "metadata": {},
   "outputs": [
    {
     "data": {
      "text/html": [
       "<div>\n",
       "<style scoped>\n",
       "    .dataframe tbody tr th:only-of-type {\n",
       "        vertical-align: middle;\n",
       "    }\n",
       "\n",
       "    .dataframe tbody tr th {\n",
       "        vertical-align: top;\n",
       "    }\n",
       "\n",
       "    .dataframe thead th {\n",
       "        text-align: right;\n",
       "    }\n",
       "</style>\n",
       "<table border=\"1\" class=\"dataframe\">\n",
       "  <thead>\n",
       "    <tr style=\"text-align: right;\">\n",
       "      <th></th>\n",
       "      <th>pclass</th>\n",
       "      <th>sex</th>\n",
       "      <th>age</th>\n",
       "      <th>fare</th>\n",
       "      <th>embarked</th>\n",
       "      <th>adult_male</th>\n",
       "      <th>deck</th>\n",
       "      <th>familysize</th>\n",
       "      <th>child</th>\n",
       "    </tr>\n",
       "  </thead>\n",
       "  <tbody>\n",
       "    <tr>\n",
       "      <th>313</th>\n",
       "      <td>3</td>\n",
       "      <td>0</td>\n",
       "      <td>28.0</td>\n",
       "      <td>8.0</td>\n",
       "      <td>S</td>\n",
       "      <td>1</td>\n",
       "      <td>C</td>\n",
       "      <td>1</td>\n",
       "      <td>0</td>\n",
       "    </tr>\n",
       "    <tr>\n",
       "      <th>736</th>\n",
       "      <td>3</td>\n",
       "      <td>1</td>\n",
       "      <td>48.0</td>\n",
       "      <td>34.0</td>\n",
       "      <td>S</td>\n",
       "      <td>0</td>\n",
       "      <td>C</td>\n",
       "      <td>4</td>\n",
       "      <td>0</td>\n",
       "    </tr>\n",
       "    <tr>\n",
       "      <th>165</th>\n",
       "      <td>3</td>\n",
       "      <td>0</td>\n",
       "      <td>9.0</td>\n",
       "      <td>21.0</td>\n",
       "      <td>S</td>\n",
       "      <td>0</td>\n",
       "      <td>C</td>\n",
       "      <td>2</td>\n",
       "      <td>1</td>\n",
       "    </tr>\n",
       "    <tr>\n",
       "      <th>7</th>\n",
       "      <td>3</td>\n",
       "      <td>0</td>\n",
       "      <td>2.0</td>\n",
       "      <td>21.0</td>\n",
       "      <td>S</td>\n",
       "      <td>0</td>\n",
       "      <td>C</td>\n",
       "      <td>4</td>\n",
       "      <td>1</td>\n",
       "    </tr>\n",
       "    <tr>\n",
       "      <th>114</th>\n",
       "      <td>3</td>\n",
       "      <td>1</td>\n",
       "      <td>17.0</td>\n",
       "      <td>14.0</td>\n",
       "      <td>C</td>\n",
       "      <td>0</td>\n",
       "      <td>C</td>\n",
       "      <td>1</td>\n",
       "      <td>0</td>\n",
       "    </tr>\n",
       "  </tbody>\n",
       "</table>\n",
       "</div>"
      ],
      "text/plain": [
       "     pclass  sex   age  fare embarked  adult_male deck  familysize  child\n",
       "313       3    0  28.0   8.0        S           1    C           1      0\n",
       "736       3    1  48.0  34.0        S           0    C           4      0\n",
       "165       3    0   9.0  21.0        S           0    C           2      1\n",
       "7         3    0   2.0  21.0        S           0    C           4      1\n",
       "114       3    1  17.0  14.0        C           0    C           1      0"
      ]
     },
     "execution_count": 33,
     "metadata": {},
     "output_type": "execute_result"
    }
   ],
   "source": [
    "x_train.head()"
   ]
  },
  {
   "cell_type": "code",
   "execution_count": 34,
   "metadata": {},
   "outputs": [
    {
     "data": {
      "text/html": [
       "<div>\n",
       "<style scoped>\n",
       "    .dataframe tbody tr th:only-of-type {\n",
       "        vertical-align: middle;\n",
       "    }\n",
       "\n",
       "    .dataframe tbody tr th {\n",
       "        vertical-align: top;\n",
       "    }\n",
       "\n",
       "    .dataframe thead th {\n",
       "        text-align: right;\n",
       "    }\n",
       "</style>\n",
       "<table border=\"1\" class=\"dataframe\">\n",
       "  <thead>\n",
       "    <tr style=\"text-align: right;\">\n",
       "      <th></th>\n",
       "      <th>pclass</th>\n",
       "      <th>sex</th>\n",
       "      <th>age</th>\n",
       "      <th>fare</th>\n",
       "      <th>embarked</th>\n",
       "      <th>adult_male</th>\n",
       "      <th>deck</th>\n",
       "      <th>familysize</th>\n",
       "      <th>child</th>\n",
       "    </tr>\n",
       "  </thead>\n",
       "  <tbody>\n",
       "    <tr>\n",
       "      <th>517</th>\n",
       "      <td>3</td>\n",
       "      <td>0</td>\n",
       "      <td>35.0</td>\n",
       "      <td>24.0</td>\n",
       "      <td>Q</td>\n",
       "      <td>1</td>\n",
       "      <td>C</td>\n",
       "      <td>1</td>\n",
       "      <td>0</td>\n",
       "    </tr>\n",
       "    <tr>\n",
       "      <th>858</th>\n",
       "      <td>3</td>\n",
       "      <td>1</td>\n",
       "      <td>24.0</td>\n",
       "      <td>19.0</td>\n",
       "      <td>C</td>\n",
       "      <td>0</td>\n",
       "      <td>C</td>\n",
       "      <td>3</td>\n",
       "      <td>0</td>\n",
       "    </tr>\n",
       "    <tr>\n",
       "      <th>10</th>\n",
       "      <td>3</td>\n",
       "      <td>1</td>\n",
       "      <td>4.0</td>\n",
       "      <td>17.0</td>\n",
       "      <td>S</td>\n",
       "      <td>0</td>\n",
       "      <td>G</td>\n",
       "      <td>2</td>\n",
       "      <td>1</td>\n",
       "    </tr>\n",
       "    <tr>\n",
       "      <th>306</th>\n",
       "      <td>1</td>\n",
       "      <td>1</td>\n",
       "      <td>35.0</td>\n",
       "      <td>111.0</td>\n",
       "      <td>C</td>\n",
       "      <td>0</td>\n",
       "      <td>C</td>\n",
       "      <td>1</td>\n",
       "      <td>0</td>\n",
       "    </tr>\n",
       "    <tr>\n",
       "      <th>340</th>\n",
       "      <td>2</td>\n",
       "      <td>0</td>\n",
       "      <td>2.0</td>\n",
       "      <td>26.0</td>\n",
       "      <td>S</td>\n",
       "      <td>0</td>\n",
       "      <td>F</td>\n",
       "      <td>2</td>\n",
       "      <td>1</td>\n",
       "    </tr>\n",
       "  </tbody>\n",
       "</table>\n",
       "</div>"
      ],
      "text/plain": [
       "     pclass  sex   age   fare embarked  adult_male deck  familysize  child\n",
       "517       3    0  35.0   24.0        Q           1    C           1      0\n",
       "858       3    1  24.0   19.0        C           0    C           3      0\n",
       "10        3    1   4.0   17.0        S           0    G           2      1\n",
       "306       1    1  35.0  111.0        C           0    C           1      0\n",
       "340       2    0   2.0   26.0        S           0    F           2      1"
      ]
     },
     "execution_count": 34,
     "metadata": {},
     "output_type": "execute_result"
    }
   ],
   "source": [
    "x_test.head()"
   ]
  },
  {
   "cell_type": "code",
   "execution_count": 35,
   "metadata": {},
   "outputs": [],
   "source": [
    "from sklearn.preprocessing import LabelEncoder\n",
    "\n",
    "le = LabelEncoder()\n",
    "\n",
    "x_train['embarked'] = le.fit_transform(x_train['embarked'])\n",
    "x_test['embarked'] = le.transform(x_test['embarked'])\n",
    "\n",
    "x_train['deck'] = le.fit_transform(x_train['deck'])\n",
    "x_test['deck'] = le.fit_transform(x_test['deck'])"
   ]
  },
  {
   "cell_type": "code",
   "execution_count": 36,
   "metadata": {},
   "outputs": [
    {
     "name": "stdout",
     "output_type": "stream",
     "text": [
      "<class 'pandas.core.frame.DataFrame'>\n",
      "Int64Index: 712 entries, 313 to 205\n",
      "Data columns (total 9 columns):\n",
      " #   Column      Non-Null Count  Dtype  \n",
      "---  ------      --------------  -----  \n",
      " 0   pclass      712 non-null    int64  \n",
      " 1   sex         712 non-null    int64  \n",
      " 2   age         712 non-null    float64\n",
      " 3   fare        712 non-null    float64\n",
      " 4   embarked    712 non-null    int32  \n",
      " 5   adult_male  712 non-null    int64  \n",
      " 6   deck        712 non-null    int32  \n",
      " 7   familysize  712 non-null    int64  \n",
      " 8   child       712 non-null    int32  \n",
      "dtypes: float64(2), int32(3), int64(4)\n",
      "memory usage: 47.3 KB\n",
      "None\n",
      "<class 'pandas.core.frame.DataFrame'>\n",
      "Int64Index: 179 entries, 517 to 41\n",
      "Data columns (total 9 columns):\n",
      " #   Column      Non-Null Count  Dtype  \n",
      "---  ------      --------------  -----  \n",
      " 0   pclass      179 non-null    int64  \n",
      " 1   sex         179 non-null    int64  \n",
      " 2   age         179 non-null    float64\n",
      " 3   fare        179 non-null    float64\n",
      " 4   embarked    179 non-null    int32  \n",
      " 5   adult_male  179 non-null    int64  \n",
      " 6   deck        179 non-null    int32  \n",
      " 7   familysize  179 non-null    int64  \n",
      " 8   child       179 non-null    int32  \n",
      "dtypes: float64(2), int32(3), int64(4)\n",
      "memory usage: 11.9 KB\n",
      "None\n"
     ]
    }
   ],
   "source": [
    "print(x_train.info())\n",
    "print(x_test.info())"
   ]
  },
  {
   "cell_type": "code",
   "execution_count": 37,
   "metadata": {},
   "outputs": [
    {
     "name": "stdout",
     "output_type": "stream",
     "text": [
      "     pclass  sex   age  fare  embarked  adult_male  deck  familysize  child\n",
      "313       3    0  28.0   8.0         2           1     2           1      0\n",
      "736       3    1  48.0  34.0         2           0     2           4      0\n",
      "165       3    0   9.0  21.0         2           0     2           2      1\n",
      "7         3    0   2.0  21.0         2           0     2           4      1\n",
      "114       3    1  17.0  14.0         0           0     2           1      0\n",
      "     pclass  sex   age   fare  embarked  adult_male  deck  familysize  child\n",
      "517       3    0  35.0   24.0         1           1     2           1      0\n",
      "858       3    1  24.0   19.0         0           0     2           3      0\n",
      "10        3    1   4.0   17.0         2           0     6           2      1\n",
      "306       1    1  35.0  111.0         0           0     2           1      0\n",
      "340       2    0   2.0   26.0         2           0     5           2      1\n"
     ]
    }
   ],
   "source": [
    "print(x_train.head())\n",
    "print(x_test.head())"
   ]
  },
  {
   "cell_type": "code",
   "execution_count": null,
   "metadata": {},
   "outputs": [],
   "source": [
    "from sklearn.model_selection import train_test_split\n",
    "\n",
    "x_train, x_val, y_train, y_val = train_test_split(x_train, y_train, \n",
    "                                                  test_size=0.2,\n",
    "                                                  stratify=y_train,\n",
    "                                                  random_state=2024)"
   ]
  },
  {
   "cell_type": "code",
   "execution_count": 39,
   "metadata": {},
   "outputs": [
    {
     "name": "stdout",
     "output_type": "stream",
     "text": [
      "(569, 9)\n",
      "(143, 9)\n",
      "(569, 1)\n",
      "(143, 1)\n"
     ]
    }
   ],
   "source": [
    "print(x_train.shape)\n",
    "print(x_val.shape)\n",
    "print(y_train.shape)\n",
    "print(y_val.shape)\n"
   ]
  },
  {
   "cell_type": "code",
   "execution_count": 40,
   "metadata": {},
   "outputs": [
    {
     "name": "stderr",
     "output_type": "stream",
     "text": [
      "c:\\Users\\jooon\\anaconda3\\Lib\\site-packages\\sklearn\\base.py:1151: DataConversionWarning: A column-vector y was passed when a 1d array was expected. Please change the shape of y to (n_samples,), for example using ravel().\n",
      "  return fit_method(estimator, *args, **kwargs)\n"
     ]
    }
   ],
   "source": [
    "from sklearn.ensemble import RandomForestClassifier\n",
    "\n",
    "rfc = RandomForestClassifier(random_state=2024)\n",
    "rfc_model = rfc.fit(x_train,y_train)\n",
    "pred = rfc_model.predict(x_val) \n",
    "\n",
    "from sklearn.metrics import accuracy_score, confusion_matrix, classification_report\n",
    "\n",
    "acc = accuracy_score(y_val,pred)\n",
    "conf_matrix = confusion_matrix(y_val, pred)\n",
    "\n",
    "\n"
   ]
  },
  {
   "cell_type": "code",
   "execution_count": 41,
   "metadata": {},
   "outputs": [],
   "source": [
    "report = classification_report (y_val, pred)"
   ]
  },
  {
   "cell_type": "code",
   "execution_count": 42,
   "metadata": {},
   "outputs": [
    {
     "name": "stdout",
     "output_type": "stream",
     "text": [
      "acc: 0.8181818181818182\n",
      "conf_matrix: [[78 10]\n",
      " [16 39]]\n",
      "report:               precision    recall  f1-score   support\n",
      "\n",
      "           0       0.83      0.89      0.86        88\n",
      "           1       0.80      0.71      0.75        55\n",
      "\n",
      "    accuracy                           0.82       143\n",
      "   macro avg       0.81      0.80      0.80       143\n",
      "weighted avg       0.82      0.82      0.82       143\n",
      "\n"
     ]
    }
   ],
   "source": [
    "print('acc:', acc)\n",
    "print('conf_matrix:', conf_matrix)\n",
    "print('report:', report)"
   ]
  },
  {
   "cell_type": "code",
   "execution_count": 43,
   "metadata": {},
   "outputs": [],
   "source": [
    "pred2 = rfc_model.predict(x_test)\n",
    "\n",
    "acc2 = accuracy_score(y_test, pred2)\n",
    "conf_matrix2 = confusion_matrix(y_test,pred2)\n",
    "report2 = classification_report(y_test, pred2)"
   ]
  },
  {
   "cell_type": "code",
   "execution_count": 44,
   "metadata": {},
   "outputs": [
    {
     "name": "stdout",
     "output_type": "stream",
     "text": [
      "acc2: 0.8100558659217877\n",
      "conf_matrix2: [[95 15]\n",
      " [19 50]]\n",
      "repor2t:               precision    recall  f1-score   support\n",
      "\n",
      "           0       0.83      0.86      0.85       110\n",
      "           1       0.77      0.72      0.75        69\n",
      "\n",
      "    accuracy                           0.81       179\n",
      "   macro avg       0.80      0.79      0.80       179\n",
      "weighted avg       0.81      0.81      0.81       179\n",
      "\n"
     ]
    }
   ],
   "source": [
    "print('acc2:', acc2)\n",
    "print('conf_matrix2:', conf_matrix2)\n",
    "print('repor2t:', report2)"
   ]
  }
 ],
 "metadata": {
  "kernelspec": {
   "display_name": "base",
   "language": "python",
   "name": "python3"
  },
  "language_info": {
   "codemirror_mode": {
    "name": "ipython",
    "version": 3
   },
   "file_extension": ".py",
   "mimetype": "text/x-python",
   "name": "python",
   "nbconvert_exporter": "python",
   "pygments_lexer": "ipython3",
   "version": "3.11.4"
  }
 },
 "nbformat": 4,
 "nbformat_minor": 2
}
