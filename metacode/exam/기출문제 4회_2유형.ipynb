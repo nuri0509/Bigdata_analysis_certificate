{
 "cells": [
  {
   "cell_type": "code",
   "execution_count": null,
   "metadata": {},
   "outputs": [],
   "source": [
    "# 자동차 시장 세분화\n",
    "# -자동차 회사는 새로운 전략을 수립하기위해 4개의 시장으로 세분화 했습니다.\n",
    "# 기존고객분류 자료를 바탕으로 신규고객이 어떤분류에 속할지 예측해주세요!\n",
    "# 예측할값 : Segmentation\n",
    "# 평가 : Macro f1-Score\n",
    "# 제출형식 : id,segmentation"
   ]
  },
  {
   "cell_type": "code",
   "execution_count": 1,
   "metadata": {},
   "outputs": [],
   "source": [
    "import pandas as pd\n",
    "\n",
    "train = pd.read_csv('https://raw.githubusercontent.com/Soyoung-Yoon/bigdata/main/train_04.csv')\n",
    "test = pd.read_csv('https://raw.githubusercontent.com/Soyoung-Yoon/bigdata/main/test_04.csv')"
   ]
  },
  {
   "cell_type": "code",
   "execution_count": 2,
   "metadata": {},
   "outputs": [
    {
     "name": "stdout",
     "output_type": "stream",
     "text": [
      "       ID  Gender Ever_Married  Age Graduated  Profession  Work_Experience  \\\n",
      "0  462809    Male           No   22        No  Healthcare              1.0   \n",
      "1  466315  Female          Yes   67       Yes    Engineer              1.0   \n",
      "2  461735    Male          Yes   67       Yes      Lawyer              0.0   \n",
      "3  461319    Male          Yes   56        No      Artist              0.0   \n",
      "4  460156    Male           No   32       Yes  Healthcare              1.0   \n",
      "5  464347  Female           No   33       Yes  Healthcare              1.0   \n",
      "6  465015  Female          Yes   61       Yes    Engineer              0.0   \n",
      "7  465176  Female          Yes   55       Yes      Artist              1.0   \n",
      "8  464041  Female           No   26       Yes    Engineer              1.0   \n",
      "9  464942    Male           No   19        No  Healthcare              4.0   \n",
      "\n",
      "  Spending_Score  Family_Size  Var_1  Segmentation  \n",
      "0            Low          4.0  Cat_4             4  \n",
      "1            Low          1.0  Cat_6             2  \n",
      "2           High          2.0  Cat_6             2  \n",
      "3        Average          2.0  Cat_6             3  \n",
      "4            Low          3.0  Cat_6             3  \n",
      "5            Low          3.0  Cat_6             4  \n",
      "6            Low          3.0  Cat_7             4  \n",
      "7        Average          4.0  Cat_6             3  \n",
      "8            Low          3.0  Cat_6             1  \n",
      "9            Low          4.0  Cat_4             4  \n",
      "       ID  Gender Ever_Married  Age Graduated  Profession  Work_Experience  \\\n",
      "0  458989  Female          Yes   36       Yes    Engineer              0.0   \n",
      "1  458994    Male          Yes   37       Yes  Healthcare              8.0   \n",
      "2  459000    Male          Yes   59        No   Executive             11.0   \n",
      "3  459003    Male          Yes   47       Yes      Doctor              0.0   \n",
      "4  459005    Male          Yes   61       Yes      Doctor              5.0   \n",
      "5  459008  Female          Yes   47       Yes      Artist              1.0   \n",
      "6  459013    Male          Yes   50       Yes      Artist              2.0   \n",
      "7  459014    Male           No   19        No  Healthcare              0.0   \n",
      "8  459015    Male           No   22        No  Healthcare              0.0   \n",
      "9  459016  Female           No   22        No  Healthcare              0.0   \n",
      "\n",
      "  Spending_Score  Family_Size  Var_1  \n",
      "0            Low          1.0  Cat_6  \n",
      "1        Average          4.0  Cat_6  \n",
      "2           High          2.0  Cat_6  \n",
      "3           High          5.0  Cat_4  \n",
      "4            Low          3.0  Cat_6  \n",
      "5        Average          3.0  Cat_6  \n",
      "6        Average          4.0  Cat_6  \n",
      "7            Low          4.0  Cat_6  \n",
      "8            Low          3.0  Cat_6  \n",
      "9            Low          6.0  Cat_6  \n"
     ]
    }
   ],
   "source": [
    "print(train.head(10))\n",
    "print(test.head(10))"
   ]
  },
  {
   "cell_type": "code",
   "execution_count": 3,
   "metadata": {},
   "outputs": [
    {
     "name": "stdout",
     "output_type": "stream",
     "text": [
      "(6665, 11) (2154, 10)\n"
     ]
    }
   ],
   "source": [
    "print(train.shape, test.shape)"
   ]
  },
  {
   "cell_type": "code",
   "execution_count": 4,
   "metadata": {},
   "outputs": [
    {
     "name": "stdout",
     "output_type": "stream",
     "text": [
      "<class 'pandas.core.frame.DataFrame'>\n",
      "RangeIndex: 6665 entries, 0 to 6664\n",
      "Data columns (total 11 columns):\n",
      " #   Column           Non-Null Count  Dtype  \n",
      "---  ------           --------------  -----  \n",
      " 0   ID               6665 non-null   int64  \n",
      " 1   Gender           6665 non-null   object \n",
      " 2   Ever_Married     6665 non-null   object \n",
      " 3   Age              6665 non-null   int64  \n",
      " 4   Graduated        6665 non-null   object \n",
      " 5   Profession       6665 non-null   object \n",
      " 6   Work_Experience  6665 non-null   float64\n",
      " 7   Spending_Score   6665 non-null   object \n",
      " 8   Family_Size      6665 non-null   float64\n",
      " 9   Var_1            6665 non-null   object \n",
      " 10  Segmentation     6665 non-null   int64  \n",
      "dtypes: float64(2), int64(3), object(6)\n",
      "memory usage: 572.9+ KB\n",
      "None\n",
      "<class 'pandas.core.frame.DataFrame'>\n",
      "RangeIndex: 2154 entries, 0 to 2153\n",
      "Data columns (total 10 columns):\n",
      " #   Column           Non-Null Count  Dtype  \n",
      "---  ------           --------------  -----  \n",
      " 0   ID               2154 non-null   int64  \n",
      " 1   Gender           2154 non-null   object \n",
      " 2   Ever_Married     2154 non-null   object \n",
      " 3   Age              2154 non-null   int64  \n",
      " 4   Graduated        2154 non-null   object \n",
      " 5   Profession       2154 non-null   object \n",
      " 6   Work_Experience  2154 non-null   float64\n",
      " 7   Spending_Score   2154 non-null   object \n",
      " 8   Family_Size      2154 non-null   float64\n",
      " 9   Var_1            2154 non-null   object \n",
      "dtypes: float64(2), int64(2), object(6)\n",
      "memory usage: 168.4+ KB\n",
      "None\n"
     ]
    }
   ],
   "source": [
    "print(train.info())\n",
    "print(test.info())"
   ]
  },
  {
   "cell_type": "code",
   "execution_count": 5,
   "metadata": {},
   "outputs": [],
   "source": [
    "train['Work_Experience'] = train['Work_Experience'].astype('int64')\n",
    "test['Work_Experience'] = test['Work_Experience'].astype('int64')"
   ]
  },
  {
   "cell_type": "code",
   "execution_count": 6,
   "metadata": {},
   "outputs": [],
   "source": [
    "train['Family_Size'] = train['Family_Size'].astype('int64')\n",
    "test['Family_Size'] = test['Family_Size'].astype('int64')"
   ]
  },
  {
   "cell_type": "code",
   "execution_count": 7,
   "metadata": {},
   "outputs": [
    {
     "name": "stdout",
     "output_type": "stream",
     "text": [
      "       ID  Gender Ever_Married  Age Graduated  Profession  Work_Experience  \\\n",
      "0  462809    Male           No   22        No  Healthcare                1   \n",
      "1  466315  Female          Yes   67       Yes    Engineer                1   \n",
      "2  461735    Male          Yes   67       Yes      Lawyer                0   \n",
      "3  461319    Male          Yes   56        No      Artist                0   \n",
      "4  460156    Male           No   32       Yes  Healthcare                1   \n",
      "\n",
      "  Spending_Score  Family_Size  Var_1  Segmentation  \n",
      "0            Low            4  Cat_4             4  \n",
      "1            Low            1  Cat_6             2  \n",
      "2           High            2  Cat_6             2  \n",
      "3        Average            2  Cat_6             3  \n",
      "4            Low            3  Cat_6             3          ID  Gender Ever_Married  Age Graduated  Profession  Work_Experience  \\\n",
      "0  458989  Female          Yes   36       Yes    Engineer                0   \n",
      "1  458994    Male          Yes   37       Yes  Healthcare                8   \n",
      "2  459000    Male          Yes   59        No   Executive               11   \n",
      "3  459003    Male          Yes   47       Yes      Doctor                0   \n",
      "4  459005    Male          Yes   61       Yes      Doctor                5   \n",
      "\n",
      "  Spending_Score  Family_Size  Var_1  \n",
      "0            Low            1  Cat_6  \n",
      "1        Average            4  Cat_6  \n",
      "2           High            2  Cat_6  \n",
      "3           High            5  Cat_4  \n",
      "4            Low            3  Cat_6  \n"
     ]
    }
   ],
   "source": [
    "print(train.head(), test.head())"
   ]
  },
  {
   "cell_type": "code",
   "execution_count": 10,
   "metadata": {},
   "outputs": [
    {
     "name": "stdout",
     "output_type": "stream",
     "text": [
      "['Healthcare' 'Engineer' 'Lawyer' 'Artist' 'Doctor' 'Homemaker'\n",
      " 'Entertainment' 'Marketing' 'Executive']\n",
      "['Engineer' 'Healthcare' 'Executive' 'Doctor' 'Artist' 'Lawyer'\n",
      " 'Entertainment' 'Homemaker' 'Marketing']\n"
     ]
    }
   ],
   "source": [
    "print(train['Profession'].unique())\n",
    "print(test['Profession'].unique())"
   ]
  },
  {
   "cell_type": "code",
   "execution_count": 11,
   "metadata": {},
   "outputs": [],
   "source": [
    "from sklearn.preprocessing import LabelEncoder\n",
    "\n",
    "le = LabelEncoder()\n",
    "train['Gender'] = le.fit_transform(train['Gender'])\n",
    "test['Gender'] = le.transform(test['Gender'])\n",
    "\n",
    "train['Ever_Married'] = le.fit_transform(train['Ever_Married'])\n",
    "test['Ever_Married'] = le.transform(test['Ever_Married'])\n",
    "\n",
    "train['Graduated'] = le.fit_transform(train['Graduated'])\n",
    "test['Graduated'] = le.transform(test['Graduated'])\n",
    "\n",
    "train['Profession'] = le.fit_transform(train['Profession'])\n",
    "test['Profession'] = le.transform(test['Profession'])\n",
    "\n",
    "train['Var_1'] = le.fit_transform(train['Var_1'])\n",
    "test['Var_1'] = le.transform(test['Var_1'])"
   ]
  },
  {
   "cell_type": "code",
   "execution_count": 12,
   "metadata": {},
   "outputs": [
    {
     "name": "stdout",
     "output_type": "stream",
     "text": [
      "       ID  Gender  Ever_Married  Age  Graduated  Profession  Work_Experience  \\\n",
      "0  462809       1             0   22          0           5                1   \n",
      "1  466315       0             1   67          1           2                1   \n",
      "2  461735       1             1   67          1           7                0   \n",
      "3  461319       1             1   56          0           0                0   \n",
      "4  460156       1             0   32          1           5                1   \n",
      "\n",
      "  Spending_Score  Family_Size  Var_1  Segmentation  \n",
      "0            Low            4      3             4  \n",
      "1            Low            1      5             2  \n",
      "2           High            2      5             2  \n",
      "3        Average            2      5             3  \n",
      "4            Low            3      5             3  \n"
     ]
    }
   ],
   "source": [
    "print(train.head())"
   ]
  },
  {
   "cell_type": "code",
   "execution_count": 13,
   "metadata": {},
   "outputs": [
    {
     "name": "stdout",
     "output_type": "stream",
     "text": [
      "       ID  Gender  Ever_Married  Age  Graduated  Profession  Work_Experience  \\\n",
      "0  458989       0             1   36          1           2                0   \n",
      "1  458994       1             1   37          1           5                8   \n",
      "2  459000       1             1   59          0           4               11   \n",
      "3  459003       1             1   47          1           1                0   \n",
      "4  459005       1             1   61          1           1                5   \n",
      "\n",
      "  Spending_Score  Family_Size  Var_1  \n",
      "0            Low            1      5  \n",
      "1        Average            4      5  \n",
      "2           High            2      5  \n",
      "3           High            5      3  \n",
      "4            Low            3      5  \n"
     ]
    }
   ],
   "source": [
    "print(test.head())"
   ]
  },
  {
   "cell_type": "code",
   "execution_count": 15,
   "metadata": {},
   "outputs": [],
   "source": [
    "# train['Spending_Score'].unique()\n",
    "train['Spending_Score'] = train['Spending_Score'].map({'Low':0, 'Average':1, 'High':2})\n",
    "test['Spending_Score'] = test['Spending_Score'].map({'Low':0, 'Average':1, 'High':2})"
   ]
  },
  {
   "cell_type": "code",
   "execution_count": 17,
   "metadata": {},
   "outputs": [
    {
     "name": "stdout",
     "output_type": "stream",
     "text": [
      "       ID  Gender  Ever_Married  Age  Graduated  Profession  Work_Experience  \\\n",
      "0  462809       1             0   22          0           5                1   \n",
      "1  466315       0             1   67          1           2                1   \n",
      "2  461735       1             1   67          1           7                0   \n",
      "3  461319       1             1   56          0           0                0   \n",
      "4  460156       1             0   32          1           5                1   \n",
      "\n",
      "   Spending_Score  Family_Size  Var_1  Segmentation  \n",
      "0               0            4      3             4  \n",
      "1               0            1      5             2  \n",
      "2               2            2      5             2  \n",
      "3               1            2      5             3  \n",
      "4               0            3      5             3  \n",
      "       ID  Gender  Ever_Married  Age  Graduated  Profession  Work_Experience  \\\n",
      "0  458989       0             1   36          1           2                0   \n",
      "1  458994       1             1   37          1           5                8   \n",
      "2  459000       1             1   59          0           4               11   \n",
      "3  459003       1             1   47          1           1                0   \n",
      "4  459005       1             1   61          1           1                5   \n",
      "\n",
      "   Spending_Score  Family_Size  Var_1  \n",
      "0               0            1      5  \n",
      "1               1            4      5  \n",
      "2               2            2      5  \n",
      "3               2            5      3  \n",
      "4               0            3      5  \n"
     ]
    }
   ],
   "source": [
    "print(train.head())\n",
    "print(test.head())"
   ]
  },
  {
   "cell_type": "code",
   "execution_count": 22,
   "metadata": {},
   "outputs": [
    {
     "name": "stdout",
     "output_type": "stream",
     "text": [
      "(5332, 9) (5332,)\n",
      "(1333, 9) (1333,)\n"
     ]
    }
   ],
   "source": [
    "x = train.drop(columns=['ID','Segmentation'])\n",
    "y = train['Segmentation']\n",
    "\n",
    "from sklearn.model_selection import train_test_split\n",
    "\n",
    "x_train, x_val, y_train, y_val = train_test_split(x, y, stratify=y,test_size=0.2, random_state=2024)\n",
    "\n",
    "print(x_train.shape, y_train.shape)\n",
    "print(x_val.shape, y_val.shape)"
   ]
  },
  {
   "cell_type": "code",
   "execution_count": 23,
   "metadata": {},
   "outputs": [],
   "source": [
    "from sklearn.ensemble import RandomForestClassifier\n",
    "\n",
    "rfc = RandomForestClassifier(random_state=2024)\n",
    "model = rfc.fit(x_train, y_train)\n",
    "pred = model.predict(x_val)"
   ]
  },
  {
   "cell_type": "code",
   "execution_count": 24,
   "metadata": {},
   "outputs": [
    {
     "name": "stdout",
     "output_type": "stream",
     "text": [
      "0.4988747186796699 0.4895790514975847\n",
      "[[138  85  36  64]\n",
      " [ 67 100 107  41]\n",
      " [ 39  90 179  36]\n",
      " [ 66  20  17 248]]\n",
      "              precision    recall  f1-score   support\n",
      "\n",
      "           1       0.45      0.43      0.44       323\n",
      "           2       0.34      0.32      0.33       315\n",
      "           3       0.53      0.52      0.52       344\n",
      "           4       0.64      0.71      0.67       351\n",
      "\n",
      "    accuracy                           0.50      1333\n",
      "   macro avg       0.49      0.49      0.49      1333\n",
      "weighted avg       0.49      0.50      0.49      1333\n",
      "\n"
     ]
    }
   ],
   "source": [
    "from sklearn.metrics import accuracy_score, f1_score, confusion_matrix, classification_report\n",
    "\n",
    "acc = accuracy_score(y_val, pred)\n",
    "f1 = f1_score(y_val, pred, average='macro')\n",
    "matrix = confusion_matrix(y_val, pred)\n",
    "report = classification_report(y_val, pred)\n",
    "\n",
    "print(acc, f1)\n",
    "print(matrix)\n",
    "print(report)"
   ]
  },
  {
   "cell_type": "code",
   "execution_count": 26,
   "metadata": {},
   "outputs": [],
   "source": [
    "from lightgbm import LGBMClassifier\n",
    "\n",
    "lgbm = LGBMClassifier(random_state=2024)\n",
    "model2 = lgbm.fit(x_train,y_train)\n",
    "pred2 = model2.predict(x_val)"
   ]
  },
  {
   "cell_type": "code",
   "execution_count": 27,
   "metadata": {},
   "outputs": [
    {
     "name": "stdout",
     "output_type": "stream",
     "text": [
      "0.5333833458364591 0.5197005214064555\n",
      "[[144  64  45  70]\n",
      " [ 61 102 105  47]\n",
      " [ 30  60 211  43]\n",
      " [ 70  19   8 254]]\n",
      "              precision    recall  f1-score   support\n",
      "\n",
      "           1       0.45      0.43      0.44       323\n",
      "           2       0.34      0.32      0.33       315\n",
      "           3       0.53      0.52      0.52       344\n",
      "           4       0.64      0.71      0.67       351\n",
      "\n",
      "    accuracy                           0.50      1333\n",
      "   macro avg       0.49      0.49      0.49      1333\n",
      "weighted avg       0.49      0.50      0.49      1333\n",
      "\n"
     ]
    }
   ],
   "source": [
    "acc2 = accuracy_score(y_val,pred2)\n",
    "f1_2 = f1_score(y_val,pred2, average='macro')\n",
    "matrix = confusion_matrix(y_val,pred2)\n",
    "report2 = classification_report(y_val, pred2)\n",
    "\n",
    "print(acc2, f1_2)\n",
    "print(matrix)\n",
    "print(report)\n"
   ]
  },
  {
   "cell_type": "code",
   "execution_count": 28,
   "metadata": {},
   "outputs": [],
   "source": [
    "id = test.pop('ID')\n"
   ]
  },
  {
   "cell_type": "code",
   "execution_count": 29,
   "metadata": {},
   "outputs": [],
   "source": [
    "pred3 = model2.predict(test)\n"
   ]
  },
  {
   "cell_type": "code",
   "execution_count": 30,
   "metadata": {},
   "outputs": [
    {
     "data": {
      "text/html": [
       "<div>\n",
       "<style scoped>\n",
       "    .dataframe tbody tr th:only-of-type {\n",
       "        vertical-align: middle;\n",
       "    }\n",
       "\n",
       "    .dataframe tbody tr th {\n",
       "        vertical-align: top;\n",
       "    }\n",
       "\n",
       "    .dataframe thead th {\n",
       "        text-align: right;\n",
       "    }\n",
       "</style>\n",
       "<table border=\"1\" class=\"dataframe\">\n",
       "  <thead>\n",
       "    <tr style=\"text-align: right;\">\n",
       "      <th></th>\n",
       "      <th>ID</th>\n",
       "      <th>Segmentation</th>\n",
       "    </tr>\n",
       "  </thead>\n",
       "  <tbody>\n",
       "    <tr>\n",
       "      <th>0</th>\n",
       "      <td>458989</td>\n",
       "      <td>2</td>\n",
       "    </tr>\n",
       "    <tr>\n",
       "      <th>1</th>\n",
       "      <td>458994</td>\n",
       "      <td>3</td>\n",
       "    </tr>\n",
       "    <tr>\n",
       "      <th>2</th>\n",
       "      <td>459000</td>\n",
       "      <td>3</td>\n",
       "    </tr>\n",
       "    <tr>\n",
       "      <th>3</th>\n",
       "      <td>459003</td>\n",
       "      <td>2</td>\n",
       "    </tr>\n",
       "    <tr>\n",
       "      <th>4</th>\n",
       "      <td>459005</td>\n",
       "      <td>4</td>\n",
       "    </tr>\n",
       "    <tr>\n",
       "      <th>...</th>\n",
       "      <td>...</td>\n",
       "      <td>...</td>\n",
       "    </tr>\n",
       "    <tr>\n",
       "      <th>2149</th>\n",
       "      <td>467950</td>\n",
       "      <td>1</td>\n",
       "    </tr>\n",
       "    <tr>\n",
       "      <th>2150</th>\n",
       "      <td>467954</td>\n",
       "      <td>4</td>\n",
       "    </tr>\n",
       "    <tr>\n",
       "      <th>2151</th>\n",
       "      <td>467958</td>\n",
       "      <td>1</td>\n",
       "    </tr>\n",
       "    <tr>\n",
       "      <th>2152</th>\n",
       "      <td>467961</td>\n",
       "      <td>2</td>\n",
       "    </tr>\n",
       "    <tr>\n",
       "      <th>2153</th>\n",
       "      <td>467968</td>\n",
       "      <td>4</td>\n",
       "    </tr>\n",
       "  </tbody>\n",
       "</table>\n",
       "<p>2154 rows × 2 columns</p>\n",
       "</div>"
      ],
      "text/plain": [
       "          ID  Segmentation\n",
       "0     458989             2\n",
       "1     458994             3\n",
       "2     459000             3\n",
       "3     459003             2\n",
       "4     459005             4\n",
       "...      ...           ...\n",
       "2149  467950             1\n",
       "2150  467954             4\n",
       "2151  467958             1\n",
       "2152  467961             2\n",
       "2153  467968             4\n",
       "\n",
       "[2154 rows x 2 columns]"
      ]
     },
     "execution_count": 30,
     "metadata": {},
     "output_type": "execute_result"
    }
   ],
   "source": [
    "pd.DataFrame({'ID':id, 'Segmentation':pred3}).to_csv('result2.csv',index=False)\n",
    "result = pd.read_csv('result2.csv')\n",
    "result"
   ]
  },
  {
   "cell_type": "code",
   "execution_count": null,
   "metadata": {},
   "outputs": [],
   "source": []
  }
 ],
 "metadata": {
  "kernelspec": {
   "display_name": "Python 3",
   "language": "python",
   "name": "python3"
  },
  "language_info": {
   "codemirror_mode": {
    "name": "ipython",
    "version": 3
   },
   "file_extension": ".py",
   "mimetype": "text/x-python",
   "name": "python",
   "nbconvert_exporter": "python",
   "pygments_lexer": "ipython3",
   "version": "3.12.7"
  }
 },
 "nbformat": 4,
 "nbformat_minor": 2
}
