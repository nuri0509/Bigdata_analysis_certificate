{
 "cells": [
  {
   "cell_type": "code",
   "execution_count": 1,
   "metadata": {},
   "outputs": [],
   "source": [
    "# 제 3유형\n",
    "# 예제문제 3유형-1번\n",
    "# survived 를 종속변수(Y), 'pclass','age','parch','sibsp','fare' 변수를 독립변수(X)로 분석했을 때 아래 질문에 답하시오.\n",
    "#  (단, 모든 답은 반올림하여 소수점 둘째자리까지 구하시오)\n",
    "#  1-1. 전체 데이터를 모두 활용하여 로지스틱회귀분석 진행 후에 유의하지 않은 변수의 수는?\n",
    "#  1-2. 1번 문제에서 유의한 변수만 사용하여 로지스틱회귀분석을 진행했을 때 회귀계수의 합계를 구하시오\n",
    "# 1-3. 만약 age변수가 5단위 증가하면 오즈비(Odds ratio)는 몇배로 변화하는가?"
   ]
  },
  {
   "cell_type": "code",
   "execution_count": 2,
   "metadata": {},
   "outputs": [
    {
     "name": "stdout",
     "output_type": "stream",
     "text": [
      "   survived  pclass   age  parch  sibsp     fare\n",
      "0         0       3  22.0      0      1   7.2500\n",
      "1         1       1  38.0      0      1  71.2833\n",
      "2         1       3  26.0      0      0   7.9250\n",
      "3         1       1  35.0      0      1  53.1000\n",
      "4         0       3  35.0      0      0   8.0500\n"
     ]
    }
   ],
   "source": [
    "######## 복사 영역 ########\n",
    "# 데이터 생성(수정금지) \n",
    "import pandas as pd\n",
    "import numpy as np\n",
    " # Seaborn의 내장 타이타닉 데이터셋을 불러옵니다.\n",
    "import seaborn as sns\n",
    "df = sns.load_dataset('titanic')\n",
    "df = df[ ['survived','pclass','age','parch','sibsp','fare'] ] \n",
    "df = df.dropna()\n",
    "######## 복사 영역 ########\n",
    "print(df.head())"
   ]
  },
  {
   "cell_type": "code",
   "execution_count": 3,
   "metadata": {},
   "outputs": [],
   "source": [
    "x = df.drop(columns='survived')\n",
    "y = df['survived']\n",
    "\n",
    "x_train = df[ ['pclass','age','parch','sibsp','fare'] ]\n",
    "y_train = df['survived']\n"
   ]
  },
  {
   "cell_type": "code",
   "execution_count": 4,
   "metadata": {},
   "outputs": [],
   "source": [
    "\n",
    "\n",
    "# import sklearn\n",
    "# from sklearn.linear_model import LogisticRegression\n",
    "# from sklearn.metrics import classification_report \n",
    "# lr = LogisticRegression(penalty=None)\n",
    "# lr.fit(x_train, y_train)\n",
    "# y_pred = lr.predict(x_test)\n",
    "# rpt = classification_report(y_pred, y_test)\n",
    "\n",
    "# print(rpt)\n"
   ]
  },
  {
   "cell_type": "code",
   "execution_count": 5,
   "metadata": {},
   "outputs": [
    {
     "name": "stdout",
     "output_type": "stream",
     "text": [
      "Optimization terminated successfully.\n",
      "         Current function value: 0.570854\n",
      "         Iterations 6\n",
      "                           Logit Regression Results                           \n",
      "==============================================================================\n",
      "Dep. Variable:               survived   No. Observations:                  714\n",
      "Model:                          Logit   Df Residuals:                      708\n",
      "Method:                           MLE   Df Model:                            5\n",
      "Date:                Tue, 12 Nov 2024   Pseudo R-squ.:                  0.1548\n",
      "Time:                        10:58:26   Log-Likelihood:                -407.59\n",
      "converged:                       True   LL-Null:                       -482.26\n",
      "Covariance Type:            nonrobust   LLR p-value:                 1.848e-30\n",
      "==============================================================================\n",
      "                 coef    std err          z      P>|z|      [0.025      0.975]\n",
      "------------------------------------------------------------------------------\n",
      "const          3.4010      0.505      6.732      0.000       2.411       4.391\n",
      "pclass        -1.1530      0.146     -7.900      0.000      -1.439      -0.867\n",
      "age           -0.0446      0.007     -6.181      0.000      -0.059      -0.030\n",
      "parch          0.2479      0.109      2.273      0.023       0.034       0.462\n",
      "sibsp         -0.2923      0.106     -2.755      0.006      -0.500      -0.084\n",
      "fare           0.0033      0.003      1.299      0.194      -0.002       0.008\n",
      "==============================================================================\n"
     ]
    }
   ],
   "source": [
    "import statsmodels.api as sm\n",
    "\n",
    "x_train = sm.add_constant(x_train)\n",
    "model_logit = sm.Logit(y_train, x_train).fit()\n",
    "summary = model_logit.summary()\n",
    "print(summary)\n",
    "\n"
   ]
  },
  {
   "cell_type": "code",
   "execution_count": 6,
   "metadata": {},
   "outputs": [
    {
     "name": "stdout",
     "output_type": "stream",
     "text": [
      "(714, 4)\n",
      "(714,)\n"
     ]
    }
   ],
   "source": [
    "x_train = df.drop(columns=['survived', 'fare'])\n",
    "y_train= df['survived']\n",
    "\n",
    "\n",
    "print(x_train.shape)\n",
    "print(y_train.shape)\n"
   ]
  },
  {
   "cell_type": "code",
   "execution_count": 7,
   "metadata": {},
   "outputs": [
    {
     "name": "stdout",
     "output_type": "stream",
     "text": [
      "Optimization terminated successfully.\n",
      "         Current function value: 0.572247\n",
      "         Iterations 6\n",
      "                           Logit Regression Results                           \n",
      "==============================================================================\n",
      "Dep. Variable:               survived   No. Observations:                  714\n",
      "Model:                          Logit   Df Residuals:                      709\n",
      "Method:                           MLE   Df Model:                            4\n",
      "Date:                Tue, 12 Nov 2024   Pseudo R-squ.:                  0.1528\n",
      "Time:                        10:58:26   Log-Likelihood:                -408.58\n",
      "converged:                       True   LL-Null:                       -482.26\n",
      "Covariance Type:            nonrobust   LLR p-value:                 7.534e-31\n",
      "==============================================================================\n",
      "                 coef    std err          z      P>|z|      [0.025      0.975]\n",
      "------------------------------------------------------------------------------\n",
      "const          3.7520      0.437      8.581      0.000       2.895       4.609\n",
      "pclass        -1.2663      0.121    -10.476      0.000      -1.503      -1.029\n",
      "age           -0.0452      0.007     -6.279      0.000      -0.059      -0.031\n",
      "parch          0.2808      0.106      2.658      0.008       0.074       0.488\n",
      "sibsp         -0.2733      0.104     -2.618      0.009      -0.478      -0.069\n",
      "==============================================================================\n"
     ]
    }
   ],
   "source": [
    "import statsmodels.api as sm\n",
    "\n",
    "x_train = sm.add_constant(x_train)\n",
    "model_logit = sm.Logit(y_train, x_train).fit()\n",
    "summary2 = model_logit.summary()\n",
    "print(summary2)\n"
   ]
  },
  {
   "cell_type": "code",
   "execution_count": 8,
   "metadata": {},
   "outputs": [
    {
     "name": "stdout",
     "output_type": "stream",
     "text": [
      "2.45\n"
     ]
    }
   ],
   "source": [
    "#  1-2. 1번 문제에서 유의한 변수만 사용하여 로지스틱회귀분석을 진행했을 때 회귀계수의 합계를 구하시오\n",
    "\n",
    "print(round(model_logit.params.sum(),2))\n",
    "# (정답) 1-2. 회귀계수의 합계 : 2.45"
   ]
  },
  {
   "cell_type": "code",
   "execution_count": 9,
   "metadata": {},
   "outputs": [
    {
     "name": "stdout",
     "output_type": "stream",
     "text": [
      "const     1.404122e+08\n",
      "pclass    0.000000e+00\n",
      "age       8.000000e-01\n",
      "parch     4.070000e+00\n",
      "sibsp     2.600000e-01\n",
      "dtype: float64\n",
      "0.8\n"
     ]
    },
    {
     "name": "stderr",
     "output_type": "stream",
     "text": [
      "C:\\Users\\admin\\AppData\\Local\\Temp\\ipykernel_19796\\2949929408.py:5: FutureWarning: Series.__getitem__ treating keys as positions is deprecated. In a future version, integer keys will always be treated as labels (consistent with DataFrame behavior). To access a value by position, use `ser.iloc[pos]`\n",
      "  print(round(result[2], 2))\n"
     ]
    }
   ],
   "source": [
    "# 1-3. 만약 age변수가 5단위 증가하면 오즈비(Odds ratio)는 몇배로 변화하는가?\n",
    "\n",
    "result = np.exp(5*model_logit.params)\n",
    "print(round(result,2))\n",
    "print(round(result[2], 2))"
   ]
  },
  {
   "cell_type": "code",
   "execution_count": null,
   "metadata": {},
   "outputs": [],
   "source": []
  },
  {
   "cell_type": "code",
   "execution_count": null,
   "metadata": {},
   "outputs": [],
   "source": []
  },
  {
   "cell_type": "code",
   "execution_count": null,
   "metadata": {},
   "outputs": [],
   "source": []
  },
  {
   "cell_type": "code",
   "execution_count": 10,
   "metadata": {},
   "outputs": [],
   "source": [
    "# 예제문제 3유형-2번\n",
    "# 다음은 당뇨병 환자의 질병 진행정도 데이터셋이다.\n",
    "#  target을 종속변수(Y), s1~s5를 독립변수(X)로 분석했을 때 아래 질문에 답하시오.\n",
    "#  (단, 모든 답은 반올림하여 소수점 둘째자리까지 구하시오)\n",
    "#  2-1. 다중선형회귀 모델링 후 p-value가 가장 작은 변수의 회귀계수 값을 구하시오.\n",
    "#  2-2. 위에서 구한 모델의 결정계수(Rsq) 값을 구하시오.\n",
    "#  2-3. 위에서 구한 모델에 s1=1, s2=2, s3=3, s4=4, s5=5 값을 대입하면 Y값은 얼마로 예측되겠는가?"
   ]
  },
  {
   "cell_type": "code",
   "execution_count": 11,
   "metadata": {},
   "outputs": [
    {
     "name": "stdout",
     "output_type": "stream",
     "text": [
      "        age       sex       bmi        bp        s1        s2        s3  \\\n",
      "0  0.038076  0.050680  0.061696  0.021872 -0.044223 -0.034821 -0.043401   \n",
      "1 -0.001882 -0.044642 -0.051474 -0.026328 -0.008449 -0.019163  0.074412   \n",
      "2  0.085299  0.050680  0.044451 -0.005670 -0.045599 -0.034194 -0.032356   \n",
      "3 -0.089063 -0.044642 -0.011595 -0.036656  0.012191  0.024991 -0.036038   \n",
      "4  0.005383 -0.044642 -0.036385  0.021872  0.003935  0.015596  0.008142   \n",
      "\n",
      "         s4        s5        s6  target  \n",
      "0 -0.002592  0.019907 -0.017646   151.0  \n",
      "1 -0.039493 -0.068332 -0.092204    75.0  \n",
      "2 -0.002592  0.002861 -0.025930   141.0  \n",
      "3  0.034309  0.022688 -0.009362   206.0  \n",
      "4 -0.002592 -0.031988 -0.046641   135.0  \n"
     ]
    }
   ],
   "source": [
    " ###############  실기환경 복사 영역  ###############\n",
    " # 데이터 불러오기\n",
    "import pandas as pd\n",
    " import numpy as np\n",
    " # 실기 시험 데이터셋으로 셋팅하기 (수정금지)\n",
    " from sklearn.datasets import load_diabetes\n",
    " # diabetes 데이터셋 로드\n",
    "diabetes = load_diabetes()\n",
    " x = pd.DataFrame(diabetes.data, columns=diabetes.feature_names)\n",
    " y = pd.DataFrame(diabetes.target)\n",
    " y.columns = ['target'] \n",
    "df = pd.concat([x,y], axis=1)\n",
    " ###############  실기환경 복사 영역  ###############\n",
    " print(df.head())"
   ]
  },
  {
   "cell_type": "code",
   "execution_count": 12,
   "metadata": {},
   "outputs": [
    {
     "name": "stdout",
     "output_type": "stream",
     "text": [
      "                            OLS Regression Results                            \n",
      "==============================================================================\n",
      "Dep. Variable:                 target   R-squared:                       0.361\n",
      "Model:                            OLS   Adj. R-squared:                  0.354\n",
      "Method:                 Least Squares   F-statistic:                     49.27\n",
      "Date:                Tue, 12 Nov 2024   Prob (F-statistic):           2.12e-40\n",
      "Time:                        11:00:30   Log-Likelihood:                -2448.2\n",
      "No. Observations:                 442   AIC:                             4908.\n",
      "Df Residuals:                     436   BIC:                             4933.\n",
      "Df Model:                           5                                         \n",
      "Covariance Type:            nonrobust                                         \n",
      "==============================================================================\n",
      "                 coef    std err          t      P>|t|      [0.025      0.975]\n",
      "------------------------------------------------------------------------------\n",
      "const        152.1335      2.948     51.606      0.000     146.339     157.928\n",
      "s1          -937.0162    475.077     -1.972      0.049   -1870.743      -3.290\n",
      "s2           746.3768    385.345      1.937      0.053     -10.987    1503.741\n",
      "s3            32.4560    242.476      0.134      0.894    -444.111     509.023\n",
      "s4            17.4117    183.090      0.095      0.924    -342.437     377.260\n",
      "s5          1163.7362    190.978      6.094      0.000     788.384    1539.088\n",
      "==============================================================================\n",
      "Omnibus:                        9.871   Durbin-Watson:                   2.009\n",
      "Prob(Omnibus):                  0.007   Jarque-Bera (JB):                8.701\n",
      "Skew:                           0.278   Prob(JB):                       0.0129\n",
      "Kurtosis:                       2.595   Cond. No.                         226.\n",
      "==============================================================================\n",
      "\n",
      "Notes:\n",
      "[1] Standard Errors assume that the covariance matrix of the errors is correctly specified.\n"
     ]
    }
   ],
   "source": [
    "# 독립변수와 종속변수 설정\n",
    "x = df[ ['s1','s2','s3','s4','s5'] ]\n",
    "y = df['target']\n",
    "# print(x.head())\n",
    "# print(y.head())\n",
    "# 모델링\n",
    "import statsmodels.api as sm\n",
    "x = sm.add_constant(x)        # 주의 : 상수항 추가해줘야 함\n",
    "model = sm.OLS(y, x).fit()    # 주의할 것 : y, x 순으로 입력해야 함\n",
    "# y_pred = model.predict(x)    \n",
    "summary = model.summary()\n",
    "print(summary)"
   ]
  },
  {
   "cell_type": "code",
   "execution_count": null,
   "metadata": {},
   "outputs": [
    {
     "name": "stdout",
     "output_type": "stream",
     "text": [
      "const     152.133484\n",
      "s1       -937.016237\n",
      "s2        746.376765\n",
      "s3         32.455999\n",
      "s4         17.411725\n",
      "s5       1163.736200\n",
      "dtype: float64\n"
     ]
    }
   ],
   "source": [
    "# p-value가 가장 작은 변수는 s5\n",
    "print(model.params) # s5 의 회귀계수 확인 \n",
    "#(정답) 2-1 s5의 회귀계수 : 1163.74"
   ]
  },
  {
   "cell_type": "code",
   "execution_count": 15,
   "metadata": {},
   "outputs": [
    {
     "name": "stdout",
     "output_type": "stream",
     "text": [
      "0.36\n"
     ]
    }
   ],
   "source": [
    "# 모델의 rsq값 구하기\n",
    "print(round(model.rsquared, 2))\n",
    "\n",
    "#(정답) 2-2. Rsq : 0.36"
   ]
  },
  {
   "cell_type": "code",
   "execution_count": 17,
   "metadata": {},
   "outputs": [
    {
     "name": "stdout",
     "output_type": "stream",
     "text": [
      "[1, 1, 2, 3, 4, 5]\n",
      "   const  s1  s2  s3  s4  s5\n",
      "0      1   1   2   3   4   5\n",
      "[6693.56667609]\n",
      "0    6693.566676\n",
      "dtype: float64\n"
     ]
    }
   ],
   "source": [
    "# 새로운 데이터 적용\n",
    "# 주의사항 : 모델에 상수항이 추가되었다면 \n",
    "# 새로운 데이터도 상수항을 추가해줘야 함(무조건 1 대입)\n",
    " # 리스트 형태\n",
    "new_data = [1, 1, 2, 3, 4, 5] # 상수항, s1, s2, ... , s5\n",
    " # 데이터프레임 형태\n",
    "new_data2 = pd.DataFrame({'const': [1], \n",
    "                         's1': [1], 's2': [2], 's3': [3],\n",
    "                         's4': [4], 's5': [5]})\n",
    "print(new_data)\n",
    "print(new_data2)\n",
    " # 예측값 계산\n",
    "pred = model.predict(new_data)\n",
    "pred2 = model.predict(new_data2)\n",
    " # 예측값 출력\n",
    "print(pred)\n",
    "print(pred2)"
   ]
  }
 ],
 "metadata": {
  "kernelspec": {
   "display_name": "Python 3",
   "language": "python",
   "name": "python3"
  },
  "language_info": {
   "codemirror_mode": {
    "name": "ipython",
    "version": 3
   },
   "file_extension": ".py",
   "mimetype": "text/x-python",
   "name": "python",
   "nbconvert_exporter": "python",
   "pygments_lexer": "ipython3",
   "version": "3.12.7"
  }
 },
 "nbformat": 4,
 "nbformat_minor": 2
}
