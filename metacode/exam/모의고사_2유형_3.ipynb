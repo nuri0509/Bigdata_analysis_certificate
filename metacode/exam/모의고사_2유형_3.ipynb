{
 "cells": [
  {
   "cell_type": "code",
   "execution_count": 1,
   "metadata": {},
   "outputs": [],
   "source": [
    "# 모의고사 2유형\n",
    "# 2유형 3번(와인 종류 분류)\n",
    "# 제공된 데이터는 와인의 조성 데이터를 기반으로 해당 와인이 어떤 종류의 와인인지 분류한 데이\n",
    "# 터셋이다. 학습 데이터(train)를 이용하여 와인의 종류을 분류하는 모델을 개발하고 해당 모델을\n",
    "# 기반으로 평가 데이터(test)를 적용하여 얻은 예측결과를 아래 제출 양식에 맞추어 CSV 파일로 제\n",
    "# 출하시오.\n",
    "# 예측결과는 Accuracy, macro F1 score 지표로 평가함\n",
    "# 제출형식 (아래 예시)\n",
    "#  csv파일명 : result.csv\n",
    "# 예측 진척정도 칼럼명 : pred\n",
    "# 제출 칼럼 개수 : pred 칼럼 1개 (아래)\n",
    "\n",
    "# # 예시자료(result 결과값과 같은 형태로 제출)\n",
    "#  import pandas as pd\n",
    "#  result = pd.DataFrame({'pred':[1,0,2]})\n",
    "#  result\n",
    "#  # 아래 코드는 예시이며 변수명 등 개인별로 변경하여 활용\n",
    "# # pd.DataFrame변수.to_csv(\"result.csv\", index=False)\n",
    "\n",
    "# 데이터 설명\n",
    "# 1. 변수설명\n",
    "# class : 와인의 종류, 종속변수(0, 1, 2)\n",
    "# 그 외 변수 : 와인의 특징을 나타내는 독립변수(Xs)\n",
    "#  1. 학습/평가 데이터\n",
    "# train : 학습 데이터\n",
    "# test : 평가 데이터(taget 변수 제외)\n",
    "#  y_test : 평가 데이터(target 변수 only) / 단, 실제 시험에서는 주어지지 않음"
   ]
  },
  {
   "cell_type": "code",
   "execution_count": 2,
   "metadata": {},
   "outputs": [],
   "source": [
    "###############  실기환경 복사 영역  ###############\n",
    "import pandas as pd\n",
    "import numpy as np\n",
    "\n",
    "# 실기 시험 데이터셋으로 셋팅하기 (수정금지)\n",
    "from sklearn.datasets import load_wine\n",
    "# 와인 데이터셋 load \n",
    "X, y = load_wine(return_X_y= True, as_frame=True)\n",
    "\n",
    "# 실기 시험 데이터셋으로 셋팅하기 (수정금지)\n",
    "from sklearn.model_selection import train_test_split\n",
    "x_tr, x_te, y_tr, y_te = train_test_split(X, y, test_size=0.2,\n",
    "                                          stratify=y,\n",
    "                                          random_state=2024)\n",
    "test = pd.DataFrame(x_te)\n",
    "x_tr = pd.DataFrame(x_tr)\n",
    "y_tr = pd.DataFrame(y_tr)\n",
    "y_tr.columns = ['class'] \n",
    "y_test = pd.DataFrame(y_te)\n",
    "train = pd.concat([y_tr, x_tr], axis=1)\n",
    "\n",
    "train['hue'] = np.where(train['hue']>=1, 'H', 'L')\n",
    "test['hue'] = np.where(test['hue']>=1, 'H', 'L')\n",
    "train.iloc[0:3, train.columns.get_loc('alcohol')] = np.nan\n",
    "test.iloc[0:3, test.columns.get_loc('alcohol')] = np.nan\n",
    "###############  실기환경 복사 영역  ###############"
   ]
  },
  {
   "cell_type": "code",
   "execution_count": 3,
   "metadata": {},
   "outputs": [
    {
     "data": {
      "text/html": [
       "<div>\n",
       "<style scoped>\n",
       "    .dataframe tbody tr th:only-of-type {\n",
       "        vertical-align: middle;\n",
       "    }\n",
       "\n",
       "    .dataframe tbody tr th {\n",
       "        vertical-align: top;\n",
       "    }\n",
       "\n",
       "    .dataframe thead th {\n",
       "        text-align: right;\n",
       "    }\n",
       "</style>\n",
       "<table border=\"1\" class=\"dataframe\">\n",
       "  <thead>\n",
       "    <tr style=\"text-align: right;\">\n",
       "      <th></th>\n",
       "      <th>class</th>\n",
       "      <th>alcohol</th>\n",
       "      <th>malic_acid</th>\n",
       "      <th>ash</th>\n",
       "      <th>alcalinity_of_ash</th>\n",
       "      <th>magnesium</th>\n",
       "      <th>total_phenols</th>\n",
       "      <th>flavanoids</th>\n",
       "      <th>nonflavanoid_phenols</th>\n",
       "      <th>proanthocyanins</th>\n",
       "      <th>color_intensity</th>\n",
       "      <th>hue</th>\n",
       "      <th>od280/od315_of_diluted_wines</th>\n",
       "      <th>proline</th>\n",
       "    </tr>\n",
       "  </thead>\n",
       "  <tbody>\n",
       "    <tr>\n",
       "      <th>39</th>\n",
       "      <td>0</td>\n",
       "      <td>NaN</td>\n",
       "      <td>3.99</td>\n",
       "      <td>2.51</td>\n",
       "      <td>13.2</td>\n",
       "      <td>128.0</td>\n",
       "      <td>3.00</td>\n",
       "      <td>3.04</td>\n",
       "      <td>0.20</td>\n",
       "      <td>2.08</td>\n",
       "      <td>5.10</td>\n",
       "      <td>L</td>\n",
       "      <td>3.53</td>\n",
       "      <td>760.0</td>\n",
       "    </tr>\n",
       "    <tr>\n",
       "      <th>83</th>\n",
       "      <td>1</td>\n",
       "      <td>NaN</td>\n",
       "      <td>3.86</td>\n",
       "      <td>2.32</td>\n",
       "      <td>22.5</td>\n",
       "      <td>85.0</td>\n",
       "      <td>1.65</td>\n",
       "      <td>1.59</td>\n",
       "      <td>0.61</td>\n",
       "      <td>1.62</td>\n",
       "      <td>4.80</td>\n",
       "      <td>L</td>\n",
       "      <td>2.01</td>\n",
       "      <td>515.0</td>\n",
       "    </tr>\n",
       "    <tr>\n",
       "      <th>68</th>\n",
       "      <td>1</td>\n",
       "      <td>NaN</td>\n",
       "      <td>0.94</td>\n",
       "      <td>2.36</td>\n",
       "      <td>17.0</td>\n",
       "      <td>110.0</td>\n",
       "      <td>2.53</td>\n",
       "      <td>1.30</td>\n",
       "      <td>0.55</td>\n",
       "      <td>0.42</td>\n",
       "      <td>3.17</td>\n",
       "      <td>H</td>\n",
       "      <td>1.93</td>\n",
       "      <td>750.0</td>\n",
       "    </tr>\n",
       "    <tr>\n",
       "      <th>151</th>\n",
       "      <td>2</td>\n",
       "      <td>12.79</td>\n",
       "      <td>2.67</td>\n",
       "      <td>2.48</td>\n",
       "      <td>22.0</td>\n",
       "      <td>112.0</td>\n",
       "      <td>1.48</td>\n",
       "      <td>1.36</td>\n",
       "      <td>0.24</td>\n",
       "      <td>1.26</td>\n",
       "      <td>10.80</td>\n",
       "      <td>L</td>\n",
       "      <td>1.47</td>\n",
       "      <td>480.0</td>\n",
       "    </tr>\n",
       "    <tr>\n",
       "      <th>167</th>\n",
       "      <td>2</td>\n",
       "      <td>12.82</td>\n",
       "      <td>3.37</td>\n",
       "      <td>2.30</td>\n",
       "      <td>19.5</td>\n",
       "      <td>88.0</td>\n",
       "      <td>1.48</td>\n",
       "      <td>0.66</td>\n",
       "      <td>0.40</td>\n",
       "      <td>0.97</td>\n",
       "      <td>10.26</td>\n",
       "      <td>L</td>\n",
       "      <td>1.75</td>\n",
       "      <td>685.0</td>\n",
       "    </tr>\n",
       "  </tbody>\n",
       "</table>\n",
       "</div>"
      ],
      "text/plain": [
       "     class  alcohol  malic_acid   ash  alcalinity_of_ash  magnesium  \\\n",
       "39       0      NaN        3.99  2.51               13.2      128.0   \n",
       "83       1      NaN        3.86  2.32               22.5       85.0   \n",
       "68       1      NaN        0.94  2.36               17.0      110.0   \n",
       "151      2    12.79        2.67  2.48               22.0      112.0   \n",
       "167      2    12.82        3.37  2.30               19.5       88.0   \n",
       "\n",
       "     total_phenols  flavanoids  nonflavanoid_phenols  proanthocyanins  \\\n",
       "39            3.00        3.04                  0.20             2.08   \n",
       "83            1.65        1.59                  0.61             1.62   \n",
       "68            2.53        1.30                  0.55             0.42   \n",
       "151           1.48        1.36                  0.24             1.26   \n",
       "167           1.48        0.66                  0.40             0.97   \n",
       "\n",
       "     color_intensity hue  od280/od315_of_diluted_wines  proline  \n",
       "39              5.10   L                          3.53    760.0  \n",
       "83              4.80   L                          2.01    515.0  \n",
       "68              3.17   H                          1.93    750.0  \n",
       "151            10.80   L                          1.47    480.0  \n",
       "167            10.26   L                          1.75    685.0  "
      ]
     },
     "execution_count": 3,
     "metadata": {},
     "output_type": "execute_result"
    }
   ],
   "source": [
    "train.head()"
   ]
  },
  {
   "cell_type": "code",
   "execution_count": 4,
   "metadata": {},
   "outputs": [
    {
     "data": {
      "text/html": [
       "<div>\n",
       "<style scoped>\n",
       "    .dataframe tbody tr th:only-of-type {\n",
       "        vertical-align: middle;\n",
       "    }\n",
       "\n",
       "    .dataframe tbody tr th {\n",
       "        vertical-align: top;\n",
       "    }\n",
       "\n",
       "    .dataframe thead th {\n",
       "        text-align: right;\n",
       "    }\n",
       "</style>\n",
       "<table border=\"1\" class=\"dataframe\">\n",
       "  <thead>\n",
       "    <tr style=\"text-align: right;\">\n",
       "      <th></th>\n",
       "      <th>alcohol</th>\n",
       "      <th>malic_acid</th>\n",
       "      <th>ash</th>\n",
       "      <th>alcalinity_of_ash</th>\n",
       "      <th>magnesium</th>\n",
       "      <th>total_phenols</th>\n",
       "      <th>flavanoids</th>\n",
       "      <th>nonflavanoid_phenols</th>\n",
       "      <th>proanthocyanins</th>\n",
       "      <th>color_intensity</th>\n",
       "      <th>hue</th>\n",
       "      <th>od280/od315_of_diluted_wines</th>\n",
       "      <th>proline</th>\n",
       "    </tr>\n",
       "  </thead>\n",
       "  <tbody>\n",
       "    <tr>\n",
       "      <th>81</th>\n",
       "      <td>NaN</td>\n",
       "      <td>1.81</td>\n",
       "      <td>2.20</td>\n",
       "      <td>18.8</td>\n",
       "      <td>86.0</td>\n",
       "      <td>2.20</td>\n",
       "      <td>2.53</td>\n",
       "      <td>0.26</td>\n",
       "      <td>1.77</td>\n",
       "      <td>3.90</td>\n",
       "      <td>H</td>\n",
       "      <td>3.14</td>\n",
       "      <td>714.0</td>\n",
       "    </tr>\n",
       "    <tr>\n",
       "      <th>88</th>\n",
       "      <td>NaN</td>\n",
       "      <td>2.06</td>\n",
       "      <td>2.46</td>\n",
       "      <td>21.6</td>\n",
       "      <td>84.0</td>\n",
       "      <td>1.95</td>\n",
       "      <td>1.69</td>\n",
       "      <td>0.48</td>\n",
       "      <td>1.35</td>\n",
       "      <td>2.80</td>\n",
       "      <td>H</td>\n",
       "      <td>2.75</td>\n",
       "      <td>680.0</td>\n",
       "    </tr>\n",
       "    <tr>\n",
       "      <th>134</th>\n",
       "      <td>NaN</td>\n",
       "      <td>1.24</td>\n",
       "      <td>2.25</td>\n",
       "      <td>17.5</td>\n",
       "      <td>85.0</td>\n",
       "      <td>2.00</td>\n",
       "      <td>0.58</td>\n",
       "      <td>0.60</td>\n",
       "      <td>1.25</td>\n",
       "      <td>5.45</td>\n",
       "      <td>L</td>\n",
       "      <td>1.51</td>\n",
       "      <td>650.0</td>\n",
       "    </tr>\n",
       "    <tr>\n",
       "      <th>35</th>\n",
       "      <td>13.48</td>\n",
       "      <td>1.81</td>\n",
       "      <td>2.41</td>\n",
       "      <td>20.5</td>\n",
       "      <td>100.0</td>\n",
       "      <td>2.70</td>\n",
       "      <td>2.98</td>\n",
       "      <td>0.26</td>\n",
       "      <td>1.86</td>\n",
       "      <td>5.10</td>\n",
       "      <td>H</td>\n",
       "      <td>3.47</td>\n",
       "      <td>920.0</td>\n",
       "    </tr>\n",
       "    <tr>\n",
       "      <th>41</th>\n",
       "      <td>13.41</td>\n",
       "      <td>3.84</td>\n",
       "      <td>2.12</td>\n",
       "      <td>18.8</td>\n",
       "      <td>90.0</td>\n",
       "      <td>2.45</td>\n",
       "      <td>2.68</td>\n",
       "      <td>0.27</td>\n",
       "      <td>1.48</td>\n",
       "      <td>4.28</td>\n",
       "      <td>L</td>\n",
       "      <td>3.00</td>\n",
       "      <td>1035.0</td>\n",
       "    </tr>\n",
       "  </tbody>\n",
       "</table>\n",
       "</div>"
      ],
      "text/plain": [
       "     alcohol  malic_acid   ash  alcalinity_of_ash  magnesium  total_phenols  \\\n",
       "81       NaN        1.81  2.20               18.8       86.0           2.20   \n",
       "88       NaN        2.06  2.46               21.6       84.0           1.95   \n",
       "134      NaN        1.24  2.25               17.5       85.0           2.00   \n",
       "35     13.48        1.81  2.41               20.5      100.0           2.70   \n",
       "41     13.41        3.84  2.12               18.8       90.0           2.45   \n",
       "\n",
       "     flavanoids  nonflavanoid_phenols  proanthocyanins  color_intensity hue  \\\n",
       "81         2.53                  0.26             1.77             3.90   H   \n",
       "88         1.69                  0.48             1.35             2.80   H   \n",
       "134        0.58                  0.60             1.25             5.45   L   \n",
       "35         2.98                  0.26             1.86             5.10   H   \n",
       "41         2.68                  0.27             1.48             4.28   L   \n",
       "\n",
       "     od280/od315_of_diluted_wines  proline  \n",
       "81                           3.14    714.0  \n",
       "88                           2.75    680.0  \n",
       "134                          1.51    650.0  \n",
       "35                           3.47    920.0  \n",
       "41                           3.00   1035.0  "
      ]
     },
     "execution_count": 4,
     "metadata": {},
     "output_type": "execute_result"
    }
   ],
   "source": [
    "test.head()"
   ]
  },
  {
   "cell_type": "code",
   "execution_count": 5,
   "metadata": {},
   "outputs": [
    {
     "data": {
      "text/plain": [
       "(142, 14)"
      ]
     },
     "execution_count": 5,
     "metadata": {},
     "output_type": "execute_result"
    }
   ],
   "source": [
    "train.shape"
   ]
  },
  {
   "cell_type": "code",
   "execution_count": 6,
   "metadata": {},
   "outputs": [
    {
     "data": {
      "text/plain": [
       "(36, 13)"
      ]
     },
     "execution_count": 6,
     "metadata": {},
     "output_type": "execute_result"
    }
   ],
   "source": [
    "test.shape"
   ]
  },
  {
   "cell_type": "code",
   "execution_count": 7,
   "metadata": {},
   "outputs": [
    {
     "data": {
      "text/plain": [
       "class                           0\n",
       "alcohol                         3\n",
       "malic_acid                      0\n",
       "ash                             0\n",
       "alcalinity_of_ash               0\n",
       "magnesium                       0\n",
       "total_phenols                   0\n",
       "flavanoids                      0\n",
       "nonflavanoid_phenols            0\n",
       "proanthocyanins                 0\n",
       "color_intensity                 0\n",
       "hue                             0\n",
       "od280/od315_of_diluted_wines    0\n",
       "proline                         0\n",
       "dtype: int64"
      ]
     },
     "execution_count": 7,
     "metadata": {},
     "output_type": "execute_result"
    }
   ],
   "source": [
    "train.isnull().sum()"
   ]
  },
  {
   "cell_type": "code",
   "execution_count": 8,
   "metadata": {},
   "outputs": [
    {
     "data": {
      "text/plain": [
       "alcohol                         3\n",
       "malic_acid                      0\n",
       "ash                             0\n",
       "alcalinity_of_ash               0\n",
       "magnesium                       0\n",
       "total_phenols                   0\n",
       "flavanoids                      0\n",
       "nonflavanoid_phenols            0\n",
       "proanthocyanins                 0\n",
       "color_intensity                 0\n",
       "hue                             0\n",
       "od280/od315_of_diluted_wines    0\n",
       "proline                         0\n",
       "dtype: int64"
      ]
     },
     "execution_count": 8,
     "metadata": {},
     "output_type": "execute_result"
    }
   ],
   "source": [
    "test.isnull().sum()"
   ]
  },
  {
   "cell_type": "code",
   "execution_count": 9,
   "metadata": {},
   "outputs": [],
   "source": [
    "median1 = train['alcohol'].median()\n",
    "median2 = test['alcohol'].median()\n",
    "\n",
    "train['alcohol'] = train['alcohol'].fillna(median1)\n",
    "test['alcohol'] = test['alcohol'].fillna(median2)"
   ]
  },
  {
   "cell_type": "code",
   "execution_count": 10,
   "metadata": {},
   "outputs": [
    {
     "name": "stdout",
     "output_type": "stream",
     "text": [
      "class                           0\n",
      "alcohol                         0\n",
      "malic_acid                      0\n",
      "ash                             0\n",
      "alcalinity_of_ash               0\n",
      "magnesium                       0\n",
      "total_phenols                   0\n",
      "flavanoids                      0\n",
      "nonflavanoid_phenols            0\n",
      "proanthocyanins                 0\n",
      "color_intensity                 0\n",
      "hue                             0\n",
      "od280/od315_of_diluted_wines    0\n",
      "proline                         0\n",
      "dtype: int64\n",
      "alcohol                         0\n",
      "malic_acid                      0\n",
      "ash                             0\n",
      "alcalinity_of_ash               0\n",
      "magnesium                       0\n",
      "total_phenols                   0\n",
      "flavanoids                      0\n",
      "nonflavanoid_phenols            0\n",
      "proanthocyanins                 0\n",
      "color_intensity                 0\n",
      "hue                             0\n",
      "od280/od315_of_diluted_wines    0\n",
      "proline                         0\n",
      "dtype: int64\n"
     ]
    }
   ],
   "source": [
    "print(train.isnull().sum())\n",
    "print(test.isnull().sum())"
   ]
  },
  {
   "cell_type": "code",
   "execution_count": 11,
   "metadata": {},
   "outputs": [
    {
     "data": {
      "text/plain": [
       "array(['L', 'H'], dtype=object)"
      ]
     },
     "execution_count": 11,
     "metadata": {},
     "output_type": "execute_result"
    }
   ],
   "source": [
    "train['hue'].unique()"
   ]
  },
  {
   "cell_type": "code",
   "execution_count": 12,
   "metadata": {},
   "outputs": [
    {
     "data": {
      "text/plain": [
       "array(['H', 'L'], dtype=object)"
      ]
     },
     "execution_count": 12,
     "metadata": {},
     "output_type": "execute_result"
    }
   ],
   "source": [
    "test['hue'].unique()"
   ]
  },
  {
   "cell_type": "code",
   "execution_count": 14,
   "metadata": {},
   "outputs": [
    {
     "name": "stdout",
     "output_type": "stream",
     "text": [
      "     class  alcohol  malic_acid   ash  alcalinity_of_ash  magnesium  \\\n",
      "39       0    13.05        3.99  2.51               13.2      128.0   \n",
      "83       1    13.05        3.86  2.32               22.5       85.0   \n",
      "68       1    13.05        0.94  2.36               17.0      110.0   \n",
      "151      2    12.79        2.67  2.48               22.0      112.0   \n",
      "167      2    12.82        3.37  2.30               19.5       88.0   \n",
      "\n",
      "     total_phenols  flavanoids  nonflavanoid_phenols  proanthocyanins  \\\n",
      "39            3.00        3.04                  0.20             2.08   \n",
      "83            1.65        1.59                  0.61             1.62   \n",
      "68            2.53        1.30                  0.55             0.42   \n",
      "151           1.48        1.36                  0.24             1.26   \n",
      "167           1.48        0.66                  0.40             0.97   \n",
      "\n",
      "     color_intensity  od280/od315_of_diluted_wines  proline  hue_H  hue_L  \n",
      "39              5.10                          3.53    760.0  False   True  \n",
      "83              4.80                          2.01    515.0  False   True  \n",
      "68              3.17                          1.93    750.0   True  False  \n",
      "151            10.80                          1.47    480.0  False   True  \n",
      "167            10.26                          1.75    685.0  False   True  \n",
      "     alcohol  malic_acid   ash  alcalinity_of_ash  magnesium  total_phenols  \\\n",
      "81     13.16        1.81  2.20               18.8       86.0           2.20   \n",
      "88     13.16        2.06  2.46               21.6       84.0           1.95   \n",
      "134    13.16        1.24  2.25               17.5       85.0           2.00   \n",
      "35     13.48        1.81  2.41               20.5      100.0           2.70   \n",
      "41     13.41        3.84  2.12               18.8       90.0           2.45   \n",
      "\n",
      "     flavanoids  nonflavanoid_phenols  proanthocyanins  color_intensity  \\\n",
      "81         2.53                  0.26             1.77             3.90   \n",
      "88         1.69                  0.48             1.35             2.80   \n",
      "134        0.58                  0.60             1.25             5.45   \n",
      "35         2.98                  0.26             1.86             5.10   \n",
      "41         2.68                  0.27             1.48             4.28   \n",
      "\n",
      "     od280/od315_of_diluted_wines  proline  hue_H  hue_L  \n",
      "81                           3.14    714.0   True  False  \n",
      "88                           2.75    680.0   True  False  \n",
      "134                          1.51    650.0  False   True  \n",
      "35                           3.47    920.0   True  False  \n",
      "41                           3.00   1035.0  False   True  \n"
     ]
    }
   ],
   "source": [
    "train = pd.get_dummies(train)\n",
    "test = pd.get_dummies(test)\n",
    "print(train.head())\n",
    "print(test.head())"
   ]
  },
  {
   "cell_type": "code",
   "execution_count": 20,
   "metadata": {},
   "outputs": [],
   "source": [
    "from sklearn.model_selection import train_test_split\n",
    "\n",
    "x = train.drop(columns='class')\n",
    "y = train['class']\n",
    "\n"
   ]
  },
  {
   "cell_type": "code",
   "execution_count": 21,
   "metadata": {},
   "outputs": [
    {
     "name": "stdout",
     "output_type": "stream",
     "text": [
      "(113, 14)\n",
      "(113,)\n",
      "(29, 14)\n",
      "(29,)\n"
     ]
    }
   ],
   "source": [
    "x_train, x_val, y_train, y_val = train_test_split(x, y, test_size = 0.2, stratify=y, random_state=2024)\n",
    "\n",
    "print(x_train.shape)\n",
    "print(y_train.shape)\n",
    "print(x_val.shape)\n",
    "print(y_val.shape)"
   ]
  },
  {
   "cell_type": "code",
   "execution_count": 22,
   "metadata": {},
   "outputs": [],
   "source": [
    "from sklearn.ensemble import RandomForestClassifier\n",
    "\n",
    "rfc = RandomForestClassifier(random_state=2024)\n",
    "model = rfc.fit(x_train, y_train)\n",
    "pred = model.predict(x_val)\n"
   ]
  },
  {
   "cell_type": "code",
   "execution_count": 23,
   "metadata": {},
   "outputs": [],
   "source": [
    "from sklearn.metrics import accuracy_score, classification_report, confusion_matrix\n",
    "\n",
    "acc = accuracy_score(y_val, pred)\n",
    "rpt = classification_report(y_val, pred)\n",
    "matrix = confusion_matrix(y_val, pred)"
   ]
  },
  {
   "cell_type": "code",
   "execution_count": 24,
   "metadata": {},
   "outputs": [
    {
     "name": "stdout",
     "output_type": "stream",
     "text": [
      "0.9655172413793104               precision    recall  f1-score   support\n",
      "\n",
      "           0       1.00      1.00      1.00         9\n",
      "           1       1.00      0.92      0.96        12\n",
      "           2       0.89      1.00      0.94         8\n",
      "\n",
      "    accuracy                           0.97        29\n",
      "   macro avg       0.96      0.97      0.97        29\n",
      "weighted avg       0.97      0.97      0.97        29\n",
      " [[ 9  0  0]\n",
      " [ 0 11  1]\n",
      " [ 0  0  8]]\n"
     ]
    }
   ],
   "source": [
    "print(acc, rpt, matrix)"
   ]
  },
  {
   "cell_type": "code",
   "execution_count": 27,
   "metadata": {},
   "outputs": [
    {
     "name": "stdout",
     "output_type": "stream",
     "text": [
      "1.0               precision    recall  f1-score   support\n",
      "\n",
      "           0       1.00      1.00      1.00        12\n",
      "           1       1.00      1.00      1.00        14\n",
      "           2       1.00      1.00      1.00        10\n",
      "\n",
      "    accuracy                           1.00        36\n",
      "   macro avg       1.00      1.00      1.00        36\n",
      "weighted avg       1.00      1.00      1.00        36\n",
      " [[12  0  0]\n",
      " [ 0 14  0]\n",
      " [ 0  0 10]]\n"
     ]
    }
   ],
   "source": [
    "pred2 = model.predict(test)\n",
    "\n",
    "acc2 = accuracy_score(y_test, pred2)\n",
    "rpt2 = classification_report(y_test, pred2)\n",
    "matrix2 = confusion_matrix(y_test, pred2)\n",
    "\n",
    "print(acc2, rpt2, matrix2)"
   ]
  }
 ],
 "metadata": {
  "kernelspec": {
   "display_name": "Python 3",
   "language": "python",
   "name": "python3"
  },
  "language_info": {
   "codemirror_mode": {
    "name": "ipython",
    "version": 3
   },
   "file_extension": ".py",
   "mimetype": "text/x-python",
   "name": "python",
   "nbconvert_exporter": "python",
   "pygments_lexer": "ipython3",
   "version": "3.12.7"
  }
 },
 "nbformat": 4,
 "nbformat_minor": 2
}
