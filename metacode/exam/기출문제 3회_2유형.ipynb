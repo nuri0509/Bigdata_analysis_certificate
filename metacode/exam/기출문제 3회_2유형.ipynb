{
 "cells": [
  {
   "cell_type": "code",
   "execution_count": 1,
   "metadata": {},
   "outputs": [],
   "source": [
    "# travel_insurance 데이터 - 보험가입여부 예측\n",
    "# 평가지표 : roc_auc_score"
   ]
  },
  {
   "cell_type": "code",
   "execution_count": 2,
   "metadata": {},
   "outputs": [],
   "source": [
    "import pandas as pd\n",
    "\n",
    "train = pd.read_csv('https://raw.githubusercontent.com/Soyoung-Yoon/bigdata/main/travel_insurance_train03.csv')\n",
    "test = pd.read_csv('https://raw.githubusercontent.com/Soyoung-Yoon/bigdata/main/travel_insurance_test03.csv')\n"
   ]
  },
  {
   "cell_type": "code",
   "execution_count": 3,
   "metadata": {},
   "outputs": [
    {
     "data": {
      "text/html": [
       "<div>\n",
       "<style scoped>\n",
       "    .dataframe tbody tr th:only-of-type {\n",
       "        vertical-align: middle;\n",
       "    }\n",
       "\n",
       "    .dataframe tbody tr th {\n",
       "        vertical-align: top;\n",
       "    }\n",
       "\n",
       "    .dataframe thead th {\n",
       "        text-align: right;\n",
       "    }\n",
       "</style>\n",
       "<table border=\"1\" class=\"dataframe\">\n",
       "  <thead>\n",
       "    <tr style=\"text-align: right;\">\n",
       "      <th></th>\n",
       "      <th>Unnamed: 0</th>\n",
       "      <th>Age</th>\n",
       "      <th>Employment Type</th>\n",
       "      <th>GraduateOrNot</th>\n",
       "      <th>AnnualIncome</th>\n",
       "      <th>FamilyMembers</th>\n",
       "      <th>ChronicDiseases</th>\n",
       "      <th>FrequentFlyer</th>\n",
       "      <th>EverTravelledAbroad</th>\n",
       "      <th>TravelInsurance</th>\n",
       "    </tr>\n",
       "  </thead>\n",
       "  <tbody>\n",
       "    <tr>\n",
       "      <th>0</th>\n",
       "      <td>1704</td>\n",
       "      <td>26</td>\n",
       "      <td>Private Sector/Self Employed</td>\n",
       "      <td>Yes</td>\n",
       "      <td>1400000</td>\n",
       "      <td>3</td>\n",
       "      <td>1</td>\n",
       "      <td>No</td>\n",
       "      <td>Yes</td>\n",
       "      <td>0</td>\n",
       "    </tr>\n",
       "    <tr>\n",
       "      <th>1</th>\n",
       "      <td>491</td>\n",
       "      <td>28</td>\n",
       "      <td>Private Sector/Self Employed</td>\n",
       "      <td>Yes</td>\n",
       "      <td>1100000</td>\n",
       "      <td>4</td>\n",
       "      <td>1</td>\n",
       "      <td>No</td>\n",
       "      <td>No</td>\n",
       "      <td>1</td>\n",
       "    </tr>\n",
       "    <tr>\n",
       "      <th>2</th>\n",
       "      <td>414</td>\n",
       "      <td>33</td>\n",
       "      <td>Private Sector/Self Employed</td>\n",
       "      <td>Yes</td>\n",
       "      <td>1400000</td>\n",
       "      <td>4</td>\n",
       "      <td>0</td>\n",
       "      <td>No</td>\n",
       "      <td>Yes</td>\n",
       "      <td>1</td>\n",
       "    </tr>\n",
       "    <tr>\n",
       "      <th>3</th>\n",
       "      <td>120</td>\n",
       "      <td>28</td>\n",
       "      <td>Private Sector/Self Employed</td>\n",
       "      <td>Yes</td>\n",
       "      <td>800000</td>\n",
       "      <td>3</td>\n",
       "      <td>1</td>\n",
       "      <td>No</td>\n",
       "      <td>No</td>\n",
       "      <td>0</td>\n",
       "    </tr>\n",
       "    <tr>\n",
       "      <th>4</th>\n",
       "      <td>1268</td>\n",
       "      <td>33</td>\n",
       "      <td>Government Sector</td>\n",
       "      <td>Yes</td>\n",
       "      <td>1000000</td>\n",
       "      <td>5</td>\n",
       "      <td>0</td>\n",
       "      <td>No</td>\n",
       "      <td>Yes</td>\n",
       "      <td>1</td>\n",
       "    </tr>\n",
       "  </tbody>\n",
       "</table>\n",
       "</div>"
      ],
      "text/plain": [
       "   Unnamed: 0  Age               Employment Type GraduateOrNot  AnnualIncome  \\\n",
       "0        1704   26  Private Sector/Self Employed           Yes       1400000   \n",
       "1         491   28  Private Sector/Self Employed           Yes       1100000   \n",
       "2         414   33  Private Sector/Self Employed           Yes       1400000   \n",
       "3         120   28  Private Sector/Self Employed           Yes        800000   \n",
       "4        1268   33             Government Sector           Yes       1000000   \n",
       "\n",
       "   FamilyMembers  ChronicDiseases FrequentFlyer EverTravelledAbroad  \\\n",
       "0              3                1            No                 Yes   \n",
       "1              4                1            No                  No   \n",
       "2              4                0            No                 Yes   \n",
       "3              3                1            No                  No   \n",
       "4              5                0            No                 Yes   \n",
       "\n",
       "   TravelInsurance  \n",
       "0                0  \n",
       "1                1  \n",
       "2                1  \n",
       "3                0  \n",
       "4                1  "
      ]
     },
     "execution_count": 3,
     "metadata": {},
     "output_type": "execute_result"
    }
   ],
   "source": [
    "train.head()"
   ]
  },
  {
   "cell_type": "code",
   "execution_count": 4,
   "metadata": {},
   "outputs": [
    {
     "data": {
      "text/html": [
       "<div>\n",
       "<style scoped>\n",
       "    .dataframe tbody tr th:only-of-type {\n",
       "        vertical-align: middle;\n",
       "    }\n",
       "\n",
       "    .dataframe tbody tr th {\n",
       "        vertical-align: top;\n",
       "    }\n",
       "\n",
       "    .dataframe thead th {\n",
       "        text-align: right;\n",
       "    }\n",
       "</style>\n",
       "<table border=\"1\" class=\"dataframe\">\n",
       "  <thead>\n",
       "    <tr style=\"text-align: right;\">\n",
       "      <th></th>\n",
       "      <th>Unnamed: 0</th>\n",
       "      <th>Age</th>\n",
       "      <th>Employment Type</th>\n",
       "      <th>GraduateOrNot</th>\n",
       "      <th>AnnualIncome</th>\n",
       "      <th>FamilyMembers</th>\n",
       "      <th>ChronicDiseases</th>\n",
       "      <th>FrequentFlyer</th>\n",
       "      <th>EverTravelledAbroad</th>\n",
       "    </tr>\n",
       "  </thead>\n",
       "  <tbody>\n",
       "    <tr>\n",
       "      <th>0</th>\n",
       "      <td>1569</td>\n",
       "      <td>27</td>\n",
       "      <td>Government Sector</td>\n",
       "      <td>Yes</td>\n",
       "      <td>500000</td>\n",
       "      <td>5</td>\n",
       "      <td>0</td>\n",
       "      <td>No</td>\n",
       "      <td>No</td>\n",
       "    </tr>\n",
       "    <tr>\n",
       "      <th>1</th>\n",
       "      <td>1344</td>\n",
       "      <td>25</td>\n",
       "      <td>Private Sector/Self Employed</td>\n",
       "      <td>Yes</td>\n",
       "      <td>1700000</td>\n",
       "      <td>3</td>\n",
       "      <td>0</td>\n",
       "      <td>Yes</td>\n",
       "      <td>No</td>\n",
       "    </tr>\n",
       "    <tr>\n",
       "      <th>2</th>\n",
       "      <td>1429</td>\n",
       "      <td>32</td>\n",
       "      <td>Government Sector</td>\n",
       "      <td>Yes</td>\n",
       "      <td>650000</td>\n",
       "      <td>3</td>\n",
       "      <td>0</td>\n",
       "      <td>No</td>\n",
       "      <td>No</td>\n",
       "    </tr>\n",
       "    <tr>\n",
       "      <th>3</th>\n",
       "      <td>896</td>\n",
       "      <td>33</td>\n",
       "      <td>Government Sector</td>\n",
       "      <td>Yes</td>\n",
       "      <td>600000</td>\n",
       "      <td>4</td>\n",
       "      <td>0</td>\n",
       "      <td>No</td>\n",
       "      <td>No</td>\n",
       "    </tr>\n",
       "    <tr>\n",
       "      <th>4</th>\n",
       "      <td>101</td>\n",
       "      <td>33</td>\n",
       "      <td>Private Sector/Self Employed</td>\n",
       "      <td>Yes</td>\n",
       "      <td>1500000</td>\n",
       "      <td>3</td>\n",
       "      <td>1</td>\n",
       "      <td>Yes</td>\n",
       "      <td>Yes</td>\n",
       "    </tr>\n",
       "  </tbody>\n",
       "</table>\n",
       "</div>"
      ],
      "text/plain": [
       "   Unnamed: 0  Age               Employment Type GraduateOrNot  AnnualIncome  \\\n",
       "0        1569   27             Government Sector           Yes        500000   \n",
       "1        1344   25  Private Sector/Self Employed           Yes       1700000   \n",
       "2        1429   32             Government Sector           Yes        650000   \n",
       "3         896   33             Government Sector           Yes        600000   \n",
       "4         101   33  Private Sector/Self Employed           Yes       1500000   \n",
       "\n",
       "   FamilyMembers  ChronicDiseases FrequentFlyer EverTravelledAbroad  \n",
       "0              5                0            No                  No  \n",
       "1              3                0           Yes                  No  \n",
       "2              3                0            No                  No  \n",
       "3              4                0            No                  No  \n",
       "4              3                1           Yes                 Yes  "
      ]
     },
     "execution_count": 4,
     "metadata": {},
     "output_type": "execute_result"
    }
   ],
   "source": [
    "test.head()"
   ]
  },
  {
   "cell_type": "code",
   "execution_count": 5,
   "metadata": {},
   "outputs": [
    {
     "name": "stdout",
     "output_type": "stream",
     "text": [
      "(1490, 10)\n",
      "(497, 9)\n"
     ]
    }
   ],
   "source": [
    "print(train.shape)\n",
    "print(test.shape)"
   ]
  },
  {
   "cell_type": "code",
   "execution_count": 6,
   "metadata": {},
   "outputs": [
    {
     "name": "stdout",
     "output_type": "stream",
     "text": [
      "<class 'pandas.core.frame.DataFrame'>\n",
      "RangeIndex: 1490 entries, 0 to 1489\n",
      "Data columns (total 10 columns):\n",
      " #   Column               Non-Null Count  Dtype \n",
      "---  ------               --------------  ----- \n",
      " 0   Unnamed: 0           1490 non-null   int64 \n",
      " 1   Age                  1490 non-null   int64 \n",
      " 2   Employment Type      1490 non-null   object\n",
      " 3   GraduateOrNot        1490 non-null   object\n",
      " 4   AnnualIncome         1490 non-null   int64 \n",
      " 5   FamilyMembers        1490 non-null   int64 \n",
      " 6   ChronicDiseases      1490 non-null   int64 \n",
      " 7   FrequentFlyer        1490 non-null   object\n",
      " 8   EverTravelledAbroad  1490 non-null   object\n",
      " 9   TravelInsurance      1490 non-null   int64 \n",
      "dtypes: int64(6), object(4)\n",
      "memory usage: 116.5+ KB\n",
      "None\n",
      "<class 'pandas.core.frame.DataFrame'>\n",
      "RangeIndex: 497 entries, 0 to 496\n",
      "Data columns (total 9 columns):\n",
      " #   Column               Non-Null Count  Dtype \n",
      "---  ------               --------------  ----- \n",
      " 0   Unnamed: 0           497 non-null    int64 \n",
      " 1   Age                  497 non-null    int64 \n",
      " 2   Employment Type      497 non-null    object\n",
      " 3   GraduateOrNot        497 non-null    object\n",
      " 4   AnnualIncome         497 non-null    int64 \n",
      " 5   FamilyMembers        497 non-null    int64 \n",
      " 6   ChronicDiseases      497 non-null    int64 \n",
      " 7   FrequentFlyer        497 non-null    object\n",
      " 8   EverTravelledAbroad  497 non-null    object\n",
      "dtypes: int64(5), object(4)\n",
      "memory usage: 35.1+ KB\n",
      "None\n"
     ]
    }
   ],
   "source": [
    "print(train.info())\n",
    "print(test.info())"
   ]
  },
  {
   "cell_type": "code",
   "execution_count": 7,
   "metadata": {},
   "outputs": [
    {
     "name": "stdout",
     "output_type": "stream",
     "text": [
      "        Unnamed: 0          Age  AnnualIncome  FamilyMembers  ChronicDiseases  \\\n",
      "count  1490.000000  1490.000000  1.490000e+03    1490.000000      1490.000000   \n",
      "mean    998.832886    29.668456  9.386577e+05       4.732215         0.285235   \n",
      "std     573.158458     2.935416  3.731487e+05       1.612608         0.451678   \n",
      "min       0.000000    25.000000  3.000000e+05       2.000000         0.000000   \n",
      "25%     505.250000    28.000000  6.000000e+05       4.000000         0.000000   \n",
      "50%     998.500000    29.000000  9.000000e+05       5.000000         0.000000   \n",
      "75%    1489.750000    32.000000  1.250000e+06       6.000000         1.000000   \n",
      "max    1986.000000    35.000000  1.800000e+06       9.000000         1.000000   \n",
      "\n",
      "       TravelInsurance  \n",
      "count      1490.000000  \n",
      "mean          0.362416  \n",
      "std           0.480859  \n",
      "min           0.000000  \n",
      "25%           0.000000  \n",
      "50%           0.000000  \n",
      "75%           1.000000  \n",
      "max           1.000000  \n"
     ]
    }
   ],
   "source": [
    "print(train.describe())\n",
    "# print(train.describe(include='object'))"
   ]
  },
  {
   "cell_type": "code",
   "execution_count": 8,
   "metadata": {},
   "outputs": [
    {
     "name": "stdout",
     "output_type": "stream",
     "text": [
      "        Unnamed: 0         Age  AnnualIncome  FamilyMembers  ChronicDiseases\n",
      "count   497.000000  497.000000  4.970000e+02     497.000000       497.000000\n",
      "mean    975.513078   29.595573  9.150905e+05       4.814889         0.255533\n",
      "std     575.711054    2.848213  3.876023e+05       1.600762         0.436600\n",
      "min       2.000000   25.000000  3.000000e+05       2.000000         0.000000\n",
      "25%     474.000000   28.000000  5.500000e+05       4.000000         0.000000\n",
      "50%     970.000000   29.000000  9.000000e+05       5.000000         0.000000\n",
      "75%    1486.000000   32.000000  1.200000e+06       6.000000         1.000000\n",
      "max    1982.000000   35.000000  1.800000e+06       9.000000         1.000000\n"
     ]
    }
   ],
   "source": [
    "print(test.describe())"
   ]
  },
  {
   "cell_type": "code",
   "execution_count": 9,
   "metadata": {},
   "outputs": [],
   "source": [
    "from sklearn.preprocessing import LabelEncoder\n",
    "le = LabelEncoder()\n",
    "train['Employment Type'] = le.fit_transform(train['Employment Type'])\n",
    "test['Employment Type'] = le.transform(test['Employment Type']) "
   ]
  },
  {
   "cell_type": "code",
   "execution_count": 10,
   "metadata": {},
   "outputs": [
    {
     "name": "stdout",
     "output_type": "stream",
     "text": [
      "   Unnamed: 0  Age  Employment Type GraduateOrNot  AnnualIncome  \\\n",
      "0        1704   26                1           Yes       1400000   \n",
      "1         491   28                1           Yes       1100000   \n",
      "2         414   33                1           Yes       1400000   \n",
      "3         120   28                1           Yes        800000   \n",
      "4        1268   33                0           Yes       1000000   \n",
      "\n",
      "   FamilyMembers  ChronicDiseases FrequentFlyer EverTravelledAbroad  \\\n",
      "0              3                1            No                 Yes   \n",
      "1              4                1            No                  No   \n",
      "2              4                0            No                 Yes   \n",
      "3              3                1            No                  No   \n",
      "4              5                0            No                 Yes   \n",
      "\n",
      "   TravelInsurance  \n",
      "0                0  \n",
      "1                1  \n",
      "2                1  \n",
      "3                0  \n",
      "4                1  \n",
      "   Unnamed: 0  Age  Employment Type GraduateOrNot  AnnualIncome  \\\n",
      "0        1569   27                0           Yes        500000   \n",
      "1        1344   25                1           Yes       1700000   \n",
      "2        1429   32                0           Yes        650000   \n",
      "3         896   33                0           Yes        600000   \n",
      "4         101   33                1           Yes       1500000   \n",
      "\n",
      "   FamilyMembers  ChronicDiseases FrequentFlyer EverTravelledAbroad  \n",
      "0              5                0            No                  No  \n",
      "1              3                0           Yes                  No  \n",
      "2              3                0            No                  No  \n",
      "3              4                0            No                  No  \n",
      "4              3                1           Yes                 Yes  \n"
     ]
    }
   ],
   "source": [
    "print(train.head())\n",
    "print(test.head())"
   ]
  },
  {
   "cell_type": "code",
   "execution_count": 11,
   "metadata": {},
   "outputs": [],
   "source": [
    "train['GraduateOrNot'] = le.fit_transform(train['GraduateOrNot'])\n",
    "test['GraduateOrNot'] = le.transform(test['GraduateOrNot'])"
   ]
  },
  {
   "cell_type": "code",
   "execution_count": 12,
   "metadata": {},
   "outputs": [],
   "source": [
    "train['FrequentFlyer'] = le.fit_transform(train['FrequentFlyer'])\n",
    "test['FrequentFlyer'] = le.transform(test['FrequentFlyer'])"
   ]
  },
  {
   "cell_type": "code",
   "execution_count": 13,
   "metadata": {},
   "outputs": [],
   "source": [
    "train['EverTravelledAbroad'] = le.fit_transform(train['EverTravelledAbroad'])\n",
    "test['EverTravelledAbroad'] = le.transform(test['EverTravelledAbroad'])"
   ]
  },
  {
   "cell_type": "code",
   "execution_count": 14,
   "metadata": {},
   "outputs": [
    {
     "name": "stdout",
     "output_type": "stream",
     "text": [
      "   Unnamed: 0  Age  Employment Type  GraduateOrNot  AnnualIncome  \\\n",
      "0        1704   26                1              1       1400000   \n",
      "1         491   28                1              1       1100000   \n",
      "2         414   33                1              1       1400000   \n",
      "3         120   28                1              1        800000   \n",
      "4        1268   33                0              1       1000000   \n",
      "\n",
      "   FamilyMembers  ChronicDiseases  FrequentFlyer  EverTravelledAbroad  \\\n",
      "0              3                1              0                    1   \n",
      "1              4                1              0                    0   \n",
      "2              4                0              0                    1   \n",
      "3              3                1              0                    0   \n",
      "4              5                0              0                    1   \n",
      "\n",
      "   TravelInsurance  \n",
      "0                0  \n",
      "1                1  \n",
      "2                1  \n",
      "3                0  \n",
      "4                1  \n",
      "   Unnamed: 0  Age  Employment Type  GraduateOrNot  AnnualIncome  \\\n",
      "0        1569   27                0              1        500000   \n",
      "1        1344   25                1              1       1700000   \n",
      "2        1429   32                0              1        650000   \n",
      "3         896   33                0              1        600000   \n",
      "4         101   33                1              1       1500000   \n",
      "\n",
      "   FamilyMembers  ChronicDiseases  FrequentFlyer  EverTravelledAbroad  \n",
      "0              5                0              0                    0  \n",
      "1              3                0              1                    0  \n",
      "2              3                0              0                    0  \n",
      "3              4                0              0                    0  \n",
      "4              3                1              1                    1  \n"
     ]
    }
   ],
   "source": [
    "print(train.head())\n",
    "print(test.head())"
   ]
  },
  {
   "cell_type": "code",
   "execution_count": 15,
   "metadata": {},
   "outputs": [
    {
     "name": "stdout",
     "output_type": "stream",
     "text": [
      "(1192, 8) (1192,)\n",
      "(298, 8) (298,)\n"
     ]
    }
   ],
   "source": [
    "x = train.drop(columns=['Unnamed: 0','TravelInsurance'])\n",
    "y = train['TravelInsurance']\n",
    "\n",
    "from sklearn.model_selection import train_test_split\n",
    "\n",
    "x_train, x_val, y_train, y_val = train_test_split(x, y, stratify=y, test_size=0.2, random_state=2024)\n",
    "\n",
    "print(x_train.shape, y_train.shape)\n",
    "print(x_val.shape, y_val.shape)"
   ]
  },
  {
   "cell_type": "code",
   "execution_count": 16,
   "metadata": {},
   "outputs": [],
   "source": [
    "from sklearn.ensemble import RandomForestClassifier\n",
    "\n",
    "rfc = RandomForestClassifier(random_state=2024)\n",
    "model = rfc.fit(x,y)\n",
    "pred = model.predict(x_val)"
   ]
  },
  {
   "cell_type": "code",
   "execution_count": null,
   "metadata": {},
   "outputs": [],
   "source": []
  },
  {
   "cell_type": "code",
   "execution_count": 17,
   "metadata": {},
   "outputs": [
    {
     "name": "stdout",
     "output_type": "stream",
     "text": [
      "0.9026845637583892 0.8837231968810916\n",
      "[[181   9]\n",
      " [ 20  88]]\n",
      "              precision    recall  f1-score   support\n",
      "\n",
      "           0       0.90      0.95      0.93       190\n",
      "           1       0.91      0.81      0.86       108\n",
      "\n",
      "    accuracy                           0.90       298\n",
      "   macro avg       0.90      0.88      0.89       298\n",
      "weighted avg       0.90      0.90      0.90       298\n",
      "\n"
     ]
    }
   ],
   "source": [
    "from sklearn.metrics import accuracy_score, roc_auc_score, confusion_matrix, classification_report \n",
    "\n",
    "acc = accuracy_score(y_val, pred)\n",
    "roc_auc = roc_auc_score(y_val, pred)\n",
    "matrix = confusion_matrix(y_val, pred)\n",
    "report = classification_report(y_val, pred)\n",
    "\n",
    "print(acc, roc_auc)\n",
    "print(matrix)\n",
    "print(report)"
   ]
  },
  {
   "cell_type": "code",
   "execution_count": null,
   "metadata": {},
   "outputs": [],
   "source": []
  },
  {
   "cell_type": "code",
   "execution_count": 18,
   "metadata": {},
   "outputs": [
    {
     "name": "stdout",
     "output_type": "stream",
     "text": [
      "[LightGBM] [Warning] Found whitespace in feature_names, replace with underlines\n",
      "[LightGBM] [Info] Number of positive: 432, number of negative: 760\n",
      "[LightGBM] [Info] Auto-choosing row-wise multi-threading, the overhead of testing was 0.000142 seconds.\n",
      "You can set `force_row_wise=true` to remove the overhead.\n",
      "And if memory is not enough, you can set `force_col_wise=true`.\n",
      "[LightGBM] [Info] Total Bins 61\n",
      "[LightGBM] [Info] Number of data points in the train set: 1192, number of used features: 8\n",
      "[LightGBM] [Info] [binary:BoostFromScore]: pavg=0.362416 -> initscore=-0.564893\n",
      "[LightGBM] [Info] Start training from score -0.564893\n"
     ]
    }
   ],
   "source": [
    "from lightgbm import LGBMClassifier\n",
    "\n",
    "lgbm = LGBMClassifier(random_state=2024)\n",
    "model2 = lgbm.fit(x_train,y_train)\n",
    "pred2 = model2.predict(x_val)\n"
   ]
  },
  {
   "cell_type": "code",
   "execution_count": 19,
   "metadata": {},
   "outputs": [
    {
     "name": "stdout",
     "output_type": "stream",
     "text": [
      "0.7885906040268457 0.7343079922027291\n",
      "[[177  13]\n",
      " [ 50  58]]\n",
      "              precision    recall  f1-score   support\n",
      "\n",
      "           0       0.78      0.93      0.85       190\n",
      "           1       0.82      0.54      0.65       108\n",
      "\n",
      "    accuracy                           0.79       298\n",
      "   macro avg       0.80      0.73      0.75       298\n",
      "weighted avg       0.79      0.79      0.78       298\n",
      "\n"
     ]
    }
   ],
   "source": [
    "acc2 = accuracy_score(y_val, pred2)\n",
    "roc_auc2 = roc_auc_score(y_val, pred2)\n",
    "matrix2 = confusion_matrix(y_val, pred2)\n",
    "report2 = classification_report(y_val, pred2)\n",
    "\n",
    "print(acc2, roc_auc2)\n",
    "print(matrix2)\n",
    "print(report2)"
   ]
  },
  {
   "cell_type": "code",
   "execution_count": 20,
   "metadata": {},
   "outputs": [],
   "source": [
    "id = test.pop('Unnamed: 0')\n",
    "\n",
    "pred3 = model.predict(test)\n"
   ]
  },
  {
   "cell_type": "code",
   "execution_count": 21,
   "metadata": {},
   "outputs": [
    {
     "name": "stdout",
     "output_type": "stream",
     "text": [
      "       id  pred\n",
      "0    1569     0\n",
      "1    1344     1\n",
      "2    1429     0\n",
      "3     896     0\n",
      "4     101     1\n",
      "..    ...   ...\n",
      "492  1376     0\n",
      "493    87     0\n",
      "494   287     0\n",
      "495   337     1\n",
      "496    92     0\n",
      "\n",
      "[497 rows x 2 columns]\n"
     ]
    }
   ],
   "source": [
    "pd.DataFrame({'id':id, 'pred':pred3}).to_csv('result.csv', index=False)\n",
    "result = pd.read_csv('result.csv')\n",
    "print(result)"
   ]
  }
 ],
 "metadata": {
  "kernelspec": {
   "display_name": "Python 3",
   "language": "python",
   "name": "python3"
  },
  "language_info": {
   "codemirror_mode": {
    "name": "ipython",
    "version": 3
   },
   "file_extension": ".py",
   "mimetype": "text/x-python",
   "name": "python",
   "nbconvert_exporter": "python",
   "pygments_lexer": "ipython3",
   "version": "3.12.7"
  }
 },
 "nbformat": 4,
 "nbformat_minor": 2
}
