{
 "cells": [
  {
   "cell_type": "code",
   "execution_count": 1,
   "metadata": {},
   "outputs": [],
   "source": [
    "# 모의고사 3유형\n",
    "# 다중회귀분석\n",
    "# 다음은 당뇨병 진척정도 데이터셋이다. 아래 물음에 답하시오."
   ]
  },
  {
   "cell_type": "code",
   "execution_count": 2,
   "metadata": {},
   "outputs": [],
   "source": [
    "###############  실기환경 복사 영역  ###############\n",
    "import pandas as pd\n",
    "import numpy as np\n",
    "# 실기 시험 데이터셋으로 셋팅하기 (수정금지)\n",
    "from sklearn.datasets import load_diabetes\n",
    "# diabetes 데이터셋 로드\n",
    "diabetes = load_diabetes()\n",
    "x = pd.DataFrame(diabetes.data, columns=diabetes.feature_names)\n",
    "y = pd.DataFrame(diabetes.target)\n",
    "y.columns = ['target'] \n",
    "df = pd.concat([y, x], axis=1)\n",
    "###############  실기환경 복사 영역  ###############\n"
   ]
  },
  {
   "cell_type": "code",
   "execution_count": 3,
   "metadata": {},
   "outputs": [],
   "source": [
    "# 문제3-1.\n",
    "#  target 칼럼(종속변수)과 상관관계가 높은 독립변수 3개를 구하시오.\n",
    "#  (단, 상관분석은 피어슨 상관분석으로 진행하시오)\n",
    "\n",
    "# 문제 3-2.\n",
    "#  3-1 에서 구한 3개의 독립변수를 가지고 다중회귀분석을 실시하고\n",
    "# 아래 성능지표 5가지 값들을 구하시오.\n",
    "# 성능지표 : Rsq(결정계수), Rsq-adj(수정결정계수), MSE, AIC값을 구하시오.\n",
    "#  (단, 초기 200개 데이터를 사용하시오)\n",
    "#  (단, 정답은 반올림하여 소수점 셋째자리까지 구하시오)\n",
    "\n",
    "# 문제 3-3.\n",
    "#  3-2 에서 구한 회귀 모델에 나머지 242개의 데이터를 적용하여\n",
    "# MSE 값을 구하시오.\n",
    "#  (단, 정답은 반올림하여 소수점 셋째자리까지 구하시오)"
   ]
  },
  {
   "cell_type": "code",
   "execution_count": 4,
   "metadata": {},
   "outputs": [
    {
     "data": {
      "text/html": [
       "<div>\n",
       "<style scoped>\n",
       "    .dataframe tbody tr th:only-of-type {\n",
       "        vertical-align: middle;\n",
       "    }\n",
       "\n",
       "    .dataframe tbody tr th {\n",
       "        vertical-align: top;\n",
       "    }\n",
       "\n",
       "    .dataframe thead th {\n",
       "        text-align: right;\n",
       "    }\n",
       "</style>\n",
       "<table border=\"1\" class=\"dataframe\">\n",
       "  <thead>\n",
       "    <tr style=\"text-align: right;\">\n",
       "      <th></th>\n",
       "      <th>target</th>\n",
       "      <th>age</th>\n",
       "      <th>sex</th>\n",
       "      <th>bmi</th>\n",
       "      <th>bp</th>\n",
       "      <th>s1</th>\n",
       "      <th>s2</th>\n",
       "      <th>s3</th>\n",
       "      <th>s4</th>\n",
       "      <th>s5</th>\n",
       "      <th>s6</th>\n",
       "    </tr>\n",
       "  </thead>\n",
       "  <tbody>\n",
       "    <tr>\n",
       "      <th>target</th>\n",
       "      <td>1.000000</td>\n",
       "      <td>0.187889</td>\n",
       "      <td>0.043062</td>\n",
       "      <td>0.586450</td>\n",
       "      <td>0.441482</td>\n",
       "      <td>0.212022</td>\n",
       "      <td>0.174054</td>\n",
       "      <td>-0.394789</td>\n",
       "      <td>0.430453</td>\n",
       "      <td>0.565883</td>\n",
       "      <td>0.382483</td>\n",
       "    </tr>\n",
       "    <tr>\n",
       "      <th>age</th>\n",
       "      <td>0.187889</td>\n",
       "      <td>1.000000</td>\n",
       "      <td>0.173737</td>\n",
       "      <td>0.185085</td>\n",
       "      <td>0.335428</td>\n",
       "      <td>0.260061</td>\n",
       "      <td>0.219243</td>\n",
       "      <td>-0.075181</td>\n",
       "      <td>0.203841</td>\n",
       "      <td>0.270774</td>\n",
       "      <td>0.301731</td>\n",
       "    </tr>\n",
       "    <tr>\n",
       "      <th>sex</th>\n",
       "      <td>0.043062</td>\n",
       "      <td>0.173737</td>\n",
       "      <td>1.000000</td>\n",
       "      <td>0.088161</td>\n",
       "      <td>0.241010</td>\n",
       "      <td>0.035277</td>\n",
       "      <td>0.142637</td>\n",
       "      <td>-0.379090</td>\n",
       "      <td>0.332115</td>\n",
       "      <td>0.149916</td>\n",
       "      <td>0.208133</td>\n",
       "    </tr>\n",
       "    <tr>\n",
       "      <th>bmi</th>\n",
       "      <td>0.586450</td>\n",
       "      <td>0.185085</td>\n",
       "      <td>0.088161</td>\n",
       "      <td>1.000000</td>\n",
       "      <td>0.395411</td>\n",
       "      <td>0.249777</td>\n",
       "      <td>0.261170</td>\n",
       "      <td>-0.366811</td>\n",
       "      <td>0.413807</td>\n",
       "      <td>0.446157</td>\n",
       "      <td>0.388680</td>\n",
       "    </tr>\n",
       "    <tr>\n",
       "      <th>bp</th>\n",
       "      <td>0.441482</td>\n",
       "      <td>0.335428</td>\n",
       "      <td>0.241010</td>\n",
       "      <td>0.395411</td>\n",
       "      <td>1.000000</td>\n",
       "      <td>0.242464</td>\n",
       "      <td>0.185548</td>\n",
       "      <td>-0.178762</td>\n",
       "      <td>0.257650</td>\n",
       "      <td>0.393480</td>\n",
       "      <td>0.390430</td>\n",
       "    </tr>\n",
       "    <tr>\n",
       "      <th>s1</th>\n",
       "      <td>0.212022</td>\n",
       "      <td>0.260061</td>\n",
       "      <td>0.035277</td>\n",
       "      <td>0.249777</td>\n",
       "      <td>0.242464</td>\n",
       "      <td>1.000000</td>\n",
       "      <td>0.896663</td>\n",
       "      <td>0.051519</td>\n",
       "      <td>0.542207</td>\n",
       "      <td>0.515503</td>\n",
       "      <td>0.325717</td>\n",
       "    </tr>\n",
       "    <tr>\n",
       "      <th>s2</th>\n",
       "      <td>0.174054</td>\n",
       "      <td>0.219243</td>\n",
       "      <td>0.142637</td>\n",
       "      <td>0.261170</td>\n",
       "      <td>0.185548</td>\n",
       "      <td>0.896663</td>\n",
       "      <td>1.000000</td>\n",
       "      <td>-0.196455</td>\n",
       "      <td>0.659817</td>\n",
       "      <td>0.318357</td>\n",
       "      <td>0.290600</td>\n",
       "    </tr>\n",
       "    <tr>\n",
       "      <th>s3</th>\n",
       "      <td>-0.394789</td>\n",
       "      <td>-0.075181</td>\n",
       "      <td>-0.379090</td>\n",
       "      <td>-0.366811</td>\n",
       "      <td>-0.178762</td>\n",
       "      <td>0.051519</td>\n",
       "      <td>-0.196455</td>\n",
       "      <td>1.000000</td>\n",
       "      <td>-0.738493</td>\n",
       "      <td>-0.398577</td>\n",
       "      <td>-0.273697</td>\n",
       "    </tr>\n",
       "    <tr>\n",
       "      <th>s4</th>\n",
       "      <td>0.430453</td>\n",
       "      <td>0.203841</td>\n",
       "      <td>0.332115</td>\n",
       "      <td>0.413807</td>\n",
       "      <td>0.257650</td>\n",
       "      <td>0.542207</td>\n",
       "      <td>0.659817</td>\n",
       "      <td>-0.738493</td>\n",
       "      <td>1.000000</td>\n",
       "      <td>0.617859</td>\n",
       "      <td>0.417212</td>\n",
       "    </tr>\n",
       "    <tr>\n",
       "      <th>s5</th>\n",
       "      <td>0.565883</td>\n",
       "      <td>0.270774</td>\n",
       "      <td>0.149916</td>\n",
       "      <td>0.446157</td>\n",
       "      <td>0.393480</td>\n",
       "      <td>0.515503</td>\n",
       "      <td>0.318357</td>\n",
       "      <td>-0.398577</td>\n",
       "      <td>0.617859</td>\n",
       "      <td>1.000000</td>\n",
       "      <td>0.464669</td>\n",
       "    </tr>\n",
       "    <tr>\n",
       "      <th>s6</th>\n",
       "      <td>0.382483</td>\n",
       "      <td>0.301731</td>\n",
       "      <td>0.208133</td>\n",
       "      <td>0.388680</td>\n",
       "      <td>0.390430</td>\n",
       "      <td>0.325717</td>\n",
       "      <td>0.290600</td>\n",
       "      <td>-0.273697</td>\n",
       "      <td>0.417212</td>\n",
       "      <td>0.464669</td>\n",
       "      <td>1.000000</td>\n",
       "    </tr>\n",
       "  </tbody>\n",
       "</table>\n",
       "</div>"
      ],
      "text/plain": [
       "          target       age       sex       bmi        bp        s1        s2  \\\n",
       "target  1.000000  0.187889  0.043062  0.586450  0.441482  0.212022  0.174054   \n",
       "age     0.187889  1.000000  0.173737  0.185085  0.335428  0.260061  0.219243   \n",
       "sex     0.043062  0.173737  1.000000  0.088161  0.241010  0.035277  0.142637   \n",
       "bmi     0.586450  0.185085  0.088161  1.000000  0.395411  0.249777  0.261170   \n",
       "bp      0.441482  0.335428  0.241010  0.395411  1.000000  0.242464  0.185548   \n",
       "s1      0.212022  0.260061  0.035277  0.249777  0.242464  1.000000  0.896663   \n",
       "s2      0.174054  0.219243  0.142637  0.261170  0.185548  0.896663  1.000000   \n",
       "s3     -0.394789 -0.075181 -0.379090 -0.366811 -0.178762  0.051519 -0.196455   \n",
       "s4      0.430453  0.203841  0.332115  0.413807  0.257650  0.542207  0.659817   \n",
       "s5      0.565883  0.270774  0.149916  0.446157  0.393480  0.515503  0.318357   \n",
       "s6      0.382483  0.301731  0.208133  0.388680  0.390430  0.325717  0.290600   \n",
       "\n",
       "              s3        s4        s5        s6  \n",
       "target -0.394789  0.430453  0.565883  0.382483  \n",
       "age    -0.075181  0.203841  0.270774  0.301731  \n",
       "sex    -0.379090  0.332115  0.149916  0.208133  \n",
       "bmi    -0.366811  0.413807  0.446157  0.388680  \n",
       "bp     -0.178762  0.257650  0.393480  0.390430  \n",
       "s1      0.051519  0.542207  0.515503  0.325717  \n",
       "s2     -0.196455  0.659817  0.318357  0.290600  \n",
       "s3      1.000000 -0.738493 -0.398577 -0.273697  \n",
       "s4     -0.738493  1.000000  0.617859  0.417212  \n",
       "s5     -0.398577  0.617859  1.000000  0.464669  \n",
       "s6     -0.273697  0.417212  0.464669  1.000000  "
      ]
     },
     "execution_count": 4,
     "metadata": {},
     "output_type": "execute_result"
    }
   ],
   "source": [
    "corr = df.corr(method='pearson')\n",
    "corr"
   ]
  },
  {
   "cell_type": "code",
   "execution_count": 5,
   "metadata": {},
   "outputs": [
    {
     "data": {
      "text/plain": [
       "bmi    0.586450\n",
       "s5     0.565883\n",
       "bp     0.441482\n",
       "Name: target, dtype: float64"
      ]
     },
     "execution_count": 5,
     "metadata": {},
     "output_type": "execute_result"
    }
   ],
   "source": [
    "abs(corr.loc['target']).sort_values(ascending=False)[1:4]"
   ]
  },
  {
   "cell_type": "code",
   "execution_count": 6,
   "metadata": {},
   "outputs": [
    {
     "name": "stdout",
     "output_type": "stream",
     "text": [
      "   target       age       sex       bmi        bp        s1        s2  \\\n",
      "0   151.0  0.038076  0.050680  0.061696  0.021872 -0.044223 -0.034821   \n",
      "1    75.0 -0.001882 -0.044642 -0.051474 -0.026328 -0.008449 -0.019163   \n",
      "2   141.0  0.085299  0.050680  0.044451 -0.005670 -0.045599 -0.034194   \n",
      "3   206.0 -0.089063 -0.044642 -0.011595 -0.036656  0.012191  0.024991   \n",
      "4   135.0  0.005383 -0.044642 -0.036385  0.021872  0.003935  0.015596   \n",
      "\n",
      "         s3        s4        s5        s6  \n",
      "0 -0.043401 -0.002592  0.019907 -0.017646  \n",
      "1  0.074412 -0.039493 -0.068332 -0.092204  \n",
      "2 -0.032356 -0.002592  0.002861 -0.025930  \n",
      "3 -0.036038  0.034309  0.022688 -0.009362  \n",
      "4  0.008142 -0.002592 -0.031988 -0.046641  \n",
      "(442, 11)\n"
     ]
    }
   ],
   "source": [
    "print(df.head())\n",
    "print(df.shape)"
   ]
  },
  {
   "cell_type": "code",
   "execution_count": 7,
   "metadata": {},
   "outputs": [],
   "source": [
    "train = df.iloc[0:200]\n",
    "test = df.iloc[200:442]\n",
    "\n",
    "x_train = train[['bmi', 's5', 'bp']]\n",
    "y_train = train['target']\n",
    "x_test = test[['bmi', 's5', 'bp']]\n",
    "y_test = test['target']"
   ]
  },
  {
   "cell_type": "code",
   "execution_count": 8,
   "metadata": {},
   "outputs": [
    {
     "name": "stdout",
     "output_type": "stream",
     "text": [
      "                            OLS Regression Results                            \n",
      "==============================================================================\n",
      "Dep. Variable:                 target   R-squared:                       0.443\n",
      "Model:                            OLS   Adj. R-squared:                  0.434\n",
      "Method:                 Least Squares   F-statistic:                     51.86\n",
      "Date:                Mon, 11 Nov 2024   Prob (F-statistic):           1.01e-24\n",
      "Time:                        16:15:36   Log-Likelihood:                -1087.4\n",
      "No. Observations:                 200   AIC:                             2183.\n",
      "Df Residuals:                     196   BIC:                             2196.\n",
      "Df Model:                           3                                         \n",
      "Covariance Type:            nonrobust                                         \n",
      "==============================================================================\n",
      "                 coef    std err          t      P>|t|      [0.025      0.975]\n",
      "------------------------------------------------------------------------------\n",
      "const        151.3408      3.993     37.906      0.000     143.467     159.215\n",
      "bmi          596.6494    101.116      5.901      0.000     397.234     796.065\n",
      "s5           586.5628    101.279      5.792      0.000     386.827     786.299\n",
      "bp           151.4082    100.096      1.513      0.132     -45.995     348.811\n",
      "==============================================================================\n",
      "Omnibus:                        5.848   Durbin-Watson:                   1.880\n",
      "Prob(Omnibus):                  0.054   Jarque-Bera (JB):                4.971\n",
      "Skew:                           0.300   Prob(JB):                       0.0833\n",
      "Kurtosis:                       2.513   Cond. No.                         29.4\n",
      "==============================================================================\n",
      "\n",
      "Notes:\n",
      "[1] Standard Errors assume that the covariance matrix of the errors is correctly specified.\n"
     ]
    }
   ],
   "source": [
    "import statsmodels.api  as sm\n",
    "\n",
    "x_train = sm.add_constant(x_train)\n",
    "model = sm.OLS(y_train, x_train).fit()\n",
    "\n",
    "print(model.summary())\n"
   ]
  },
  {
   "cell_type": "code",
   "execution_count": 9,
   "metadata": {},
   "outputs": [
    {
     "name": "stdout",
     "output_type": "stream",
     "text": [
      "0.443\n",
      "0.434\n"
     ]
    }
   ],
   "source": [
    "print(round(model.rsquared,3))\n",
    "print(round(model.rsquared_adj,3))\n"
   ]
  },
  {
   "cell_type": "code",
   "execution_count": null,
   "metadata": {},
   "outputs": [
    {
     "name": "stdout",
     "output_type": "stream",
     "text": [
      "3122.0611179053885\n"
     ]
    }
   ],
   "source": [
    "from sklearn.metrics import mean_squared_error\n",
    "x_test = sm.add_constant(x_test)\n",
    "pred = model.predict(x_test)\n",
    "mse = mean_squared_error(y_test, pred)\n",
    "print(mse)"
   ]
  },
  {
   "cell_type": "code",
   "execution_count": null,
   "metadata": {},
   "outputs": [],
   "source": []
  },
  {
   "cell_type": "code",
   "execution_count": 11,
   "metadata": {},
   "outputs": [],
   "source": [
    "# 로지스틱 회귀분석\n",
    "# 다음은 유방암 진단 데이터셋이다. 아래 물음에 답하시오."
   ]
  },
  {
   "cell_type": "code",
   "execution_count": 12,
   "metadata": {},
   "outputs": [],
   "source": [
    "###############  실기환경 복사 영역  ###############\n",
    "import pandas as pd\n",
    "import numpy as np\n",
    "\n",
    "# 실기 시험 데이터셋으로 셋팅하기 (수정금지)\n",
    "from sklearn.datasets import load_breast_cancer\n",
    "# 유방암 데이터셋 load \n",
    "cancer = load_breast_cancer()\n",
    "X, y = load_breast_cancer(return_X_y= True, as_frame=True)\n",
    "x = pd.DataFrame(X)\n",
    "y = pd.DataFrame(y)\n",
    "x = x.iloc[:,1:4]\n",
    "x.columns = ['mean_texture', 'mean_perimeter','mean_area']\n",
    "y.columns = ['class']\n",
    "df = pd.concat([y, x], axis=1)\n",
    "###############  실기환경 복사 영역  ###############\n"
   ]
  },
  {
   "cell_type": "code",
   "execution_count": 13,
   "metadata": {},
   "outputs": [],
   "source": [
    "# 문제 3-4.\n",
    "# 주어진 데이터셋에서 class 칼럼을 target 변수로 하여\n",
    "# 로지스틱 회귀분석을 실시하고 residual deviance값을 구하시오.\n",
    "#  (단, 초기 400개의 데이터를 사용하시오)\n",
    "#  (단, 정답은 반올림하여 소수점 둘째자리까지 구하시오)\n",
    "\n",
    "# 문제 3-5.\n",
    "# 문제 3-4의 로지스틱 회귀모형에서 mean_perimeter 변수가 한단위 증가할 때\n",
    "# 양성일 오즈가 몇 배 증가하는지 반올림하여 소수점 둘째 자리까지 구하시오.\n",
    "\n",
    "# 문제 3-6.\n",
    "#  3-4에서 학습한 모델에 나머지 169개 데이터를 적용하여\n",
    "# 정확도(accuracy)를 구하시오.\n",
    "#  (단, 정답은 반올림하여 소수점 둘째자리까지 구하시오)"
   ]
  },
  {
   "cell_type": "code",
   "execution_count": 14,
   "metadata": {},
   "outputs": [
    {
     "data": {
      "text/html": [
       "<div>\n",
       "<style scoped>\n",
       "    .dataframe tbody tr th:only-of-type {\n",
       "        vertical-align: middle;\n",
       "    }\n",
       "\n",
       "    .dataframe tbody tr th {\n",
       "        vertical-align: top;\n",
       "    }\n",
       "\n",
       "    .dataframe thead th {\n",
       "        text-align: right;\n",
       "    }\n",
       "</style>\n",
       "<table border=\"1\" class=\"dataframe\">\n",
       "  <thead>\n",
       "    <tr style=\"text-align: right;\">\n",
       "      <th></th>\n",
       "      <th>class</th>\n",
       "      <th>mean_texture</th>\n",
       "      <th>mean_perimeter</th>\n",
       "      <th>mean_area</th>\n",
       "    </tr>\n",
       "  </thead>\n",
       "  <tbody>\n",
       "    <tr>\n",
       "      <th>0</th>\n",
       "      <td>0</td>\n",
       "      <td>10.38</td>\n",
       "      <td>122.80</td>\n",
       "      <td>1001.0</td>\n",
       "    </tr>\n",
       "    <tr>\n",
       "      <th>1</th>\n",
       "      <td>0</td>\n",
       "      <td>17.77</td>\n",
       "      <td>132.90</td>\n",
       "      <td>1326.0</td>\n",
       "    </tr>\n",
       "    <tr>\n",
       "      <th>2</th>\n",
       "      <td>0</td>\n",
       "      <td>21.25</td>\n",
       "      <td>130.00</td>\n",
       "      <td>1203.0</td>\n",
       "    </tr>\n",
       "    <tr>\n",
       "      <th>3</th>\n",
       "      <td>0</td>\n",
       "      <td>20.38</td>\n",
       "      <td>77.58</td>\n",
       "      <td>386.1</td>\n",
       "    </tr>\n",
       "    <tr>\n",
       "      <th>4</th>\n",
       "      <td>0</td>\n",
       "      <td>14.34</td>\n",
       "      <td>135.10</td>\n",
       "      <td>1297.0</td>\n",
       "    </tr>\n",
       "  </tbody>\n",
       "</table>\n",
       "</div>"
      ],
      "text/plain": [
       "   class  mean_texture  mean_perimeter  mean_area\n",
       "0      0         10.38          122.80     1001.0\n",
       "1      0         17.77          132.90     1326.0\n",
       "2      0         21.25          130.00     1203.0\n",
       "3      0         20.38           77.58      386.1\n",
       "4      0         14.34          135.10     1297.0"
      ]
     },
     "execution_count": 14,
     "metadata": {},
     "output_type": "execute_result"
    }
   ],
   "source": [
    "df.head()"
   ]
  },
  {
   "cell_type": "code",
   "execution_count": 15,
   "metadata": {},
   "outputs": [],
   "source": [
    "# df.shape\n",
    "train = df[:400]\n",
    "test = df[400:] "
   ]
  },
  {
   "cell_type": "code",
   "execution_count": 16,
   "metadata": {},
   "outputs": [
    {
     "name": "stdout",
     "output_type": "stream",
     "text": [
      "(400, 3) (400,)\n",
      "(169, 3) (169,)\n"
     ]
    }
   ],
   "source": [
    "x_train = train.drop(columns='class')\n",
    "y_train = train['class']\n",
    "x_test = test.drop(columns='class')\n",
    "y_test = test['class']\n",
    "\n",
    "print(x_train.shape, y_train.shape)\n",
    "print(x_test.shape, y_test.shape)"
   ]
  },
  {
   "cell_type": "code",
   "execution_count": 19,
   "metadata": {},
   "outputs": [],
   "source": [
    "import statsmodels.api as sm\n",
    "\n",
    "x_train = sm.add_constant(x_train)\n",
    "model_glm = sm.GLM(y_train, x_train, family=sm.families.Binomial()).fit()\n"
   ]
  },
  {
   "cell_type": "code",
   "execution_count": 21,
   "metadata": {},
   "outputs": [
    {
     "name": "stdout",
     "output_type": "stream",
     "text": [
      "                 Generalized Linear Model Regression Results                  \n",
      "==============================================================================\n",
      "Dep. Variable:                  class   No. Observations:                  400\n",
      "Model:                            GLM   Df Residuals:                      396\n",
      "Model Family:                Binomial   Df Model:                            3\n",
      "Link Function:                  Logit   Scale:                          1.0000\n",
      "Method:                          IRLS   Log-Likelihood:                -88.699\n",
      "Date:                Mon, 11 Nov 2024   Deviance:                       177.40\n",
      "Time:                        16:16:25   Pearson chi2:                     283.\n",
      "No. Iterations:                     7   Pseudo R-squ. (CS):             0.6033\n",
      "Covariance Type:            nonrobust                                         \n",
      "==================================================================================\n",
      "                     coef    std err          z      P>|z|      [0.025      0.975]\n",
      "----------------------------------------------------------------------------------\n",
      "const             34.6206      4.611      7.509      0.000      25.584      43.657\n",
      "mean_texture      -0.3129      0.056     -5.579      0.000      -0.423      -0.203\n",
      "mean_perimeter    -0.4579      0.081     -5.680      0.000      -0.616      -0.300\n",
      "mean_area          0.0218      0.005      4.154      0.000       0.012       0.032\n",
      "==================================================================================\n"
     ]
    }
   ],
   "source": [
    "summary = model_glm.summary()\n",
    "print(summary)"
   ]
  },
  {
   "cell_type": "code",
   "execution_count": null,
   "metadata": {},
   "outputs": [],
   "source": [
    "# 문제 3-4.\n",
    "# 주어진 데이터셋에서 class 칼럼을 target 변수로 하여\n",
    "# 로지스틱 회귀분석을 실시하고 residual deviance값을 구하시오.\n",
    "#  (단, 초기 400개의 데이터를 사용하시오)\n",
    "#  (단, 정답은 반올림하여 소수점 둘째자리까지 구하시오)\n",
    "\n",
    "# residual deviance(잔차 이탈도) : 177.40"
   ]
  },
  {
   "cell_type": "code",
   "execution_count": 26,
   "metadata": {},
   "outputs": [
    {
     "name": "stdout",
     "output_type": "stream",
     "text": [
      "0.63\n"
     ]
    }
   ],
   "source": [
    "# 문제 3-5.\n",
    "# 문제 3-4의 로지스틱 회귀모형에서 mean_perimeter 변수가 한단위 증가할 때\n",
    "# 양성일 오즈가 몇 배 증가하는지 반올림하여 소수점 둘째 자리까지 구하시오.\n",
    "coef = -0.4579\n",
    "print(round(np.exp(coef),2))"
   ]
  },
  {
   "cell_type": "code",
   "execution_count": null,
   "metadata": {},
   "outputs": [],
   "source": [
    "from sklearn.metrics import accuracy_score\n",
    "x_test = sm.add_constant(x_test)\n",
    "pred = model_glm.predict(x_test)\n",
    "\n",
    "# print(pred.head())\n",
    "# print(y_test.head())\n",
    "\n",
    "import numpy as np\n",
    "pred = np.where( pred>0.5, 1, 0 )\n",
    "\n",
    "acc = accuracy_score(y_test,pred)\n",
    "print(round(acc,2))"
   ]
  }
 ],
 "metadata": {
  "kernelspec": {
   "display_name": "Python 3",
   "language": "python",
   "name": "python3"
  },
  "language_info": {
   "codemirror_mode": {
    "name": "ipython",
    "version": 3
   },
   "file_extension": ".py",
   "mimetype": "text/x-python",
   "name": "python",
   "nbconvert_exporter": "python",
   "pygments_lexer": "ipython3",
   "version": "3.12.7"
  }
 },
 "nbformat": 4,
 "nbformat_minor": 2
}
