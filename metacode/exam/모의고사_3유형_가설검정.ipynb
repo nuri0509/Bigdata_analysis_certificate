{
 "cells": [
  {
   "cell_type": "code",
   "execution_count": 1,
   "metadata": {},
   "outputs": [],
   "source": [
    "# 모의고사 3유형\n",
    "# 가설검정\n",
    "# 문제 1\n",
    "# 다음은 A그룹과 B그룹 인원의 키 데이터이다.\n",
    "# 두 그룹의 키 평균이 다르다고 할 수 있는지\n",
    "# 가설검정을 실시하고자 한다. 아래 물음에 답하시오(유의수준 1%)\n",
    "#  In [1]:\n",
    "#  A : A그룹 인원의 키 평균, B : B그룹 인원의 키 평균\n",
    "# H0(귀무가설) : A = B\n",
    "#  H1(대립가설) : A ≠ B"
   ]
  },
  {
   "cell_type": "code",
   "execution_count": 2,
   "metadata": {},
   "outputs": [],
   "source": [
    "###############  실기환경 복사 영역  ###############\n",
    "import pandas as pd\n",
    "# 데이터 생성\n",
    "data = {\n",
    "    'Height': [172, 175, 173, 174, 177, 170, 169, 178, 171, 176,  # Group A\n",
    "               168, 165, 171, 169, 170, 174, 171, 171, 168, 175], # Group B\n",
    "    'Group': ['A'] * 10 + ['B'] * 10\n",
    "}\n",
    "df = pd.DataFrame(data)\n",
    "###############  실기환경 복사 영역  ###############\n",
    "\n"
   ]
  },
  {
   "cell_type": "code",
   "execution_count": 3,
   "metadata": {},
   "outputs": [],
   "source": [
    "# 문제 1-1\n",
    " \n",
    "# 독립표본 t검정을 실시하고 검정통계량, p-value 값을 구하시오.\n",
    "# 정답은 반올림하여 소수점 셋째자리까지 구하시오\n",
    "# (단, 두 그룹의 데이터는 정규성은 만족하지만, 등분산성은 만족하지 못한다고 가정한다)\n",
    "# 문제 1-2\n",
    "# 귀무가설 기각여부를 결정하시오(답은 채택 또는 기각으로 작성하시오)"
   ]
  },
  {
   "cell_type": "code",
   "execution_count": 4,
   "metadata": {},
   "outputs": [],
   "source": [
    "group_a = df[df['Group'] == 'A']['Height']\n",
    "group_b = df[df['Group'] == 'B']['Height']"
   ]
  },
  {
   "cell_type": "code",
   "execution_count": 5,
   "metadata": {},
   "outputs": [
    {
     "name": "stdout",
     "output_type": "stream",
     "text": [
      "2.4742269248601123 0.02354414015156895\n"
     ]
    }
   ],
   "source": [
    "import scipy.stats as stats\n",
    "\n",
    "statistic, p_value, = stats.ttest_ind(group_a, group_b, equal_var=False, alternative='two-sided')\n",
    "\n",
    "print(statistic, p_value)  #기각"
   ]
  },
  {
   "cell_type": "code",
   "execution_count": 6,
   "metadata": {},
   "outputs": [],
   "source": [
    "# 귀무가설 기각(대립가설 채택)"
   ]
  },
  {
   "cell_type": "code",
   "execution_count": null,
   "metadata": {},
   "outputs": [],
   "source": []
  },
  {
   "cell_type": "code",
   "execution_count": 7,
   "metadata": {},
   "outputs": [],
   "source": [
    "# 문제 2\n",
    "\n",
    "# 다음은 A, B, C 그룹 인원의 영어 성적 데이터이다.\n",
    "# 세 그룹의 성적 평균이 같다고 할 수 있는지 ANOVA 분석을 실시하시오.\n",
    "#  (유의수준 5%)\n",
    "#  In [2]:\n",
    "#  A, B, C : 각 그룹 인원의 성적\n",
    "# H0(귀무가설) : A(평균) = B(평균) = C(평균)\n",
    "#  H1(대립가설) : Not H0 (적어도 하나는 같지 않다)"
   ]
  },
  {
   "cell_type": "code",
   "execution_count": 8,
   "metadata": {},
   "outputs": [
    {
     "data": {
      "text/html": [
       "<div>\n",
       "<style scoped>\n",
       "    .dataframe tbody tr th:only-of-type {\n",
       "        vertical-align: middle;\n",
       "    }\n",
       "\n",
       "    .dataframe tbody tr th {\n",
       "        vertical-align: top;\n",
       "    }\n",
       "\n",
       "    .dataframe thead th {\n",
       "        text-align: right;\n",
       "    }\n",
       "</style>\n",
       "<table border=\"1\" class=\"dataframe\">\n",
       "  <thead>\n",
       "    <tr style=\"text-align: right;\">\n",
       "      <th></th>\n",
       "      <th>English_Score</th>\n",
       "      <th>Group</th>\n",
       "    </tr>\n",
       "  </thead>\n",
       "  <tbody>\n",
       "    <tr>\n",
       "      <th>0</th>\n",
       "      <td>82</td>\n",
       "      <td>A</td>\n",
       "    </tr>\n",
       "    <tr>\n",
       "      <th>1</th>\n",
       "      <td>84</td>\n",
       "      <td>A</td>\n",
       "    </tr>\n",
       "    <tr>\n",
       "      <th>2</th>\n",
       "      <td>83</td>\n",
       "      <td>A</td>\n",
       "    </tr>\n",
       "    <tr>\n",
       "      <th>3</th>\n",
       "      <td>85</td>\n",
       "      <td>A</td>\n",
       "    </tr>\n",
       "    <tr>\n",
       "      <th>4</th>\n",
       "      <td>86</td>\n",
       "      <td>A</td>\n",
       "    </tr>\n",
       "    <tr>\n",
       "      <th>5</th>\n",
       "      <td>87</td>\n",
       "      <td>A</td>\n",
       "    </tr>\n",
       "    <tr>\n",
       "      <th>6</th>\n",
       "      <td>85</td>\n",
       "      <td>A</td>\n",
       "    </tr>\n",
       "    <tr>\n",
       "      <th>7</th>\n",
       "      <td>84</td>\n",
       "      <td>A</td>\n",
       "    </tr>\n",
       "    <tr>\n",
       "      <th>8</th>\n",
       "      <td>86</td>\n",
       "      <td>A</td>\n",
       "    </tr>\n",
       "    <tr>\n",
       "      <th>9</th>\n",
       "      <td>88</td>\n",
       "      <td>A</td>\n",
       "    </tr>\n",
       "  </tbody>\n",
       "</table>\n",
       "</div>"
      ],
      "text/plain": [
       "   English_Score Group\n",
       "0             82     A\n",
       "1             84     A\n",
       "2             83     A\n",
       "3             85     A\n",
       "4             86     A\n",
       "5             87     A\n",
       "6             85     A\n",
       "7             84     A\n",
       "8             86     A\n",
       "9             88     A"
      ]
     },
     "execution_count": 8,
     "metadata": {},
     "output_type": "execute_result"
    }
   ],
   "source": [
    "###############  실기환경 복사 영역  ###############\n",
    "import pandas as pd\n",
    "# 데이터 생성\n",
    "data = {\n",
    "    'English_Score': [82, 84, 83, 85, 86, 87, 85, 84, 86, 88,  # Group A\n",
    "                      78, 77, 79, 76, 75, 77, 78, 79, 80, 76,  # Group B\n",
    "                      81, 83, 82, 84, 85, 83, 84, 82, 85, 86], # Group C\n",
    "    'Group': ['A'] * 10 + ['B'] * 10 + ['C'] * 10\n",
    "}\n",
    "df = pd.DataFrame(data)\n",
    "###############  실기환경 복사 영역  ###############\n",
    "\n",
    "df.head(10)"
   ]
  },
  {
   "cell_type": "code",
   "execution_count": 9,
   "metadata": {},
   "outputs": [],
   "source": [
    "# 문제 2-1\n",
    "\n",
    "#  ANOVA 분석을 실시하고 검정통계량, p-value 값을 구하시오.\n",
    "# 정답은 반올림하여 소수점 셋째자리까지 구하시오\n",
    "# (단, 각 그룹의 데이터는 정규성, 등분산성을 만족한다고 가정한다)\n",
    "# 문제 2-2\n",
    "# 귀무가설 기각여부를 결정하시오(답은 채택 또는 기각으로 작성하시오)"
   ]
  },
  {
   "cell_type": "code",
   "execution_count": 10,
   "metadata": {},
   "outputs": [],
   "source": [
    "a = df[df['Group'] == 'A']['English_Score']\n",
    "b = df[df['Group'] == 'B']['English_Score']\n",
    "c = df[df['Group'] == 'C']['English_Score']"
   ]
  },
  {
   "cell_type": "code",
   "execution_count": 11,
   "metadata": {},
   "outputs": [
    {
     "name": "stdout",
     "output_type": "stream",
     "text": [
      "56.7 2.1575201522991445e-10\n"
     ]
    }
   ],
   "source": [
    "statistic, p_value = stats.f_oneway(a,b,c)\n",
    "\n",
    "print(statistic, p_value) #귀무가설 기각(대립가설 채택)"
   ]
  },
  {
   "cell_type": "code",
   "execution_count": 12,
   "metadata": {},
   "outputs": [
    {
     "name": "stdout",
     "output_type": "stream",
     "text": [
      "85.0\n",
      "77.5\n",
      "83.5\n"
     ]
    }
   ],
   "source": [
    "print(a.mean())\n",
    "print(b.mean())\n",
    "print(c.mean()) #귀무가설 기각(대립가설 채택)"
   ]
  },
  {
   "cell_type": "code",
   "execution_count": 13,
   "metadata": {},
   "outputs": [],
   "source": [
    "# 문제 3\n",
    "# 어느 그룹에서 성별에 따라 선택한 스포츠가 관련성이 있는지\n",
    "# 검정해보고자 한다. 두 변수(Sport, Gender)의 독립성 검정을 실시하시오.\n",
    "#  (유의수준 5%)\n",
    "#  . Gender : Male, Female\n",
    "#  . Sport : Soccer, Basketball, Swimming\n",
    "#  H0(귀무가설) : 두 변수는 서로 독립이다\n",
    "# H1(대립가설) : 두 변수는 서로 독립이 아니다"
   ]
  },
  {
   "cell_type": "code",
   "execution_count": 14,
   "metadata": {},
   "outputs": [],
   "source": [
    "###############  실기환경 복사 영역  ###############\n",
    "import pandas as pd\n",
    "# 데이터 생성\n",
    "data = {\n",
    "    'Sport': ['Soccer'] * 35 + ['Basketball'] * 55 + ['Swimming'] * 60,\n",
    "    'Gender': ['Male'] * 20 + ['Female'] * 15 + ['Male'] * 30 + ['Female'] * 25 + ['Male'] * 25 + ['Female'] * 35\n",
    "}\n",
    "df = pd.DataFrame(data)\n",
    "###############  실기환경 복사 영역  ###############"
   ]
  },
  {
   "cell_type": "code",
   "execution_count": null,
   "metadata": {},
   "outputs": [],
   "source": [
    "df.head()\n",
    "\n",
    "table = pd.crosstab(df['Sport'],df['Gender'],)"
   ]
  },
  {
   "cell_type": "code",
   "execution_count": 16,
   "metadata": {},
   "outputs": [],
   "source": [
    "# 문제 3-1\n",
    "#  Male\n",
    "# 카이제곱검정(독립성검정)을 실시하고 검정통계량, p-value 값을 구하시오.\n",
    "# 정답은 반올림하여 소수점 셋째자리까지 구하시오\n",
    "# 문제 3-2\n",
    "# 귀무가설 기각여부를 결정하시오(답은 채택 또는 기각으로 작성하시오)"
   ]
  },
  {
   "cell_type": "code",
   "execution_count": 17,
   "metadata": {},
   "outputs": [
    {
     "name": "stdout",
     "output_type": "stream",
     "text": [
      "2.8354978354978355 0.24225874791744745 2 [[27.5 27.5]\n",
      " [17.5 17.5]\n",
      " [30.  30. ]]\n"
     ]
    }
   ],
   "source": [
    "\n",
    "statistic, p_value, ddof, expected = stats.chi2_contingency(table)\n",
    "\n",
    "print(statistic, p_value, ddof, expected)"
   ]
  },
  {
   "cell_type": "code",
   "execution_count": null,
   "metadata": {},
   "outputs": [],
   "source": []
  },
  {
   "cell_type": "code",
   "execution_count": null,
   "metadata": {},
   "outputs": [],
   "source": []
  }
 ],
 "metadata": {
  "kernelspec": {
   "display_name": "Python 3",
   "language": "python",
   "name": "python3"
  },
  "language_info": {
   "codemirror_mode": {
    "name": "ipython",
    "version": 3
   },
   "file_extension": ".py",
   "mimetype": "text/x-python",
   "name": "python",
   "nbconvert_exporter": "python",
   "pygments_lexer": "ipython3",
   "version": "3.12.7"
  }
 },
 "nbformat": 4,
 "nbformat_minor": 2
}
