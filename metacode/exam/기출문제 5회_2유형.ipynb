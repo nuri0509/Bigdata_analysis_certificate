{
 "cells": [
  {
   "cell_type": "code",
   "execution_count": 1,
   "metadata": {},
   "outputs": [
    {
     "name": "stdout",
     "output_type": "stream",
     "text": [
      "       model  year  price transmission  mileage fuelType  tax   mpg  \\\n",
      "0    A Class  2012  11940    Automatic    46000   Diesel   30  64.2   \n",
      "1   CL Class  2020  38624    Semi-Auto       19   Petrol  150  36.7   \n",
      "2    A Class  2013   8500       Manual    69031   Petrol  125  51.4   \n",
      "3    B Class  2015  13998    Automatic    34739   Diesel  125  56.5   \n",
      "4    E Class  2017  20998    Semi-Auto    21352   Diesel   20  72.4   \n",
      "\n",
      "   engineSize  \n",
      "0         2.1  \n",
      "1         2.0  \n",
      "2         1.6  \n",
      "3         2.1  \n",
      "4         2.0  \n",
      "       model  year transmission  mileage fuelType  tax   mpg  engineSize\n",
      "0        SLK  2005    Automatic    63000   Petrol  325  32.1         1.8\n",
      "1    S Class  2017    Automatic    27000   Hybrid   20  61.4         2.1\n",
      "2   SL CLASS  2016    Automatic     6200   Petrol  555  28.0         5.5\n",
      "3    G Class  2016    Automatic    16000   Petrol  325  30.4         4.0\n",
      "4    G Class  2016    Automatic     4000   Petrol  325  30.1         4.0\n"
     ]
    }
   ],
   "source": [
    "import pandas as pd\n",
    "\n",
    "train = pd.read_csv('https://raw.githubusercontent.com/Datamanim/datarepo/main/krdatacertificate/e5_p2_train.csv')\n",
    "test = pd.read_csv('https://raw.githubusercontent.com/Datamanim/datarepo/main/krdatacertificate/e5_p2_test.csv')\n",
    "\n",
    "print(train.head())\n",
    "print(test.head())"
   ]
  },
  {
   "cell_type": "code",
   "execution_count": 2,
   "metadata": {},
   "outputs": [
    {
     "name": "stdout",
     "output_type": "stream",
     "text": [
      "(9823, 9)\n",
      "(13119, 8)\n"
     ]
    }
   ],
   "source": [
    "print(train.shape)\n",
    "print(test.shape)"
   ]
  },
  {
   "cell_type": "code",
   "execution_count": 3,
   "metadata": {},
   "outputs": [
    {
     "name": "stdout",
     "output_type": "stream",
     "text": [
      "<class 'pandas.core.frame.DataFrame'>\n",
      "RangeIndex: 9823 entries, 0 to 9822\n",
      "Data columns (total 9 columns):\n",
      " #   Column        Non-Null Count  Dtype  \n",
      "---  ------        --------------  -----  \n",
      " 0   model         9823 non-null   object \n",
      " 1   year          9823 non-null   int64  \n",
      " 2   price         9823 non-null   int64  \n",
      " 3   transmission  9823 non-null   object \n",
      " 4   mileage       9823 non-null   int64  \n",
      " 5   fuelType      9823 non-null   object \n",
      " 6   tax           9823 non-null   int64  \n",
      " 7   mpg           9823 non-null   float64\n",
      " 8   engineSize    9823 non-null   float64\n",
      "dtypes: float64(2), int64(4), object(3)\n",
      "memory usage: 690.8+ KB\n",
      "None\n",
      "<class 'pandas.core.frame.DataFrame'>\n",
      "RangeIndex: 13119 entries, 0 to 13118\n",
      "Data columns (total 8 columns):\n",
      " #   Column        Non-Null Count  Dtype  \n",
      "---  ------        --------------  -----  \n",
      " 0   model         13119 non-null  object \n",
      " 1   year          13119 non-null  int64  \n",
      " 2   transmission  13119 non-null  object \n",
      " 3   mileage       13119 non-null  int64  \n",
      " 4   fuelType      13119 non-null  object \n",
      " 5   tax           13119 non-null  int64  \n",
      " 6   mpg           13119 non-null  float64\n",
      " 7   engineSize    13119 non-null  float64\n",
      "dtypes: float64(2), int64(3), object(3)\n",
      "memory usage: 820.1+ KB\n",
      "None\n"
     ]
    }
   ],
   "source": [
    "print(train.info())\n",
    "print(test.info())"
   ]
  },
  {
   "cell_type": "code",
   "execution_count": 4,
   "metadata": {},
   "outputs": [
    {
     "data": {
      "text/plain": [
       "array(['Automatic', 'Semi-Auto', 'Manual', 'Other'], dtype=object)"
      ]
     },
     "execution_count": 4,
     "metadata": {},
     "output_type": "execute_result"
    }
   ],
   "source": [
    "train['transmission'].unique()"
   ]
  },
  {
   "cell_type": "code",
   "execution_count": 5,
   "metadata": {},
   "outputs": [
    {
     "data": {
      "text/plain": [
       "array(['Automatic', 'Manual', 'Semi-Auto', 'Other'], dtype=object)"
      ]
     },
     "execution_count": 5,
     "metadata": {},
     "output_type": "execute_result"
    }
   ],
   "source": [
    "test['transmission'].unique()"
   ]
  },
  {
   "cell_type": "code",
   "execution_count": 6,
   "metadata": {},
   "outputs": [],
   "source": [
    "train = train.select_dtypes(exclude='object')\n",
    "test = test.select_dtypes(exclude='object')\n"
   ]
  },
  {
   "cell_type": "code",
   "execution_count": 8,
   "metadata": {},
   "outputs": [
    {
     "name": "stdout",
     "output_type": "stream",
     "text": [
      "(7858, 5) (7858,)\n",
      "(1965, 5) (1965,)\n"
     ]
    }
   ],
   "source": [
    "x = train.drop(columns='price')\n",
    "y = train['price']\n",
    "\n",
    "from sklearn.model_selection import train_test_split\n",
    "\n",
    "x_train, x_val, y_train, y_val = train_test_split(x, y, test_size=0.2, random_state=2024)\n",
    "\n",
    "print(x_train.shape, y_train.shape)\n",
    "print(x_val.shape, y_val.shape)\n",
    "\n"
   ]
  },
  {
   "cell_type": "code",
   "execution_count": 9,
   "metadata": {},
   "outputs": [],
   "source": [
    "\n",
    "from sklearn.ensemble import RandomForestRegressor\n",
    "\n",
    "rfr = RandomForestRegressor(random_state=2024)\n",
    "model = rfr.fit(x_train, y_train)\n",
    "pred = model.predict(x_val)"
   ]
  },
  {
   "cell_type": "code",
   "execution_count": 13,
   "metadata": {},
   "outputs": [
    {
     "name": "stdout",
     "output_type": "stream",
     "text": [
      "16025412.620481111 4003.1753172301997 0.8906710915561156\n"
     ]
    }
   ],
   "source": [
    "from sklearn.metrics import mean_squared_error, r2_score\n",
    "\n",
    "mse = mean_squared_error(y_val, pred)\n",
    "rmse = mse ** 0.5\n",
    "r2_score = r2_score(y_val, pred)\n",
    "\n",
    "print(mse, rmse, r2_score)"
   ]
  },
  {
   "cell_type": "code",
   "execution_count": null,
   "metadata": {},
   "outputs": [],
   "source": [
    "from lightgbm import LGBMRegressor\n",
    "\n",
    "lgbm = LGBMRegressor(random_state=2024)\n",
    "model2 = lgbm.fit(x_train, y_train)\n",
    "pred2 = model2.predict(x_val)"
   ]
  },
  {
   "cell_type": "code",
   "execution_count": 12,
   "metadata": {},
   "outputs": [
    {
     "name": "stdout",
     "output_type": "stream",
     "text": [
      "2155.3173738732594 0.8906710915561156\n"
     ]
    }
   ],
   "source": [
    "from sklearn.metrics import mean_absolute_error, r2_score\n",
    "\n",
    "mae = mean_absolute_error(y_val, pred)\n",
    "r2_score2 = r2_score(y_val, pred)\n",
    "\n",
    "print(mae, r2_score2)"
   ]
  },
  {
   "cell_type": "code",
   "execution_count": 14,
   "metadata": {},
   "outputs": [
    {
     "data": {
      "text/plain": [
       "array([ 4658.6 , 29824.21, 62658.3 , ..., 31132.63, 37208.48, 57080.54])"
      ]
     },
     "execution_count": 14,
     "metadata": {},
     "output_type": "execute_result"
    }
   ],
   "source": [
    "pred3 = model.predict(test)\n",
    "\n",
    "pred3"
   ]
  },
  {
   "cell_type": "code",
   "execution_count": 16,
   "metadata": {},
   "outputs": [
    {
     "data": {
      "text/html": [
       "<div>\n",
       "<style scoped>\n",
       "    .dataframe tbody tr th:only-of-type {\n",
       "        vertical-align: middle;\n",
       "    }\n",
       "\n",
       "    .dataframe tbody tr th {\n",
       "        vertical-align: top;\n",
       "    }\n",
       "\n",
       "    .dataframe thead th {\n",
       "        text-align: right;\n",
       "    }\n",
       "</style>\n",
       "<table border=\"1\" class=\"dataframe\">\n",
       "  <thead>\n",
       "    <tr style=\"text-align: right;\">\n",
       "      <th></th>\n",
       "      <th>price</th>\n",
       "    </tr>\n",
       "  </thead>\n",
       "  <tbody>\n",
       "    <tr>\n",
       "      <th>0</th>\n",
       "      <td>4658.600000</td>\n",
       "    </tr>\n",
       "    <tr>\n",
       "      <th>1</th>\n",
       "      <td>29824.210000</td>\n",
       "    </tr>\n",
       "    <tr>\n",
       "      <th>2</th>\n",
       "      <td>62658.300000</td>\n",
       "    </tr>\n",
       "    <tr>\n",
       "      <th>3</th>\n",
       "      <td>59687.850000</td>\n",
       "    </tr>\n",
       "    <tr>\n",
       "      <th>4</th>\n",
       "      <td>73280.640000</td>\n",
       "    </tr>\n",
       "    <tr>\n",
       "      <th>...</th>\n",
       "      <td>...</td>\n",
       "    </tr>\n",
       "    <tr>\n",
       "      <th>13114</th>\n",
       "      <td>27882.100000</td>\n",
       "    </tr>\n",
       "    <tr>\n",
       "      <th>13115</th>\n",
       "      <td>26829.170667</td>\n",
       "    </tr>\n",
       "    <tr>\n",
       "      <th>13116</th>\n",
       "      <td>31132.630000</td>\n",
       "    </tr>\n",
       "    <tr>\n",
       "      <th>13117</th>\n",
       "      <td>37208.480000</td>\n",
       "    </tr>\n",
       "    <tr>\n",
       "      <th>13118</th>\n",
       "      <td>57080.540000</td>\n",
       "    </tr>\n",
       "  </tbody>\n",
       "</table>\n",
       "<p>13119 rows × 1 columns</p>\n",
       "</div>"
      ],
      "text/plain": [
       "              price\n",
       "0       4658.600000\n",
       "1      29824.210000\n",
       "2      62658.300000\n",
       "3      59687.850000\n",
       "4      73280.640000\n",
       "...             ...\n",
       "13114  27882.100000\n",
       "13115  26829.170667\n",
       "13116  31132.630000\n",
       "13117  37208.480000\n",
       "13118  57080.540000\n",
       "\n",
       "[13119 rows x 1 columns]"
      ]
     },
     "execution_count": 16,
     "metadata": {},
     "output_type": "execute_result"
    }
   ],
   "source": [
    "pd.DataFrame({'price': pred3}).to_csv('result3.csv',index=False)\n",
    "result = pd.read_csv('result3.csv')\n",
    "result"
   ]
  }
 ],
 "metadata": {
  "kernelspec": {
   "display_name": "Python 3",
   "language": "python",
   "name": "python3"
  },
  "language_info": {
   "codemirror_mode": {
    "name": "ipython",
    "version": 3
   },
   "file_extension": ".py",
   "mimetype": "text/x-python",
   "name": "python",
   "nbconvert_exporter": "python",
   "pygments_lexer": "ipython3",
   "version": "3.12.7"
  }
 },
 "nbformat": 4,
 "nbformat_minor": 2
}
