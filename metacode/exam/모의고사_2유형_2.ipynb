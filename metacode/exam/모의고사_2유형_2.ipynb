{
 "cells": [
  {
   "cell_type": "code",
   "execution_count": 1,
   "metadata": {},
   "outputs": [],
   "source": [
    "# 모의고사 2유형\n",
    "# 2유형 2번(당뇨 진척정도 예측)\n",
    "# 다음은 당뇨 환자에게서 얻은 데이터셋이다.\n",
    "# 학습 데이터(train)를 이용하여 환자의 당뇨 진척 정도를 예측하는 모델을\n",
    "# 개발하고 해당 모델을 기반으로 평가 데이터(test)를 적용하여 얻은 예측결과를\n",
    "# 아래 제출 양식에 맞추어 CSV 파일로 제출하시오.\n",
    "# 예측결과는 Rsq, MSE 지표로 평가하시오.\n",
    "# 제출형식 (아래 예시)\n",
    "# csv파일명 : result.csv\n",
    "# 예측 진척정도 칼럼명 : pred\n",
    "# 제출 칼럼 개수 : pred 칼럼 1개 (아래)\n",
    "\n",
    "# 데이터 설명\n",
    "# 1. 변수설명\n",
    "# 환자번호 : cust_id 칼럼\n",
    "# 종속변수(Y) : target 칼럼\n",
    "# 독립변수(X) : 그 외 칼럼\n",
    "# 1. 학습/평가 데이터\n",
    "# train : 학습 데이터\n",
    "# test : 평가 데이터(taget 변수 제외)\n",
    "# y_test : 평가 데이터(target 변수 only) / 단, 실제 시험에서는 주어지지 않음"
   ]
  },
  {
   "cell_type": "code",
   "execution_count": 2,
   "metadata": {},
   "outputs": [],
   "source": [
    "###############  실기환경 복사 영역  ###############\n",
    "import pandas as pd\n",
    "import numpy as np\n",
    "# 실기 시험 데이터셋으로 셋팅하기 (수정금지)\n",
    "from sklearn.datasets import load_diabetes\n",
    "# diabetes 데이터셋 로드\n",
    "diabetes = load_diabetes()\n",
    "X, y = load_diabetes(return_X_y= True, as_frame=True)\n",
    "\n",
    "# 실기 시험 데이터셋으로 셋팅하기 (수정금지)\n",
    "from sklearn.model_selection import train_test_split\n",
    "x_tr, x_te, y_tr, y_te = train_test_split(X, y, test_size=0.2,\n",
    "                                          random_state=2024)\n",
    "test = pd.DataFrame(x_te)\n",
    "x_tr = pd.DataFrame(x_tr)\n",
    "y_tr = pd.DataFrame(y_tr)\n",
    "y_tr.columns = ['target'] \n",
    "y_test = pd.DataFrame(y_te)\n",
    "train = pd.concat([y_tr, x_tr], axis=1)\n",
    "train = train.reset_index().rename(columns={'index':'cust_id'})\n",
    "test = test.reset_index().rename(columns={'index':'cust_id'})\n",
    "train['sex'] = np.where(train['sex']>0, 'F', 'M')\n",
    "test['sex'] = np.where(test['sex']>0, 'F', 'M')\n",
    "train.loc[0:2, 'age'] = np.nan\n",
    "test.loc[0:2, 'age'] = np.nan\n",
    "###############  실기환경 복사 영역  ###############"
   ]
  },
  {
   "cell_type": "code",
   "execution_count": 3,
   "metadata": {},
   "outputs": [
    {
     "data": {
      "text/html": [
       "<div>\n",
       "<style scoped>\n",
       "    .dataframe tbody tr th:only-of-type {\n",
       "        vertical-align: middle;\n",
       "    }\n",
       "\n",
       "    .dataframe tbody tr th {\n",
       "        vertical-align: top;\n",
       "    }\n",
       "\n",
       "    .dataframe thead th {\n",
       "        text-align: right;\n",
       "    }\n",
       "</style>\n",
       "<table border=\"1\" class=\"dataframe\">\n",
       "  <thead>\n",
       "    <tr style=\"text-align: right;\">\n",
       "      <th></th>\n",
       "      <th>cust_id</th>\n",
       "      <th>target</th>\n",
       "      <th>age</th>\n",
       "      <th>sex</th>\n",
       "      <th>bmi</th>\n",
       "      <th>bp</th>\n",
       "      <th>s1</th>\n",
       "      <th>s2</th>\n",
       "      <th>s3</th>\n",
       "      <th>s4</th>\n",
       "      <th>s5</th>\n",
       "      <th>s6</th>\n",
       "    </tr>\n",
       "  </thead>\n",
       "  <tbody>\n",
       "    <tr>\n",
       "      <th>0</th>\n",
       "      <td>424</td>\n",
       "      <td>111.0</td>\n",
       "      <td>NaN</td>\n",
       "      <td>F</td>\n",
       "      <td>0.011039</td>\n",
       "      <td>-0.019442</td>\n",
       "      <td>-0.016704</td>\n",
       "      <td>-0.003819</td>\n",
       "      <td>-0.047082</td>\n",
       "      <td>0.034309</td>\n",
       "      <td>0.024055</td>\n",
       "      <td>0.023775</td>\n",
       "    </tr>\n",
       "    <tr>\n",
       "      <th>1</th>\n",
       "      <td>121</td>\n",
       "      <td>173.0</td>\n",
       "      <td>NaN</td>\n",
       "      <td>M</td>\n",
       "      <td>0.017506</td>\n",
       "      <td>0.021872</td>\n",
       "      <td>0.008063</td>\n",
       "      <td>0.021546</td>\n",
       "      <td>-0.036038</td>\n",
       "      <td>0.034309</td>\n",
       "      <td>0.019907</td>\n",
       "      <td>0.011349</td>\n",
       "    </tr>\n",
       "    <tr>\n",
       "      <th>2</th>\n",
       "      <td>15</td>\n",
       "      <td>171.0</td>\n",
       "      <td>NaN</td>\n",
       "      <td>F</td>\n",
       "      <td>-0.018062</td>\n",
       "      <td>0.080401</td>\n",
       "      <td>0.089244</td>\n",
       "      <td>0.107662</td>\n",
       "      <td>-0.039719</td>\n",
       "      <td>0.108111</td>\n",
       "      <td>0.036060</td>\n",
       "      <td>-0.042499</td>\n",
       "    </tr>\n",
       "    <tr>\n",
       "      <th>3</th>\n",
       "      <td>5</td>\n",
       "      <td>97.0</td>\n",
       "      <td>-0.092695</td>\n",
       "      <td>M</td>\n",
       "      <td>-0.040696</td>\n",
       "      <td>-0.019442</td>\n",
       "      <td>-0.068991</td>\n",
       "      <td>-0.079288</td>\n",
       "      <td>0.041277</td>\n",
       "      <td>-0.076395</td>\n",
       "      <td>-0.041176</td>\n",
       "      <td>-0.096346</td>\n",
       "    </tr>\n",
       "    <tr>\n",
       "      <th>4</th>\n",
       "      <td>21</td>\n",
       "      <td>49.0</td>\n",
       "      <td>-0.085430</td>\n",
       "      <td>F</td>\n",
       "      <td>-0.022373</td>\n",
       "      <td>0.001215</td>\n",
       "      <td>-0.037344</td>\n",
       "      <td>-0.026366</td>\n",
       "      <td>0.015505</td>\n",
       "      <td>-0.039493</td>\n",
       "      <td>-0.072133</td>\n",
       "      <td>-0.017646</td>\n",
       "    </tr>\n",
       "  </tbody>\n",
       "</table>\n",
       "</div>"
      ],
      "text/plain": [
       "   cust_id  target       age sex       bmi        bp        s1        s2  \\\n",
       "0      424   111.0       NaN   F  0.011039 -0.019442 -0.016704 -0.003819   \n",
       "1      121   173.0       NaN   M  0.017506  0.021872  0.008063  0.021546   \n",
       "2       15   171.0       NaN   F -0.018062  0.080401  0.089244  0.107662   \n",
       "3        5    97.0 -0.092695   M -0.040696 -0.019442 -0.068991 -0.079288   \n",
       "4       21    49.0 -0.085430   F -0.022373  0.001215 -0.037344 -0.026366   \n",
       "\n",
       "         s3        s4        s5        s6  \n",
       "0 -0.047082  0.034309  0.024055  0.023775  \n",
       "1 -0.036038  0.034309  0.019907  0.011349  \n",
       "2 -0.039719  0.108111  0.036060 -0.042499  \n",
       "3  0.041277 -0.076395 -0.041176 -0.096346  \n",
       "4  0.015505 -0.039493 -0.072133 -0.017646  "
      ]
     },
     "execution_count": 3,
     "metadata": {},
     "output_type": "execute_result"
    }
   ],
   "source": [
    "train.head()"
   ]
  },
  {
   "cell_type": "code",
   "execution_count": 4,
   "metadata": {},
   "outputs": [
    {
     "data": {
      "text/html": [
       "<div>\n",
       "<style scoped>\n",
       "    .dataframe tbody tr th:only-of-type {\n",
       "        vertical-align: middle;\n",
       "    }\n",
       "\n",
       "    .dataframe tbody tr th {\n",
       "        vertical-align: top;\n",
       "    }\n",
       "\n",
       "    .dataframe thead th {\n",
       "        text-align: right;\n",
       "    }\n",
       "</style>\n",
       "<table border=\"1\" class=\"dataframe\">\n",
       "  <thead>\n",
       "    <tr style=\"text-align: right;\">\n",
       "      <th></th>\n",
       "      <th>cust_id</th>\n",
       "      <th>age</th>\n",
       "      <th>sex</th>\n",
       "      <th>bmi</th>\n",
       "      <th>bp</th>\n",
       "      <th>s1</th>\n",
       "      <th>s2</th>\n",
       "      <th>s3</th>\n",
       "      <th>s4</th>\n",
       "      <th>s5</th>\n",
       "      <th>s6</th>\n",
       "    </tr>\n",
       "  </thead>\n",
       "  <tbody>\n",
       "    <tr>\n",
       "      <th>0</th>\n",
       "      <td>334</td>\n",
       "      <td>NaN</td>\n",
       "      <td>F</td>\n",
       "      <td>-0.047163</td>\n",
       "      <td>-0.022885</td>\n",
       "      <td>-0.071743</td>\n",
       "      <td>-0.057681</td>\n",
       "      <td>-0.006584</td>\n",
       "      <td>-0.039493</td>\n",
       "      <td>-0.062917</td>\n",
       "      <td>-0.054925</td>\n",
       "    </tr>\n",
       "    <tr>\n",
       "      <th>1</th>\n",
       "      <td>313</td>\n",
       "      <td>NaN</td>\n",
       "      <td>F</td>\n",
       "      <td>0.053074</td>\n",
       "      <td>0.052858</td>\n",
       "      <td>0.032830</td>\n",
       "      <td>0.019667</td>\n",
       "      <td>-0.010266</td>\n",
       "      <td>0.034309</td>\n",
       "      <td>0.055203</td>\n",
       "      <td>-0.001078</td>\n",
       "    </tr>\n",
       "    <tr>\n",
       "      <th>2</th>\n",
       "      <td>133</td>\n",
       "      <td>NaN</td>\n",
       "      <td>F</td>\n",
       "      <td>-0.053630</td>\n",
       "      <td>-0.040099</td>\n",
       "      <td>-0.084126</td>\n",
       "      <td>-0.071772</td>\n",
       "      <td>-0.002903</td>\n",
       "      <td>-0.039493</td>\n",
       "      <td>-0.072133</td>\n",
       "      <td>-0.030072</td>\n",
       "    </tr>\n",
       "    <tr>\n",
       "      <th>3</th>\n",
       "      <td>152</td>\n",
       "      <td>-0.034575</td>\n",
       "      <td>F</td>\n",
       "      <td>-0.000817</td>\n",
       "      <td>0.070072</td>\n",
       "      <td>0.039710</td>\n",
       "      <td>0.066952</td>\n",
       "      <td>-0.065491</td>\n",
       "      <td>0.108111</td>\n",
       "      <td>0.026717</td>\n",
       "      <td>0.073480</td>\n",
       "    </tr>\n",
       "    <tr>\n",
       "      <th>4</th>\n",
       "      <td>250</td>\n",
       "      <td>0.067136</td>\n",
       "      <td>M</td>\n",
       "      <td>0.056307</td>\n",
       "      <td>0.073515</td>\n",
       "      <td>-0.013953</td>\n",
       "      <td>-0.039205</td>\n",
       "      <td>-0.032356</td>\n",
       "      <td>-0.002592</td>\n",
       "      <td>0.075741</td>\n",
       "      <td>0.036201</td>\n",
       "    </tr>\n",
       "  </tbody>\n",
       "</table>\n",
       "</div>"
      ],
      "text/plain": [
       "   cust_id       age sex       bmi        bp        s1        s2        s3  \\\n",
       "0      334       NaN   F -0.047163 -0.022885 -0.071743 -0.057681 -0.006584   \n",
       "1      313       NaN   F  0.053074  0.052858  0.032830  0.019667 -0.010266   \n",
       "2      133       NaN   F -0.053630 -0.040099 -0.084126 -0.071772 -0.002903   \n",
       "3      152 -0.034575   F -0.000817  0.070072  0.039710  0.066952 -0.065491   \n",
       "4      250  0.067136   M  0.056307  0.073515 -0.013953 -0.039205 -0.032356   \n",
       "\n",
       "         s4        s5        s6  \n",
       "0 -0.039493 -0.062917 -0.054925  \n",
       "1  0.034309  0.055203 -0.001078  \n",
       "2 -0.039493 -0.072133 -0.030072  \n",
       "3  0.108111  0.026717  0.073480  \n",
       "4 -0.002592  0.075741  0.036201  "
      ]
     },
     "execution_count": 4,
     "metadata": {},
     "output_type": "execute_result"
    }
   ],
   "source": [
    "test.head()"
   ]
  },
  {
   "cell_type": "code",
   "execution_count": 5,
   "metadata": {},
   "outputs": [
    {
     "data": {
      "text/plain": [
       "(353, 12)"
      ]
     },
     "execution_count": 5,
     "metadata": {},
     "output_type": "execute_result"
    }
   ],
   "source": [
    "train.shape"
   ]
  },
  {
   "cell_type": "code",
   "execution_count": 6,
   "metadata": {},
   "outputs": [
    {
     "data": {
      "text/plain": [
       "(89, 11)"
      ]
     },
     "execution_count": 6,
     "metadata": {},
     "output_type": "execute_result"
    }
   ],
   "source": [
    "test.shape"
   ]
  },
  {
   "cell_type": "code",
   "execution_count": 7,
   "metadata": {},
   "outputs": [
    {
     "name": "stdout",
     "output_type": "stream",
     "text": [
      "cust_id    0\n",
      "target     0\n",
      "age        3\n",
      "sex        0\n",
      "bmi        0\n",
      "bp         0\n",
      "s1         0\n",
      "s2         0\n",
      "s3         0\n",
      "s4         0\n",
      "s5         0\n",
      "s6         0\n",
      "dtype: int64\n"
     ]
    }
   ],
   "source": [
    "print(train.isnull().sum())"
   ]
  },
  {
   "cell_type": "code",
   "execution_count": 8,
   "metadata": {},
   "outputs": [
    {
     "name": "stdout",
     "output_type": "stream",
     "text": [
      "cust_id    0\n",
      "age        3\n",
      "sex        0\n",
      "bmi        0\n",
      "bp         0\n",
      "s1         0\n",
      "s2         0\n",
      "s3         0\n",
      "s4         0\n",
      "s5         0\n",
      "s6         0\n",
      "dtype: int64\n"
     ]
    }
   ],
   "source": [
    "print(test.isnull().sum())"
   ]
  },
  {
   "cell_type": "code",
   "execution_count": 9,
   "metadata": {},
   "outputs": [],
   "source": [
    "median1 = train['age'].median()\n",
    "median2 = test['age'].median()\n",
    "\n",
    "train['age'] = train['age'].fillna(median1)\n",
    "test['age'] = test['age'].fillna(median2)"
   ]
  },
  {
   "cell_type": "code",
   "execution_count": 10,
   "metadata": {},
   "outputs": [
    {
     "name": "stdout",
     "output_type": "stream",
     "text": [
      "cust_id    0\n",
      "target     0\n",
      "age        0\n",
      "sex        0\n",
      "bmi        0\n",
      "bp         0\n",
      "s1         0\n",
      "s2         0\n",
      "s3         0\n",
      "s4         0\n",
      "s5         0\n",
      "s6         0\n",
      "dtype: int64\n",
      "cust_id    0\n",
      "age        0\n",
      "sex        0\n",
      "bmi        0\n",
      "bp         0\n",
      "s1         0\n",
      "s2         0\n",
      "s3         0\n",
      "s4         0\n",
      "s5         0\n",
      "s6         0\n",
      "dtype: int64\n"
     ]
    }
   ],
   "source": [
    "print(train.isnull().sum())\n",
    "print(test.isnull().sum())"
   ]
  },
  {
   "cell_type": "code",
   "execution_count": 11,
   "metadata": {},
   "outputs": [],
   "source": [
    "train['sex'] = train['sex'].replace('M',0)\n",
    "train['sex'] = train['sex'].replace('F',1)"
   ]
  },
  {
   "cell_type": "code",
   "execution_count": 12,
   "metadata": {},
   "outputs": [
    {
     "name": "stdout",
     "output_type": "stream",
     "text": [
      "(282, 10)\n",
      "(282,)\n",
      "(71, 10)\n",
      "(71,)\n"
     ]
    }
   ],
   "source": [
    "from sklearn.model_selection import train_test_split\n",
    "\n",
    "x = train.drop(columns=['cust_id','target'])\n",
    "y = train['target']\n",
    "x_train, x_val, y_train, y_val = train_test_split(x, y, test_size=0.2, random_state=2024)\n",
    "\n",
    "print(x_train.shape)\n",
    "print(y_train.shape)\n",
    "print(x_val.shape)\n",
    "print(y_val.shape)"
   ]
  },
  {
   "cell_type": "code",
   "execution_count": 13,
   "metadata": {},
   "outputs": [],
   "source": [
    "from sklearn.ensemble import RandomForestRegressor\n",
    "\n",
    "rfr = RandomForestRegressor(random_state=2024)\n",
    "model = rfr.fit(x_train, y_train)\n",
    "pred = model.predict(x_val)\n"
   ]
  },
  {
   "cell_type": "code",
   "execution_count": 15,
   "metadata": {},
   "outputs": [
    {
     "name": "stdout",
     "output_type": "stream",
     "text": [
      "0.584228451771348 2851.524914084507\n"
     ]
    }
   ],
   "source": [
    "from sklearn.metrics import r2_score, mean_squared_error\n",
    "\n",
    "r2 = r2_score(y_val, pred)\n",
    "mse = mean_squared_error(y_val, pred)\n",
    "\n",
    "print(r2, mse)"
   ]
  },
  {
   "cell_type": "code",
   "execution_count": 18,
   "metadata": {},
   "outputs": [],
   "source": [
    "x_test = test.drop(columns=['cust_id'])\n",
    "cust_id = test['cust_id']"
   ]
  },
  {
   "cell_type": "code",
   "execution_count": 19,
   "metadata": {},
   "outputs": [
    {
     "data": {
      "text/html": [
       "<div>\n",
       "<style scoped>\n",
       "    .dataframe tbody tr th:only-of-type {\n",
       "        vertical-align: middle;\n",
       "    }\n",
       "\n",
       "    .dataframe tbody tr th {\n",
       "        vertical-align: top;\n",
       "    }\n",
       "\n",
       "    .dataframe thead th {\n",
       "        text-align: right;\n",
       "    }\n",
       "</style>\n",
       "<table border=\"1\" class=\"dataframe\">\n",
       "  <thead>\n",
       "    <tr style=\"text-align: right;\">\n",
       "      <th></th>\n",
       "      <th>age</th>\n",
       "      <th>sex</th>\n",
       "      <th>bmi</th>\n",
       "      <th>bp</th>\n",
       "      <th>s1</th>\n",
       "      <th>s2</th>\n",
       "      <th>s3</th>\n",
       "      <th>s4</th>\n",
       "      <th>s5</th>\n",
       "      <th>s6</th>\n",
       "    </tr>\n",
       "  </thead>\n",
       "  <tbody>\n",
       "    <tr>\n",
       "      <th>0</th>\n",
       "      <td>-0.001882</td>\n",
       "      <td>F</td>\n",
       "      <td>-0.047163</td>\n",
       "      <td>-0.022885</td>\n",
       "      <td>-0.071743</td>\n",
       "      <td>-0.057681</td>\n",
       "      <td>-0.006584</td>\n",
       "      <td>-0.039493</td>\n",
       "      <td>-0.062917</td>\n",
       "      <td>-0.054925</td>\n",
       "    </tr>\n",
       "    <tr>\n",
       "      <th>1</th>\n",
       "      <td>-0.001882</td>\n",
       "      <td>F</td>\n",
       "      <td>0.053074</td>\n",
       "      <td>0.052858</td>\n",
       "      <td>0.032830</td>\n",
       "      <td>0.019667</td>\n",
       "      <td>-0.010266</td>\n",
       "      <td>0.034309</td>\n",
       "      <td>0.055203</td>\n",
       "      <td>-0.001078</td>\n",
       "    </tr>\n",
       "    <tr>\n",
       "      <th>2</th>\n",
       "      <td>-0.001882</td>\n",
       "      <td>F</td>\n",
       "      <td>-0.053630</td>\n",
       "      <td>-0.040099</td>\n",
       "      <td>-0.084126</td>\n",
       "      <td>-0.071772</td>\n",
       "      <td>-0.002903</td>\n",
       "      <td>-0.039493</td>\n",
       "      <td>-0.072133</td>\n",
       "      <td>-0.030072</td>\n",
       "    </tr>\n",
       "    <tr>\n",
       "      <th>3</th>\n",
       "      <td>-0.034575</td>\n",
       "      <td>F</td>\n",
       "      <td>-0.000817</td>\n",
       "      <td>0.070072</td>\n",
       "      <td>0.039710</td>\n",
       "      <td>0.066952</td>\n",
       "      <td>-0.065491</td>\n",
       "      <td>0.108111</td>\n",
       "      <td>0.026717</td>\n",
       "      <td>0.073480</td>\n",
       "    </tr>\n",
       "    <tr>\n",
       "      <th>4</th>\n",
       "      <td>0.067136</td>\n",
       "      <td>M</td>\n",
       "      <td>0.056307</td>\n",
       "      <td>0.073515</td>\n",
       "      <td>-0.013953</td>\n",
       "      <td>-0.039205</td>\n",
       "      <td>-0.032356</td>\n",
       "      <td>-0.002592</td>\n",
       "      <td>0.075741</td>\n",
       "      <td>0.036201</td>\n",
       "    </tr>\n",
       "  </tbody>\n",
       "</table>\n",
       "</div>"
      ],
      "text/plain": [
       "        age sex       bmi        bp        s1        s2        s3        s4  \\\n",
       "0 -0.001882   F -0.047163 -0.022885 -0.071743 -0.057681 -0.006584 -0.039493   \n",
       "1 -0.001882   F  0.053074  0.052858  0.032830  0.019667 -0.010266  0.034309   \n",
       "2 -0.001882   F -0.053630 -0.040099 -0.084126 -0.071772 -0.002903 -0.039493   \n",
       "3 -0.034575   F -0.000817  0.070072  0.039710  0.066952 -0.065491  0.108111   \n",
       "4  0.067136   M  0.056307  0.073515 -0.013953 -0.039205 -0.032356 -0.002592   \n",
       "\n",
       "         s5        s6  \n",
       "0 -0.062917 -0.054925  \n",
       "1  0.055203 -0.001078  \n",
       "2 -0.072133 -0.030072  \n",
       "3  0.026717  0.073480  \n",
       "4  0.075741  0.036201  "
      ]
     },
     "execution_count": 19,
     "metadata": {},
     "output_type": "execute_result"
    }
   ],
   "source": [
    "x_test.head()"
   ]
  },
  {
   "cell_type": "code",
   "execution_count": 20,
   "metadata": {},
   "outputs": [],
   "source": [
    "x_test['sex'] = x_test['sex'].replace('M',0)\n",
    "x_test['sex'] = x_test['sex'].replace('F',1)"
   ]
  },
  {
   "cell_type": "code",
   "execution_count": 22,
   "metadata": {},
   "outputs": [
    {
     "name": "stdout",
     "output_type": "stream",
     "text": [
      "0.48709310473636735 3199.9673887640447\n"
     ]
    }
   ],
   "source": [
    "pred2 = model.predict(x_test)\n",
    "\n",
    "\n",
    "r2 = r2_score(y_test, pred2)\n",
    "mse = mean_squared_error(y_test, pred2)\n",
    "\n",
    "print(r2, mse)"
   ]
  }
 ],
 "metadata": {
  "kernelspec": {
   "display_name": "Python 3",
   "language": "python",
   "name": "python3"
  },
  "language_info": {
   "codemirror_mode": {
    "name": "ipython",
    "version": 3
   },
   "file_extension": ".py",
   "mimetype": "text/x-python",
   "name": "python",
   "nbconvert_exporter": "python",
   "pygments_lexer": "ipython3",
   "version": "3.12.0"
  }
 },
 "nbformat": 4,
 "nbformat_minor": 2
}
