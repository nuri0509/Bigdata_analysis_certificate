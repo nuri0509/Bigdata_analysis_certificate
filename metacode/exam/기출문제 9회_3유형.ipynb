{
 "cells": [
  {
   "cell_type": "code",
   "execution_count": 1,
   "id": "703a0689",
   "metadata": {},
   "outputs": [
    {
     "data": {
      "text/plain": [
       "'\\n제 3유형 - 1번\\n\\n다음은 고객의 이탈 여부를 분석하기 위한 데이터셋이다.\\nchurn은 target변수로 1 = 고객이탈, 0 = 이탈하지 않음을 나타낸다.\\nchurn 이외의 변수는 독립변수로 가정하고 아래 질문에 답하시오.\\n(단, 모든 답은 반올림하여 소수점 둘쨰자리까지 구하시오.)\\n\\n< 문제 >\\n3-1-1) 주어진 데이터로 로지스틱 회귀분석 진행 후 설명변수 x1의 p-value를 구하시오.\\n\\n3-1-2) 서비스를 받지않은 고객대비 서비스를 받은 고객이 이탈할 확률에 대한 오즈비를 구하시오.\\n(단, 서비스를 받았는지 여부는 x2변수값으로 확인하며 1은 받은고객, 0은 받지않은고객을 의미한다.)\\n\\n3-1-3) 1)에서 만든 모델로 예측시 이탈할 확률이 0.3 이상인 고객들의 수를 구하시오.\\n\\n'"
      ]
     },
     "execution_count": 1,
     "metadata": {},
     "output_type": "execute_result"
    }
   ],
   "source": [
    "'''\n",
    "제 3유형 - 1번\n",
    "\n",
    "다음은 고객의 이탈 여부를 분석하기 위한 데이터셋이다.\n",
    "churn은 target변수로 1 = 고객이탈, 0 = 이탈하지 않음을 나타낸다.\n",
    "churn 이외의 변수는 독립변수로 가정하고 아래 질문에 답하시오.\n",
    "(단, 모든 답은 반올림하여 소수점 둘쨰자리까지 구하시오.)\n",
    "\n",
    "< 문제 >\n",
    "3-1-1) 주어진 데이터로 로지스틱 회귀분석 진행 후 설명변수 x1의 p-value를 구하시오.\n",
    "\n",
    "3-1-2) 서비스를 받지않은 고객대비 서비스를 받은 고객이 이탈할 확률에 대한 오즈비를 구하시오.\n",
    "(단, 서비스를 받았는지 여부는 x2변수값으로 확인하며 1은 받은고객, 0은 받지않은고객을 의미한다.)\n",
    "\n",
    "3-1-3) 1)에서 만든 모델로 예측시 이탈할 확률이 0.3 이상인 고객들의 수를 구하시오.\n",
    "\n",
    "'''"
   ]
  },
  {
   "cell_type": "code",
   "execution_count": 2,
   "id": "a6c9a4b6",
   "metadata": {},
   "outputs": [],
   "source": [
    "######## 복사 영역 ########\n",
    "# 데이터 생성(수정금지) \n",
    "import pandas as pd\n",
    "import numpy as np\n",
    "from sklearn.datasets import load_breast_cancer\n",
    "\n",
    "data = load_breast_cancer()\n",
    "X = data.data\n",
    "y = data.target\n",
    "\n",
    "# 독립변수: 첫 10개 컬럼 선택 후 컬럼명을 x1 ~ x10으로 변경\n",
    "new_columns = [f'x{i}' for i in range(1, 11)]\n",
    "df_indep = pd.DataFrame(X[:, :10], columns=new_columns)\n",
    "df_indep['x2'] = df_indep['x2'].apply(lambda x: 1 if x > 20 else 0)\n",
    "# 타겟 변수: 컬럼명을 churn으로 변경\n",
    "df_target = pd.DataFrame(y, columns=['churn'])\n",
    "\n",
    "# 독립변수와 타겟 변수를 결합\n",
    "df = pd.concat([df_indep, df_target], axis=1)\n",
    "######## 복사 영역 ########"
   ]
  },
  {
   "cell_type": "code",
   "execution_count": 3,
   "id": "ee746522",
   "metadata": {},
   "outputs": [
    {
     "data": {
      "text/html": [
       "<div>\n",
       "<style scoped>\n",
       "    .dataframe tbody tr th:only-of-type {\n",
       "        vertical-align: middle;\n",
       "    }\n",
       "\n",
       "    .dataframe tbody tr th {\n",
       "        vertical-align: top;\n",
       "    }\n",
       "\n",
       "    .dataframe thead th {\n",
       "        text-align: right;\n",
       "    }\n",
       "</style>\n",
       "<table border=\"1\" class=\"dataframe\">\n",
       "  <thead>\n",
       "    <tr style=\"text-align: right;\">\n",
       "      <th></th>\n",
       "      <th>x1</th>\n",
       "      <th>x2</th>\n",
       "      <th>x3</th>\n",
       "      <th>x4</th>\n",
       "      <th>x5</th>\n",
       "      <th>x6</th>\n",
       "      <th>x7</th>\n",
       "      <th>x8</th>\n",
       "      <th>x9</th>\n",
       "      <th>x10</th>\n",
       "      <th>churn</th>\n",
       "    </tr>\n",
       "  </thead>\n",
       "  <tbody>\n",
       "    <tr>\n",
       "      <th>0</th>\n",
       "      <td>17.99</td>\n",
       "      <td>0</td>\n",
       "      <td>122.80</td>\n",
       "      <td>1001.0</td>\n",
       "      <td>0.11840</td>\n",
       "      <td>0.27760</td>\n",
       "      <td>0.3001</td>\n",
       "      <td>0.14710</td>\n",
       "      <td>0.2419</td>\n",
       "      <td>0.07871</td>\n",
       "      <td>0</td>\n",
       "    </tr>\n",
       "    <tr>\n",
       "      <th>1</th>\n",
       "      <td>20.57</td>\n",
       "      <td>0</td>\n",
       "      <td>132.90</td>\n",
       "      <td>1326.0</td>\n",
       "      <td>0.08474</td>\n",
       "      <td>0.07864</td>\n",
       "      <td>0.0869</td>\n",
       "      <td>0.07017</td>\n",
       "      <td>0.1812</td>\n",
       "      <td>0.05667</td>\n",
       "      <td>0</td>\n",
       "    </tr>\n",
       "    <tr>\n",
       "      <th>2</th>\n",
       "      <td>19.69</td>\n",
       "      <td>1</td>\n",
       "      <td>130.00</td>\n",
       "      <td>1203.0</td>\n",
       "      <td>0.10960</td>\n",
       "      <td>0.15990</td>\n",
       "      <td>0.1974</td>\n",
       "      <td>0.12790</td>\n",
       "      <td>0.2069</td>\n",
       "      <td>0.05999</td>\n",
       "      <td>0</td>\n",
       "    </tr>\n",
       "    <tr>\n",
       "      <th>3</th>\n",
       "      <td>11.42</td>\n",
       "      <td>1</td>\n",
       "      <td>77.58</td>\n",
       "      <td>386.1</td>\n",
       "      <td>0.14250</td>\n",
       "      <td>0.28390</td>\n",
       "      <td>0.2414</td>\n",
       "      <td>0.10520</td>\n",
       "      <td>0.2597</td>\n",
       "      <td>0.09744</td>\n",
       "      <td>0</td>\n",
       "    </tr>\n",
       "    <tr>\n",
       "      <th>4</th>\n",
       "      <td>20.29</td>\n",
       "      <td>0</td>\n",
       "      <td>135.10</td>\n",
       "      <td>1297.0</td>\n",
       "      <td>0.10030</td>\n",
       "      <td>0.13280</td>\n",
       "      <td>0.1980</td>\n",
       "      <td>0.10430</td>\n",
       "      <td>0.1809</td>\n",
       "      <td>0.05883</td>\n",
       "      <td>0</td>\n",
       "    </tr>\n",
       "  </tbody>\n",
       "</table>\n",
       "</div>"
      ],
      "text/plain": [
       "      x1  x2      x3      x4       x5       x6      x7       x8      x9  \\\n",
       "0  17.99   0  122.80  1001.0  0.11840  0.27760  0.3001  0.14710  0.2419   \n",
       "1  20.57   0  132.90  1326.0  0.08474  0.07864  0.0869  0.07017  0.1812   \n",
       "2  19.69   1  130.00  1203.0  0.10960  0.15990  0.1974  0.12790  0.2069   \n",
       "3  11.42   1   77.58   386.1  0.14250  0.28390  0.2414  0.10520  0.2597   \n",
       "4  20.29   0  135.10  1297.0  0.10030  0.13280  0.1980  0.10430  0.1809   \n",
       "\n",
       "       x10  churn  \n",
       "0  0.07871      0  \n",
       "1  0.05667      0  \n",
       "2  0.05999      0  \n",
       "3  0.09744      0  \n",
       "4  0.05883      0  "
      ]
     },
     "execution_count": 3,
     "metadata": {},
     "output_type": "execute_result"
    }
   ],
   "source": [
    "df.head()"
   ]
  },
  {
   "cell_type": "code",
   "execution_count": 4,
   "id": "ad020d34",
   "metadata": {},
   "outputs": [],
   "source": [
    "# 3-1-1) 주어진 데이터로 로지스틱 회귀분석 진행 후 설명변수 x1의 p-value를 구하시오.\n",
    "# !pip install statsmodels\n",
    "# !pip install scipy\n",
    "import statsmodels.api as sm\n",
    "\n",
    "x = df.drop(columns='churn')\n",
    "y = df['churn']\n"
   ]
  },
  {
   "cell_type": "code",
   "execution_count": 5,
   "id": "729f0780",
   "metadata": {},
   "outputs": [
    {
     "name": "stdout",
     "output_type": "stream",
     "text": [
      "Optimization terminated successfully.\n",
      "         Current function value: 0.135510\n",
      "         Iterations 11\n",
      "                           Logit Regression Results                           \n",
      "==============================================================================\n",
      "Dep. Variable:                  churn   No. Observations:                  569\n",
      "Model:                          Logit   Df Residuals:                      558\n",
      "Method:                           MLE   Df Model:                           10\n",
      "Date:                Fri, 16 May 2025   Pseudo R-squ.:                  0.7948\n",
      "Time:                        19:18:46   Log-Likelihood:                -77.105\n",
      "converged:                       True   LL-Null:                       -375.72\n",
      "Covariance Type:            nonrobust   LLR p-value:                6.906e-122\n",
      "==============================================================================\n",
      "                 coef    std err          z      P>|z|      [0.025      0.975]\n",
      "------------------------------------------------------------------------------\n",
      "const         -8.3259     11.439     -0.728      0.467     -30.746      14.094\n",
      "x1             2.6695      3.555      0.751      0.453      -4.298       9.637\n",
      "x2            -2.7438      0.492     -5.573      0.000      -3.709      -1.779\n",
      "x3             0.0247      0.497      0.050      0.960      -0.949       0.998\n",
      "x4            -0.0404      0.015     -2.685      0.007      -0.070      -0.011\n",
      "x5           -41.7463     29.024     -1.438      0.150     -98.632      15.139\n",
      "x6            -3.5322     20.459     -0.173      0.863     -43.632      36.567\n",
      "x7            -5.8312      7.977     -0.731      0.465     -21.466       9.804\n",
      "x8           -77.6838     27.697     -2.805      0.005    -131.969     -23.398\n",
      "x9           -11.0706     10.301     -1.075      0.282     -31.259       9.118\n",
      "x10           97.2839     81.282      1.197      0.231     -62.025     256.593\n",
      "==============================================================================\n",
      "\n",
      "Possibly complete quasi-separation: A fraction 0.15 of observations can be\n",
      "perfectly predicted. This might indicate that there is complete\n",
      "quasi-separation. In this case some parameters will not be identified.\n",
      "0.45\n"
     ]
    },
    {
     "name": "stderr",
     "output_type": "stream",
     "text": [
      "/var/folders/cf/wl7w208n3s3czgwpf7m_cqxr0000gn/T/ipykernel_67081/2300653385.py:7: FutureWarning: Series.__getitem__ treating keys as positions is deprecated. In a future version, integer keys will always be treated as labels (consistent with DataFrame behavior). To access a value by position, use `ser.iloc[pos]`\n",
      "  print(round(result.pvalues[1],2))  # 설명변수 x1의 p-value : 0.45\n"
     ]
    }
   ],
   "source": [
    "# dir(sm.Logit)\n",
    "x = sm.add_constant(x)\n",
    "model = sm.Logit(y,x)\n",
    "result = model.fit()\n",
    "\n",
    "print(result.summary())\n",
    "print(round(result.pvalues[1],2))  # 설명변수 x1의 p-value : 0.45"
   ]
  },
  {
   "cell_type": "code",
   "execution_count": 6,
   "id": "94da2616",
   "metadata": {},
   "outputs": [
    {
     "name": "stdout",
     "output_type": "stream",
     "text": [
      "-2.7438356537500517\n",
      "0.06\n"
     ]
    },
    {
     "name": "stderr",
     "output_type": "stream",
     "text": [
      "/var/folders/cf/wl7w208n3s3czgwpf7m_cqxr0000gn/T/ipykernel_67081/3672126056.py:4: FutureWarning: Series.__getitem__ treating keys as positions is deprecated. In a future version, integer keys will always be treated as labels (consistent with DataFrame behavior). To access a value by position, use `ser.iloc[pos]`\n",
      "  x2_coef = result.params[2]\n"
     ]
    }
   ],
   "source": [
    "# 3-1-2) 서비스를 받지않은 고객대비 서비스를 받은 고객이 이탈할 확률에 대한 오즈비를 구하시오.\n",
    "# (단, 서비스를 받았는지 여부는 x2변수값으로 확인하며 1은 받은고객, 0은 받지않은고객을 의미한다.)\n",
    "\n",
    "x2_coef = result.params[2]\n",
    "print(x2_coef) \n",
    "odds_ratio = np.exp(x2_coef)\n",
    "print(round(odds_ratio,2))   # 오즈비(odds_ratio:0.06)"
   ]
  },
  {
   "cell_type": "code",
   "execution_count": 7,
   "id": "3ee78bf7",
   "metadata": {},
   "outputs": [
    {
     "name": "stdout",
     "output_type": "stream",
     "text": [
      "382\n"
     ]
    }
   ],
   "source": [
    "# 3-1-3) 1)에서 만든 모델로 예측시 이탈할 확률이 0.3 이상인 고객들의 수를 구하시오.\n",
    "pred = result.predict(x)\n",
    "# pred\n",
    "cond = pred[pred >= 0.3]\n",
    "print(len(cond))"
   ]
  },
  {
   "cell_type": "code",
   "execution_count": null,
   "id": "9f661eb6",
   "metadata": {},
   "outputs": [],
   "source": []
  },
  {
   "cell_type": "code",
   "execution_count": null,
   "id": "b96b5831",
   "metadata": {},
   "outputs": [],
   "source": []
  },
  {
   "cell_type": "code",
   "execution_count": null,
   "id": "bbf3e0cf",
   "metadata": {},
   "outputs": [],
   "source": []
  },
  {
   "cell_type": "code",
   "execution_count": 8,
   "id": "345ac658",
   "metadata": {},
   "outputs": [
    {
     "data": {
      "text/plain": [
       "'\\n제 3유형 - 2번\\n\\n다음은 당뇨병 환자의 질병 진행정도 데이터셋이다.\\nID변수의 값이 340 이전까지는 학습데이터, 340부터는 평가데이터라고 하고\\n\\ntarget을 종속변수(y), s1~s6를 독립변수(x)로 분석했을 때 아래 질문에 답하시오.\\n(단, 모든 답은 반올림하여 소수점 둘쨰자리까지 구하시오.)\\n\\n< 문제 >\\n3-2-1) s1~s6 변수를 설명변수로 사용하여 다중회귀모델을 만들고 유의하지 않은 설명변수의 수를 구하시오. \\n       (단, 유의수준은 5%로 한다.)\\n\\n3-2-2) 학습데이터의 s5,s6변수를 활용해서 종속변수를 예측하는 다중회귀모델을 만들고,\\n       예측값과 실제값의 피어슨 상관계수를 구하시오.\\n\\n3-2-3) 2)에서 만든 모델에 평가 데이터를 대입하여 rmse 성능을 구하시오.\\n\\n'"
      ]
     },
     "execution_count": 8,
     "metadata": {},
     "output_type": "execute_result"
    }
   ],
   "source": [
    "'''\n",
    "제 3유형 - 2번\n",
    "\n",
    "다음은 당뇨병 환자의 질병 진행정도 데이터셋이다.\n",
    "ID변수의 값이 340 이전까지는 학습데이터, 340부터는 평가데이터라고 하고\n",
    "\n",
    "target을 종속변수(y), s1~s6를 독립변수(x)로 분석했을 때 아래 질문에 답하시오.\n",
    "(단, 모든 답은 반올림하여 소수점 둘쨰자리까지 구하시오.)\n",
    "\n",
    "< 문제 >\n",
    "3-2-1) s1~s6 변수를 설명변수로 사용하여 다중회귀모델을 만들고 유의하지 않은 설명변수의 수를 구하시오. \n",
    "       (단, 유의수준은 5%로 한다.)\n",
    "\n",
    "3-2-2) 학습데이터의 s5,s6변수를 활용해서 종속변수를 예측하는 다중회귀모델을 만들고,\n",
    "       예측값과 실제값의 피어슨 상관계수를 구하시오.\n",
    "\n",
    "3-2-3) 2)에서 만든 모델에 평가 데이터를 대입하여 rmse 성능을 구하시오.\n",
    "\n",
    "'''"
   ]
  },
  {
   "cell_type": "code",
   "execution_count": 9,
   "id": "cbaac0b2",
   "metadata": {},
   "outputs": [],
   "source": [
    "###############  실기환경 복사 영역  ###############\n",
    "# 데이터 불러오기\n",
    "import pandas as pd\n",
    "import numpy as np\n",
    "# 실기 시험 데이터셋으로 셋팅하기 (수정금지)\n",
    "from sklearn.datasets import load_diabetes\n",
    "# diabetes 데이터셋 로드\n",
    "diabetes = load_diabetes()\n",
    "dfx = pd.DataFrame(diabetes.data, columns=diabetes.feature_names)\n",
    "x = dfx[['s1', 's2', 's3', 's4', 's5', 's6']]\n",
    "y = pd.DataFrame(diabetes.target, columns=['target'])\n",
    "df = pd.concat([x, y], axis=1)\n",
    "\n",
    "# ID 변수 추가 (1번부터 시작)\n",
    "df.insert(0, 'ID', range(1, len(df) + 1))\n",
    "###############  실기환경 복사 영역  ###############"
   ]
  },
  {
   "cell_type": "code",
   "execution_count": 10,
   "id": "dddff44b",
   "metadata": {},
   "outputs": [
    {
     "data": {
      "text/html": [
       "<div>\n",
       "<style scoped>\n",
       "    .dataframe tbody tr th:only-of-type {\n",
       "        vertical-align: middle;\n",
       "    }\n",
       "\n",
       "    .dataframe tbody tr th {\n",
       "        vertical-align: top;\n",
       "    }\n",
       "\n",
       "    .dataframe thead th {\n",
       "        text-align: right;\n",
       "    }\n",
       "</style>\n",
       "<table border=\"1\" class=\"dataframe\">\n",
       "  <thead>\n",
       "    <tr style=\"text-align: right;\">\n",
       "      <th></th>\n",
       "      <th>ID</th>\n",
       "      <th>s1</th>\n",
       "      <th>s2</th>\n",
       "      <th>s3</th>\n",
       "      <th>s4</th>\n",
       "      <th>s5</th>\n",
       "      <th>s6</th>\n",
       "      <th>target</th>\n",
       "    </tr>\n",
       "  </thead>\n",
       "  <tbody>\n",
       "    <tr>\n",
       "      <th>0</th>\n",
       "      <td>1</td>\n",
       "      <td>-0.044223</td>\n",
       "      <td>-0.034821</td>\n",
       "      <td>-0.043401</td>\n",
       "      <td>-0.002592</td>\n",
       "      <td>0.019907</td>\n",
       "      <td>-0.017646</td>\n",
       "      <td>151.0</td>\n",
       "    </tr>\n",
       "    <tr>\n",
       "      <th>1</th>\n",
       "      <td>2</td>\n",
       "      <td>-0.008449</td>\n",
       "      <td>-0.019163</td>\n",
       "      <td>0.074412</td>\n",
       "      <td>-0.039493</td>\n",
       "      <td>-0.068332</td>\n",
       "      <td>-0.092204</td>\n",
       "      <td>75.0</td>\n",
       "    </tr>\n",
       "    <tr>\n",
       "      <th>2</th>\n",
       "      <td>3</td>\n",
       "      <td>-0.045599</td>\n",
       "      <td>-0.034194</td>\n",
       "      <td>-0.032356</td>\n",
       "      <td>-0.002592</td>\n",
       "      <td>0.002861</td>\n",
       "      <td>-0.025930</td>\n",
       "      <td>141.0</td>\n",
       "    </tr>\n",
       "    <tr>\n",
       "      <th>3</th>\n",
       "      <td>4</td>\n",
       "      <td>0.012191</td>\n",
       "      <td>0.024991</td>\n",
       "      <td>-0.036038</td>\n",
       "      <td>0.034309</td>\n",
       "      <td>0.022688</td>\n",
       "      <td>-0.009362</td>\n",
       "      <td>206.0</td>\n",
       "    </tr>\n",
       "    <tr>\n",
       "      <th>4</th>\n",
       "      <td>5</td>\n",
       "      <td>0.003935</td>\n",
       "      <td>0.015596</td>\n",
       "      <td>0.008142</td>\n",
       "      <td>-0.002592</td>\n",
       "      <td>-0.031988</td>\n",
       "      <td>-0.046641</td>\n",
       "      <td>135.0</td>\n",
       "    </tr>\n",
       "    <tr>\n",
       "      <th>5</th>\n",
       "      <td>6</td>\n",
       "      <td>-0.068991</td>\n",
       "      <td>-0.079288</td>\n",
       "      <td>0.041277</td>\n",
       "      <td>-0.076395</td>\n",
       "      <td>-0.041176</td>\n",
       "      <td>-0.096346</td>\n",
       "      <td>97.0</td>\n",
       "    </tr>\n",
       "    <tr>\n",
       "      <th>6</th>\n",
       "      <td>7</td>\n",
       "      <td>-0.040096</td>\n",
       "      <td>-0.024800</td>\n",
       "      <td>0.000779</td>\n",
       "      <td>-0.039493</td>\n",
       "      <td>-0.062917</td>\n",
       "      <td>-0.038357</td>\n",
       "      <td>138.0</td>\n",
       "    </tr>\n",
       "    <tr>\n",
       "      <th>7</th>\n",
       "      <td>8</td>\n",
       "      <td>0.090620</td>\n",
       "      <td>0.108914</td>\n",
       "      <td>0.022869</td>\n",
       "      <td>0.017703</td>\n",
       "      <td>-0.035816</td>\n",
       "      <td>0.003064</td>\n",
       "      <td>63.0</td>\n",
       "    </tr>\n",
       "    <tr>\n",
       "      <th>8</th>\n",
       "      <td>9</td>\n",
       "      <td>-0.013953</td>\n",
       "      <td>0.006202</td>\n",
       "      <td>-0.028674</td>\n",
       "      <td>-0.002592</td>\n",
       "      <td>-0.014960</td>\n",
       "      <td>0.011349</td>\n",
       "      <td>110.0</td>\n",
       "    </tr>\n",
       "    <tr>\n",
       "      <th>9</th>\n",
       "      <td>10</td>\n",
       "      <td>-0.012577</td>\n",
       "      <td>-0.034508</td>\n",
       "      <td>-0.024993</td>\n",
       "      <td>-0.002592</td>\n",
       "      <td>0.067737</td>\n",
       "      <td>-0.013504</td>\n",
       "      <td>310.0</td>\n",
       "    </tr>\n",
       "  </tbody>\n",
       "</table>\n",
       "</div>"
      ],
      "text/plain": [
       "   ID        s1        s2        s3        s4        s5        s6  target\n",
       "0   1 -0.044223 -0.034821 -0.043401 -0.002592  0.019907 -0.017646   151.0\n",
       "1   2 -0.008449 -0.019163  0.074412 -0.039493 -0.068332 -0.092204    75.0\n",
       "2   3 -0.045599 -0.034194 -0.032356 -0.002592  0.002861 -0.025930   141.0\n",
       "3   4  0.012191  0.024991 -0.036038  0.034309  0.022688 -0.009362   206.0\n",
       "4   5  0.003935  0.015596  0.008142 -0.002592 -0.031988 -0.046641   135.0\n",
       "5   6 -0.068991 -0.079288  0.041277 -0.076395 -0.041176 -0.096346    97.0\n",
       "6   7 -0.040096 -0.024800  0.000779 -0.039493 -0.062917 -0.038357   138.0\n",
       "7   8  0.090620  0.108914  0.022869  0.017703 -0.035816  0.003064    63.0\n",
       "8   9 -0.013953  0.006202 -0.028674 -0.002592 -0.014960  0.011349   110.0\n",
       "9  10 -0.012577 -0.034508 -0.024993 -0.002592  0.067737 -0.013504   310.0"
      ]
     },
     "execution_count": 10,
     "metadata": {},
     "output_type": "execute_result"
    }
   ],
   "source": [
    "df.head(10)"
   ]
  },
  {
   "cell_type": "code",
   "execution_count": 15,
   "id": "bc919740",
   "metadata": {},
   "outputs": [
    {
     "name": "stdout",
     "output_type": "stream",
     "text": [
      "   ID        s1        s2        s3        s4        s5        s6  target\n",
      "0   1 -0.044223 -0.034821 -0.043401 -0.002592  0.019907 -0.017646   151.0\n",
      "1   2 -0.008449 -0.019163  0.074412 -0.039493 -0.068332 -0.092204    75.0\n",
      "2   3 -0.045599 -0.034194 -0.032356 -0.002592  0.002861 -0.025930   141.0\n",
      "3   4  0.012191  0.024991 -0.036038  0.034309  0.022688 -0.009362   206.0\n",
      "4   5  0.003935  0.015596  0.008142 -0.002592 -0.031988 -0.046641   135.0\n",
      "      ID        s1        s2        s3        s4        s5        s6  target\n",
      "334  335 -0.071743 -0.057681 -0.006584 -0.039493 -0.062917 -0.054925    72.0\n",
      "335  336  0.001183 -0.006637  0.063367 -0.039493 -0.051404 -0.059067    96.0\n",
      "336  337  0.091996  0.089499 -0.061809  0.145012  0.080946  0.052770   306.0\n",
      "337  338 -0.011201  0.007141 -0.039719  0.034309  0.005386  0.003064    91.0\n",
      "338  339  0.001183  0.024051 -0.024993 -0.002592 -0.022517 -0.059067   214.0\n"
     ]
    }
   ],
   "source": [
    "# ID값을 기준으로 학습 데이터와 평가 데이터 분리\n",
    "train = df[df['ID'] < 340]\n",
    "print(train.head())\n",
    "print(train.tail())"
   ]
  },
  {
   "cell_type": "code",
   "execution_count": 16,
   "id": "5d38565b",
   "metadata": {},
   "outputs": [
    {
     "name": "stdout",
     "output_type": "stream",
     "text": [
      "      ID        s1        s2        s3        s4        s5        s6  target\n",
      "339  340  0.075484  0.056619  0.033914 -0.002592  0.043444  0.015491    95.0\n",
      "340  341 -0.009825 -0.003819  0.019187 -0.039493 -0.035816 -0.030072   216.0\n",
      "341  342 -0.022208  0.001191 -0.032356 -0.002592 -0.024795 -0.017646   263.0\n",
      "342  343 -0.007073  0.018101 -0.032356 -0.002592 -0.023647  0.023775   178.0\n",
      "343  344  0.003935  0.008707  0.037595 -0.039493 -0.057803  0.007207   113.0\n",
      "      ID        s1        s2        s3        s4        s5        s6  target\n",
      "437  438 -0.005697 -0.002566 -0.028674 -0.002592  0.031193  0.007207   178.0\n",
      "438  439  0.049341  0.079165 -0.028674  0.034309 -0.018114  0.044485   104.0\n",
      "439  440 -0.037344 -0.013840 -0.024993 -0.011080 -0.046883  0.015491   132.0\n",
      "440  441  0.016318  0.015283 -0.028674  0.026560  0.044529 -0.025930   220.0\n",
      "441  442  0.083740  0.027809  0.173816 -0.039493 -0.004222  0.003064    57.0\n"
     ]
    }
   ],
   "source": [
    "test = df[df['ID'] >= 340]\n",
    "print(test.head())\n",
    "print(test.tail())"
   ]
  },
  {
   "cell_type": "code",
   "execution_count": 17,
   "id": "13b463ee",
   "metadata": {},
   "outputs": [
    {
     "name": "stdout",
     "output_type": "stream",
     "text": [
      "                            OLS Regression Results                            \n",
      "==============================================================================\n",
      "Dep. Variable:                 target   R-squared:                       0.385\n",
      "Model:                            OLS   Adj. R-squared:                  0.374\n",
      "Method:                 Least Squares   F-statistic:                     34.63\n",
      "Date:                Fri, 16 May 2025   Prob (F-statistic):           1.93e-32\n",
      "Time:                        19:24:34   Log-Likelihood:                -1870.0\n",
      "No. Observations:                 339   AIC:                             3754.\n",
      "Df Residuals:                     332   BIC:                             3781.\n",
      "Df Model:                           6                                         \n",
      "Covariance Type:            nonrobust                                         \n",
      "==============================================================================\n",
      "                 coef    std err          t      P>|t|      [0.025      0.975]\n",
      "------------------------------------------------------------------------------\n",
      "const        151.9153      3.306     45.955      0.000     145.412     158.418\n",
      "s1          -574.6540    561.466     -1.023      0.307   -1679.134     529.826\n",
      "s2           416.2184    454.432      0.916      0.360    -477.710    1310.147\n",
      "s3           -35.6621    284.708     -0.125      0.900    -595.722     524.398\n",
      "s4            42.8849    203.165      0.211      0.833    -356.767     442.537\n",
      "s5           979.7376    219.488      4.464      0.000     547.975    1411.500\n",
      "s6           194.2224     82.681      2.349      0.019      31.578     356.867\n",
      "==============================================================================\n",
      "Omnibus:                        8.014   Durbin-Watson:                   2.018\n",
      "Prob(Omnibus):                  0.018   Jarque-Bera (JB):                6.574\n",
      "Skew:                           0.253   Prob(JB):                       0.0374\n",
      "Kurtosis:                       2.542   Cond. No.                         239.\n",
      "==============================================================================\n",
      "\n",
      "Notes:\n",
      "[1] Standard Errors assume that the covariance matrix of the errors is correctly specified.\n"
     ]
    }
   ],
   "source": [
    "# 3-2-1) s1~s6 변수를 설명변수로 사용하여 다중회귀모델을 만들고 유의하지 않은 설명변수의 수를 구하시오. \n",
    "#        (단, 유의수준은 5%로 한다.)\n",
    "\n",
    "# 독립변수와 종속변수 지정\n",
    "x_train = train.drop(columns=['ID', 'target'])\n",
    "y_train = train['target']\n",
    "\n",
    "# 모델링\n",
    "import statsmodels.api as sm\n",
    "\n",
    "x_train = sm.add_constant(x_train)  # x_train 데이터에 상수항 추가\n",
    "model = sm.OLS(y_train, x_train).fit() # 파라미터 (y, x)순으로 입력\n",
    "\n",
    "summary = model.summary()\n",
    "print(summary)"
   ]
  },
  {
   "cell_type": "code",
   "execution_count": null,
   "id": "3bb9b37d",
   "metadata": {},
   "outputs": [
    {
     "data": {
      "text/plain": [
       "<bound method IndexOpsMixin.value_counts of const    False\n",
       "s1        True\n",
       "s2        True\n",
       "s3        True\n",
       "s4        True\n",
       "s5       False\n",
       "s6       False\n",
       "dtype: bool>"
      ]
     },
     "execution_count": 29,
     "metadata": {},
     "output_type": "execute_result"
    }
   ],
   "source": [
    "cond = model.pvalues > 0.05  # 유의하지않은 변수의 개수:4개"
   ]
  },
  {
   "cell_type": "code",
   "execution_count": 30,
   "id": "4d97017c",
   "metadata": {},
   "outputs": [
    {
     "name": "stdout",
     "output_type": "stream",
     "text": [
      "                            OLS Regression Results                            \n",
      "==============================================================================\n",
      "Dep. Variable:                 target   R-squared:                       0.358\n",
      "Model:                            OLS   Adj. R-squared:                  0.354\n",
      "Method:                 Least Squares   F-statistic:                     93.63\n",
      "Date:                Fri, 16 May 2025   Prob (F-statistic):           4.79e-33\n",
      "Time:                        19:34:14   Log-Likelihood:                -1877.3\n",
      "No. Observations:                 339   AIC:                             3761.\n",
      "Df Residuals:                     336   BIC:                             3772.\n",
      "Df Model:                           2                                         \n",
      "Covariance Type:            nonrobust                                         \n",
      "==============================================================================\n",
      "                 coef    std err          t      P>|t|      [0.025      0.975]\n",
      "------------------------------------------------------------------------------\n",
      "const        152.0078      3.354     45.317      0.000     145.410     158.606\n",
      "s5           852.8817     82.619     10.323      0.000     690.367    1015.397\n",
      "s6           221.7992     81.578      2.719      0.007      61.331     382.268\n",
      "==============================================================================\n",
      "Omnibus:                        9.137   Durbin-Watson:                   2.001\n",
      "Prob(Omnibus):                  0.010   Jarque-Bera (JB):                8.685\n",
      "Skew:                           0.344   Prob(JB):                       0.0130\n",
      "Kurtosis:                       2.623   Cond. No.                         29.9\n",
      "==============================================================================\n",
      "\n",
      "Notes:\n",
      "[1] Standard Errors assume that the covariance matrix of the errors is correctly specified.\n"
     ]
    }
   ],
   "source": [
    "# 3-2-2) 학습데이터의 s5,s6변수를 활용해서 종속변수를 예측하는 다중회귀모델을 만들고,\n",
    "#        예측값과 실제값의 피어슨 상관계수를 구하시오.\n",
    "\n",
    "# 독립변수와 종속변수 지정\n",
    "x_train = train[['s5', 's6']]\n",
    "y_train = train['target']\n",
    "\n",
    "# 모델링\n",
    "\n",
    "import statsmodels.api as sm\n",
    "\n",
    "x_train = sm.add_constant(x_train)\n",
    "model = sm.OLS(y_train, x_train).fit()\n",
    "\n",
    "summary = model.summary()\n",
    "print(summary)"
   ]
  },
  {
   "cell_type": "code",
   "execution_count": 31,
   "id": "d66f726d",
   "metadata": {},
   "outputs": [
    {
     "name": "stdout",
     "output_type": "stream",
     "text": [
      "0.6\n",
      "2.7733638481607874e-34\n"
     ]
    }
   ],
   "source": [
    "# 예측값과 실제값의 피어슨 상관계수를 구하시오,\n",
    "\n",
    "# 실제값 : y_train\n",
    "# 예측값 : y_pred\n",
    "y_pred = model.predict(x_train)\n",
    "\n",
    "# 피어슨 상관계수 계산\n",
    "from scipy.stats import pearsonr\n",
    "\n",
    "corr, pvalue = pearsonr(y_pred, y_train)\n",
    "print(round(corr, 2))\n",
    "print(pvalue)"
   ]
  },
  {
   "cell_type": "code",
   "execution_count": 35,
   "id": "5a0606bc",
   "metadata": {},
   "outputs": [
    {
     "name": "stdout",
     "output_type": "stream",
     "text": [
      "                            OLS Regression Results                            \n",
      "==============================================================================\n",
      "Dep. Variable:                 target   R-squared:                       0.358\n",
      "Model:                            OLS   Adj. R-squared:                  0.354\n",
      "Method:                 Least Squares   F-statistic:                     93.63\n",
      "Date:                Fri, 16 May 2025   Prob (F-statistic):           4.79e-33\n",
      "Time:                        19:42:03   Log-Likelihood:                -1877.3\n",
      "No. Observations:                 339   AIC:                             3761.\n",
      "Df Residuals:                     336   BIC:                             3772.\n",
      "Df Model:                           2                                         \n",
      "Covariance Type:            nonrobust                                         \n",
      "==============================================================================\n",
      "                 coef    std err          t      P>|t|      [0.025      0.975]\n",
      "------------------------------------------------------------------------------\n",
      "const        152.0078      3.354     45.317      0.000     145.410     158.606\n",
      "s5           852.8817     82.619     10.323      0.000     690.367    1015.397\n",
      "s6           221.7992     81.578      2.719      0.007      61.331     382.268\n",
      "==============================================================================\n",
      "Omnibus:                        9.137   Durbin-Watson:                   2.001\n",
      "Prob(Omnibus):                  0.010   Jarque-Bera (JB):                8.685\n",
      "Skew:                           0.344   Prob(JB):                       0.0130\n",
      "Kurtosis:                       2.623   Cond. No.                         29.9\n",
      "==============================================================================\n",
      "\n",
      "Notes:\n",
      "[1] Standard Errors assume that the covariance matrix of the errors is correctly specified.\n"
     ]
    }
   ],
   "source": [
    "# 3-2-3) 2)에서 만든 모델에 평가 데이터를 대입하여 rmse 성능을 구하시오.\n",
    "\n",
    "# 독립변수와 종속변수 지정\n",
    "x_train = train[['s5', 's6']]\n",
    "y_train = train['target']\n",
    "\n",
    "x_test = test[['s5', 's6']]\n",
    "y_test = test['target']\n",
    "\n",
    "# 모델링\n",
    "import statsmodels.api as sm\n",
    "\n",
    "x_train = sm.add_constant(x_train)\n",
    "model = sm.OLS(y_train, x_train).fit()\n",
    "summary = model.summary()\n",
    "print(summary)\n"
   ]
  },
  {
   "cell_type": "code",
   "execution_count": null,
   "id": "19f80ccf",
   "metadata": {},
   "outputs": [
    {
     "name": "stdout",
     "output_type": "stream",
     "text": [
      "339    192.496200\n",
      "340    114.790781\n",
      "341    126.946337\n",
      "342    137.113090\n",
      "343    104.307060\n",
      "          ...    \n",
      "437    180.209799\n",
      "438    146.425811\n",
      "439    115.458380\n",
      "440    184.234207\n",
      "441    149.087033\n",
      "Length: 103, dtype: float64\n"
     ]
    }
   ],
   "source": [
    "# 평가데이터에 상수항 추가 후 예측\n",
    "x_test = sm.add_constant(x_test)   # 평가 데이터에도 상수항 추가 #\n",
    "y_pred = model.predict(x_test) \n",
    "print(y_pred)"
   ]
  },
  {
   "cell_type": "code",
   "execution_count": 36,
   "id": "6662df10",
   "metadata": {},
   "outputs": [
    {
     "name": "stdout",
     "output_type": "stream",
     "text": [
      "66.43406202471486\n"
     ]
    }
   ],
   "source": [
    "# RMSE 계산\n",
    "from sklearn.metrics import mean_squared_error\n",
    "\n",
    "mse = mean_squared_error(y_test, y_pred)\n",
    "rmse = mse ** 0.5\n",
    "print(rmse)"
   ]
  },
  {
   "cell_type": "code",
   "execution_count": null,
   "id": "5b911b3d",
   "metadata": {},
   "outputs": [],
   "source": []
  }
 ],
 "metadata": {
  "kernelspec": {
   "display_name": "bigdata_analysis_certificate",
   "language": "python",
   "name": "python3"
  },
  "language_info": {
   "codemirror_mode": {
    "name": "ipython",
    "version": 3
   },
   "file_extension": ".py",
   "mimetype": "text/x-python",
   "name": "python",
   "nbconvert_exporter": "python",
   "pygments_lexer": "ipython3",
   "version": "3.13.2"
  }
 },
 "nbformat": 4,
 "nbformat_minor": 5
}
