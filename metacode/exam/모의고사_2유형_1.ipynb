{
 "cells": [
  {
   "cell_type": "code",
   "execution_count": 1,
   "metadata": {},
   "outputs": [],
   "source": [
    "# 모의고사 2유형\n",
    "# 2유형 1번(악성종양 분류)\n",
    "# 제공된 데이터는 종양의 크기, 모양 등 다양한 변수를 기반으로 해당 종양이 악성종양(malignant)\n",
    "# 인지 양성종양(benign)인지 분류한 데이터셋이다. 학습 데이터(train)를 이용하여 악성종양을 분\n",
    "# 류하는 모델을 개발하고 해당 모델을 기반으로 평가 데이터(test)를 적용하여 얻은 예측결과를 아\n",
    "# 래 제출 양식에 맞추어 CSV 파일로 제출하시오.\n",
    "# 단, 예측결과는 악성종양(0)일 확률값을 제출하시오.\n",
    "# 예측결과는 Accuracy, ROC-AUC 지표로 평가함.\n",
    "# (실제 시험에서는 test셋의 y값이 주어지지 않으나,\n",
    "# 해당 모의고사에서는 본인이 직접 y_test 값을 이용하여 성능평가 해보시오)\n",
    "# 제출형식 (아래 예시)\n",
    "# csv파일명 : result.csv\n",
    "# 예측 종양 칼럼명 : pred\n",
    "# 제출 칼럼 개수 : pred 칼럼 1개 (아래)"
   ]
  },
  {
   "cell_type": "code",
   "execution_count": 2,
   "metadata": {},
   "outputs": [],
   "source": [
    "# 예시자료(result 결과값과 같은 형태로 제출)\n",
    "# import pandas as pd\n",
    "# result = pd.DataFrame({'pred':[0.7, 0.2, 0.3]})\n",
    "# result\n",
    "# # 아래 코드는 예시이며 변수명 등 개인별로 변경하여 활용\n",
    "# pd.DataFrame변수.to_csv(\"result.csv\", index=False)\n",
    "\n",
    "# 데이터 설명\n",
    "# 1. 변수설명\n",
    "# 종속변수(Y) : target 칼럼(0 : 악성종양, 1 : 양성종양)\n",
    "# 독립변수(X) : no, target을 제외한 칼럼\n",
    "# 종양번호 : no 칼럼"
   ]
  },
  {
   "cell_type": "code",
   "execution_count": 3,
   "metadata": {},
   "outputs": [],
   "source": [
    "###############  실기환경    복사    영역  ############### \n",
    "import pandas as pd\n",
    "import numpy as np\n",
    "# 실기    시험    데이터셋으로    셋팅하기 (수정금지)\n",
    "from sklearn.datasets import    load_breast_cancer \n",
    "# 유방암    데이터셋 load\n",
    "cancer = load_breast_cancer()\n",
    "X, y = load_breast_cancer(return_X_y=    True, as_frame=True) \n",
    "# 실기    시험    데이터셋으로    셋팅하기 (수정금지)\n",
    "from sklearn.model_selection import train_test_split\n",
    "x_tr, x_te, y_tr, y_te = train_test_split(X, y, test_size=0.2,\n",
    "stratify=y, random_state=2024)\n",
    "test = pd.DataFrame(x_te.reset_index()) \n",
    "y_test = pd.DataFrame(y_te.reset_index()) \n",
    "x_tr = pd.DataFrame(x_tr.reset_index()) \n",
    "y_tr = pd.DataFrame(y_tr.reset_index())\n",
    "test.rename(columns={'index':'no'}, inplace=True) \n",
    "x_tr.rename(columns={'index':'no'}, inplace=True) \n",
    "y_test.columns = ['no', 'target']\n",
    "y_tr.columns = ['no1', 'target']\n",
    "train = pd.concat([y_tr, x_tr], axis=1) \n",
    "train = train.drop('no1', axis=1)\n",
    "y_test = y_test.drop('no', axis=1) \n",
    "train.loc[0:2, 'mean radius'] = np.nan\n",
    "###############  실기환경    복사    영역  ###############\n",
    "\n"
   ]
  },
  {
   "cell_type": "code",
   "execution_count": 4,
   "metadata": {},
   "outputs": [
    {
     "name": "stdout",
     "output_type": "stream",
     "text": [
      "    no  mean radius  mean texture  mean perimeter  mean area  mean smoothness  \\\n",
      "0  516       18.310         20.58          120.80     1052.0          0.10680   \n",
      "1   71        8.888         14.64           58.79      244.0          0.09783   \n",
      "2  277       18.810         19.98          120.90     1102.0          0.08923   \n",
      "3   10       16.020         23.24          102.70      797.8          0.08206   \n",
      "4   20       13.080         15.71           85.63      520.0          0.10750   \n",
      "\n",
      "   mean compactness  mean concavity  mean concave points  mean symmetry  ...  \\\n",
      "0           0.12480         0.15690              0.09451         0.1860  ...   \n",
      "1           0.15310         0.08606              0.02872         0.1902  ...   \n",
      "2           0.05884         0.08020              0.05843         0.1550  ...   \n",
      "3           0.06669         0.03299              0.03323         0.1528  ...   \n",
      "4           0.12700         0.04568              0.03110         0.1967  ...   \n",
      "\n",
      "   worst radius  worst texture  worst perimeter  worst area  worst smoothness  \\\n",
      "0        21.860          26.20           142.20      1493.0            0.1492   \n",
      "1         9.733          15.67            62.56       284.4            0.1207   \n",
      "2        19.960          24.30           129.00      1236.0            0.1243   \n",
      "3        19.190          33.88           123.80      1150.0            0.1181   \n",
      "4        14.500          20.49            96.09       630.5            0.1312   \n",
      "\n",
      "   worst compactness  worst concavity  worst concave points  worst symmetry  \\\n",
      "0             0.2536           0.3759               0.15100          0.3074   \n",
      "1             0.2436           0.1434               0.04786          0.2254   \n",
      "2             0.1160           0.2210               0.12940          0.2567   \n",
      "3             0.1551           0.1459               0.09975          0.2948   \n",
      "4             0.2776           0.1890               0.07283          0.3184   \n",
      "\n",
      "   worst fractal dimension  \n",
      "0                  0.07863  \n",
      "1                  0.10840  \n",
      "2                  0.05737  \n",
      "3                  0.08452  \n",
      "4                  0.08183  \n",
      "\n",
      "[5 rows x 31 columns]\n",
      "   no1  target\n",
      "0  516       0\n",
      "1   71       1\n",
      "2  277       0\n",
      "3   10       0\n",
      "4   20       1\n"
     ]
    }
   ],
   "source": [
    " print(x_tr.head())\n",
    " print(y_tr.head())\n",
    "\n"
   ]
  },
  {
   "cell_type": "code",
   "execution_count": 5,
   "metadata": {},
   "outputs": [
    {
     "name": "stdout",
     "output_type": "stream",
     "text": [
      "    no  mean radius  mean texture  mean perimeter  mean area  mean smoothness  \\\n",
      "0  516       18.310         20.58          120.80     1052.0          0.10680   \n",
      "1   71        8.888         14.64           58.79      244.0          0.09783   \n",
      "2  277       18.810         19.98          120.90     1102.0          0.08923   \n",
      "3   10       16.020         23.24          102.70      797.8          0.08206   \n",
      "4   20       13.080         15.71           85.63      520.0          0.10750   \n",
      "\n",
      "   mean compactness  mean concavity  mean concave points  mean symmetry  ...  \\\n",
      "0           0.12480         0.15690              0.09451         0.1860  ...   \n",
      "1           0.15310         0.08606              0.02872         0.1902  ...   \n",
      "2           0.05884         0.08020              0.05843         0.1550  ...   \n",
      "3           0.06669         0.03299              0.03323         0.1528  ...   \n",
      "4           0.12700         0.04568              0.03110         0.1967  ...   \n",
      "\n",
      "   worst radius  worst texture  worst perimeter  worst area  worst smoothness  \\\n",
      "0        21.860          26.20           142.20      1493.0            0.1492   \n",
      "1         9.733          15.67            62.56       284.4            0.1207   \n",
      "2        19.960          24.30           129.00      1236.0            0.1243   \n",
      "3        19.190          33.88           123.80      1150.0            0.1181   \n",
      "4        14.500          20.49            96.09       630.5            0.1312   \n",
      "\n",
      "   worst compactness  worst concavity  worst concave points  worst symmetry  \\\n",
      "0             0.2536           0.3759               0.15100          0.3074   \n",
      "1             0.2436           0.1434               0.04786          0.2254   \n",
      "2             0.1160           0.2210               0.12940          0.2567   \n",
      "3             0.1551           0.1459               0.09975          0.2948   \n",
      "4             0.2776           0.1890               0.07283          0.3184   \n",
      "\n",
      "   worst fractal dimension  \n",
      "0                  0.07863  \n",
      "1                  0.10840  \n",
      "2                  0.05737  \n",
      "3                  0.08452  \n",
      "4                  0.08183  \n",
      "\n",
      "[5 rows x 31 columns]\n"
     ]
    }
   ],
   "source": [
    "print(x_tr.head())\n"
   ]
  },
  {
   "cell_type": "code",
   "execution_count": 6,
   "metadata": {},
   "outputs": [
    {
     "name": "stdout",
     "output_type": "stream",
     "text": [
      "   no1  target\n",
      "0  516       0\n",
      "1   71       1\n",
      "2  277       0\n",
      "3   10       0\n",
      "4   20       1\n"
     ]
    }
   ],
   "source": [
    "print(y_tr.head())\n",
    "\n"
   ]
  },
  {
   "cell_type": "code",
   "execution_count": 7,
   "metadata": {},
   "outputs": [],
   "source": [
    "x_tr = x_tr.drop(columns='no')\n",
    "y_tr = y_tr.drop(columns='no1')\n",
    "\n",
    "y_te = y_te.drop(columns='no')"
   ]
  },
  {
   "cell_type": "code",
   "execution_count": 8,
   "metadata": {},
   "outputs": [
    {
     "name": "stdout",
     "output_type": "stream",
     "text": [
      "     mean radius  mean texture  mean perimeter  mean area  mean smoothness  \\\n",
      "494        13.16         20.54           84.06      538.7          0.07335   \n",
      "43         13.28         20.28           87.32      545.2          0.10410   \n",
      "306        13.20         15.82           84.07      537.3          0.08511   \n",
      "315        12.49         16.85           79.19      481.6          0.08511   \n",
      "105        13.11         15.56           87.21      530.2          0.13980   \n",
      "\n",
      "     mean compactness  mean concavity  mean concave points  mean symmetry  \\\n",
      "494           0.05275        0.018000             0.012560         0.1713   \n",
      "43            0.14360        0.098470             0.061580         0.1974   \n",
      "306           0.05251        0.001461             0.003261         0.1632   \n",
      "315           0.03834        0.004473             0.006423         0.1215   \n",
      "105           0.17650        0.207100             0.096010         0.1925   \n",
      "\n",
      "     mean fractal dimension  ...  worst radius  worst texture  \\\n",
      "494                 0.05888  ...         14.50          28.46   \n",
      "43                  0.06782  ...         17.38          28.00   \n",
      "306                 0.05894  ...         14.41          20.45   \n",
      "315                 0.05673  ...         13.34          19.71   \n",
      "105                 0.07692  ...         16.31          22.40   \n",
      "\n",
      "     worst perimeter  worst area  worst smoothness  worst compactness  \\\n",
      "494            95.29       648.3            0.1118            0.16460   \n",
      "43            113.10       907.2            0.1530            0.37240   \n",
      "306            92.00       636.9            0.1128            0.13460   \n",
      "315            84.48       544.2            0.1104            0.04953   \n",
      "105           106.40       827.2            0.1862            0.40990   \n",
      "\n",
      "     worst concavity  worst concave points  worst symmetry  \\\n",
      "494          0.07698               0.04195          0.2687   \n",
      "43           0.36640               0.14920          0.3739   \n",
      "306          0.01120               0.02500          0.2651   \n",
      "315          0.01938               0.02784          0.1917   \n",
      "105          0.63760               0.19860          0.3147   \n",
      "\n",
      "     worst fractal dimension  \n",
      "494                  0.07429  \n",
      "43                   0.10270  \n",
      "306                  0.08385  \n",
      "315                  0.06174  \n",
      "105                  0.14050  \n",
      "\n",
      "[5 rows x 30 columns]\n"
     ]
    }
   ],
   "source": [
    "print(x_te.head())"
   ]
  },
  {
   "cell_type": "code",
   "execution_count": 9,
   "metadata": {},
   "outputs": [
    {
     "name": "stdout",
     "output_type": "stream",
     "text": [
      "mean radius                0\n",
      "mean texture               0\n",
      "mean perimeter             0\n",
      "mean area                  0\n",
      "mean smoothness            0\n",
      "mean compactness           0\n",
      "mean concavity             0\n",
      "mean concave points        0\n",
      "mean symmetry              0\n",
      "mean fractal dimension     0\n",
      "radius error               0\n",
      "texture error              0\n",
      "perimeter error            0\n",
      "area error                 0\n",
      "smoothness error           0\n",
      "compactness error          0\n",
      "concavity error            0\n",
      "concave points error       0\n",
      "symmetry error             0\n",
      "fractal dimension error    0\n",
      "worst radius               0\n",
      "worst texture              0\n",
      "worst perimeter            0\n",
      "worst area                 0\n",
      "worst smoothness           0\n",
      "worst compactness          0\n",
      "worst concavity            0\n",
      "worst concave points       0\n",
      "worst symmetry             0\n",
      "worst fractal dimension    0\n",
      "dtype: int64\n"
     ]
    }
   ],
   "source": [
    "print(x_tr.isnull().sum())"
   ]
  },
  {
   "cell_type": "code",
   "execution_count": 10,
   "metadata": {},
   "outputs": [
    {
     "name": "stdout",
     "output_type": "stream",
     "text": [
      "target    0\n",
      "dtype: int64\n"
     ]
    }
   ],
   "source": [
    "print(y_tr.isnull().sum())"
   ]
  },
  {
   "cell_type": "code",
   "execution_count": 11,
   "metadata": {},
   "outputs": [
    {
     "name": "stdout",
     "output_type": "stream",
     "text": [
      "mean radius                0\n",
      "mean texture               0\n",
      "mean perimeter             0\n",
      "mean area                  0\n",
      "mean smoothness            0\n",
      "mean compactness           0\n",
      "mean concavity             0\n",
      "mean concave points        0\n",
      "mean symmetry              0\n",
      "mean fractal dimension     0\n",
      "radius error               0\n",
      "texture error              0\n",
      "perimeter error            0\n",
      "area error                 0\n",
      "smoothness error           0\n",
      "compactness error          0\n",
      "concavity error            0\n",
      "concave points error       0\n",
      "symmetry error             0\n",
      "fractal dimension error    0\n",
      "worst radius               0\n",
      "worst texture              0\n",
      "worst perimeter            0\n",
      "worst area                 0\n",
      "worst smoothness           0\n",
      "worst compactness          0\n",
      "worst concavity            0\n",
      "worst concave points       0\n",
      "worst symmetry             0\n",
      "worst fractal dimension    0\n",
      "dtype: int64\n"
     ]
    }
   ],
   "source": [
    "print(x_te.isnull().sum())"
   ]
  },
  {
   "cell_type": "code",
   "execution_count": 12,
   "metadata": {},
   "outputs": [
    {
     "name": "stderr",
     "output_type": "stream",
     "text": [
      "C:\\Users\\admin\\AppData\\Local\\Packages\\PythonSoftwareFoundation.Python.3.12_qbz5n2kfra8p0\\LocalCache\\local-packages\\Python312\\site-packages\\sklearn\\utils\\validation.py:1339: DataConversionWarning: A column-vector y was passed when a 1d array was expected. Please change the shape of y to (n_samples, ), for example using ravel().\n",
      "  y = column_or_1d(y, warn=True)\n",
      "C:\\Users\\admin\\AppData\\Local\\Packages\\PythonSoftwareFoundation.Python.3.12_qbz5n2kfra8p0\\LocalCache\\local-packages\\Python312\\site-packages\\sklearn\\linear_model\\_logistic.py:469: ConvergenceWarning: lbfgs failed to converge (status=1):\n",
      "STOP: TOTAL NO. of ITERATIONS REACHED LIMIT.\n",
      "\n",
      "Increase the number of iterations (max_iter) or scale the data as shown in:\n",
      "    https://scikit-learn.org/stable/modules/preprocessing.html\n",
      "Please also refer to the documentation for alternative solver options:\n",
      "    https://scikit-learn.org/stable/modules/linear_model.html#logistic-regression\n",
      "  n_iter_i = _check_optimize_result(\n"
     ]
    }
   ],
   "source": [
    "from sklearn.linear_model import LogisticRegression\n",
    "\n",
    "model = LogisticRegression(random_state=2024, penalty=None)\n",
    "model.fit(x_tr, y_tr)\n",
    "pred = model.predict(x_te)\n",
    "\n"
   ]
  },
  {
   "cell_type": "code",
   "execution_count": 13,
   "metadata": {},
   "outputs": [
    {
     "data": {
      "text/plain": [
       "array([1, 0, 1, 1, 1, 1, 0, 1, 1, 0, 0, 1, 1, 0, 1, 1, 1, 0, 1, 1, 1, 1,\n",
       "       1, 0, 0, 0, 1, 1, 1, 1, 0, 0, 1, 0, 1, 1, 1, 1, 1, 1, 1, 1, 1, 1,\n",
       "       0, 0, 1, 1, 0, 1, 1, 0, 1, 0, 1, 1, 1, 1, 0, 0, 1, 1, 0, 0, 1, 1,\n",
       "       1, 0, 0, 1, 1, 1, 1, 0, 1, 1, 1, 0, 1, 1, 0, 0, 1, 1, 1, 1, 1, 1,\n",
       "       0, 1, 0, 1, 1, 1, 0, 0, 1, 0, 1, 1, 1, 1, 0, 0, 1, 1, 0, 1, 0, 1,\n",
       "       0, 1, 0, 1])"
      ]
     },
     "execution_count": 13,
     "metadata": {},
     "output_type": "execute_result"
    }
   ],
   "source": [
    "pred"
   ]
  },
  {
   "cell_type": "code",
   "execution_count": 14,
   "metadata": {},
   "outputs": [],
   "source": [
    "pred = pd.DataFrame({'pred':pred})"
   ]
  },
  {
   "cell_type": "code",
   "execution_count": 15,
   "metadata": {},
   "outputs": [
    {
     "data": {
      "text/plain": [
       "0      1\n",
       "1      0\n",
       "2      1\n",
       "3      1\n",
       "4      0\n",
       "      ..\n",
       "109    1\n",
       "110    0\n",
       "111    1\n",
       "112    0\n",
       "113    1\n",
       "Name: target, Length: 114, dtype: int32"
      ]
     },
     "execution_count": 15,
     "metadata": {},
     "output_type": "execute_result"
    }
   ],
   "source": [
    "y_te.reset_index(drop=True)"
   ]
  },
  {
   "cell_type": "code",
   "execution_count": 20,
   "metadata": {},
   "outputs": [
    {
     "name": "stdout",
     "output_type": "stream",
     "text": [
      "              precision    recall  f1-score   support\n",
      "\n",
      "           0       0.92      0.83      0.88        42\n",
      "           1       0.91      0.96      0.93        72\n",
      "\n",
      "    accuracy                           0.91       114\n",
      "   macro avg       0.91      0.90      0.90       114\n",
      "weighted avg       0.91      0.91      0.91       114\n",
      "\n",
      "[[35  7]\n",
      " [ 3 69]]\n",
      "[[0.14 0.86]\n",
      " [0.92 0.08]\n",
      " [0.   1.  ]\n",
      " [0.   1.  ]\n",
      " [0.49 0.51]\n",
      " [0.11 0.89]\n",
      " [0.57 0.43]\n",
      " [0.01 0.99]\n",
      " [0.01 0.99]\n",
      " [0.76 0.24]\n",
      " [1.   0.  ]\n",
      " [0.01 0.99]\n",
      " [0.   1.  ]\n",
      " [1.   0.  ]\n",
      " [0.14 0.86]\n",
      " [0.   1.  ]\n",
      " [0.   1.  ]\n",
      " [0.98 0.02]\n",
      " [0.13 0.87]\n",
      " [0.5  0.5 ]\n",
      " [0.01 0.99]\n",
      " [0.   1.  ]\n",
      " [0.06 0.94]\n",
      " [1.   0.  ]\n",
      " [1.   0.  ]\n",
      " [0.96 0.04]\n",
      " [0.   1.  ]\n",
      " [0.04 0.96]\n",
      " [0.02 0.98]\n",
      " [0.06 0.94]\n",
      " [1.   0.  ]\n",
      " [1.   0.  ]\n",
      " [0.11 0.89]\n",
      " [0.58 0.42]\n",
      " [0.4  0.6 ]\n",
      " [0.01 0.99]\n",
      " [0.01 0.99]\n",
      " [0.   1.  ]\n",
      " [0.41 0.59]\n",
      " [0.   1.  ]\n",
      " [0.01 0.99]\n",
      " [0.   1.  ]\n",
      " [0.06 0.94]\n",
      " [0.   1.  ]\n",
      " [1.   0.  ]\n",
      " [1.   0.  ]\n",
      " [0.02 0.98]\n",
      " [0.07 0.93]\n",
      " [1.   0.  ]\n",
      " [0.   1.  ]\n",
      " [0.   1.  ]\n",
      " [1.   0.  ]\n",
      " [0.22 0.78]\n",
      " [0.91 0.09]\n",
      " [0.   1.  ]\n",
      " [0.04 0.96]\n",
      " [0.   1.  ]\n",
      " [0.   1.  ]\n",
      " [1.   0.  ]\n",
      " [1.   0.  ]\n",
      " [0.02 0.98]\n",
      " [0.   1.  ]\n",
      " [1.   0.  ]\n",
      " [1.   0.  ]\n",
      " [0.01 0.99]\n",
      " [0.   1.  ]\n",
      " [0.03 0.97]\n",
      " [0.89 0.11]\n",
      " [0.98 0.02]\n",
      " [0.   1.  ]\n",
      " [0.   1.  ]\n",
      " [0.   1.  ]\n",
      " [0.01 0.99]\n",
      " [0.74 0.26]\n",
      " [0.   1.  ]\n",
      " [0.   1.  ]\n",
      " [0.   1.  ]\n",
      " [1.   0.  ]\n",
      " [0.01 0.99]\n",
      " [0.   1.  ]\n",
      " [1.   0.  ]\n",
      " [1.   0.  ]\n",
      " [0.08 0.92]\n",
      " [0.   1.  ]\n",
      " [0.   1.  ]\n",
      " [0.03 0.97]\n",
      " [0.   1.  ]\n",
      " [0.11 0.89]\n",
      " [1.   0.  ]\n",
      " [0.   1.  ]\n",
      " [1.   0.  ]\n",
      " [0.29 0.71]\n",
      " [0.03 0.97]\n",
      " [0.01 0.99]\n",
      " [1.   0.  ]\n",
      " [1.   0.  ]\n",
      " [0.   1.  ]\n",
      " [1.   0.  ]\n",
      " [0.13 0.87]\n",
      " [0.   1.  ]\n",
      " [0.   1.  ]\n",
      " [0.   1.  ]\n",
      " [1.   0.  ]\n",
      " [1.   0.  ]\n",
      " [0.   1.  ]\n",
      " [0.01 0.99]\n",
      " [1.   0.  ]\n",
      " [0.01 0.99]\n",
      " [1.   0.  ]\n",
      " [0.01 0.99]\n",
      " [1.   0.  ]\n",
      " [0.34 0.66]\n",
      " [1.   0.  ]\n",
      " [0.   1.  ]]\n"
     ]
    }
   ],
   "source": [
    "from sklearn.metrics import classification_report, confusion_matrix\n",
    "\n",
    "rpt = classification_report(y_te, pred)\n",
    "matrix = confusion_matrix(y_te, pred)\n",
    "y_result_proba = model.predict_proba(x_te)\n",
    "\n",
    "print(rpt)\n",
    "print(matrix)\n",
    "print(np.round(y_result_proba,2))\n"
   ]
  },
  {
   "cell_type": "code",
   "execution_count": null,
   "metadata": {},
   "outputs": [],
   "source": []
  }
 ],
 "metadata": {
  "kernelspec": {
   "display_name": "Python 3",
   "language": "python",
   "name": "python3"
  },
  "language_info": {
   "codemirror_mode": {
    "name": "ipython",
    "version": 3
   },
   "file_extension": ".py",
   "mimetype": "text/x-python",
   "name": "python",
   "nbconvert_exporter": "python",
   "pygments_lexer": "ipython3",
   "version": "3.12.7"
  }
 },
 "nbformat": 4,
 "nbformat_minor": 2
}
