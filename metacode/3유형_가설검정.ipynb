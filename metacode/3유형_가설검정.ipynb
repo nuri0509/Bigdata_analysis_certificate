{
 "cells": [
  {
   "cell_type": "code",
   "execution_count": 2,
   "metadata": {},
   "outputs": [],
   "source": [
    "# 문제 1.\n",
    "# mtcars 데이터셋의 mpg열 데이터의 평균이 20과 같다고 할 수 있는지 검정하시오.\n",
    "# (유의수준 5%)\n",
    "# H0 : mpg 열의 평균이 20과 같다(μ = 20)\n",
    "# H1 : mpg 열의 평균이 20과 같지 않다(μ ≠ 20)\n",
    "\n",
    "import pandas as pd\n",
    "import numpy as np\n",
    "# 데이터 불러오기 mtcars\n",
    "mtcars_1 = pd.read_csv(\"mtcars.csv\")\n",
    "\n",
    "# 1-1) 정규성 검정을 실시하시오.\n",
    "# 1-2) t검정을 실시하고 검정통계량을 구하시오.\n",
    "# 1-3) p-value값을 구하시오.\n",
    "# 1-4) 귀무가설 채택/기각 여부를 결정하시오."
   ]
  },
  {
   "cell_type": "code",
   "execution_count": 3,
   "metadata": {},
   "outputs": [
    {
     "name": "stdout",
     "output_type": "stream",
     "text": [
      "0.9476\n",
      "0.1229\n",
      "ShapiroResult(statistic=0.9475647265971182, pvalue=0.12288135948636081)\n"
     ]
    }
   ],
   "source": [
    "# 1-1) 정규성 검정을 실시하시오.\n",
    "\n",
    "# H0 = 정규분포를 따른다\n",
    "# H1 = 정규분포를 따르지않는다\n",
    "import scipy.stats as stats     # scipy.stats 모듈의 shapiro(정규성)검정을 불러온다(기억하기)\n",
    "from scipy.stats import shapiro\n",
    "\n",
    "statistic, pvalue = stats.shapiro(mtcars_1['mpg']) # mpg 칼럼의 정규성 검정(파라미터 두개 : 순서대로 통계랑, pvalue)\n",
    "print(round(statistic,4))\n",
    "print(round(pvalue,4))\n",
    "\n",
    "result = stats.shapiro(mtcars_1['mpg'])   # mpg 칼럼의 정규성 검정(파라미터 한개 : 검정결과(result))\n",
    "print(result)         # 검정결과: pvalue가 유의수준(0.05)보다 크므로 귀무가설을 채택한다(정규성을 따른다)"
   ]
  },
  {
   "cell_type": "code",
   "execution_count": 4,
   "metadata": {},
   "outputs": [
    {
     "name": "stdout",
     "output_type": "stream",
     "text": [
      "0.0851\n"
     ]
    }
   ],
   "source": [
    "# 1-2) t검정을 실시하고 검정통계량을 구하시오.\n",
    "\n",
    "# H0 : mpg 열의 평균이 20과 같다(μ = 20)\n",
    "# H1 : mpg 열의 평균이 20과 같지 않다(μ ≠ 20)\n",
    "\n",
    "from scipy.stats import ttest_1samp\n",
    "statistic, pvalue = stats.ttest_1samp(mtcars_1['mpg'], popmean=20, alternative='two-sided')\n",
    "print(round(statistic,4))\n"
   ]
  },
  {
   "cell_type": "code",
   "execution_count": 5,
   "metadata": {},
   "outputs": [
    {
     "name": "stdout",
     "output_type": "stream",
     "text": [
      "0.9328\n"
     ]
    }
   ],
   "source": [
    "# 1-3) p-value값을 구하시오.\n",
    "\n",
    "print(round(pvalue,4))"
   ]
  },
  {
   "cell_type": "code",
   "execution_count": 6,
   "metadata": {},
   "outputs": [],
   "source": [
    "# 1-4) 귀무가설 채택/기각 여부를 결정하시오.\n",
    "\n",
    "# 귀무가설 채택(pvalue값이 유의수준(0.05)보다 크다"
   ]
  },
  {
   "cell_type": "code",
   "execution_count": 7,
   "metadata": {},
   "outputs": [],
   "source": [
    "# 문제 2.\n",
    "# mtcars 데이터셋의 mpg열 데이터의 평균이 17보다 크다고 할 수 있는지 검정하시오.\n",
    "# (유의수준 5%)\n",
    "# H0 : mpg 열의 평균이 17보다 작거나 같다(μ <= 17)\n",
    "# H1 : mpg 열의 평균이 17보다 크다(μ > 17)\n",
    "\n",
    "import pandas as pd\n",
    "import numpy as np\n",
    "# 데이터 불러오기 mtcars\n",
    "mtcars_2 = pd.read_csv(\"mtcars.csv\")\n",
    "\n",
    "# 2-1) 정규성 검정을 실시하시오.\n",
    "# 2-2) t검정을 실시하고 검정통계량을 구하시오.\n",
    "# 2-3) p-value값을 구하시오.\n",
    "# 2-4) 귀무가설 채택/기각 여부를 결정하시오"
   ]
  },
  {
   "cell_type": "code",
   "execution_count": 8,
   "metadata": {},
   "outputs": [
    {
     "name": "stdout",
     "output_type": "stream",
     "text": [
      "0.9476\n",
      "0.1229\n"
     ]
    }
   ],
   "source": [
    "# 2-1) 정규성 검정을 실시하시오.\n",
    "\n",
    "# H0 = 정규분포를 따른다\n",
    "# H1 = 정규분포를 따르지않는다\n",
    "\n",
    "import scipy.stats as stats\n",
    "from scipy.stats import shapiro\n",
    "\n",
    "statistic, pvalue = stats.shapiro(mtcars_2['mpg'])\n",
    "print(round(statistic,4))\n",
    "print(round(pvalue,4))\n",
    "\n",
    "# pvalue가 유의수준(0.05)보다 크므로 귀무가설 채택(정규성 만족)"
   ]
  },
  {
   "cell_type": "code",
   "execution_count": 9,
   "metadata": {},
   "outputs": [
    {
     "name": "stdout",
     "output_type": "stream",
     "text": [
      "2.9008\n"
     ]
    }
   ],
   "source": [
    "# 2-2) t검정을 실시하고 검정통계량을 구하시오.\n",
    "\n",
    "# H0 : mpg 열의 평균이 17보다 작거나 같다(μ <= 17)\n",
    "# H1 : mpg 열의 평균이 17보다 크다(μ > 17)\n",
    "\n",
    "from scipy.stats import ttest_1samp\n",
    "\n",
    "statistic, pvalue = stats.ttest_1samp(mtcars_2['mpg'], popmean=17, alternative='greater')\n",
    "print(round(statistic,4))\n"
   ]
  },
  {
   "cell_type": "code",
   "execution_count": 10,
   "metadata": {},
   "outputs": [
    {
     "name": "stdout",
     "output_type": "stream",
     "text": [
      "0.0034\n"
     ]
    }
   ],
   "source": [
    "# 2-3) p-value값을 구하시오.\n",
    "\n",
    "print(round(pvalue,4))"
   ]
  },
  {
   "cell_type": "code",
   "execution_count": 11,
   "metadata": {},
   "outputs": [],
   "source": [
    "# 2-4) 귀무가설 채택/기각 여부를 결정하시오\n",
    "\n",
    "# 귀무가설 기각(pvalue값이 유의수준(0.05)보다 작으므로 귀무가설을 기각한다) : 대립가설 채택"
   ]
  },
  {
   "cell_type": "code",
   "execution_count": 12,
   "metadata": {},
   "outputs": [],
   "source": [
    "# 문제 3.\n",
    "# mtcars 데이터셋의 mpg열 데이터의 평균이 17보다 작다고 할 수 있는지 검정하시오.\n",
    "# (유의수준 5%)\n",
    "# H0 : mpg 열의 평균이 17보다 크거나 같다(μ >= 17)\n",
    "# H1 : mpg 열의 평균이 17보다 작다(μ < 17) \n",
    "\n",
    "import pandas as pd\n",
    "import numpy as np\n",
    "# 데이터 불러오기 mtcars\n",
    "mtcars_3 = pd.read_csv(\"mtcars.csv\")\n",
    "\n",
    "# 3-1) 정규성 검정을 실시하시오.\n",
    "# 3-2) t검정을 실시하고 검정통계량을 구하시오.\n",
    "# 3-3) p-value값을 구하시오.\n",
    "# 3-4) 귀무가설 채택/기각 여부를 결정하시오."
   ]
  },
  {
   "cell_type": "code",
   "execution_count": 13,
   "metadata": {},
   "outputs": [
    {
     "name": "stdout",
     "output_type": "stream",
     "text": [
      "0.9476\n",
      "0.1229\n"
     ]
    }
   ],
   "source": [
    "# 3-1) 정규성 검정을 실시하시오.\n",
    "\n",
    "# H0 = 정규분포를 따른다\n",
    "# H1 = 정규분포를 따르지않는다\n",
    "\n",
    "import scipy.stats as stats\n",
    "from scipy.stats import shapiro\n",
    "\n",
    "statistic, pvalue = stats.shapiro(mtcars_3['mpg'])\n",
    "print(round(statistic,4))\n",
    "print(round(pvalue,4))  # 정규성만족(대립가설 채택)"
   ]
  },
  {
   "cell_type": "code",
   "execution_count": 14,
   "metadata": {},
   "outputs": [
    {
     "name": "stdout",
     "output_type": "stream",
     "text": [
      "2.9008\n"
     ]
    }
   ],
   "source": [
    "# 3-2) t검정을 실시하고 검정통계량을 구하시오.\n",
    "\n",
    "# H0 : mpg 열의 평균이 17보다 크거나 같다(μ >= 17)\n",
    "# H1 : mpg 열의 평균이 17보다 작다(μ < 17) \n",
    "\n",
    "from scipy.stats import ttest_1samp\n",
    "\n",
    "statistic, pvalue = stats.ttest_1samp(mtcars_3['mpg'], popmean=17, alternative='less')\n",
    "print(round(statistic,4))"
   ]
  },
  {
   "cell_type": "code",
   "execution_count": 15,
   "metadata": {},
   "outputs": [
    {
     "name": "stdout",
     "output_type": "stream",
     "text": [
      "0.9966\n"
     ]
    }
   ],
   "source": [
    "# 3-3) p-value값을 구하시오.\n",
    "\n",
    "print(round(pvalue,4))"
   ]
  },
  {
   "cell_type": "code",
   "execution_count": 16,
   "metadata": {},
   "outputs": [],
   "source": [
    "# 3-4) 귀무가설 채택/기각 여부를 결정하시오.\n",
    "\n",
    "# 귀무가설 채택(대립가설 기각) "
   ]
  },
  {
   "cell_type": "code",
   "execution_count": 17,
   "metadata": {},
   "outputs": [
    {
     "name": "stdout",
     "output_type": "stream",
     "text": [
      "   before  after\n",
      "0     120    110\n",
      "1     135    132\n",
      "2     122    123\n"
     ]
    }
   ],
   "source": [
    "# 문제 4.\n",
    "# 다음은 혈압약을 먹은 전,후의 혈압 데이터이다.\n",
    "# 혈압약을 먹기 전, 후의 차이가 있는지 쌍체 t 검정을 실시하시오.\n",
    "# (유의수준 5%)\n",
    "# before : 혈압약을 먹기 전 혈압, after : 혈압약을 먹은 후의 혈압\n",
    "# H0(귀무가설) : after - before = 0\n",
    "# H1(대립가설) : after - before ≠ 0\n",
    "\n",
    "import pandas as pd\n",
    "import numpy as np\n",
    "# 데이터 만들기\n",
    "medicine_1 = pd.DataFrame({\n",
    "'before': [120, 135, 122, 124, 135, 122, 145, 160, 155, 142, 144, 135, 167],\n",
    "'after' : [110, 132, 123, 119, 123, 115, 140, 162, 142, 138, 135, 142, 160] })\n",
    "print(medicine_1.head(3))\n",
    "\n",
    "# 4-1) 차이값에 대한 정규성 검정을 실시하고 p-value 값을 구하시오.\n",
    "# 4-2) 쌍체t 검정을 실시하고 검정통계량과 p-value 값을 구하시오.\n",
    "# 4-3) 귀무가설 채택/기각 여부를 결정하시오."
   ]
  },
  {
   "cell_type": "code",
   "execution_count": 18,
   "metadata": {},
   "outputs": [
    {
     "name": "stdout",
     "output_type": "stream",
     "text": [
      "0.9589\n",
      "0.7363\n"
     ]
    }
   ],
   "source": [
    "# 4-1) 차이값에 대한 정규성 검정을 실시하고 p-value 값을 구하시오.\n",
    "\n",
    "import scipy.stats as stats\n",
    "from scipy.stats import shapiro\n",
    "\n",
    "statistic, pvalue = stats.shapiro( medicine_1['after'] - medicine_1['before'] )\n",
    "print(round(statistic,4))\n",
    "print(round(pvalue,4))\n",
    "\n",
    "# 귀무가설 채택 - 정규성 만족\n"
   ]
  },
  {
   "cell_type": "code",
   "execution_count": 19,
   "metadata": {},
   "outputs": [
    {
     "name": "stdout",
     "output_type": "stream",
     "text": [
      "-3.1382\n",
      "0.0086\n"
     ]
    }
   ],
   "source": [
    "# 4-2) 쌍체t 검정을 실시하고 검정통계량과 p-value 값을 구하시오.\n",
    "\n",
    "from scipy.stats import ttest_rel\n",
    "\n",
    "statistic, pvalue = stats.ttest_rel(medicine_1['after'], medicine_1['before'], alternative='two-sided')\n",
    "print(round(statistic,4))\n",
    "print(round(pvalue,4))"
   ]
  },
  {
   "cell_type": "code",
   "execution_count": 20,
   "metadata": {},
   "outputs": [],
   "source": [
    "# 4-3) 귀무가설 채택/기각 여부를 결정하시오.\n",
    "\n",
    "# 귀무가설 기각(대립가설 채택)"
   ]
  },
  {
   "cell_type": "code",
   "execution_count": 21,
   "metadata": {},
   "outputs": [
    {
     "name": "stdout",
     "output_type": "stream",
     "text": [
      "   before  after\n",
      "0     120    110\n",
      "1     135    132\n",
      "2     122    123\n"
     ]
    }
   ],
   "source": [
    "# 문제 5.\n",
    "# 다음은 혈압약을 먹은 전,후의 혈압 데이터이다.\n",
    "# 혈압약을 먹은 후 혈압이 감소했는지 확인하기 위해 쌍체 t 검정을 실시하시오.\n",
    "# (유의수준 5%)\n",
    "# before : 혈압약을 먹기 전 혈압, after : 혈압약을 먹은 후의 혈압\n",
    "# H0(귀무가설) : after - before >= 0\n",
    "# H1(대립가설) : after - before < 0\n",
    "\n",
    "# 데이터 만들기\n",
    "medicine_2 = pd.DataFrame( {\n",
    "'before': [120, 135, 122, 124, 135, 122, 145, 160, 155, 142, 144, 135, 167],\n",
    "'after' : [110, 132, 123, 119, 123, 115, 140, 162, 142, 138, 135, 142, 160]})\n",
    "print(medicine_2.head(3))\n",
    "\n",
    "# 5-1) 차이값에 대한 정규성 검정을 실시하고 p-value 값을 구하시오.\n",
    "# 5-2) 쌍체t 검정을 실시하고 검정통계량과 p-value 값을 구하시오.\n",
    "# 5-3) 귀무가설 채택/기각 여부를 결정하시오."
   ]
  },
  {
   "cell_type": "code",
   "execution_count": 44,
   "metadata": {},
   "outputs": [
    {
     "name": "stdout",
     "output_type": "stream",
     "text": [
      "0.9589\n",
      "0.7363\n"
     ]
    }
   ],
   "source": [
    "# 5-1) 차이값에 대한 정규성 검정을 실시하고 p-value 값을 구하시오.\n",
    "\n",
    "import scipy.stats as stats\n",
    "from scipy.stats import shapiro\n",
    "\n",
    "statistic, pvalue = stats.shapiro(medicine_2['after']-medicine_2['before'])\n",
    "print(round(statistic,4))\n",
    "print(round(pvalue,4))\n",
    "\n",
    "# 귀무가설 채택(정규성 만족)"
   ]
  },
  {
   "cell_type": "code",
   "execution_count": 45,
   "metadata": {},
   "outputs": [
    {
     "name": "stdout",
     "output_type": "stream",
     "text": [
      "-3.1382\n",
      "0.0043\n"
     ]
    }
   ],
   "source": [
    "# 5-2) 쌍체t 검정을 실시하고 검정통계량과 p-value 값을 구하시오.\n",
    "\n",
    "# H0(귀무가설) : after - before >= 0\n",
    "# H1(대립가설) : after - before < 0\n",
    "\n",
    "from scipy.stats import ttest_rel\n",
    "\n",
    "statistic, pvalue = stats.ttest_rel(medicine_2['after'], medicine_2['before'], alternative = 'less')\n",
    "\n",
    "print(round(statistic,4))\n",
    "print(round(pvalue,4))\n"
   ]
  },
  {
   "cell_type": "code",
   "execution_count": 46,
   "metadata": {},
   "outputs": [],
   "source": [
    "# 5-3) 귀무가설 채택/기각 여부를 결정하시오.\n",
    "\n",
    "# 귀무가설 기각(대립가설 채택)"
   ]
  },
  {
   "cell_type": "code",
   "execution_count": 25,
   "metadata": {},
   "outputs": [
    {
     "name": "stdout",
     "output_type": "stream",
     "text": [
      "     A    B\n",
      "0  120  110\n",
      "1  135  132\n",
      "2  122  123\n"
     ]
    }
   ],
   "source": [
    "# 문제 6.\n",
    "# 다음은 A그룹과 B그룹 인원의 혈압 데이터이다.\n",
    "# 두 그룹의 혈압평균이 다르다고 할 수 있는지 독립표본 t검정을 실시하시오.\n",
    "# (유의수준 5%)\n",
    "# A : A그룹 인원의 혈압, B : B그룹 인원의 혈압\n",
    "# H0(귀무가설) : A = B\n",
    "# H1(대립가설) : A ≠ B\n",
    "\n",
    "# 데이터 만들기\n",
    "blood_1 = pd.DataFrame( {\n",
    "'A': [120, 135, 122, 124, 135, 122, 145, 160, 155, 142, 144, 135, 167],\n",
    "'B' : [110, 132, 123, 119, 123, 115, 140, 162, 142, 138, 135, 142, 160] })\n",
    "print(blood_1.head(3))\n",
    "\n",
    "# 6-1) 각 그룹 데이터가 정규성을 따르는지 검정하시오.\n",
    "# 6-2) 각 그룹 데이터가 등분산성을 따르는지 검정하시오.\n",
    "# 6-3) 독립표본t 검정을 실시하고 검정통계량과 p-value 값을 구하시오.\n",
    "# 6-4) 귀무가설 채택/기각 여부를 결정하시오."
   ]
  },
  {
   "cell_type": "code",
   "execution_count": 48,
   "metadata": {},
   "outputs": [
    {
     "name": "stdout",
     "output_type": "stream",
     "text": [
      "0.9314 0.3558\n",
      "0.9498 0.5956\n"
     ]
    }
   ],
   "source": [
    "# 6-1) 각 그룹 데이터가 정규성을 따르는지 검정하시오\n",
    "\n",
    "import scipy.stats as stats\n",
    "from scipy.stats import shapiro\n",
    "\n",
    "statisticA, pvalueA = stats.shapiro(blood_1['A'])\n",
    "statisticB, pvalueB = stats.shapiro(blood_1['B'])\n",
    "\n",
    "print(round(statisticA,4), round(pvalueA,4))\n",
    "print(round(statisticB,4), round(pvalueB,4))\n",
    "\n",
    "# 귀무가설 채택(정규성 만족)"
   ]
  },
  {
   "cell_type": "code",
   "execution_count": 49,
   "metadata": {},
   "outputs": [
    {
     "name": "stdout",
     "output_type": "stream",
     "text": [
      "0.0279 0.8673\n"
     ]
    }
   ],
   "source": [
    "# 6-2) 각 그룹 데이터가 등분산성을 따르는지 검정하시오.\n",
    "\n",
    "from scipy.stats import bartlett\n",
    "\n",
    "statistic, pvalue = stats.bartlett(blood_1['A'], blood_1['B'])\n",
    "print(round(statistic,4), round(pvalue,4))\n",
    "\n",
    "# 귀무가설 채택(등분산성 만족)"
   ]
  },
  {
   "cell_type": "code",
   "execution_count": 50,
   "metadata": {},
   "outputs": [
    {
     "name": "stdout",
     "output_type": "stream",
     "text": [
      "0.8192 0.4207\n"
     ]
    }
   ],
   "source": [
    "# 6-3) 독립표본t 검정을 실시하고 검정통계량과 p-value 값을 구하시오.\n",
    "\n",
    "# H0(귀무가설) : A = B\n",
    "# H1(대립가설) : A ≠ B\n",
    "\n",
    "from scipy.stats import ttest_ind\n",
    "\n",
    "statistic, pvalue = stats.ttest_ind(blood_1['A'], blood_1['B'],\n",
    "                                    equal_var=True,\n",
    "                                    alternative='two-sided')\n",
    "\n",
    "print(round(statistic,4), round(pvalue,4))\n"
   ]
  },
  {
   "cell_type": "code",
   "execution_count": 29,
   "metadata": {},
   "outputs": [],
   "source": [
    "# 6-4) 귀무가설 채택/기각 여부를 결정하시오.\n",
    "\n",
    "# 귀무가설 채택(pvalue가 유의수준보다 크다)"
   ]
  },
  {
   "cell_type": "code",
   "execution_count": 30,
   "metadata": {},
   "outputs": [
    {
     "name": "stdout",
     "output_type": "stream",
     "text": [
      "     A    B\n",
      "0  120  110\n",
      "1  135  132\n",
      "2  122  123\n"
     ]
    }
   ],
   "source": [
    "# 문제 7.\n",
    "# 다음은 A그룹과 B그룹 인원의 혈압 데이터이다. A그룹의 혈압 평균이 B그룹보다 크다고 할 수 있\n",
    "# 는지 독립표본 t검정을 실시하시오. (유의수준 5%)\n",
    "# A : A그룹 인원의 혈압, B : B그룹 인원의 혈압\n",
    "# H0(귀무가설) : A - B ≤ 0 ( or A ≤ B)\n",
    "# H1(대립가설) : A - B > 0 ( or A > B)\n",
    "\n",
    "# 데이터 만들기\n",
    "blood_2 = pd.DataFrame( {\n",
    "'A': [120, 135, 122, 124, 135, 122, 145, 160, 155, 142, 144, 135, 167],\n",
    "'B' : [110, 132, 123, 119, 123, 115, 140, 162, 142, 138, 135, 142, 160] })\n",
    "print(blood_2.head(3))\n",
    "\n",
    "# 7-1) 각 그룹 데이터가 정규성을 따르는지 검정하시오.\n",
    "# 7-2) 각 그룹 데이터가 등분산성을 따르는지 검정하시오.\n",
    "# 7-3) 독립표본t 검정을 실시하고 검정통계량과 p-value 값을 구하시오.\n",
    "# 7-4) 귀무가설 채택/기각 여부를 결정하시오."
   ]
  },
  {
   "cell_type": "code",
   "execution_count": 52,
   "metadata": {},
   "outputs": [
    {
     "name": "stdout",
     "output_type": "stream",
     "text": [
      "0.9314 0.3558\n",
      "0.9498 0.5956\n"
     ]
    }
   ],
   "source": [
    "# 7-1) 각 그룹 데이터가 정규성을 따르는지 검정하시오.\n",
    "\n",
    "from scipy.stats import shapiro\n",
    "\n",
    "statisticA, pvalueA = stats.shapiro(blood_2['A'])\n",
    "statisticB, pvalueB = stats.shapiro(blood_2['B'])\n",
    "print(round(statisticA,4), round(pvalueA,4))\n",
    "print(round(statisticB,4), round(pvalueB,4))\n",
    "\n",
    "# 정규성만족(대립가설채택)"
   ]
  },
  {
   "cell_type": "code",
   "execution_count": 53,
   "metadata": {},
   "outputs": [
    {
     "name": "stdout",
     "output_type": "stream",
     "text": [
      "0.8192 0.8673\n"
     ]
    }
   ],
   "source": [
    "# 7-2) 각 그룹 데이터가 등분산성을 따르는지 검정하시오.\n",
    "\n",
    "from scipy.stats import bartlett\n",
    "\n",
    "staticmethod, pvalue = stats.bartlett(blood_2['A'], blood_2['B'])\n",
    "print(round(statistic,4), round(pvalue,4))\n",
    "\n",
    "# 등분산성만족(대립가설채택)"
   ]
  },
  {
   "cell_type": "code",
   "execution_count": 54,
   "metadata": {},
   "outputs": [
    {
     "name": "stdout",
     "output_type": "stream",
     "text": [
      "0.8192 0.2104\n"
     ]
    }
   ],
   "source": [
    "# 7-3) 독립표본t 검정을 실시하고 검정통계량과 p-value 값을 구하시오.\n",
    "\n",
    "# H0(귀무가설) : A - B ≤ 0 ( or A ≤ B)\n",
    "# H1(대립가설) : A - B > 0 ( or A > B)\n",
    "\n",
    "from scipy.stats import ttest_ind\n",
    "\n",
    "statistic, pvalue = stats.ttest_ind(blood_2['A'], blood_2['B'],\n",
    "                                    equal_var=True,\n",
    "                                    alternative='greater')\n",
    "\n",
    "print(round(statistic,4), round(pvalue,4))\n"
   ]
  },
  {
   "cell_type": "code",
   "execution_count": null,
   "metadata": {},
   "outputs": [],
   "source": [
    "# 7-4) 귀무가설 채택/기각 여부를 결정하시오.\n",
    "\n",
    "# 귀무가설 채택(pvalue가 유의수준보다 크다)"
   ]
  },
  {
   "cell_type": "code",
   "execution_count": 1,
   "metadata": {},
   "outputs": [
    {
     "name": "stdout",
     "output_type": "stream",
     "text": [
      "     A    B    C\n",
      "0  120  110  130\n",
      "1  135  132  120\n",
      "2  122  123  115\n"
     ]
    }
   ],
   "source": [
    "# 문제 8.\n",
    "# 다음은 A, B, C 그룹 인원 성적 데이터이다.\n",
    "# 세 그룹의 성적 평균이 같다고 할 수 있는지 ANOVA 분석을 실시하시오.\n",
    "# (유의수준 5%)\n",
    "# A, B, C : 각 그룹 인원의 성적\n",
    "# H0(귀무가설) : A(평균) = B(평균) = C(평균)\n",
    "# H1(대립가설) : Not H0 (적어도 하나는 같지 않다)\n",
    "\n",
    "import pandas as pd\n",
    "import numpy as np\n",
    "# 데이터 만들기\n",
    "score = pd.DataFrame( {\n",
    "'A': [120, 135, 122, 124, 135, 122, 145, 160, 155, 142, 144, 135, 167],\n",
    "'B' : [110, 132, 123, 119, 123, 115, 140, 162, 142, 138, 135, 142, 160],\n",
    "'C' : [130, 120, 115, 122, 133, 144, 122, 120, 110, 134, 125, 122, 122]})\n",
    "print(score.head(3))\n",
    "\n",
    "# 8-1) 각 그룹 데이터가 정규성을 따르는지 검정하시오.\n",
    "# 8-2) 각 그룹 데이터가 등분산성을 따르는지 검정하시오.\n",
    "# 8-3) 독립표본t 검정을 실시하고 검정통계량과 p-value 값을 구하시오.\n",
    "# 8-4) 귀무가설 채택/기각 여부를 결정하시오."
   ]
  },
  {
   "cell_type": "code",
   "execution_count": 3,
   "metadata": {},
   "outputs": [
    {
     "name": "stdout",
     "output_type": "stream",
     "text": [
      "ShapiroResult(statistic=0.9314373738322363, pvalue=0.35584957364120257)\n",
      "ShapiroResult(statistic=0.9498199298581277, pvalue=0.5955637454032426)\n",
      "ShapiroResult(statistic=0.9396706636806645, pvalue=0.4526517552551474)\n"
     ]
    }
   ],
   "source": [
    "# 8-1) 각 그룹 데이터가 정규성을 따르는지 검정하시오.\n",
    "\n",
    "import scipy.stats as stats\n",
    "from scipy.stats import shapiro\n",
    "\n",
    "print(stats.shapiro(score['A']))\n",
    "print(stats.shapiro(score['B']))\n",
    "print(stats.shapiro(score['C']))\n",
    "\n",
    "# 정규성 만족"
   ]
  },
  {
   "cell_type": "code",
   "execution_count": 5,
   "metadata": {},
   "outputs": [
    {
     "name": "stdout",
     "output_type": "stream",
     "text": [
      "BartlettResult(statistic=4.222248448848066, pvalue=0.12110174433684852)\n"
     ]
    }
   ],
   "source": [
    "# 8-2) 각 그룹 데이터가 등분산성을 따르는지 검정하시오.\n",
    "\n",
    "from scipy.stats import bartlett\n",
    "\n",
    "print(stats.bartlett(score['A'], score['B'], score['C']))\n",
    "\n",
    "# 등분산성 만족"
   ]
  },
  {
   "cell_type": "code",
   "execution_count": 6,
   "metadata": {},
   "outputs": [
    {
     "name": "stdout",
     "output_type": "stream",
     "text": [
      "3.6971 0.0346\n"
     ]
    }
   ],
   "source": [
    "# 8-3) 독립표본t 검정을 실시하고 검정통계량과 p-value 값을 구하시오.\n",
    "\n",
    "from scipy.stats import f_oneway\n",
    "\n",
    "statistic, pvalue = stats.f_oneway(score['A'], score['B'], score['C'])\n",
    "\n",
    "print(round(statistic,4), round(pvalue,4))"
   ]
  },
  {
   "cell_type": "code",
   "execution_count": null,
   "metadata": {},
   "outputs": [],
   "source": [
    "# 8-4) 귀무가설 채택/기각 여부를 결정하시오.\n",
    "\n",
    "#귀무가설 기각(대립가설 채택)"
   ]
  },
  {
   "cell_type": "code",
   "execution_count": 32,
   "metadata": {},
   "outputs": [],
   "source": [
    "# 문제 9.    \n",
    "# 랜덤 박스에 상품 A,B,C,D가 들어있다.\n",
    "# 다음은 랜덤박스에서 100번 상품을 꺼냈을 때의 상품 데이터라고 할 때\n",
    "# 상품이 동일한 비율로 들어있다고 할 수 있는지 검정해보시오.       -----> 카이제곱 검정(적합도 검정:chisquare) <--------\n",
    "# A=30, B=20, C=15, D=35\n",
    "\n",
    "import pandas as pd\n",
    "import numpy as np\n",
    "# 데이터 생성\n",
    "row1 = [30, 20, 15, 35]\n",
    "box_1 = pd.DataFrame([row1], columns=['A','B','C', 'D'])\n",
    "box_1\n",
    "\n",
    "# 9-1) 관측빈도와 기대빈도를 구하시오.\n",
    "# 9-2) 카이제곱검정을 실시하고 검정통계량과 p-value 값을 구하시오.\n",
    "# 9-3) 귀무가설 채택/기각 여부를 결정하시오."
   ]
  },
  {
   "cell_type": "code",
   "execution_count": 13,
   "metadata": {},
   "outputs": [],
   "source": [
    "# 9-1) 관측빈도와 기대빈도를 구하시오.\n",
    "\n",
    "f_obs = [30, 20, 15, 35]\n",
    "f_exp = [25, 25, 25, 25]\n"
   ]
  },
  {
   "cell_type": "code",
   "execution_count": 12,
   "metadata": {},
   "outputs": [
    {
     "name": "stdout",
     "output_type": "stream",
     "text": [
      "10.0\n",
      "0.01856613546304325\n"
     ]
    }
   ],
   "source": [
    "# 9-2) 카이제곱검정을 실시하고 검정통계량과 p-value 값을 구하시오.\n",
    "from scipy.stats import chisquare\n",
    "\n",
    "statistic, pvalue = stats.chisquare(f_obs=f_obs, f_exp=f_exp)\n",
    "print(statistic)\n",
    "print(pvalue)           # 자유도는 n-1 = 3 "
   ]
  },
  {
   "cell_type": "code",
   "execution_count": 7,
   "metadata": {},
   "outputs": [],
   "source": [
    "# 9-3) 귀무가설 채택/기각 여부를 결정하시오.\n",
    "\n",
    "# 귀무가설기각\n"
   ]
  },
  {
   "cell_type": "code",
   "execution_count": null,
   "metadata": {},
   "outputs": [],
   "source": []
  },
  {
   "cell_type": "code",
   "execution_count": 8,
   "metadata": {},
   "outputs": [
    {
     "data": {
      "text/html": [
       "<div>\n",
       "<style scoped>\n",
       "    .dataframe tbody tr th:only-of-type {\n",
       "        vertical-align: middle;\n",
       "    }\n",
       "\n",
       "    .dataframe tbody tr th {\n",
       "        vertical-align: top;\n",
       "    }\n",
       "\n",
       "    .dataframe thead th {\n",
       "        text-align: right;\n",
       "    }\n",
       "</style>\n",
       "<table border=\"1\" class=\"dataframe\">\n",
       "  <thead>\n",
       "    <tr style=\"text-align: right;\">\n",
       "      <th></th>\n",
       "      <th>A</th>\n",
       "      <th>B</th>\n",
       "      <th>C</th>\n",
       "    </tr>\n",
       "  </thead>\n",
       "  <tbody>\n",
       "    <tr>\n",
       "      <th>0</th>\n",
       "      <td>50</td>\n",
       "      <td>25</td>\n",
       "      <td>75</td>\n",
       "    </tr>\n",
       "  </tbody>\n",
       "</table>\n",
       "</div>"
      ],
      "text/plain": [
       "    A   B   C\n",
       "0  50  25  75"
      ]
     },
     "execution_count": 8,
     "metadata": {},
     "output_type": "execute_result"
    }
   ],
   "source": [
    "# 문제 10.\n",
    "# 랜덤 박스에 상품 A, B, C가 들어있다.\n",
    "# 다음은 랜덤박스에서 150번 상품을 꺼냈을 때의 상품 데이터라고 할 때\n",
    "# 상품별로 A 30%, B 15%, C 55% 비율로 들어있다고 할 수 있는지 검정해보시오.       -----> 카이제곱 검정(독립성 검정:chi2_contingency) <--------\n",
    "# A=50, B=25, C=75\n",
    "\n",
    "import pandas as pd\n",
    "import numpy as np\n",
    "# 데이터 생성\n",
    "row1 = [50,25,75]\n",
    "box_2 = pd.DataFrame([row1], columns=['A','B','C'])\n",
    "box_2\n",
    "\n",
    "# 10-1) 관측빈도와 기대빈도를 구하시오.\n",
    "# 10-2) 카이제곱검정을 실시하고 검정통계량과 p-value 값을 구하시오.\n",
    "# 10-3) 귀무가설 채택/기각 여부를 결정하시오."
   ]
  },
  {
   "cell_type": "code",
   "execution_count": 15,
   "metadata": {},
   "outputs": [],
   "source": [
    "# 10-1) 관측빈도와 기대빈도를 구하시오.\n",
    "\n",
    "f_obs = [50, 25, 75]\n",
    "\n",
    "a = 150 * 0.3\n",
    "b = 150 * 0.15\n",
    "c = 150* 0.55\n",
    "\n",
    "f_exp = [a, b, c]\n"
   ]
  },
  {
   "cell_type": "code",
   "execution_count": 16,
   "metadata": {},
   "outputs": [
    {
     "name": "stdout",
     "output_type": "stream",
     "text": [
      "1.5151515151515151\n",
      "0.46880153914023537\n"
     ]
    }
   ],
   "source": [
    "# 10-2) 카이제곱검정을 실시하고 검정통계량과 p-value 값을 구하시오.\n",
    "\n",
    "statistic, pvalue = chisquare(f_obs=f_obs, f_exp=f_exp)\n",
    "print(statistic)\n",
    "print(pvalue)"
   ]
  },
  {
   "cell_type": "code",
   "execution_count": 17,
   "metadata": {},
   "outputs": [],
   "source": [
    "# 10-3) 귀무가설 채택/기각 여부를 결정하시오.\n",
    "\n",
    "# 귀무가설 채택(대립가설 기각)"
   ]
  },
  {
   "cell_type": "code",
   "execution_count": null,
   "metadata": {},
   "outputs": [],
   "source": []
  },
  {
   "cell_type": "code",
   "execution_count": 9,
   "metadata": {},
   "outputs": [
    {
     "data": {
      "text/html": [
       "<div>\n",
       "<style scoped>\n",
       "    .dataframe tbody tr th:only-of-type {\n",
       "        vertical-align: middle;\n",
       "    }\n",
       "\n",
       "    .dataframe tbody tr th {\n",
       "        vertical-align: top;\n",
       "    }\n",
       "\n",
       "    .dataframe thead th {\n",
       "        text-align: right;\n",
       "    }\n",
       "</style>\n",
       "<table border=\"1\" class=\"dataframe\">\n",
       "  <thead>\n",
       "    <tr style=\"text-align: right;\">\n",
       "      <th></th>\n",
       "      <th>딸기</th>\n",
       "      <th>초코</th>\n",
       "      <th>바닐라</th>\n",
       "    </tr>\n",
       "  </thead>\n",
       "  <tbody>\n",
       "    <tr>\n",
       "      <th>10대</th>\n",
       "      <td>200</td>\n",
       "      <td>190</td>\n",
       "      <td>250</td>\n",
       "    </tr>\n",
       "    <tr>\n",
       "      <th>20대</th>\n",
       "      <td>220</td>\n",
       "      <td>250</td>\n",
       "      <td>300</td>\n",
       "    </tr>\n",
       "  </tbody>\n",
       "</table>\n",
       "</div>"
      ],
      "text/plain": [
       "      딸기   초코  바닐라\n",
       "10대  200  190  250\n",
       "20대  220  250  300"
      ]
     },
     "execution_count": 9,
     "metadata": {},
     "output_type": "execute_result"
    }
   ],
   "source": [
    "# 문제 11.\n",
    "# 연령대에 따라 먹는 아이스크림의 차이가 있는지 독립성 검정을 실시하시오.\n",
    "\n",
    "import pandas as pd\n",
    "import numpy as np\n",
    "# 데이터 생성\n",
    "row1, row2 = [200, 190, 250], [220, 250, 300]\n",
    "icecream = pd.DataFrame([row1, row2], columns=['딸기','초코','바닐라'], index=['10대','20대'])\n",
    "icecream\n",
    "\n",
    "# 11-1) 관측빈도와 기대빈도를 구하시오.\n",
    "# 11-2) 카이제곱검정을 실시하고 검정통계량과 p-value 값을 구하시오.\n",
    "# 11-3) 귀무가설 채택/기각 여부를 결정하시오."
   ]
  },
  {
   "cell_type": "code",
   "execution_count": null,
   "metadata": {},
   "outputs": [],
   "source": [
    "# 11-1) 관측빈도와 기대빈도를 구하시오.\n"
   ]
  },
  {
   "cell_type": "code",
   "execution_count": 18,
   "metadata": {},
   "outputs": [
    {
     "name": "stdout",
     "output_type": "stream",
     "text": [
      "1.708360126075226\n",
      "0.4256320394874311\n",
      "2\n",
      "[[190.64 199.72 249.65]\n",
      " [229.36 240.28 300.35]]\n"
     ]
    }
   ],
   "source": [
    "# 11-2) 카이제곱검정을 실시하고 검정통계량과 p-value 값을 구하시오.\n",
    "\n",
    "from scipy.stats import\tchi2_contingency\n",
    " \n",
    "statistic, pvalue, dof,\texpected = chi2_contingency(icecream)\n",
    " \n",
    "print(statistic)\n",
    "print(pvalue)\n",
    "print(dof)\t\t\t#\t자유도 = (행-1)*(열-1)\n",
    "print(np.round(expected, 2))\t#\t반올림하고\t싶다면\tnp.round()\n",
    "\n",
    "#\t(참고)\tprint(chi2_contingency(df))"
   ]
  },
  {
   "cell_type": "code",
   "execution_count": null,
   "metadata": {},
   "outputs": [],
   "source": [
    "# 11-3) 귀무가설 채택/기각 여부를 결정하시오.\n",
    "\n",
    "# 귀무가설 채택(연령대와 먹는 아이스크림의 종류는 서로 관련이 없다고 할 수 있다)"
   ]
  },
  {
   "cell_type": "code",
   "execution_count": 22,
   "metadata": {},
   "outputs": [
    {
     "name": "stderr",
     "output_type": "stream",
     "text": [
      "C:\\Users\\admin\\AppData\\Local\\Temp\\ipykernel_19676\\1862271488.py:8: FutureWarning: The provided callable <built-in function sum> is currently using DataFrameGroupBy.sum. In a future version of pandas, the provided callable will be used directly. To keep current behavior pass the string \"sum\" instead.\n",
      "  table\t=\tpd.crosstab(index=icecream_2['연령'],\tcolumns=icecream_2['아이스크림'],\tvalues=icecream_2['인원'],\taggfunc=sum)\n"
     ]
    },
    {
     "data": {
      "text/html": [
       "<div>\n",
       "<style scoped>\n",
       "    .dataframe tbody tr th:only-of-type {\n",
       "        vertical-align: middle;\n",
       "    }\n",
       "\n",
       "    .dataframe tbody tr th {\n",
       "        vertical-align: top;\n",
       "    }\n",
       "\n",
       "    .dataframe thead th {\n",
       "        text-align: right;\n",
       "    }\n",
       "</style>\n",
       "<table border=\"1\" class=\"dataframe\">\n",
       "  <thead>\n",
       "    <tr style=\"text-align: right;\">\n",
       "      <th>아이스크림</th>\n",
       "      <th>딸기</th>\n",
       "      <th>바닐라</th>\n",
       "      <th>초코</th>\n",
       "    </tr>\n",
       "    <tr>\n",
       "      <th>연령</th>\n",
       "      <th></th>\n",
       "      <th></th>\n",
       "      <th></th>\n",
       "    </tr>\n",
       "  </thead>\n",
       "  <tbody>\n",
       "    <tr>\n",
       "      <th>10대</th>\n",
       "      <td>200</td>\n",
       "      <td>250</td>\n",
       "      <td>190</td>\n",
       "    </tr>\n",
       "    <tr>\n",
       "      <th>20대</th>\n",
       "      <td>220</td>\n",
       "      <td>300</td>\n",
       "      <td>250</td>\n",
       "    </tr>\n",
       "  </tbody>\n",
       "</table>\n",
       "</div>"
      ],
      "text/plain": [
       "아이스크림   딸기  바닐라   초코\n",
       "연령                  \n",
       "10대    200  250  190\n",
       "20대    220  300  250"
      ]
     },
     "execution_count": 22,
     "metadata": {},
     "output_type": "execute_result"
    }
   ],
   "source": [
    "######### (추가)\t만약\t데이터\t형태가\t다를경우?\n",
    "icecream_2\t=\tpd.DataFrame({\n",
    "'아이스크림'\t:\t['딸기','초코','바닐라','딸기','초코','바닐라'],\n",
    "'연령'\t:\t['10대','10대','10대','20대','20대','20대'],\n",
    "'인원'\t:\t[200,190,250,220,250,300]\n",
    "})\n",
    "\n",
    "table\t=\tpd.crosstab(index=icecream_2['연령'],\tcolumns=icecream_2['아이스크림'],\tvalues=icecream_2['인원'],\taggfunc=sum)\n",
    "table\n",
    "\n",
    "###\t주의 : index, columns에 순서 꼭 확인하기 ###\n"
   ]
  },
  {
   "cell_type": "code",
   "execution_count": 23,
   "metadata": {},
   "outputs": [
    {
     "name": "stdout",
     "output_type": "stream",
     "text": [
      "1.708360126075226\n",
      "0.4256320394874311\n",
      "2\n",
      "[[190.64 249.65 199.72]\n",
      " [229.36 300.35 240.28]]\n"
     ]
    }
   ],
   "source": [
    "from scipy.stats import chi2_contingency\n",
    "\n",
    "statistic, pvalue, dof, expected = chi2_contingency(table)\n",
    "\n",
    "print(statistic)\n",
    "print(pvalue)\n",
    "print(dof)\n",
    "print(np.round(expected, 2))"
   ]
  },
  {
   "cell_type": "code",
   "execution_count": null,
   "metadata": {},
   "outputs": [],
   "source": []
  },
  {
   "cell_type": "code",
   "execution_count": 10,
   "metadata": {},
   "outputs": [
    {
     "data": {
      "text/html": [
       "<div>\n",
       "<style scoped>\n",
       "    .dataframe tbody tr th:only-of-type {\n",
       "        vertical-align: middle;\n",
       "    }\n",
       "\n",
       "    .dataframe tbody tr th {\n",
       "        vertical-align: top;\n",
       "    }\n",
       "\n",
       "    .dataframe thead th {\n",
       "        text-align: right;\n",
       "    }\n",
       "</style>\n",
       "<table border=\"1\" class=\"dataframe\">\n",
       "  <thead>\n",
       "    <tr style=\"text-align: right;\">\n",
       "      <th></th>\n",
       "      <th>survived</th>\n",
       "      <th>pclass</th>\n",
       "      <th>sex</th>\n",
       "      <th>age</th>\n",
       "      <th>sibsp</th>\n",
       "      <th>parch</th>\n",
       "      <th>fare</th>\n",
       "      <th>embarked</th>\n",
       "      <th>class</th>\n",
       "      <th>who</th>\n",
       "      <th>adult_male</th>\n",
       "      <th>deck</th>\n",
       "      <th>embark_town</th>\n",
       "      <th>alive</th>\n",
       "      <th>alone</th>\n",
       "    </tr>\n",
       "  </thead>\n",
       "  <tbody>\n",
       "    <tr>\n",
       "      <th>0</th>\n",
       "      <td>0</td>\n",
       "      <td>3</td>\n",
       "      <td>male</td>\n",
       "      <td>22.0</td>\n",
       "      <td>1</td>\n",
       "      <td>0</td>\n",
       "      <td>7.2500</td>\n",
       "      <td>S</td>\n",
       "      <td>Third</td>\n",
       "      <td>man</td>\n",
       "      <td>True</td>\n",
       "      <td>NaN</td>\n",
       "      <td>Southampton</td>\n",
       "      <td>no</td>\n",
       "      <td>False</td>\n",
       "    </tr>\n",
       "    <tr>\n",
       "      <th>1</th>\n",
       "      <td>1</td>\n",
       "      <td>1</td>\n",
       "      <td>female</td>\n",
       "      <td>38.0</td>\n",
       "      <td>1</td>\n",
       "      <td>0</td>\n",
       "      <td>71.2833</td>\n",
       "      <td>C</td>\n",
       "      <td>First</td>\n",
       "      <td>woman</td>\n",
       "      <td>False</td>\n",
       "      <td>C</td>\n",
       "      <td>Cherbourg</td>\n",
       "      <td>yes</td>\n",
       "      <td>False</td>\n",
       "    </tr>\n",
       "    <tr>\n",
       "      <th>2</th>\n",
       "      <td>1</td>\n",
       "      <td>3</td>\n",
       "      <td>female</td>\n",
       "      <td>26.0</td>\n",
       "      <td>0</td>\n",
       "      <td>0</td>\n",
       "      <td>7.9250</td>\n",
       "      <td>S</td>\n",
       "      <td>Third</td>\n",
       "      <td>woman</td>\n",
       "      <td>False</td>\n",
       "      <td>NaN</td>\n",
       "      <td>Southampton</td>\n",
       "      <td>yes</td>\n",
       "      <td>True</td>\n",
       "    </tr>\n",
       "  </tbody>\n",
       "</table>\n",
       "</div>"
      ],
      "text/plain": [
       "   survived  pclass     sex   age  sibsp  parch     fare embarked  class  \\\n",
       "0         0       3    male  22.0      1      0   7.2500        S  Third   \n",
       "1         1       1  female  38.0      1      0  71.2833        C  First   \n",
       "2         1       3  female  26.0      0      0   7.9250        S  Third   \n",
       "\n",
       "     who  adult_male deck  embark_town alive  alone  \n",
       "0    man        True  NaN  Southampton    no  False  \n",
       "1  woman       False    C    Cherbourg   yes  False  \n",
       "2  woman       False  NaN  Southampton   yes   True  "
      ]
     },
     "execution_count": 10,
     "metadata": {},
     "output_type": "execute_result"
    }
   ],
   "source": [
    "# 문제 12.\n",
    "# 타이타닉에 데이터에서 성별(sex)과 생존여부(survived) 변수간 독립성 검정을 실시하시오.\n",
    "\n",
    "import seaborn as sns\n",
    "titanic = sns.load_dataset('titanic')\n",
    "titanic.head(3)\n",
    "\n",
    "# 12-1) 관측빈도와 기대빈도를 구하시오.\n",
    "# 12-2) 카이제곱검정을 실시하고 검정통계량과 p-value 값을 구하시오.\n",
    "# 12-3) 귀무가설 채택/기각 여부를 결정하시오."
   ]
  },
  {
   "cell_type": "code",
   "execution_count": 24,
   "metadata": {},
   "outputs": [
    {
     "name": "stdout",
     "output_type": "stream",
     "text": [
      "survived    0    1\n",
      "sex               \n",
      "female     81  233\n",
      "male      468  109\n"
     ]
    }
   ],
   "source": [
    "# 12-1) 관측빈도와 기대빈도를 구하시오.\n",
    "\n",
    "table = pd.crosstab(titanic['sex'], titanic['survived'])\n",
    "print(table)"
   ]
  },
  {
   "cell_type": "code",
   "execution_count": 25,
   "metadata": {},
   "outputs": [
    {
     "name": "stdout",
     "output_type": "stream",
     "text": [
      "260.71702016732104\n",
      "1.1973570627755645e-58\n",
      "1\n",
      "[[193.47 120.53]\n",
      " [355.53 221.47]]\n"
     ]
    }
   ],
   "source": [
    "# 12-2) 카이제곱검정을 실시하고 검정통계량과 p-value 값을 구하시오.\n",
    "\n",
    "# H0 : 성별과 생존 여부는 서로 관련이 없다(두 변수는 서로 독립이다.)\n",
    "# H1 : 성별과 생존 여부는 서로 관련이 있다(두 변수는 서로 독립이 아니다.)\n",
    "\n",
    "from scipy.stats import chi2_contingency\n",
    "\n",
    "statistic, pvalue, dof, expected = stats.chi2_contingency(table)\n",
    "\n",
    "print(statistic)\n",
    "print(pvalue)\n",
    "print(dof)\n",
    "print(np.round(expected, 2))"
   ]
  },
  {
   "cell_type": "code",
   "execution_count": null,
   "metadata": {},
   "outputs": [],
   "source": [
    "# 12-3) 귀무가설 채택/기각 여부를 결정하시오.\n",
    "\n",
    "# 귀무가설 채택(대립가설 기각)\n",
    "#   => 성별과 생존여부는 서로 관련이 없다고 할 수 있다."
   ]
  },
  {
   "cell_type": "code",
   "execution_count": null,
   "metadata": {},
   "outputs": [],
   "source": []
  }
 ],
 "metadata": {
  "kernelspec": {
   "display_name": "Python 3",
   "language": "python",
   "name": "python3"
  },
  "language_info": {
   "codemirror_mode": {
    "name": "ipython",
    "version": 3
   },
   "file_extension": ".py",
   "mimetype": "text/x-python",
   "name": "python",
   "nbconvert_exporter": "python",
   "pygments_lexer": "ipython3",
   "version": "3.12.7"
  }
 },
 "nbformat": 4,
 "nbformat_minor": 2
}
