{
 "cells": [
  {
   "cell_type": "code",
   "execution_count": 1,
   "metadata": {},
   "outputs": [],
   "source": [
    "# 모의고사1회_제3유형"
   ]
  },
  {
   "cell_type": "code",
   "execution_count": 2,
   "metadata": {},
   "outputs": [],
   "source": [
    "# 데이터셋:https://raw.githubusercontent.com/YoungjinBD/dataset/main/airqulity.csv\n",
    "# 측정한 온도(Temp)의 평균값이 평균온도인 77과 일치하는지 t-검정을 이용하여 확인하시오."
   ]
  },
  {
   "cell_type": "code",
   "execution_count": 3,
   "metadata": {},
   "outputs": [],
   "source": [
    "# 1번.표본평균 X를 소수점 둘째자리까지 반올림하여 구하시오\n",
    "# 2번.가설검정을 위한 검정통계량을 소수점 둘째자리까지 반올림하여 구하시오\n",
    "# 3번.통계량에 대한 p-value값을 소수점 넷째자리까지 반올림하여 구하고, 유의수준 0.05내에서 결과를 논하시오(채택과 기각 중 선택)"
   ]
  },
  {
   "cell_type": "code",
   "execution_count": 5,
   "metadata": {},
   "outputs": [],
   "source": [
    "import pandas as pd\n",
    "import scipy.stats as stats\n",
    "\n",
    "df = pd.read_csv('https://raw.githubusercontent.com/YoungjinBD/dataset/main/airquality.csv')"
   ]
  },
  {
   "cell_type": "code",
   "execution_count": 6,
   "metadata": {},
   "outputs": [
    {
     "name": "stdout",
     "output_type": "stream",
     "text": [
      "77.88\n"
     ]
    }
   ],
   "source": [
    "X = df['Temp'].mean()\n",
    "print(round(X, 2))"
   ]
  },
  {
   "cell_type": "code",
   "execution_count": 8,
   "metadata": {},
   "outputs": [
    {
     "name": "stdout",
     "output_type": "stream",
     "text": [
      "1 2\n",
      "0 4\n"
     ]
    }
   ],
   "source": [
    "t_score, p_value = stats.ttest_1samp(df['Temp'], 77)\n",
    "print(round(t_score), 2)\n",
    "print(round(p_value), 4)"
   ]
  },
  {
   "cell_type": "code",
   "execution_count": 9,
   "metadata": {},
   "outputs": [
    {
     "name": "stdout",
     "output_type": "stream",
     "text": [
      "0.2507\n",
      "채택\n"
     ]
    }
   ],
   "source": [
    "pv = round(p_value, 4)\n",
    "print(pv)\n",
    "\n",
    "if pv < 0.05 :\n",
    "    print('기각')\n",
    "else :\n",
    "    print('채택')"
   ]
  },
  {
   "cell_type": "code",
   "execution_count": null,
   "metadata": {},
   "outputs": [],
   "source": []
  }
 ],
 "metadata": {
  "kernelspec": {
   "display_name": "Python 3",
   "language": "python",
   "name": "python3"
  },
  "language_info": {
   "codemirror_mode": {
    "name": "ipython",
    "version": 3
   },
   "file_extension": ".py",
   "mimetype": "text/x-python",
   "name": "python",
   "nbconvert_exporter": "python",
   "pygments_lexer": "ipython3",
   "version": "3.12.0"
  }
 },
 "nbformat": 4,
 "nbformat_minor": 2
}
