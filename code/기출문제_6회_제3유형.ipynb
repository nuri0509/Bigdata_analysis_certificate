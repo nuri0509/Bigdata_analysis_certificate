{
 "cells": [
  {
   "cell_type": "code",
   "execution_count": null,
   "metadata": {},
   "outputs": [],
   "source": [
    "# 제 3유형\n",
    "# 1 - 주어진 데이터를 이용하여 항암제를 투여받은 환자들의 부작용 분포와 감기약을 투여받은 환자들의 부작용 분포간 차이가 있는지 확인하시오"
   ]
  },
  {
   "cell_type": "code",
   "execution_count": null,
   "metadata": {},
   "outputs": [],
   "source": [
    "# 데이터\n",
    "# 1.항암제 투여 환자들의 관찰된 부작용\n",
    "#   [무증상,속쓰림,무증상,무증상,조금아픔,무증상,조금아픔,무증상,조금아픔,무증상,아픔,무증상,조금아픔,무증상,아픔,무증상,속쓰림,무증상,아픔,무증상]\n",
    "\n",
    "# 2.감기약 투여 환자들의 부작용 발생 비율\n",
    "\n",
    "# 귀무가설 : 감기약의 부작용과 항암제의 부작용은 동일하다. \n",
    "# 대립가설 : 감기약의 부작용과 항암제의 부작용은 다르다.\n"
   ]
  },
  {
   "cell_type": "code",
   "execution_count": null,
   "metadata": {},
   "outputs": [],
   "source": [
    "# 문제\n",
    "# 1-1번. 항암제 투여 환자들 중 '무증상' 비율을 0과 1사이로 구하시오.\n",
    "# 1-2번. 감기약의 부작용 비율과 항암제의 부작용 관찰 값이 통계적으로 유의미하게 차이가 있는지 카이제곱 검정을 이용하여 검정통계량을 구하시오.\n",
    "# 1-3번. 위의 p-value를 구하시오"
   ]
  },
  {
   "cell_type": "code",
   "execution_count": null,
   "metadata": {},
   "outputs": [],
   "source": []
  },
  {
   "cell_type": "code",
   "execution_count": null,
   "metadata": {},
   "outputs": [],
   "source": [
    "# 2 - 주어진 데이터를 이용하여 다중선형회귀 문제를 해결하시오."
   ]
  },
  {
   "cell_type": "code",
   "execution_count": null,
   "metadata": {},
   "outputs": [],
   "source": [
    "# 데이터 : data_6_3_2.csv"
   ]
  },
  {
   "cell_type": "code",
   "execution_count": null,
   "metadata": {},
   "outputs": [],
   "source": [
    "# 문제\n",
    "# 2-1번. 선형회귀 모델을 만들어 독립변수 Ozone의 회귀계수(regression coefficient)를 구하시오.\n",
    "#        -독립변수 : Solar(태양 에너지), Wind(바람의 세기), Ozone(오존농도)\n",
    "#        -종속변수 : Temp(온도)\n",
    "#      \n",
    "# 2-2번. Solar와 Ozone은 고정, Wind가 증가함에 따라 Temp가 감소하는지 검증하기 위한 다중선형회귀분석을 수행하여\n",
    "#        Wind의 회귀계수에 대한 p-value를 구하시오.(유의수준 0.05)\n",
    "\n",
    "# 2-3번. Solar가 150, Wind가 7.5, Ozone이 45일경우, 예측값과 그에대한 95% 신뢰구간을 구하시오."
   ]
  },
  {
   "cell_type": "code",
   "execution_count": null,
   "metadata": {},
   "outputs": [],
   "source": []
  },
  {
   "cell_type": "code",
   "execution_count": null,
   "metadata": {},
   "outputs": [],
   "source": []
  },
  {
   "cell_type": "code",
   "execution_count": null,
   "metadata": {},
   "outputs": [],
   "source": []
  },
  {
   "cell_type": "code",
   "execution_count": null,
   "metadata": {},
   "outputs": [],
   "source": []
  }
 ],
 "metadata": {
  "language_info": {
   "name": "python"
  }
 },
 "nbformat": 4,
 "nbformat_minor": 2
}
