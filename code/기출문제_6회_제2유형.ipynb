{
 "cells": [
  {
   "cell_type": "code",
   "execution_count": 1,
   "metadata": {},
   "outputs": [],
   "source": [
    "# 기출문제6회_제2유형"
   ]
  },
  {
   "cell_type": "code",
   "execution_count": 2,
   "metadata": {},
   "outputs": [],
   "source": [
    "# 아래는 학생들의 생활패턴과 신체, 거주지역 등에 대한 데이터이다.\n",
    "# 1. 데이터 : data_6_2_train.csv\n",
    "# 2. 데이터 : data_6_2_test.csv"
   ]
  },
  {
   "cell_type": "code",
   "execution_count": 3,
   "metadata": {},
   "outputs": [],
   "source": [
    "# 학생 530명에 대한 학습용 데이터를 이용하여 학생구분(유치원생, 초등학생, 중학생, 고등학생, 대학생) 예측 모형을 만든후,\n",
    "# 이를 평가용 데이터에 적용하여 얻은 230명 학생의 구분을 다음과 같은 csv파일로 생성하시오\n",
    "# (제출한 모델의 성능은 f1-macro 평가에 따라 채점)"
   ]
  },
  {
   "cell_type": "code",
   "execution_count": 1,
   "metadata": {},
   "outputs": [],
   "source": [
    "import pandas as pd\n",
    "train_df = pd.read_csv('https://raw.githubusercontent.com/YoungjinBD/dataset/main/data_6_2_train.csv')\n",
    "test_df = pd.read_csv('https://raw.githubusercontent.com/YoungjinBD/dataset/main/data_6_2_test.csv')"
   ]
  },
  {
   "cell_type": "code",
   "execution_count": 2,
   "metadata": {},
   "outputs": [
    {
     "name": "stdout",
     "output_type": "stream",
     "text": [
      "     일평균수면시간  일평균학습시간  일평균스마트폰사용시간      키     몸무게  체격   기초대사량 거주지역    구분\n",
      "0       7.35     7.74          4.8   Tall  52.050   L  1499.4   동구  고등학생\n",
      "1       7.05     8.10          1.2   Tall  51.300   M  1624.4   서구   중학생\n",
      "2       7.35     7.74          3.0   Tall  51.285   L  1499.4   동구  고등학생\n",
      "3       8.58     6.66          4.8  Short  25.545  XS  1249.5   서구  초등학생\n",
      "4       7.05     8.10          4.8   Tall  54.150   M  1624.4   서구   대학생\n",
      "..       ...      ...          ...    ...     ...  ..     ...  ...   ...\n",
      "525    10.11     5.58          4.8  Short  25.185  XS  1874.3   동구  초등학생\n",
      "526     8.27     6.84          1.2   Tall  51.165   M  2124.2   동구  고등학생\n",
      "527     7.35     7.74          1.2   Tall  40.995   L  1499.4   동구   중학생\n",
      "528    10.11     5.58          0.0  Short  18.330  XS  1874.3   동구  유치원생\n",
      "529     6.44     8.82          3.0   Tall  44.535   S  1499.4   동구  고등학생\n",
      "\n",
      "[530 rows x 9 columns]\n"
     ]
    }
   ],
   "source": [
    "print(train_df)"
   ]
  },
  {
   "cell_type": "code",
   "execution_count": 3,
   "metadata": {},
   "outputs": [
    {
     "name": "stdout",
     "output_type": "stream",
     "text": [
      "     일평균수면시간  일평균학습시간  일평균스마트폰사용시간      키     몸무게  체격   기초대사량 거주지역\n",
      "0       7.97     7.11          1.2   Tall  51.375   L  1749.3   북구\n",
      "1       9.80     5.76          1.2  Short  28.710  XS  1749.3   북구\n",
      "2       7.66     7.38          1.2   Tall  36.915   L  1624.4   남구\n",
      "3       9.50     5.94          3.0  Short  24.045  XS  1624.4   동구\n",
      "4       6.44     8.82          3.0   Tall  45.180   S  1499.4   서구\n",
      "..       ...      ...          ...    ...     ...  ..     ...  ...\n",
      "225     9.80     5.76          3.0  Short  30.195  XS  1749.3   북구\n",
      "226     8.58     6.66          4.8  Short  25.875  XS  1249.5   동구\n",
      "227     8.27     6.84          1.2   Tall  50.460   M  2124.2   남구\n",
      "228     7.66     7.38          4.8   Tall  48.645   L  1624.4   북구\n",
      "229     9.80     5.76          4.8  Short  33.375  XS  1749.3   남구\n",
      "\n",
      "[230 rows x 8 columns]\n"
     ]
    }
   ],
   "source": [
    "print(test_df)"
   ]
  },
  {
   "cell_type": "code",
   "execution_count": 4,
   "metadata": {},
   "outputs": [
    {
     "name": "stdout",
     "output_type": "stream",
     "text": [
      "<class 'pandas.core.frame.DataFrame'>\n",
      "RangeIndex: 530 entries, 0 to 529\n",
      "Data columns (total 9 columns):\n",
      " #   Column       Non-Null Count  Dtype  \n",
      "---  ------       --------------  -----  \n",
      " 0   일평균수면시간      530 non-null    float64\n",
      " 1   일평균학습시간      530 non-null    float64\n",
      " 2   일평균스마트폰사용시간  530 non-null    float64\n",
      " 3   키            530 non-null    object \n",
      " 4   몸무게          530 non-null    float64\n",
      " 5   체격           530 non-null    object \n",
      " 6   기초대사량        530 non-null    float64\n",
      " 7   거주지역         530 non-null    object \n",
      " 8   구분           530 non-null    object \n",
      "dtypes: float64(5), object(4)\n",
      "memory usage: 37.4+ KB\n"
     ]
    }
   ],
   "source": [
    "train_df.info()"
   ]
  },
  {
   "cell_type": "code",
   "execution_count": 5,
   "metadata": {},
   "outputs": [
    {
     "data": {
      "text/html": [
       "<div>\n",
       "<style scoped>\n",
       "    .dataframe tbody tr th:only-of-type {\n",
       "        vertical-align: middle;\n",
       "    }\n",
       "\n",
       "    .dataframe tbody tr th {\n",
       "        vertical-align: top;\n",
       "    }\n",
       "\n",
       "    .dataframe thead th {\n",
       "        text-align: right;\n",
       "    }\n",
       "</style>\n",
       "<table border=\"1\" class=\"dataframe\">\n",
       "  <thead>\n",
       "    <tr style=\"text-align: right;\">\n",
       "      <th></th>\n",
       "      <th>키</th>\n",
       "      <th>체격</th>\n",
       "      <th>거주지역</th>\n",
       "      <th>구분</th>\n",
       "    </tr>\n",
       "  </thead>\n",
       "  <tbody>\n",
       "    <tr>\n",
       "      <th>count</th>\n",
       "      <td>530</td>\n",
       "      <td>530</td>\n",
       "      <td>530</td>\n",
       "      <td>530</td>\n",
       "    </tr>\n",
       "    <tr>\n",
       "      <th>unique</th>\n",
       "      <td>2</td>\n",
       "      <td>4</td>\n",
       "      <td>4</td>\n",
       "      <td>5</td>\n",
       "    </tr>\n",
       "    <tr>\n",
       "      <th>top</th>\n",
       "      <td>Tall</td>\n",
       "      <td>XS</td>\n",
       "      <td>남구</td>\n",
       "      <td>유치원생</td>\n",
       "    </tr>\n",
       "    <tr>\n",
       "      <th>freq</th>\n",
       "      <td>277</td>\n",
       "      <td>253</td>\n",
       "      <td>145</td>\n",
       "      <td>140</td>\n",
       "    </tr>\n",
       "  </tbody>\n",
       "</table>\n",
       "</div>"
      ],
      "text/plain": [
       "           키   체격 거주지역    구분\n",
       "count    530  530  530   530\n",
       "unique     2    4    4     5\n",
       "top     Tall   XS   남구  유치원생\n",
       "freq     277  253  145   140"
      ]
     },
     "execution_count": 5,
     "metadata": {},
     "output_type": "execute_result"
    }
   ],
   "source": [
    "train_df.describe(include='object')"
   ]
  },
  {
   "cell_type": "code",
   "execution_count": 6,
   "metadata": {},
   "outputs": [
    {
     "data": {
      "text/plain": [
       "일평균수면시간        0\n",
       "일평균학습시간        0\n",
       "일평균스마트폰사용시간    0\n",
       "키              0\n",
       "몸무게            0\n",
       "체격             0\n",
       "기초대사량          0\n",
       "거주지역           0\n",
       "구분             0\n",
       "dtype: int64"
      ]
     },
     "execution_count": 6,
     "metadata": {},
     "output_type": "execute_result"
    }
   ],
   "source": [
    "train_df.isnull().sum()"
   ]
  },
  {
   "cell_type": "code",
   "execution_count": 9,
   "metadata": {},
   "outputs": [
    {
     "data": {
      "text/plain": [
       "구분\n",
       "유치원생    140\n",
       "초등학생    121\n",
       "고등학생    120\n",
       "대학생      78\n",
       "중학생      71\n",
       "Name: count, dtype: int64"
      ]
     },
     "execution_count": 9,
     "metadata": {},
     "output_type": "execute_result"
    }
   ],
   "source": [
    "train_df['구분'].value_counts()"
   ]
  },
  {
   "cell_type": "code",
   "execution_count": 10,
   "metadata": {},
   "outputs": [
    {
     "name": "stdout",
     "output_type": "stream",
     "text": [
      "<class 'pandas.core.frame.DataFrame'>\n",
      "RangeIndex: 230 entries, 0 to 229\n",
      "Data columns (total 8 columns):\n",
      " #   Column       Non-Null Count  Dtype  \n",
      "---  ------       --------------  -----  \n",
      " 0   일평균수면시간      230 non-null    float64\n",
      " 1   일평균학습시간      230 non-null    float64\n",
      " 2   일평균스마트폰사용시간  230 non-null    float64\n",
      " 3   키            230 non-null    object \n",
      " 4   몸무게          230 non-null    float64\n",
      " 5   체격           230 non-null    object \n",
      " 6   기초대사량        230 non-null    float64\n",
      " 7   거주지역         230 non-null    object \n",
      "dtypes: float64(5), object(3)\n",
      "memory usage: 14.5+ KB\n"
     ]
    }
   ],
   "source": [
    "test_df.info()"
   ]
  },
  {
   "cell_type": "code",
   "execution_count": null,
   "metadata": {},
   "outputs": [],
   "source": [
    "test_df.describe(include='object')"
   ]
  },
  {
   "cell_type": "code",
   "execution_count": 11,
   "metadata": {},
   "outputs": [
    {
     "data": {
      "text/plain": [
       "일평균수면시간        0\n",
       "일평균학습시간        0\n",
       "일평균스마트폰사용시간    0\n",
       "키              0\n",
       "몸무게            0\n",
       "체격             0\n",
       "기초대사량          0\n",
       "거주지역           0\n",
       "dtype: int64"
      ]
     },
     "execution_count": 11,
     "metadata": {},
     "output_type": "execute_result"
    }
   ],
   "source": [
    "test_df.isnull().sum()"
   ]
  },
  {
   "cell_type": "code",
   "execution_count": 12,
   "metadata": {},
   "outputs": [],
   "source": [
    "targetVal = train_df.pop('구분')"
   ]
  },
  {
   "cell_type": "code",
   "execution_count": 13,
   "metadata": {},
   "outputs": [
    {
     "name": "stdout",
     "output_type": "stream",
     "text": [
      "(530, 8) (230, 8)\n",
      "(530, 15) (230, 15)\n"
     ]
    }
   ],
   "source": [
    "print(train_df.shape, test_df.shape)\n",
    "\n",
    "train_df = pd.get_dummies(train_df)\n",
    "test_df = pd.get_dummies(test_df)\n",
    "\n",
    "print(train_df.shape, test_df.shape)"
   ]
  },
  {
   "cell_type": "code",
   "execution_count": 14,
   "metadata": {},
   "outputs": [
    {
     "name": "stdout",
     "output_type": "stream",
     "text": [
      "(424, 15) (106, 15) (424,) (106,)\n"
     ]
    }
   ],
   "source": [
    "from sklearn.model_selection import train_test_split\n",
    "\n",
    "train_x, validation_x, train_y, validation_y = train_test_split(train_df, targetVal, test_size=0.2, random_state=0)\n",
    "print(train_x.shape, validation_x.shape, train_y.shape, validation_y.shape)"
   ]
  },
  {
   "cell_type": "code",
   "execution_count": 15,
   "metadata": {},
   "outputs": [
    {
     "data": {
      "text/plain": [
       "0.9317983948418732"
      ]
     },
     "execution_count": 15,
     "metadata": {},
     "output_type": "execute_result"
    }
   ],
   "source": [
    "from sklearn.ensemble import RandomForestClassifier\n",
    "from sklearn.metrics import f1_score\n",
    "\n",
    "rfc = RandomForestClassifier(random_state=0)\n",
    "rfc.fit(train_x, train_y)\n",
    "prediction_val = rfc.predict(validation_x)\n",
    "\n",
    "f1_score(validation_y, prediction_val, average='macro')"
   ]
  },
  {
   "cell_type": "code",
   "execution_count": 16,
   "metadata": {},
   "outputs": [
    {
     "name": "stdout",
     "output_type": "stream",
     "text": [
      "     pred\n",
      "0    고등학생\n",
      "1    초등학생\n",
      "2     중학생\n",
      "3    유치원생\n",
      "4    고등학생\n",
      "..    ...\n",
      "225  초등학생\n",
      "226  초등학생\n",
      "227  고등학생\n",
      "228  고등학생\n",
      "229  초등학생\n",
      "\n",
      "[230 rows x 1 columns]\n"
     ]
    }
   ],
   "source": [
    "prediction_test = rfc.predict(test_df)\n",
    "result = pd.DataFrame({'pred':prediction_test})\n",
    "print(result)\n",
    "\n",
    "result.to_csv('result.csv', index=False)"
   ]
  }
 ],
 "metadata": {
  "kernelspec": {
   "display_name": "Python 3",
   "language": "python",
   "name": "python3"
  },
  "language_info": {
   "codemirror_mode": {
    "name": "ipython",
    "version": 3
   },
   "file_extension": ".py",
   "mimetype": "text/x-python",
   "name": "python",
   "nbconvert_exporter": "python",
   "pygments_lexer": "ipython3",
   "version": "3.12.0"
  }
 },
 "nbformat": 4,
 "nbformat_minor": 2
}
